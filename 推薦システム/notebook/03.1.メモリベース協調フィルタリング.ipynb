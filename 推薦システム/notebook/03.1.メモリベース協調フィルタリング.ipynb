{
 "cells": [
  {
   "cell_type": "markdown",
   "metadata": {},
   "source": [
    "> ユーザがアイテムに与えるレイティングは、通常、ユーザの好みを反映している。したがって、<strong style=\"color:blue;\">アイテムの評価が似ている２人のユーザは嗜好が似ている可能性が高い</strong>。この直感にもとづいて、評価行動がユーザ$i$に類似する他のユーザの集合を得ることができる。\n",
    "\n",
    "ユーザ$i$におけるアイテム$j$のスコアは、ユーザ$i$に類似しているユーザによってアイテム$j$に与えられたレイティングの平均を用いて得ることができる。このようなアプローチは、ユーザのアイテムに対する過去のレイティングのみに基づいてアイテムを好む程度を予測するため、ユーザまたはアイテムの素性に依存しない。"
   ]
  },
  {
   "cell_type": "code",
   "execution_count": 1,
   "metadata": {
    "ExecuteTime": {
     "end_time": "2019-10-27T08:14:03.886931Z",
     "start_time": "2019-10-27T08:14:02.740353Z"
    }
   },
   "outputs": [],
   "source": [
    "import numpy as np\n",
    "import pandas as pd\n",
    "\n",
    "import matplotlib as mpl\n",
    "import matplotlib.pyplot as plt\n",
    "import seaborn as sns\n",
    "\n",
    "# 日本語フォントを設定\n",
    "font = {'family': 'IPAexGothic'}\n",
    "mpl.rc('font', **font)\n",
    "\n",
    "%matplotlib inline"
   ]
  },
  {
   "cell_type": "code",
   "execution_count": 2,
   "metadata": {
    "ExecuteTime": {
     "end_time": "2019-10-27T08:14:03.915832Z",
     "start_time": "2019-10-27T08:14:03.906683Z"
    }
   },
   "outputs": [
    {
     "name": "stdout",
     "output_type": "stream",
     "text": [
      "['', '/Users/taiyou/Desktop/machine-learning/推薦システム/notebook', '/Users/taiyou/.pyenv/versions/anaconda3-5.3.1/lib/python37.zip', '/Users/taiyou/.pyenv/versions/anaconda3-5.3.1/lib/python3.7', '/Users/taiyou/.pyenv/versions/anaconda3-5.3.1/lib/python3.7/lib-dynload', '/Users/taiyou/.pyenv/versions/anaconda3-5.3.1/lib/python3.7/site-packages', '/Users/taiyou/.pyenv/versions/anaconda3-5.3.1/lib/python3.7/site-packages/aeosa', '/Users/taiyou/.pyenv/versions/anaconda3-5.3.1/lib/python3.7/site-packages/algotrader-0.0.1-py3.7.egg', '/Users/taiyou/.pyenv/versions/anaconda3-5.3.1/lib/python3.7/site-packages/IPython/extensions', '/Users/taiyou/.ipython', '/Users/taiyou/Desktop/machine-learning/推薦システム']\n"
     ]
    }
   ],
   "source": [
    "import os\n",
    "import re\n",
    "import sys\n",
    "\n",
    "\n",
    "pwd = os.getcwd()\n",
    "path = re.search('.+/推薦システム', pwd).group(0)\n",
    "\n",
    "sys.path.append(path)\n",
    "print(sys.path)"
   ]
  },
  {
   "cell_type": "markdown",
   "metadata": {},
   "source": [
    "# 準備"
   ]
  },
  {
   "cell_type": "code",
   "execution_count": 3,
   "metadata": {
    "ExecuteTime": {
     "end_time": "2019-10-27T08:14:09.446791Z",
     "start_time": "2019-10-27T08:14:03.920216Z"
    }
   },
   "outputs": [
    {
     "data": {
      "text/html": [
       "<div>\n",
       "<style scoped>\n",
       "    .dataframe tbody tr th:only-of-type {\n",
       "        vertical-align: middle;\n",
       "    }\n",
       "\n",
       "    .dataframe tbody tr th {\n",
       "        vertical-align: top;\n",
       "    }\n",
       "\n",
       "    .dataframe thead th {\n",
       "        text-align: right;\n",
       "    }\n",
       "</style>\n",
       "<table border=\"1\" class=\"dataframe\">\n",
       "  <thead>\n",
       "    <tr style=\"text-align: right;\">\n",
       "      <th></th>\n",
       "      <th>user_id</th>\n",
       "      <th>item_id</th>\n",
       "      <th>rating</th>\n",
       "      <th>timestamp</th>\n",
       "    </tr>\n",
       "  </thead>\n",
       "  <tbody>\n",
       "    <tr>\n",
       "      <th>0</th>\n",
       "      <td>196</td>\n",
       "      <td>242</td>\n",
       "      <td>3</td>\n",
       "      <td>881250949</td>\n",
       "    </tr>\n",
       "    <tr>\n",
       "      <th>1</th>\n",
       "      <td>186</td>\n",
       "      <td>302</td>\n",
       "      <td>3</td>\n",
       "      <td>891717742</td>\n",
       "    </tr>\n",
       "    <tr>\n",
       "      <th>2</th>\n",
       "      <td>22</td>\n",
       "      <td>377</td>\n",
       "      <td>1</td>\n",
       "      <td>878887116</td>\n",
       "    </tr>\n",
       "    <tr>\n",
       "      <th>3</th>\n",
       "      <td>244</td>\n",
       "      <td>51</td>\n",
       "      <td>2</td>\n",
       "      <td>880606923</td>\n",
       "    </tr>\n",
       "    <tr>\n",
       "      <th>4</th>\n",
       "      <td>166</td>\n",
       "      <td>346</td>\n",
       "      <td>1</td>\n",
       "      <td>886397596</td>\n",
       "    </tr>\n",
       "  </tbody>\n",
       "</table>\n",
       "</div>"
      ],
      "text/plain": [
       "   user_id  item_id  rating  timestamp\n",
       "0      196      242       3  881250949\n",
       "1      186      302       3  891717742\n",
       "2       22      377       1  878887116\n",
       "3      244       51       2  880606923\n",
       "4      166      346       1  886397596"
      ]
     },
     "execution_count": 3,
     "metadata": {},
     "output_type": "execute_result"
    }
   ],
   "source": [
    "data_org = pd.read_csv(\n",
    "   'http://files.grouplens.org/datasets/movielens/ml-100k/u.data', \n",
    "    names=[\"user_id\", \"item_id\", \"rating\", \"timestamp\"], \n",
    "    sep=\"\\t\"\n",
    ")\n",
    "data_org.head()"
   ]
  },
  {
   "cell_type": "code",
   "execution_count": 4,
   "metadata": {
    "ExecuteTime": {
     "end_time": "2019-10-27T08:14:09.559399Z",
     "start_time": "2019-10-27T08:14:09.449667Z"
    },
    "scrolled": true
   },
   "outputs": [],
   "source": [
    "from datetime import datetime\n",
    "\n",
    "data_org['timestamp'] = data_org['timestamp'].map(datetime.fromtimestamp)"
   ]
  },
  {
   "cell_type": "code",
   "execution_count": 5,
   "metadata": {
    "ExecuteTime": {
     "end_time": "2019-10-27T08:14:09.589315Z",
     "start_time": "2019-10-27T08:14:09.563354Z"
    }
   },
   "outputs": [],
   "source": [
    "data_org = data_org.set_index(['user_id', 'item_id'])"
   ]
  },
  {
   "cell_type": "code",
   "execution_count": 6,
   "metadata": {
    "ExecuteTime": {
     "end_time": "2019-10-27T08:14:09.607175Z",
     "start_time": "2019-10-27T08:14:09.591510Z"
    }
   },
   "outputs": [
    {
     "data": {
      "text/html": [
       "<div>\n",
       "<style scoped>\n",
       "    .dataframe tbody tr th:only-of-type {\n",
       "        vertical-align: middle;\n",
       "    }\n",
       "\n",
       "    .dataframe tbody tr th {\n",
       "        vertical-align: top;\n",
       "    }\n",
       "\n",
       "    .dataframe thead th {\n",
       "        text-align: right;\n",
       "    }\n",
       "</style>\n",
       "<table border=\"1\" class=\"dataframe\">\n",
       "  <thead>\n",
       "    <tr style=\"text-align: right;\">\n",
       "      <th></th>\n",
       "      <th></th>\n",
       "      <th>rating</th>\n",
       "      <th>timestamp</th>\n",
       "    </tr>\n",
       "    <tr>\n",
       "      <th>user_id</th>\n",
       "      <th>item_id</th>\n",
       "      <th></th>\n",
       "      <th></th>\n",
       "    </tr>\n",
       "  </thead>\n",
       "  <tbody>\n",
       "    <tr>\n",
       "      <th>196</th>\n",
       "      <th>242</th>\n",
       "      <td>3</td>\n",
       "      <td>1997-12-05 00:55:49</td>\n",
       "    </tr>\n",
       "    <tr>\n",
       "      <th>186</th>\n",
       "      <th>302</th>\n",
       "      <td>3</td>\n",
       "      <td>1998-04-05 04:22:22</td>\n",
       "    </tr>\n",
       "    <tr>\n",
       "      <th>22</th>\n",
       "      <th>377</th>\n",
       "      <td>1</td>\n",
       "      <td>1997-11-07 16:18:36</td>\n",
       "    </tr>\n",
       "    <tr>\n",
       "      <th>244</th>\n",
       "      <th>51</th>\n",
       "      <td>2</td>\n",
       "      <td>1997-11-27 14:02:03</td>\n",
       "    </tr>\n",
       "    <tr>\n",
       "      <th>166</th>\n",
       "      <th>346</th>\n",
       "      <td>1</td>\n",
       "      <td>1998-02-02 14:33:16</td>\n",
       "    </tr>\n",
       "  </tbody>\n",
       "</table>\n",
       "</div>"
      ],
      "text/plain": [
       "                 rating           timestamp\n",
       "user_id item_id                            \n",
       "196     242           3 1997-12-05 00:55:49\n",
       "186     302           3 1998-04-05 04:22:22\n",
       "22      377           1 1997-11-07 16:18:36\n",
       "244     51            2 1997-11-27 14:02:03\n",
       "166     346           1 1998-02-02 14:33:16"
      ]
     },
     "execution_count": 6,
     "metadata": {},
     "output_type": "execute_result"
    }
   ],
   "source": [
    "評価値_df = data_org.copy()\n",
    "評価値_df.head()"
   ]
  },
  {
   "cell_type": "markdown",
   "metadata": {},
   "source": [
    "## 評価行列の作成"
   ]
  },
  {
   "cell_type": "code",
   "execution_count": 7,
   "metadata": {
    "ExecuteTime": {
     "end_time": "2019-10-27T08:14:09.695909Z",
     "start_time": "2019-10-27T08:14:09.611502Z"
    }
   },
   "outputs": [
    {
     "data": {
      "text/html": [
       "<div>\n",
       "<style scoped>\n",
       "    .dataframe tbody tr th:only-of-type {\n",
       "        vertical-align: middle;\n",
       "    }\n",
       "\n",
       "    .dataframe tbody tr th {\n",
       "        vertical-align: top;\n",
       "    }\n",
       "\n",
       "    .dataframe thead th {\n",
       "        text-align: right;\n",
       "    }\n",
       "</style>\n",
       "<table border=\"1\" class=\"dataframe\">\n",
       "  <thead>\n",
       "    <tr style=\"text-align: right;\">\n",
       "      <th>item_id</th>\n",
       "      <th>1</th>\n",
       "      <th>2</th>\n",
       "      <th>3</th>\n",
       "      <th>4</th>\n",
       "      <th>5</th>\n",
       "      <th>6</th>\n",
       "      <th>7</th>\n",
       "      <th>8</th>\n",
       "      <th>9</th>\n",
       "      <th>10</th>\n",
       "      <th>...</th>\n",
       "      <th>1673</th>\n",
       "      <th>1674</th>\n",
       "      <th>1675</th>\n",
       "      <th>1676</th>\n",
       "      <th>1677</th>\n",
       "      <th>1678</th>\n",
       "      <th>1679</th>\n",
       "      <th>1680</th>\n",
       "      <th>1681</th>\n",
       "      <th>1682</th>\n",
       "    </tr>\n",
       "    <tr>\n",
       "      <th>user_id</th>\n",
       "      <th></th>\n",
       "      <th></th>\n",
       "      <th></th>\n",
       "      <th></th>\n",
       "      <th></th>\n",
       "      <th></th>\n",
       "      <th></th>\n",
       "      <th></th>\n",
       "      <th></th>\n",
       "      <th></th>\n",
       "      <th></th>\n",
       "      <th></th>\n",
       "      <th></th>\n",
       "      <th></th>\n",
       "      <th></th>\n",
       "      <th></th>\n",
       "      <th></th>\n",
       "      <th></th>\n",
       "      <th></th>\n",
       "      <th></th>\n",
       "      <th></th>\n",
       "    </tr>\n",
       "  </thead>\n",
       "  <tbody>\n",
       "    <tr>\n",
       "      <th>1</th>\n",
       "      <td>5.0</td>\n",
       "      <td>3.0</td>\n",
       "      <td>4.0</td>\n",
       "      <td>3.0</td>\n",
       "      <td>3.0</td>\n",
       "      <td>5.0</td>\n",
       "      <td>4.0</td>\n",
       "      <td>1.0</td>\n",
       "      <td>5.0</td>\n",
       "      <td>3.0</td>\n",
       "      <td>...</td>\n",
       "      <td>NaN</td>\n",
       "      <td>NaN</td>\n",
       "      <td>NaN</td>\n",
       "      <td>NaN</td>\n",
       "      <td>NaN</td>\n",
       "      <td>NaN</td>\n",
       "      <td>NaN</td>\n",
       "      <td>NaN</td>\n",
       "      <td>NaN</td>\n",
       "      <td>NaN</td>\n",
       "    </tr>\n",
       "    <tr>\n",
       "      <th>2</th>\n",
       "      <td>4.0</td>\n",
       "      <td>NaN</td>\n",
       "      <td>NaN</td>\n",
       "      <td>NaN</td>\n",
       "      <td>NaN</td>\n",
       "      <td>NaN</td>\n",
       "      <td>NaN</td>\n",
       "      <td>NaN</td>\n",
       "      <td>NaN</td>\n",
       "      <td>2.0</td>\n",
       "      <td>...</td>\n",
       "      <td>NaN</td>\n",
       "      <td>NaN</td>\n",
       "      <td>NaN</td>\n",
       "      <td>NaN</td>\n",
       "      <td>NaN</td>\n",
       "      <td>NaN</td>\n",
       "      <td>NaN</td>\n",
       "      <td>NaN</td>\n",
       "      <td>NaN</td>\n",
       "      <td>NaN</td>\n",
       "    </tr>\n",
       "    <tr>\n",
       "      <th>3</th>\n",
       "      <td>NaN</td>\n",
       "      <td>NaN</td>\n",
       "      <td>NaN</td>\n",
       "      <td>NaN</td>\n",
       "      <td>NaN</td>\n",
       "      <td>NaN</td>\n",
       "      <td>NaN</td>\n",
       "      <td>NaN</td>\n",
       "      <td>NaN</td>\n",
       "      <td>NaN</td>\n",
       "      <td>...</td>\n",
       "      <td>NaN</td>\n",
       "      <td>NaN</td>\n",
       "      <td>NaN</td>\n",
       "      <td>NaN</td>\n",
       "      <td>NaN</td>\n",
       "      <td>NaN</td>\n",
       "      <td>NaN</td>\n",
       "      <td>NaN</td>\n",
       "      <td>NaN</td>\n",
       "      <td>NaN</td>\n",
       "    </tr>\n",
       "    <tr>\n",
       "      <th>4</th>\n",
       "      <td>NaN</td>\n",
       "      <td>NaN</td>\n",
       "      <td>NaN</td>\n",
       "      <td>NaN</td>\n",
       "      <td>NaN</td>\n",
       "      <td>NaN</td>\n",
       "      <td>NaN</td>\n",
       "      <td>NaN</td>\n",
       "      <td>NaN</td>\n",
       "      <td>NaN</td>\n",
       "      <td>...</td>\n",
       "      <td>NaN</td>\n",
       "      <td>NaN</td>\n",
       "      <td>NaN</td>\n",
       "      <td>NaN</td>\n",
       "      <td>NaN</td>\n",
       "      <td>NaN</td>\n",
       "      <td>NaN</td>\n",
       "      <td>NaN</td>\n",
       "      <td>NaN</td>\n",
       "      <td>NaN</td>\n",
       "    </tr>\n",
       "    <tr>\n",
       "      <th>5</th>\n",
       "      <td>4.0</td>\n",
       "      <td>3.0</td>\n",
       "      <td>NaN</td>\n",
       "      <td>NaN</td>\n",
       "      <td>NaN</td>\n",
       "      <td>NaN</td>\n",
       "      <td>NaN</td>\n",
       "      <td>NaN</td>\n",
       "      <td>NaN</td>\n",
       "      <td>NaN</td>\n",
       "      <td>...</td>\n",
       "      <td>NaN</td>\n",
       "      <td>NaN</td>\n",
       "      <td>NaN</td>\n",
       "      <td>NaN</td>\n",
       "      <td>NaN</td>\n",
       "      <td>NaN</td>\n",
       "      <td>NaN</td>\n",
       "      <td>NaN</td>\n",
       "      <td>NaN</td>\n",
       "      <td>NaN</td>\n",
       "    </tr>\n",
       "  </tbody>\n",
       "</table>\n",
       "<p>5 rows × 1682 columns</p>\n",
       "</div>"
      ],
      "text/plain": [
       "item_id  1     2     3     4     5     6     7     8     9     10    ...  \\\n",
       "user_id                                                              ...   \n",
       "1         5.0   3.0   4.0   3.0   3.0   5.0   4.0   1.0   5.0   3.0  ...   \n",
       "2         4.0   NaN   NaN   NaN   NaN   NaN   NaN   NaN   NaN   2.0  ...   \n",
       "3         NaN   NaN   NaN   NaN   NaN   NaN   NaN   NaN   NaN   NaN  ...   \n",
       "4         NaN   NaN   NaN   NaN   NaN   NaN   NaN   NaN   NaN   NaN  ...   \n",
       "5         4.0   3.0   NaN   NaN   NaN   NaN   NaN   NaN   NaN   NaN  ...   \n",
       "\n",
       "item_id  1673  1674  1675  1676  1677  1678  1679  1680  1681  1682  \n",
       "user_id                                                              \n",
       "1         NaN   NaN   NaN   NaN   NaN   NaN   NaN   NaN   NaN   NaN  \n",
       "2         NaN   NaN   NaN   NaN   NaN   NaN   NaN   NaN   NaN   NaN  \n",
       "3         NaN   NaN   NaN   NaN   NaN   NaN   NaN   NaN   NaN   NaN  \n",
       "4         NaN   NaN   NaN   NaN   NaN   NaN   NaN   NaN   NaN   NaN  \n",
       "5         NaN   NaN   NaN   NaN   NaN   NaN   NaN   NaN   NaN   NaN  \n",
       "\n",
       "[5 rows x 1682 columns]"
      ]
     },
     "execution_count": 7,
     "metadata": {},
     "output_type": "execute_result"
    }
   ],
   "source": [
    "評価値行列_df = 評価値_df['rating'].unstack()\n",
    "# 評価行列_df.fillna(0.0, inplace=True)\n",
    "評価値行列_df.head()"
   ]
  },
  {
   "cell_type": "markdown",
   "metadata": {},
   "source": [
    "---"
   ]
  },
  {
   "cell_type": "markdown",
   "metadata": {},
   "source": [
    "# ユーザ間の類似度に基づいた手法"
   ]
  },
  {
   "cell_type": "markdown",
   "metadata": {},
   "source": [
    "> まず、ユーザ$i$と似た他のユーザがアイテム$j$に与えた評価に基づいて、ユーザ$i$が評価していないアイテム$j$に与えるレイティング(またはスコア)$s_{ij}$を予測する協調フィルタリング手法から考える。"
   ]
  },
  {
   "cell_type": "markdown",
   "metadata": {},
   "source": [
    "## ユーザベース協調フィルタリング\n",
    "スコア関数の一般的な選択肢の１つとして、類似ユーザの平均レイティングが考えられる。また、ユーザ$i$に似ているユーザに大きな重みを割り当てる加重平均を用いることもできる。\n",
    "ユーザ$i$のアイテム$j$に対する推定レイティング$s_{ij}$を記述すると以下のようになる。\n",
    "\n",
    "$$\n",
    "s_{ij} = {\\bar {y}}_{i} + \\frac { \\sum _{ \\ell \\in {\\bf I}_{j}\\left(i\\right) }{ w\\left(i,\\ell\\right) \\left( y_{\\ell j} - {\\bar {y}}_{\\ell} \\right) } }{ \\sum _{ \\ell \\in {\\bf I}_{j}\\left(i\\right) }{ \\left| w\\left(i,\\ell\\right) \\right| } }\n",
    "$$\n",
    "\n",
    "> - ${\\bf I}_{j}\\left(i\\right)$ : アイテム$j$を評価したユーザ$i$に類似するユーザの集合\n",
    "> - $w\\left(i,\\ell\\right)$ : ユーザ$i$がアイテム$j$を評価する際のユーザ$\\ell$の評価に対する重み\n",
    "> - $\\bar {y}_{i}$ : ユーザ$i$の平均レイティング\n",
    "> - $\\left( y_{\\ell j} - {\\bar {y}}_{\\ell} \\right)$ : ユーザの個々の評価バイアス(評価値が同じであってもユーザ間で満足度が異なることがあるため)を軽減するために平均値を使用してレイティングを中心化している。\n",
    ">     - 中心化に加えて、ユーザのレイティングの標準偏差で中心化されたレイティングを割ることによってさらに標準化することができる"
   ]
  },
  {
   "cell_type": "markdown",
   "metadata": {
    "ExecuteTime": {
     "end_time": "2019-10-20T06:12:36.443230Z",
     "start_time": "2019-10-20T06:12:36.432726Z"
    }
   },
   "source": [
    "## ユーザ間の類似度関数\n",
    "\n",
    "ユーザ間の類似度関数の一般的な選択肢の１つは、ピアソン相関である。ここでユーザ$i$と$\\ell$との間の類似度は以下のように定義される。\n",
    "\n",
    "$$\n",
    "sim\\left( i, \\ell \\right) = \\frac { \\sum _{ j\\in { J }_{ i\\ell  } }{ \\left( { y }_{ ij }-\\bar { { y }_{ i } }  \\right) \\left( { y }_{ \\ell j }-\\bar { { y }_{ \\ell  } }  \\right)  }  }{ \\sqrt { \\sum _{ j\\in { J }_{ i\\ell  } }{ { \\left( { y }_{ ij }-\\bar { { y }_{ i } }  \\right)  }^{ 2 } }  } \\sqrt { \\sum _{ j\\in { J }_{ i\\ell  } }{ { \\left( { y }_{ \\ell j }-\\bar { { y }_{ \\ell  } }  \\right)  }^{ 2 } }  }  } \n",
    "$$\n",
    "\n",
    " - $J_{i \\ell}$ : ユーザ$i$と$\\ell$の両方によって評価されたアイテムの集合"
   ]
  },
  {
   "cell_type": "markdown",
   "metadata": {},
   "source": [
    "## 近傍選択\n",
    "\n",
    "類似ユーザ集合${\\bf I}_{j}\\left(i\\right)$の構築方法はいくつかある。\n",
    "\n",
    "> - <strong>単純にアイテム$j$を評価した全ユーザを考慮</strong>し、ユーザ$i$と$\\ell$との間の類似性を重み$w\\left(i, \\ell\\right)$と定義する\n",
    "> - ユーザ$i$と類似度の高いユーザを上から$n$人選択する\n",
    "> - ユーザ$i$との類似度が閾値よりも高いユーザを選択する"
   ]
  },
  {
   "cell_type": "markdown",
   "metadata": {},
   "source": [
    "## 重み付け\n",
    "\n",
    "最も一般的な重み付け方法は$w\\left(i,\\ell\\right) = sim\\left(i,\\ell\\right)$とすることである。\n",
    "\n",
    "$sim\\left(i,\\ell\\right)$がユーザ$i$と$\\ell$の両方によって評価された小さなアイテム集合${\\bf J}_{i\\ell}$に基づいて計算されるとき、サンプルサイズが小さいため信頼性が低い可能性がある。サンプルサイズが小さい場合に生じる問題に対処する１つの方法として、信頼性が低い類似度の重みを小さくすることがあげられる。例えば、Herlocker et al.(1999)では、次式を用いている。\n",
    "\n",
    "$$\n",
    "w\\left( i, \\ell \\right) = \\min {\\left\\{ \\frac {\\left| {\\bf J}_{i\\ell} \\right|}{\\alpha}, 1 \\right\\}} \\cdot sim\\left( i,\\ell \\right)\n",
    "$$"
   ]
  },
  {
   "cell_type": "code",
   "execution_count": 8,
   "metadata": {
    "ExecuteTime": {
     "end_time": "2019-10-27T08:14:09.731465Z",
     "start_time": "2019-10-27T08:14:09.701579Z"
    }
   },
   "outputs": [
    {
     "data": {
      "text/html": [
       "<div>\n",
       "<style scoped>\n",
       "    .dataframe tbody tr th:only-of-type {\n",
       "        vertical-align: middle;\n",
       "    }\n",
       "\n",
       "    .dataframe tbody tr th {\n",
       "        vertical-align: top;\n",
       "    }\n",
       "\n",
       "    .dataframe thead th {\n",
       "        text-align: right;\n",
       "    }\n",
       "</style>\n",
       "<table border=\"1\" class=\"dataframe\">\n",
       "  <thead>\n",
       "    <tr style=\"text-align: right;\">\n",
       "      <th>item_id</th>\n",
       "      <th>1</th>\n",
       "      <th>2</th>\n",
       "      <th>3</th>\n",
       "      <th>4</th>\n",
       "      <th>5</th>\n",
       "      <th>6</th>\n",
       "      <th>7</th>\n",
       "      <th>8</th>\n",
       "      <th>9</th>\n",
       "      <th>10</th>\n",
       "      <th>...</th>\n",
       "      <th>1673</th>\n",
       "      <th>1674</th>\n",
       "      <th>1675</th>\n",
       "      <th>1676</th>\n",
       "      <th>1677</th>\n",
       "      <th>1678</th>\n",
       "      <th>1679</th>\n",
       "      <th>1680</th>\n",
       "      <th>1681</th>\n",
       "      <th>1682</th>\n",
       "    </tr>\n",
       "    <tr>\n",
       "      <th>user_id</th>\n",
       "      <th></th>\n",
       "      <th></th>\n",
       "      <th></th>\n",
       "      <th></th>\n",
       "      <th></th>\n",
       "      <th></th>\n",
       "      <th></th>\n",
       "      <th></th>\n",
       "      <th></th>\n",
       "      <th></th>\n",
       "      <th></th>\n",
       "      <th></th>\n",
       "      <th></th>\n",
       "      <th></th>\n",
       "      <th></th>\n",
       "      <th></th>\n",
       "      <th></th>\n",
       "      <th></th>\n",
       "      <th></th>\n",
       "      <th></th>\n",
       "      <th></th>\n",
       "    </tr>\n",
       "  </thead>\n",
       "  <tbody>\n",
       "    <tr>\n",
       "      <th>1</th>\n",
       "      <td>5.0</td>\n",
       "      <td>3.0</td>\n",
       "      <td>4.0</td>\n",
       "      <td>3.0</td>\n",
       "      <td>3.0</td>\n",
       "      <td>5.0</td>\n",
       "      <td>4.0</td>\n",
       "      <td>1.0</td>\n",
       "      <td>5.0</td>\n",
       "      <td>3.0</td>\n",
       "      <td>...</td>\n",
       "      <td>NaN</td>\n",
       "      <td>NaN</td>\n",
       "      <td>NaN</td>\n",
       "      <td>NaN</td>\n",
       "      <td>NaN</td>\n",
       "      <td>NaN</td>\n",
       "      <td>NaN</td>\n",
       "      <td>NaN</td>\n",
       "      <td>NaN</td>\n",
       "      <td>NaN</td>\n",
       "    </tr>\n",
       "    <tr>\n",
       "      <th>2</th>\n",
       "      <td>4.0</td>\n",
       "      <td>NaN</td>\n",
       "      <td>NaN</td>\n",
       "      <td>NaN</td>\n",
       "      <td>NaN</td>\n",
       "      <td>NaN</td>\n",
       "      <td>NaN</td>\n",
       "      <td>NaN</td>\n",
       "      <td>NaN</td>\n",
       "      <td>2.0</td>\n",
       "      <td>...</td>\n",
       "      <td>NaN</td>\n",
       "      <td>NaN</td>\n",
       "      <td>NaN</td>\n",
       "      <td>NaN</td>\n",
       "      <td>NaN</td>\n",
       "      <td>NaN</td>\n",
       "      <td>NaN</td>\n",
       "      <td>NaN</td>\n",
       "      <td>NaN</td>\n",
       "      <td>NaN</td>\n",
       "    </tr>\n",
       "    <tr>\n",
       "      <th>3</th>\n",
       "      <td>NaN</td>\n",
       "      <td>NaN</td>\n",
       "      <td>NaN</td>\n",
       "      <td>NaN</td>\n",
       "      <td>NaN</td>\n",
       "      <td>NaN</td>\n",
       "      <td>NaN</td>\n",
       "      <td>NaN</td>\n",
       "      <td>NaN</td>\n",
       "      <td>NaN</td>\n",
       "      <td>...</td>\n",
       "      <td>NaN</td>\n",
       "      <td>NaN</td>\n",
       "      <td>NaN</td>\n",
       "      <td>NaN</td>\n",
       "      <td>NaN</td>\n",
       "      <td>NaN</td>\n",
       "      <td>NaN</td>\n",
       "      <td>NaN</td>\n",
       "      <td>NaN</td>\n",
       "      <td>NaN</td>\n",
       "    </tr>\n",
       "    <tr>\n",
       "      <th>4</th>\n",
       "      <td>NaN</td>\n",
       "      <td>NaN</td>\n",
       "      <td>NaN</td>\n",
       "      <td>NaN</td>\n",
       "      <td>NaN</td>\n",
       "      <td>NaN</td>\n",
       "      <td>NaN</td>\n",
       "      <td>NaN</td>\n",
       "      <td>NaN</td>\n",
       "      <td>NaN</td>\n",
       "      <td>...</td>\n",
       "      <td>NaN</td>\n",
       "      <td>NaN</td>\n",
       "      <td>NaN</td>\n",
       "      <td>NaN</td>\n",
       "      <td>NaN</td>\n",
       "      <td>NaN</td>\n",
       "      <td>NaN</td>\n",
       "      <td>NaN</td>\n",
       "      <td>NaN</td>\n",
       "      <td>NaN</td>\n",
       "    </tr>\n",
       "    <tr>\n",
       "      <th>5</th>\n",
       "      <td>4.0</td>\n",
       "      <td>3.0</td>\n",
       "      <td>NaN</td>\n",
       "      <td>NaN</td>\n",
       "      <td>NaN</td>\n",
       "      <td>NaN</td>\n",
       "      <td>NaN</td>\n",
       "      <td>NaN</td>\n",
       "      <td>NaN</td>\n",
       "      <td>NaN</td>\n",
       "      <td>...</td>\n",
       "      <td>NaN</td>\n",
       "      <td>NaN</td>\n",
       "      <td>NaN</td>\n",
       "      <td>NaN</td>\n",
       "      <td>NaN</td>\n",
       "      <td>NaN</td>\n",
       "      <td>NaN</td>\n",
       "      <td>NaN</td>\n",
       "      <td>NaN</td>\n",
       "      <td>NaN</td>\n",
       "    </tr>\n",
       "  </tbody>\n",
       "</table>\n",
       "<p>5 rows × 1682 columns</p>\n",
       "</div>"
      ],
      "text/plain": [
       "item_id  1     2     3     4     5     6     7     8     9     10    ...  \\\n",
       "user_id                                                              ...   \n",
       "1         5.0   3.0   4.0   3.0   3.0   5.0   4.0   1.0   5.0   3.0  ...   \n",
       "2         4.0   NaN   NaN   NaN   NaN   NaN   NaN   NaN   NaN   2.0  ...   \n",
       "3         NaN   NaN   NaN   NaN   NaN   NaN   NaN   NaN   NaN   NaN  ...   \n",
       "4         NaN   NaN   NaN   NaN   NaN   NaN   NaN   NaN   NaN   NaN  ...   \n",
       "5         4.0   3.0   NaN   NaN   NaN   NaN   NaN   NaN   NaN   NaN  ...   \n",
       "\n",
       "item_id  1673  1674  1675  1676  1677  1678  1679  1680  1681  1682  \n",
       "user_id                                                              \n",
       "1         NaN   NaN   NaN   NaN   NaN   NaN   NaN   NaN   NaN   NaN  \n",
       "2         NaN   NaN   NaN   NaN   NaN   NaN   NaN   NaN   NaN   NaN  \n",
       "3         NaN   NaN   NaN   NaN   NaN   NaN   NaN   NaN   NaN   NaN  \n",
       "4         NaN   NaN   NaN   NaN   NaN   NaN   NaN   NaN   NaN   NaN  \n",
       "5         NaN   NaN   NaN   NaN   NaN   NaN   NaN   NaN   NaN   NaN  \n",
       "\n",
       "[5 rows x 1682 columns]"
      ]
     },
     "execution_count": 8,
     "metadata": {},
     "output_type": "execute_result"
    }
   ],
   "source": [
    "評価値行列_df.head()"
   ]
  },
  {
   "cell_type": "code",
   "execution_count": 9,
   "metadata": {
    "ExecuteTime": {
     "end_time": "2019-10-27T08:14:12.036315Z",
     "start_time": "2019-10-27T08:14:09.733548Z"
    }
   },
   "outputs": [],
   "source": [
    "from domain.model.cf import UserBaseCF\n",
    "\n",
    "ubcf = UserBaseCF()\n",
    "ubcf.fit(評価値行列_df)"
   ]
  },
  {
   "cell_type": "code",
   "execution_count": 43,
   "metadata": {
    "ExecuteTime": {
     "end_time": "2019-11-02T05:41:51.670969Z",
     "start_time": "2019-11-02T05:41:51.347388Z"
    }
   },
   "outputs": [
    {
     "data": {
      "text/plain": [
       "3.3447518415881716"
      ]
     },
     "execution_count": 43,
     "metadata": {},
     "output_type": "execute_result"
    }
   ],
   "source": [
    "ubcf.predict(1, 2)"
   ]
  },
  {
   "cell_type": "code",
   "execution_count": 11,
   "metadata": {
    "ExecuteTime": {
     "end_time": "2019-10-27T08:15:02.861205Z",
     "start_time": "2019-10-27T08:14:18.844886Z"
    },
    "scrolled": true
   },
   "outputs": [
    {
     "name": "stderr",
     "output_type": "stream",
     "text": [
      "  0%|          | 0/5 [00:00<?, ?it/s]/Users/taiyou/Desktop/machine-learning/推薦システム/domain/model/cf/user_base_cf.py:51: RuntimeWarning: invalid value encountered in double_scalars\n",
      "  (weight_ser * (y_lj - y_l)).sum() / weight_ser.abs().sum()\n",
      "100%|██████████| 5/5 [00:44<00:00,  8.86s/it]\n"
     ]
    }
   ],
   "source": [
    "from tqdm import tqdm\n",
    "\n",
    "score_dict = {}\n",
    "for i in tqdm(評価値行列_df.index[:5]):\n",
    "    score_dict[i] = [ubcf.predict(i, j) for j in 評価値行列_df.columns]"
   ]
  },
  {
   "cell_type": "code",
   "execution_count": 12,
   "metadata": {
    "ExecuteTime": {
     "end_time": "2019-10-27T08:15:17.880120Z",
     "start_time": "2019-10-27T08:15:17.852300Z"
    }
   },
   "outputs": [
    {
     "data": {
      "text/html": [
       "<div>\n",
       "<style scoped>\n",
       "    .dataframe tbody tr th:only-of-type {\n",
       "        vertical-align: middle;\n",
       "    }\n",
       "\n",
       "    .dataframe tbody tr th {\n",
       "        vertical-align: top;\n",
       "    }\n",
       "\n",
       "    .dataframe thead th {\n",
       "        text-align: right;\n",
       "    }\n",
       "</style>\n",
       "<table border=\"1\" class=\"dataframe\">\n",
       "  <thead>\n",
       "    <tr style=\"text-align: right;\">\n",
       "      <th></th>\n",
       "      <th>0</th>\n",
       "      <th>1</th>\n",
       "      <th>2</th>\n",
       "      <th>3</th>\n",
       "      <th>4</th>\n",
       "      <th>5</th>\n",
       "      <th>6</th>\n",
       "      <th>7</th>\n",
       "      <th>8</th>\n",
       "      <th>9</th>\n",
       "      <th>...</th>\n",
       "      <th>1672</th>\n",
       "      <th>1673</th>\n",
       "      <th>1674</th>\n",
       "      <th>1675</th>\n",
       "      <th>1676</th>\n",
       "      <th>1677</th>\n",
       "      <th>1678</th>\n",
       "      <th>1679</th>\n",
       "      <th>1680</th>\n",
       "      <th>1681</th>\n",
       "    </tr>\n",
       "  </thead>\n",
       "  <tbody>\n",
       "    <tr>\n",
       "      <th>1</th>\n",
       "      <td>3.966871</td>\n",
       "      <td>3.344752</td>\n",
       "      <td>3.245953</td>\n",
       "      <td>3.673835</td>\n",
       "      <td>3.265477</td>\n",
       "      <td>3.602586</td>\n",
       "      <td>3.942484</td>\n",
       "      <td>3.759416</td>\n",
       "      <td>4.115454</td>\n",
       "      <td>3.729687</td>\n",
       "      <td>...</td>\n",
       "      <td>4.757353</td>\n",
       "      <td>3.473238</td>\n",
       "      <td>3.150964</td>\n",
       "      <td>2.150964</td>\n",
       "      <td>3.398313</td>\n",
       "      <td>1.488799</td>\n",
       "      <td>3.488799</td>\n",
       "      <td>2.488799</td>\n",
       "      <td>3.629631</td>\n",
       "      <td>3.244364</td>\n",
       "    </tr>\n",
       "    <tr>\n",
       "      <th>2</th>\n",
       "      <td>3.882326</td>\n",
       "      <td>3.444407</td>\n",
       "      <td>3.290846</td>\n",
       "      <td>3.673374</td>\n",
       "      <td>3.495695</td>\n",
       "      <td>4.007114</td>\n",
       "      <td>3.946685</td>\n",
       "      <td>3.969174</td>\n",
       "      <td>4.038008</td>\n",
       "      <td>3.573015</td>\n",
       "      <td>...</td>\n",
       "      <td>2.562619</td>\n",
       "      <td>NaN</td>\n",
       "      <td>3.250347</td>\n",
       "      <td>2.250347</td>\n",
       "      <td>3.497696</td>\n",
       "      <td>5.831173</td>\n",
       "      <td>3.831173</td>\n",
       "      <td>4.831173</td>\n",
       "      <td>3.729014</td>\n",
       "      <td>3.343747</td>\n",
       "    </tr>\n",
       "    <tr>\n",
       "      <th>3</th>\n",
       "      <td>2.870299</td>\n",
       "      <td>2.572094</td>\n",
       "      <td>2.573143</td>\n",
       "      <td>2.737020</td>\n",
       "      <td>2.681179</td>\n",
       "      <td>2.591166</td>\n",
       "      <td>2.909221</td>\n",
       "      <td>2.925830</td>\n",
       "      <td>3.024487</td>\n",
       "      <td>2.711515</td>\n",
       "      <td>...</td>\n",
       "      <td>1.649237</td>\n",
       "      <td>2.933352</td>\n",
       "      <td>2.336966</td>\n",
       "      <td>1.336966</td>\n",
       "      <td>3.008278</td>\n",
       "      <td>4.917792</td>\n",
       "      <td>2.917792</td>\n",
       "      <td>3.917792</td>\n",
       "      <td>2.815633</td>\n",
       "      <td>NaN</td>\n",
       "    </tr>\n",
       "    <tr>\n",
       "      <th>4</th>\n",
       "      <td>4.463890</td>\n",
       "      <td>4.189383</td>\n",
       "      <td>4.082123</td>\n",
       "      <td>4.282544</td>\n",
       "      <td>4.190392</td>\n",
       "      <td>4.597468</td>\n",
       "      <td>4.442616</td>\n",
       "      <td>4.472127</td>\n",
       "      <td>4.352374</td>\n",
       "      <td>4.560379</td>\n",
       "      <td>...</td>\n",
       "      <td>5.480392</td>\n",
       "      <td>4.196277</td>\n",
       "      <td>3.874003</td>\n",
       "      <td>2.874003</td>\n",
       "      <td>4.121352</td>\n",
       "      <td>6.454829</td>\n",
       "      <td>4.454829</td>\n",
       "      <td>5.454829</td>\n",
       "      <td>4.352670</td>\n",
       "      <td>3.967403</td>\n",
       "    </tr>\n",
       "    <tr>\n",
       "      <th>5</th>\n",
       "      <td>3.170103</td>\n",
       "      <td>2.621060</td>\n",
       "      <td>2.450848</td>\n",
       "      <td>2.933294</td>\n",
       "      <td>2.631367</td>\n",
       "      <td>3.098643</td>\n",
       "      <td>3.206504</td>\n",
       "      <td>3.168473</td>\n",
       "      <td>3.111540</td>\n",
       "      <td>2.968731</td>\n",
       "      <td>...</td>\n",
       "      <td>4.021345</td>\n",
       "      <td>2.737230</td>\n",
       "      <td>2.414956</td>\n",
       "      <td>1.414956</td>\n",
       "      <td>2.662304</td>\n",
       "      <td>NaN</td>\n",
       "      <td>NaN</td>\n",
       "      <td>NaN</td>\n",
       "      <td>2.893623</td>\n",
       "      <td>2.508355</td>\n",
       "    </tr>\n",
       "  </tbody>\n",
       "</table>\n",
       "<p>5 rows × 1682 columns</p>\n",
       "</div>"
      ],
      "text/plain": [
       "       0         1         2         3         4         5         6     \\\n",
       "1  3.966871  3.344752  3.245953  3.673835  3.265477  3.602586  3.942484   \n",
       "2  3.882326  3.444407  3.290846  3.673374  3.495695  4.007114  3.946685   \n",
       "3  2.870299  2.572094  2.573143  2.737020  2.681179  2.591166  2.909221   \n",
       "4  4.463890  4.189383  4.082123  4.282544  4.190392  4.597468  4.442616   \n",
       "5  3.170103  2.621060  2.450848  2.933294  2.631367  3.098643  3.206504   \n",
       "\n",
       "       7         8         9     ...      1672      1673      1674      1675  \\\n",
       "1  3.759416  4.115454  3.729687  ...  4.757353  3.473238  3.150964  2.150964   \n",
       "2  3.969174  4.038008  3.573015  ...  2.562619       NaN  3.250347  2.250347   \n",
       "3  2.925830  3.024487  2.711515  ...  1.649237  2.933352  2.336966  1.336966   \n",
       "4  4.472127  4.352374  4.560379  ...  5.480392  4.196277  3.874003  2.874003   \n",
       "5  3.168473  3.111540  2.968731  ...  4.021345  2.737230  2.414956  1.414956   \n",
       "\n",
       "       1676      1677      1678      1679      1680      1681  \n",
       "1  3.398313  1.488799  3.488799  2.488799  3.629631  3.244364  \n",
       "2  3.497696  5.831173  3.831173  4.831173  3.729014  3.343747  \n",
       "3  3.008278  4.917792  2.917792  3.917792  2.815633       NaN  \n",
       "4  4.121352  6.454829  4.454829  5.454829  4.352670  3.967403  \n",
       "5  2.662304       NaN       NaN       NaN  2.893623  2.508355  \n",
       "\n",
       "[5 rows x 1682 columns]"
      ]
     },
     "execution_count": 12,
     "metadata": {},
     "output_type": "execute_result"
    }
   ],
   "source": [
    "pd.DataFrame(score_dict).T"
   ]
  },
  {
   "cell_type": "code",
   "execution_count": 23,
   "metadata": {
    "ExecuteTime": {
     "end_time": "2019-10-27T08:20:11.987164Z",
     "start_time": "2019-10-27T08:20:04.048338Z"
    },
    "scrolled": true
   },
   "outputs": [
    {
     "name": "stderr",
     "output_type": "stream",
     "text": [
      "/Users/taiyou/Desktop/machine-learning/推薦システム/domain/model/cf/user_base_cf.py:51: RuntimeWarning: invalid value encountered in double_scalars\n",
      "  (weight_ser * (y_lj - y_l)).sum() / weight_ser.abs().sum()\n"
     ]
    }
   ],
   "source": [
    "ユーザID = 1\n",
    "未知のアイテムID = 評価値行列_df.loc[ユーザID].index[評価値行列_df.loc[ユーザID].isnull()]\n",
    "推定レイティング = pd.Series([ubcf.predict(i, j) for j in 未知のアイテムID], index=未知のアイテムID).sort_values(ascending=False)"
   ]
  },
  {
   "cell_type": "code",
   "execution_count": 24,
   "metadata": {
    "ExecuteTime": {
     "end_time": "2019-10-27T08:20:14.429905Z",
     "start_time": "2019-10-27T08:20:14.421364Z"
    }
   },
   "outputs": [
    {
     "data": {
      "text/plain": [
       "item_id\n",
       "1309    5.251097\n",
       "1308    4.812193\n",
       "814     4.776801\n",
       "1463    4.751369\n",
       "1536    4.578912\n",
       "dtype: float64"
      ]
     },
     "execution_count": 24,
     "metadata": {},
     "output_type": "execute_result"
    }
   ],
   "source": [
    "推定レイティング.head()"
   ]
  },
  {
   "cell_type": "code",
   "execution_count": 29,
   "metadata": {
    "ExecuteTime": {
     "end_time": "2019-10-27T08:20:49.140794Z",
     "start_time": "2019-10-27T08:20:49.131822Z"
    },
    "scrolled": true
   },
   "outputs": [
    {
     "data": {
      "text/plain": [
       "item_id\n",
       "1502    0.234547\n",
       "1618    0.157305\n",
       "1621    0.071891\n",
       "599    -0.090975\n",
       "1659   -0.180322\n",
       "dtype: float64"
      ]
     },
     "execution_count": 29,
     "metadata": {},
     "output_type": "execute_result"
    }
   ],
   "source": [
    "推定レイティング[推定レイティング.notnull()].tail()"
   ]
  },
  {
   "cell_type": "markdown",
   "metadata": {},
   "source": [
    "---"
   ]
  },
  {
   "cell_type": "markdown",
   "metadata": {},
   "source": [
    "# アイテム間の類似度に基づいた手法"
   ]
  },
  {
   "cell_type": "markdown",
   "metadata": {},
   "source": [
    "## アイテムベース協調フィルタリング\n",
    "ユーザ$i$のアイテム$j$に対するレイティングを予測する\n",
    "$$\n",
    "s_{ij} = {\\bar {y}}_{j} + \\frac { \\sum _{ \\ell \\in {\\bf I}_{i}\\left(j\\right) }{ w\\left(j,\\ell\\right) \\left( y_{i \\ell} - {\\bar {y}}_{\\ell} \\right) } }{ \\sum _{ \\ell \\in {\\bf I}_{i}\\left(j\\right) }{ \\left| w\\left(j,\\ell\\right) \\right| } }\n",
    "$$\n",
    "\n",
    " - ${\\bf I}_{i}\\left(j\\right)$ : ユーザ$i$によって評価されたアイテム$j$と似ているアイテムの集合\n",
    " - $w\\left(i,\\ell\\right)$ : アイテム$j$に対するユーザ$i$の評価を予測するために、ユーザ$i$がアイテム$\\ell$に与えたレイティングに割り当てる重み\n",
    " - $\\bar {y}_{j}$ : アイテム$j$の平均レイティング"
   ]
  },
  {
   "cell_type": "code",
   "execution_count": null,
   "metadata": {},
   "outputs": [],
   "source": []
  },
  {
   "cell_type": "code",
   "execution_count": null,
   "metadata": {},
   "outputs": [],
   "source": []
  },
  {
   "cell_type": "markdown",
   "metadata": {},
   "source": [
    "---"
   ]
  },
  {
   "cell_type": "markdown",
   "metadata": {},
   "source": [
    "# 行列分解"
   ]
  },
  {
   "cell_type": "markdown",
   "metadata": {},
   "source": [
    "WIP"
   ]
  },
  {
   "cell_type": "code",
   "execution_count": null,
   "metadata": {},
   "outputs": [],
   "source": []
  },
  {
   "cell_type": "code",
   "execution_count": null,
   "metadata": {},
   "outputs": [],
   "source": []
  },
  {
   "cell_type": "markdown",
   "metadata": {},
   "source": [
    "---"
   ]
  },
  {
   "cell_type": "markdown",
   "metadata": {},
   "source": [
    "# 例)どんぶり専門店『丼兵衛』"
   ]
  },
  {
   "cell_type": "markdown",
   "metadata": {},
   "source": [
    "## 評価値行列\n",
    "\n",
    " - $\\boldsymbol {\\chi} = \\left\\{ 1,\\dots, 4 \\right\\}$\n",
    " - $\\boldsymbol {y} = \\left\\{ 1,\\dots,4 \\right\\}$\n",
    " - 3段階の採点法 : $$"
   ]
  },
  {
   "cell_type": "code",
   "execution_count": 31,
   "metadata": {
    "ExecuteTime": {
     "end_time": "2019-10-27T13:59:31.221802Z",
     "start_time": "2019-10-27T13:59:31.170588Z"
    }
   },
   "outputs": [
    {
     "data": {
      "text/html": [
       "<div>\n",
       "<style scoped>\n",
       "    .dataframe tbody tr th:only-of-type {\n",
       "        vertical-align: middle;\n",
       "    }\n",
       "\n",
       "    .dataframe tbody tr th {\n",
       "        vertical-align: top;\n",
       "    }\n",
       "\n",
       "    .dataframe thead th {\n",
       "        text-align: right;\n",
       "    }\n",
       "</style>\n",
       "<table border=\"1\" class=\"dataframe\">\n",
       "  <thead>\n",
       "    <tr style=\"text-align: right;\">\n",
       "      <th></th>\n",
       "      <th>親子丼</th>\n",
       "      <th>牛丼</th>\n",
       "      <th>海鮮丼</th>\n",
       "      <th>カツ丼</th>\n",
       "    </tr>\n",
       "  </thead>\n",
       "  <tbody>\n",
       "    <tr>\n",
       "      <th>山田</th>\n",
       "      <td>1.0</td>\n",
       "      <td>3.0</td>\n",
       "      <td>NaN</td>\n",
       "      <td>3.0</td>\n",
       "    </tr>\n",
       "    <tr>\n",
       "      <th>田中</th>\n",
       "      <td>NaN</td>\n",
       "      <td>1.0</td>\n",
       "      <td>3.0</td>\n",
       "      <td>NaN</td>\n",
       "    </tr>\n",
       "    <tr>\n",
       "      <th>佐藤</th>\n",
       "      <td>2.0</td>\n",
       "      <td>1.0</td>\n",
       "      <td>3.0</td>\n",
       "      <td>1.0</td>\n",
       "    </tr>\n",
       "    <tr>\n",
       "      <th>鈴木</th>\n",
       "      <td>1.0</td>\n",
       "      <td>3.0</td>\n",
       "      <td>2.0</td>\n",
       "      <td>NaN</td>\n",
       "    </tr>\n",
       "  </tbody>\n",
       "</table>\n",
       "</div>"
      ],
      "text/plain": [
       "    親子丼   牛丼  海鮮丼  カツ丼\n",
       "山田  1.0  3.0  NaN  3.0\n",
       "田中  NaN  1.0  3.0  NaN\n",
       "佐藤  2.0  1.0  3.0  1.0\n",
       "鈴木  1.0  3.0  2.0  NaN"
      ]
     },
     "execution_count": 31,
     "metadata": {},
     "output_type": "execute_result"
    }
   ],
   "source": [
    "R_arr = np.array([\n",
    "    [1, 3, np.nan,  3],\n",
    "    [np.nan, 1, 3, np.nan],\n",
    "    [2, 1, 3, 1],\n",
    "    [1, 3, 2, np.nan]\n",
    "])\n",
    "\n",
    "R_df = pd.DataFrame(\n",
    "    R_arr, \n",
    "    columns=['親子丼', '牛丼', '海鮮丼', 'カツ丼'], \n",
    "    index=['山田', '田中', '佐藤', '鈴木']\n",
    ")\n",
    "R_df.head()"
   ]
  },
  {
   "cell_type": "markdown",
   "metadata": {},
   "source": [
    "上記の評価値行列から、「**田中$x=2$**」の「**親子丼$y = 1$**」への推定評価値$\\hat {r}_{2,1}$を求める"
   ]
  },
  {
   "cell_type": "code",
   "execution_count": 41,
   "metadata": {
    "ExecuteTime": {
     "end_time": "2019-10-27T14:21:44.468017Z",
     "start_time": "2019-10-27T14:21:44.454840Z"
    }
   },
   "outputs": [
    {
     "data": {
      "text/plain": [
       "2.625"
      ]
     },
     "execution_count": 41,
     "metadata": {},
     "output_type": "execute_result"
    }
   ],
   "source": [
    "from domain.model.cf import UserBaseCF\n",
    "\n",
    "rating_estimator = UserBaseCF()\n",
    "rating_estimator.fit(R_df)\n",
    "rating_estimator.predict('田中', '親子丼')"
   ]
  },
  {
   "cell_type": "markdown",
   "metadata": {},
   "source": [
    "この値は、最大値3にかなり近く、「田中」は「親子丼」が好きであると予測される"
   ]
  },
  {
   "cell_type": "code",
   "execution_count": null,
   "metadata": {},
   "outputs": [],
   "source": []
  }
 ],
 "metadata": {
  "kernelspec": {
   "display_name": "Python 3",
   "language": "python",
   "name": "python3"
  },
  "language_info": {
   "codemirror_mode": {
    "name": "ipython",
    "version": 3
   },
   "file_extension": ".py",
   "mimetype": "text/x-python",
   "name": "python",
   "nbconvert_exporter": "python",
   "pygments_lexer": "ipython3",
   "version": "3.7.0"
  },
  "toc": {
   "nav_menu": {},
   "number_sections": true,
   "sideBar": true,
   "skip_h1_title": false,
   "toc_cell": false,
   "toc_position": {},
   "toc_section_display": "block",
   "toc_window_display": false
  }
 },
 "nbformat": 4,
 "nbformat_minor": 2
}
