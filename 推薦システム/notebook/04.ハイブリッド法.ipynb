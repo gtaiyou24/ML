{
 "cells": [
  {
   "cell_type": "markdown",
   "metadata": {},
   "source": [
    "# 協調フィルタリングと素性ベクトルベースの比較\n",
    "\n",
    "<table>\n",
    "    <tr>\n",
    "        <th></th>\n",
    "        <th>素性ベクトルベース</th>\n",
    "        <th>協調フィルタリング</th>\n",
    "    </tr>\n",
    "    <tr>\n",
    "        <td>特徴</td>\n",
    "        <td>素性ベクトルの定義、分析、生成のために労力をかける必要がある</td>\n",
    "        <td>訓練データにユーザやアイテム間のデータが一定以上あれば、素性ベクトルベースの手法よりも優れた結果を出せる</td>\n",
    "    </tr>\n",
    "    <tr>\n",
    "        <td>過去の評価データがほとんどない<br>(コールドスタート)</td>\n",
    "        <td>機能する</td>\n",
    "        <td>機能しない</td>\n",
    "    </tr>\n",
    "    <tr>\n",
    "        <td>過去の評価データが十分にある<br>(ウォームスタート)</td>\n",
    "        <td>機能する</td>\n",
    "        <td>十分機能する</td>\n",
    "    </tr>\n",
    "</table>\n",
    "\n",
    " - 協調フィルタリング : ウォームスタートのシナリオでは有効であるが、コールドスタートのシナリオでは失敗する\n",
    " - 素性ベクトルベース : コールドスタートでは効果的だが、ウォームスタートシナリオでは協調フィルタリングほど精度が高くない"
   ]
  },
  {
   "cell_type": "markdown",
   "metadata": {},
   "source": [
    "# ハイブリッド法\n",
    "両者の手法の良い点を組み合わせるために、ハイブリッドメソッドが開発されている。以下にハイブリッドメソッドの例をいくつかあげる。\n",
    "\n"
   ]
  },
  {
   "cell_type": "markdown",
   "metadata": {},
   "source": [
    "## アンサンブル\n",
    "単純なハイブリッドアプローチの１つは、いくつかの異なる方法を個別に実装することである(例えば、協調フィルタリングと素性ベクトルベース)。そして、それぞれの出力または予測評価を線形結合または投票方法で組み合わせる。"
   ]
  },
  {
   "cell_type": "markdown",
   "metadata": {},
   "source": [
    "## 協調フィルタリングを素性ベクトルとして扱う"
   ]
  },
  {
   "cell_type": "markdown",
   "metadata": {},
   "source": [
    "## 類似性にもとづいた協調フィルタリングにおける素性ベクトルベースの類似性の使用"
   ]
  },
  {
   "cell_type": "markdown",
   "metadata": {},
   "source": [
    "## 人工的素性ベクトルベースのレイティングによる協調フィルタリングの補間"
   ]
  },
  {
   "cell_type": "code",
   "execution_count": 1,
   "metadata": {
    "ExecuteTime": {
     "end_time": "2019-10-20T07:57:29.700506Z",
     "start_time": "2019-10-20T07:57:26.606898Z"
    }
   },
   "outputs": [],
   "source": [
    "import numpy as np\n",
    "import pandas as pd\n",
    "\n",
    "import matplotlib as mpl\n",
    "import matplotlib.pyplot as plt\n",
    "import seaborn as sns\n",
    "\n",
    "# 日本語フォントを設定\n",
    "font = {'family': 'IPAexGothic'}\n",
    "mpl.rc('font', **font)\n",
    "\n",
    "%matplotlib inline"
   ]
  },
  {
   "cell_type": "code",
   "execution_count": null,
   "metadata": {},
   "outputs": [],
   "source": []
  }
 ],
 "metadata": {
  "kernelspec": {
   "display_name": "Python 3",
   "language": "python",
   "name": "python3"
  },
  "language_info": {
   "codemirror_mode": {
    "name": "ipython",
    "version": 3
   },
   "file_extension": ".py",
   "mimetype": "text/x-python",
   "name": "python",
   "nbconvert_exporter": "python",
   "pygments_lexer": "ipython3",
   "version": "3.7.0"
  },
  "toc": {
   "nav_menu": {},
   "number_sections": true,
   "sideBar": true,
   "skip_h1_title": false,
   "toc_cell": false,
   "toc_position": {},
   "toc_section_display": "block",
   "toc_window_display": false
  }
 },
 "nbformat": 4,
 "nbformat_minor": 2
}
