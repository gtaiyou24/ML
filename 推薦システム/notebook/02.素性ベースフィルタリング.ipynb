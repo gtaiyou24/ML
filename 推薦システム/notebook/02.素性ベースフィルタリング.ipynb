{
 "cells": [
  {
   "cell_type": "markdown",
   "metadata": {},
   "source": [
    "ユーザ素性ベクトルとアイテム素性ベクトルが与えられた場合の一般的なスコアリングアプローチの１つは、<strong>それらの素性ベクトルを用いてユーザ$i$とアイテム$j$の間の親和性を測るスコアリング関数$s\\left( {\\vec {x}}_{i}, {\\vec {x}}_{j} \\right)$を設計することである</strong>。そして、スコアが求まれば、それに基づいてアイテムを順位付けすることで推薦を行うことができる。"
   ]
  },
  {
   "cell_type": "code",
   "execution_count": 1,
   "metadata": {
    "ExecuteTime": {
     "end_time": "2019-10-27T02:32:05.373729Z",
     "start_time": "2019-10-27T02:32:02.431217Z"
    }
   },
   "outputs": [],
   "source": [
    "import numpy as np\n",
    "import pandas as pd\n",
    "\n",
    "import matplotlib as mpl\n",
    "import matplotlib.pyplot as plt\n",
    "import seaborn as sns\n",
    "\n",
    "# 日本語フォントを設定\n",
    "font = {'family': 'IPAexGothic'}\n",
    "mpl.rc('font', **font)\n",
    "\n",
    "%matplotlib inline"
   ]
  },
  {
   "cell_type": "code",
   "execution_count": 2,
   "metadata": {
    "ExecuteTime": {
     "end_time": "2019-10-27T02:32:05.385136Z",
     "start_time": "2019-10-27T02:32:05.378571Z"
    }
   },
   "outputs": [],
   "source": [
    "def read_dataset_series():\n",
    "    return pd.read_csv(\n",
    "        'https://s3-ap-northeast-1.amazonaws.com/wp.lancers.jp/engineerblog/wp-content/uploads/2017/11/lancers_recommend_datasets.json_-1.zip',\n",
    "        compression='zip'\n",
    "    ).T.index.str.extract('\\{*\\\"[0-9]+\\\": \\\"(.+)\\\"\\}*')[0]"
   ]
  },
  {
   "cell_type": "code",
   "execution_count": 3,
   "metadata": {
    "ExecuteTime": {
     "end_time": "2019-10-27T02:32:11.165457Z",
     "start_time": "2019-10-27T02:32:05.391087Z"
    },
    "scrolled": true
   },
   "outputs": [
    {
     "data": {
      "text/plain": [
       "0    中国語 コミュニティサイト 翻訳 仕事 中国 コミュニティサイト 翻訳 募集 個人的 研究 ...\n",
       "1    現行 Blu-ray Discレコーダー 商品 データ 作成 現状 販売 Blu-ray D...\n",
       "Name: 0, dtype: object"
      ]
     },
     "execution_count": 3,
     "metadata": {},
     "output_type": "execute_result"
    }
   ],
   "source": [
    "文書_ser = read_dataset_series()\n",
    "文書_ser.head(2)"
   ]
  },
  {
   "cell_type": "code",
   "execution_count": 4,
   "metadata": {
    "ExecuteTime": {
     "end_time": "2019-10-27T02:32:11.185736Z",
     "start_time": "2019-10-27T02:32:11.168201Z"
    }
   },
   "outputs": [
    {
     "data": {
      "text/plain": [
       "9998    テーマ 修正 テーマ 修正 テーマ 下記 修正 お願い テーマ 設定 完了 済 修正 テーマ...\n",
       "9999    blog 記事 更新 自動 ツール 羅列 記事 紹介 サイト 羅列 記事 作成 アクセス ラ...\n",
       "Name: 0, dtype: object"
      ]
     },
     "execution_count": 4,
     "metadata": {},
     "output_type": "execute_result"
    }
   ],
   "source": [
    "文書_ser.tail(2)"
   ]
  },
  {
   "cell_type": "code",
   "execution_count": 5,
   "metadata": {
    "ExecuteTime": {
     "end_time": "2019-10-27T02:32:11.196783Z",
     "start_time": "2019-10-27T02:32:11.190655Z"
    }
   },
   "outputs": [],
   "source": [
    "class DocumentSeries(pd.Series):\n",
    "    def __init__(self, document : pd.Series):\n",
    "        super().__init__(document)"
   ]
  },
  {
   "cell_type": "code",
   "execution_count": 6,
   "metadata": {
    "ExecuteTime": {
     "end_time": "2019-10-27T02:32:11.208645Z",
     "start_time": "2019-10-27T02:32:11.201594Z"
    }
   },
   "outputs": [],
   "source": [
    "document_ser = DocumentSeries(文書_ser)"
   ]
  },
  {
   "cell_type": "code",
   "execution_count": 7,
   "metadata": {
    "ExecuteTime": {
     "end_time": "2019-10-27T02:32:11.229136Z",
     "start_time": "2019-10-27T02:32:11.213546Z"
    }
   },
   "outputs": [],
   "source": [
    "class VectorDataFrame(pd.DataFrame):\n",
    "    def __init__(self, vector_arr: np.array):\n",
    "        super().__init__(vector_arr)"
   ]
  },
  {
   "cell_type": "code",
   "execution_count": 8,
   "metadata": {
    "ExecuteTime": {
     "end_time": "2019-10-27T02:32:14.963930Z",
     "start_time": "2019-10-27T02:32:11.232776Z"
    }
   },
   "outputs": [],
   "source": [
    "from sklearn.feature_extraction.text import CountVectorizer, TfidfTransformer\n",
    "\n",
    "tfidf = TfidfTransformer(use_idf=True, norm='l2', smooth_idf=True)\n",
    "vector_arr = tfidf.fit_transform(CountVectorizer().fit_transform(document_ser)).toarray()"
   ]
  },
  {
   "cell_type": "code",
   "execution_count": 9,
   "metadata": {
    "ExecuteTime": {
     "end_time": "2019-10-27T02:32:15.050226Z",
     "start_time": "2019-10-27T02:32:14.969026Z"
    },
    "scrolled": true
   },
   "outputs": [
    {
     "data": {
      "text/html": [
       "<div>\n",
       "<style scoped>\n",
       "    .dataframe tbody tr th:only-of-type {\n",
       "        vertical-align: middle;\n",
       "    }\n",
       "\n",
       "    .dataframe tbody tr th {\n",
       "        vertical-align: top;\n",
       "    }\n",
       "\n",
       "    .dataframe thead th {\n",
       "        text-align: right;\n",
       "    }\n",
       "</style>\n",
       "<table border=\"1\" class=\"dataframe\">\n",
       "  <thead>\n",
       "    <tr style=\"text-align: right;\">\n",
       "      <th></th>\n",
       "      <th>0</th>\n",
       "      <th>1</th>\n",
       "      <th>2</th>\n",
       "      <th>3</th>\n",
       "      <th>4</th>\n",
       "      <th>5</th>\n",
       "      <th>6</th>\n",
       "      <th>7</th>\n",
       "      <th>8</th>\n",
       "      <th>9</th>\n",
       "      <th>...</th>\n",
       "      <th>19125</th>\n",
       "      <th>19126</th>\n",
       "      <th>19127</th>\n",
       "      <th>19128</th>\n",
       "      <th>19129</th>\n",
       "      <th>19130</th>\n",
       "      <th>19131</th>\n",
       "      <th>19132</th>\n",
       "      <th>19133</th>\n",
       "      <th>19134</th>\n",
       "    </tr>\n",
       "  </thead>\n",
       "  <tbody>\n",
       "    <tr>\n",
       "      <th>0</th>\n",
       "      <td>0.0</td>\n",
       "      <td>0.0</td>\n",
       "      <td>0.0</td>\n",
       "      <td>0.0</td>\n",
       "      <td>0.0</td>\n",
       "      <td>0.0</td>\n",
       "      <td>0.0</td>\n",
       "      <td>0.0</td>\n",
       "      <td>0.0</td>\n",
       "      <td>0.0</td>\n",
       "      <td>...</td>\n",
       "      <td>0.0</td>\n",
       "      <td>0.0</td>\n",
       "      <td>0.0</td>\n",
       "      <td>0.0</td>\n",
       "      <td>0.0</td>\n",
       "      <td>0.0</td>\n",
       "      <td>0.0</td>\n",
       "      <td>0.0</td>\n",
       "      <td>0.0</td>\n",
       "      <td>0.0</td>\n",
       "    </tr>\n",
       "    <tr>\n",
       "      <th>1</th>\n",
       "      <td>0.0</td>\n",
       "      <td>0.0</td>\n",
       "      <td>0.0</td>\n",
       "      <td>0.0</td>\n",
       "      <td>0.0</td>\n",
       "      <td>0.0</td>\n",
       "      <td>0.0</td>\n",
       "      <td>0.0</td>\n",
       "      <td>0.0</td>\n",
       "      <td>0.0</td>\n",
       "      <td>...</td>\n",
       "      <td>0.0</td>\n",
       "      <td>0.0</td>\n",
       "      <td>0.0</td>\n",
       "      <td>0.0</td>\n",
       "      <td>0.0</td>\n",
       "      <td>0.0</td>\n",
       "      <td>0.0</td>\n",
       "      <td>0.0</td>\n",
       "      <td>0.0</td>\n",
       "      <td>0.0</td>\n",
       "    </tr>\n",
       "    <tr>\n",
       "      <th>2</th>\n",
       "      <td>0.0</td>\n",
       "      <td>0.0</td>\n",
       "      <td>0.0</td>\n",
       "      <td>0.0</td>\n",
       "      <td>0.0</td>\n",
       "      <td>0.0</td>\n",
       "      <td>0.0</td>\n",
       "      <td>0.0</td>\n",
       "      <td>0.0</td>\n",
       "      <td>0.0</td>\n",
       "      <td>...</td>\n",
       "      <td>0.0</td>\n",
       "      <td>0.0</td>\n",
       "      <td>0.0</td>\n",
       "      <td>0.0</td>\n",
       "      <td>0.0</td>\n",
       "      <td>0.0</td>\n",
       "      <td>0.0</td>\n",
       "      <td>0.0</td>\n",
       "      <td>0.0</td>\n",
       "      <td>0.0</td>\n",
       "    </tr>\n",
       "    <tr>\n",
       "      <th>3</th>\n",
       "      <td>0.0</td>\n",
       "      <td>0.0</td>\n",
       "      <td>0.0</td>\n",
       "      <td>0.0</td>\n",
       "      <td>0.0</td>\n",
       "      <td>0.0</td>\n",
       "      <td>0.0</td>\n",
       "      <td>0.0</td>\n",
       "      <td>0.0</td>\n",
       "      <td>0.0</td>\n",
       "      <td>...</td>\n",
       "      <td>0.0</td>\n",
       "      <td>0.0</td>\n",
       "      <td>0.0</td>\n",
       "      <td>0.0</td>\n",
       "      <td>0.0</td>\n",
       "      <td>0.0</td>\n",
       "      <td>0.0</td>\n",
       "      <td>0.0</td>\n",
       "      <td>0.0</td>\n",
       "      <td>0.0</td>\n",
       "    </tr>\n",
       "    <tr>\n",
       "      <th>4</th>\n",
       "      <td>0.0</td>\n",
       "      <td>0.0</td>\n",
       "      <td>0.0</td>\n",
       "      <td>0.0</td>\n",
       "      <td>0.0</td>\n",
       "      <td>0.0</td>\n",
       "      <td>0.0</td>\n",
       "      <td>0.0</td>\n",
       "      <td>0.0</td>\n",
       "      <td>0.0</td>\n",
       "      <td>...</td>\n",
       "      <td>0.0</td>\n",
       "      <td>0.0</td>\n",
       "      <td>0.0</td>\n",
       "      <td>0.0</td>\n",
       "      <td>0.0</td>\n",
       "      <td>0.0</td>\n",
       "      <td>0.0</td>\n",
       "      <td>0.0</td>\n",
       "      <td>0.0</td>\n",
       "      <td>0.0</td>\n",
       "    </tr>\n",
       "  </tbody>\n",
       "</table>\n",
       "<p>5 rows × 19135 columns</p>\n",
       "</div>"
      ],
      "text/plain": [
       "   0      1      2      3      4      5      6      7      8      9      ...  \\\n",
       "0    0.0    0.0    0.0    0.0    0.0    0.0    0.0    0.0    0.0    0.0  ...   \n",
       "1    0.0    0.0    0.0    0.0    0.0    0.0    0.0    0.0    0.0    0.0  ...   \n",
       "2    0.0    0.0    0.0    0.0    0.0    0.0    0.0    0.0    0.0    0.0  ...   \n",
       "3    0.0    0.0    0.0    0.0    0.0    0.0    0.0    0.0    0.0    0.0  ...   \n",
       "4    0.0    0.0    0.0    0.0    0.0    0.0    0.0    0.0    0.0    0.0  ...   \n",
       "\n",
       "   19125  19126  19127  19128  19129  19130  19131  19132  19133  19134  \n",
       "0    0.0    0.0    0.0    0.0    0.0    0.0    0.0    0.0    0.0    0.0  \n",
       "1    0.0    0.0    0.0    0.0    0.0    0.0    0.0    0.0    0.0    0.0  \n",
       "2    0.0    0.0    0.0    0.0    0.0    0.0    0.0    0.0    0.0    0.0  \n",
       "3    0.0    0.0    0.0    0.0    0.0    0.0    0.0    0.0    0.0    0.0  \n",
       "4    0.0    0.0    0.0    0.0    0.0    0.0    0.0    0.0    0.0    0.0  \n",
       "\n",
       "[5 rows x 19135 columns]"
      ]
     },
     "execution_count": 9,
     "metadata": {},
     "output_type": "execute_result"
    }
   ],
   "source": [
    "vector_df = VectorDataFrame(vector_arr)\n",
    "vector_df.head()"
   ]
  },
  {
   "cell_type": "markdown",
   "metadata": {},
   "source": [
    "# 教師なし手法"
   ]
  },
  {
   "cell_type": "markdown",
   "metadata": {},
   "source": [
    "## 距離関数用いたスコアリング関数"
   ]
  },
  {
   "cell_type": "markdown",
   "metadata": {},
   "source": [
    "### ユークリッド距離\n",
    "\n",
    "$$\n",
    "d\\left( \\vec {x}_{i}, \\vec {x}_{j} \\right) = \\sqrt { \\left( x_{i1} - x_{j1} \\right)^{2} + \\left( x_{i2} - x_{j2} \\right)^{2} + \\cdots + \\left( x_{ip} - x_{jp} \\right)^{2} }\n",
    "$$"
   ]
  },
  {
   "cell_type": "code",
   "execution_count": 11,
   "metadata": {
    "ExecuteTime": {
     "end_time": "2019-10-27T02:36:14.693364Z",
     "start_time": "2019-10-27T02:35:30.066631Z"
    }
   },
   "outputs": [
    {
     "data": {
      "text/plain": [
       "array([[0.        , 1.4021506 , 1.39029598, ..., 1.4070818 , 1.41421356,\n",
       "        1.39809281],\n",
       "       [1.4021506 , 0.        , 1.39357315, ..., 1.39149314, 1.40804872,\n",
       "        1.39244078],\n",
       "       [1.39029598, 1.39357315, 0.        , ..., 1.4029932 , 1.41234596,\n",
       "        1.39527745],\n",
       "       ...,\n",
       "       [1.4070818 , 1.39149314, 1.4029932 , ..., 0.        , 1.39714695,\n",
       "        1.41421356],\n",
       "       [1.41421356, 1.40804872, 1.41234596, ..., 1.39714695, 0.        ,\n",
       "        1.41421356],\n",
       "       [1.39809281, 1.39244078, 1.39527745, ..., 1.41421356, 1.41421356,\n",
       "        0.        ]])"
      ]
     },
     "execution_count": 11,
     "metadata": {},
     "output_type": "execute_result"
    }
   ],
   "source": [
    "from sklearn.metrics.pairwise import euclidean_distances\n",
    "\n",
    "euclidean_distances(vector_df)"
   ]
  },
  {
   "cell_type": "markdown",
   "metadata": {},
   "source": [
    "### マハラノビス距離"
   ]
  },
  {
   "cell_type": "code",
   "execution_count": null,
   "metadata": {},
   "outputs": [],
   "source": []
  },
  {
   "cell_type": "markdown",
   "metadata": {},
   "source": [
    "## 類似度関数用いたスコアリング関数"
   ]
  },
  {
   "cell_type": "markdown",
   "metadata": {},
   "source": [
    "### コサイン類似度\n",
    "$\\vec {x}_{i}$と$\\vec {x}_{j}$が同じベクトル空間内の点であるとする。\n",
    "$$\n",
    "s\\left( {\\vec {x}}_{i}, {\\vec {x}}_{j} \\right) = \\frac { {\\vec {x}}^{\\prime}_{i} {\\vec {x}}_{j} }{ \\left\\| \\vec {x}_{i} \\right\\| \\cdot \\left\\| \\vec {x}_{j} \\right\\| }\n",
    "$$\n",
    "\n",
    " - $\\vec {x}_{i}$ : ユーザ$i$の素性ベクトル\n",
    " - $\\vec {x}_{j}$ : アイテム$j$の素性ベクトル"
   ]
  },
  {
   "cell_type": "code",
   "execution_count": 13,
   "metadata": {
    "ExecuteTime": {
     "end_time": "2019-10-27T02:39:23.763738Z",
     "start_time": "2019-10-27T02:38:33.453275Z"
    }
   },
   "outputs": [
    {
     "data": {
      "text/plain": [
       "array([[1.        , 0.01698685, 0.03353854, ..., 0.0100604 , 0.        ,\n",
       "        0.02266824],\n",
       "       [0.01698685, 1.        , 0.02897694, ..., 0.03187342, 0.0086994 ,\n",
       "        0.03055434],\n",
       "       [0.03353854, 0.02897694, 1.        , ..., 0.01580504, 0.00263944,\n",
       "        0.02660041],\n",
       "       ...,\n",
       "       [0.0100604 , 0.03187342, 0.01580504, ..., 1.        , 0.0239902 ,\n",
       "        0.        ],\n",
       "       [0.        , 0.0086994 , 0.00263944, ..., 0.0239902 , 1.        ,\n",
       "        0.        ],\n",
       "       [0.02266824, 0.03055434, 0.02660041, ..., 0.        , 0.        ,\n",
       "        1.        ]])"
      ]
     },
     "execution_count": 13,
     "metadata": {},
     "output_type": "execute_result"
    }
   ],
   "source": [
    "from sklearn.metrics.pairwise import cosine_similarity\n",
    "\n",
    "cosine_similarity(vector_df)"
   ]
  },
  {
   "cell_type": "code",
   "execution_count": null,
   "metadata": {},
   "outputs": [],
   "source": []
  },
  {
   "cell_type": "markdown",
   "metadata": {},
   "source": [
    "### ピアソンの相関係数"
   ]
  },
  {
   "cell_type": "code",
   "execution_count": null,
   "metadata": {},
   "outputs": [],
   "source": []
  },
  {
   "cell_type": "code",
   "execution_count": null,
   "metadata": {},
   "outputs": [],
   "source": []
  },
  {
   "cell_type": "markdown",
   "metadata": {},
   "source": [
    "### 偏差パターン類似度"
   ]
  },
  {
   "cell_type": "code",
   "execution_count": null,
   "metadata": {},
   "outputs": [],
   "source": []
  },
  {
   "cell_type": "code",
   "execution_count": null,
   "metadata": {},
   "outputs": [],
   "source": []
  },
  {
   "cell_type": "markdown",
   "metadata": {},
   "source": [
    "## 集合の類似度"
   ]
  },
  {
   "cell_type": "markdown",
   "metadata": {},
   "source": [
    "### ジャッカード係数"
   ]
  },
  {
   "cell_type": "code",
   "execution_count": null,
   "metadata": {},
   "outputs": [],
   "source": [
    "# from sklearn.metrics.pairwise import pairwise_distances\n",
    "\n",
    "# pairwise_distances(vector_df, metric='jaccard')"
   ]
  },
  {
   "cell_type": "markdown",
   "metadata": {},
   "source": [
    "### ダイアス係数"
   ]
  },
  {
   "cell_type": "code",
   "execution_count": null,
   "metadata": {},
   "outputs": [],
   "source": []
  },
  {
   "cell_type": "markdown",
   "metadata": {},
   "source": [
    "### シンプソン係数"
   ]
  },
  {
   "cell_type": "code",
   "execution_count": null,
   "metadata": {},
   "outputs": [],
   "source": []
  },
  {
   "cell_type": "markdown",
   "metadata": {},
   "source": [
    "---"
   ]
  },
  {
   "cell_type": "markdown",
   "metadata": {},
   "source": [
    "## 教師あり手法\n",
    "教師あり手法では、過去のユーザ-アイテム間の相互作用によって収集された観測済みの<strong style=\"color:blue;\">レイティングデータ</strong>を教師データとし、それぞれの素性ベクトルを用いて、観測されていないユーザ-アイテム対のレイティングを予測するモデルを学習する。"
   ]
  },
  {
   "cell_type": "markdown",
   "metadata": {},
   "source": [
    "$$\n",
    "\\begin{eqnarray}\n",
    "s_{ij} = s\\left( \\vec {x}_{i}, \\vec {x}_{j} \\right) & = & {\\vec {x}}^{\\prime}_{i} {\\bf A} \\vec {x}_{j}\\\\\n",
    "& = & \\left( \\begin{matrix} { x }_{ i1 } & { x }_{ i2 } & { x }_{ i3 } \\end{matrix} \\right) \\left( \\begin{matrix} { a }_{ 11 } & { a }_{ 12 } \\\\ { a }_{ 21 } & { a }_{ 22 } \\\\ { a }_{ 31 } & { a }_{ 32 } \\end{matrix} \\right) \\left( \\begin{matrix} { x }_{ j1 } \\\\ { x }_{ j2 } \\end{matrix} \\right) \\\\\n",
    "& = & {\\vec {x}}^{\\prime}_{ij} \\vec {\\beta}\n",
    "\\end{eqnarray}\n",
    "$$\n",
    "\n",
    " - $s_{ij}$ : ユーザ$i$のアイテム$j$に対するスコア\n",
    " - $\\vec {x}_{i}$ : ユーザ$i$の素性ベクトル\n",
    " - $\\vec {x}_{j}$ : アイテム$j$の素性ベクトル\n",
    " - ${\\vec {x}}^{\\prime}_{ij} = \\left( \\begin{matrix} { x }_{ i1 }{ x }_{ j1 } \\\\ { x }_{ i2 }{ x }_{ j1 } \\\\ { x }_{ i3 }{ x }_{ j1 } \\\\ { x }_{ i1 }{ x }_{ j2 } \\\\ { x }_{ i2 }{ x }_{ j2 } \\\\ { x }_{ i3 }{ x }_{ j2 } \\end{matrix} \\right) $\n",
    " - $\\vec {\\beta} = \\left( \\begin{matrix} { a }_{ 11 } \\\\ { a }_{ 21 } \\\\ { a }_{ 31 } \\\\ { a }_{ 12 } \\\\ { a }_{ 22 } \\\\ { a }_{ 32 } \\end{matrix} \\right) $"
   ]
  },
  {
   "cell_type": "markdown",
   "metadata": {},
   "source": [
    "### バイナリレイティング(ロジスティックモデル)"
   ]
  },
  {
   "cell_type": "markdown",
   "metadata": {},
   "source": [
    "ユーザ$i$がアイテム$j$に与えるレイティング$y_{ij} \\in \\left\\{ +1, -1 \\right\\}$(例えば、ユーザ$i$がアイテム$j$をクリックするか否か)が、以下のロジスティック応答モデルに基づいて生成されると仮定する。\n",
    "\n",
    "$$\n",
    "y_{ij} \\sim \\mathrm {Bernoulli}\\left( \\vec {x}_{i}, \\vec {x}_{j} \\right) = \\frac {1}{1 + \\mathrm {exp}\\left\\{ - s_{ij} \\right\\}}\n",
    "$$\n",
    "\n",
    "観測された(ユーザ$i$,アイテム$j$)対の集合を$\\Omega$とし、観測されたレイティングを${\\bf Y} = \\left\\{ y_{ij} : \\left(i,j\\right) \\in \\Omega \\right\\}$とする。\n",
    "\n",
    "パラメータ${\\bf A}$の推定方法は、対数尤度関数より求められる。\n",
    "\n",
    " - [machine-learning/ロジスティック回帰.ipynb at master · gtaiyou24/machine-learning](https://github.com/gtaiyou24/machine-learning/blob/master/%E5%88%86%E9%A1%9E/%E3%83%AD%E3%82%B8%E3%82%B9%E3%83%86%E3%82%A3%E3%83%83%E3%82%AF%E5%9B%9E%E5%B8%B0.ipynb)"
   ]
  },
  {
   "cell_type": "code",
   "execution_count": null,
   "metadata": {},
   "outputs": [],
   "source": []
  },
  {
   "cell_type": "markdown",
   "metadata": {},
   "source": [
    "### 数値型レイティング(ガウシアンモデル)"
   ]
  },
  {
   "cell_type": "markdown",
   "metadata": {},
   "source": [
    "ユーザ$i$がアイテム$j$に与える数値型レイティング$y_{ij}$(例えば、ユーザ$i$がアイテム$j$に与える点数または星の数)は、以下のガウス応答モデルに基づいて生成されると仮定する。\n",
    "\n",
    "$$\n",
    "y_{ij} \\sim N\\left( s_{ij}, \\sigma^{2} \\right)\n",
    "$$\n",
    "\n",
    " - [machine-learning/線形回帰モデル.ipynb at master · gtaiyou24/machine-learning](https://github.com/gtaiyou24/machine-learning/blob/master/%E5%9B%9E%E5%B8%B0%E5%88%86%E6%9E%90/%E7%B7%9A%E5%BD%A2%E5%9B%9E%E5%B8%B0%E3%83%A2%E3%83%87%E3%83%AB.ipynb)"
   ]
  },
  {
   "cell_type": "code",
   "execution_count": null,
   "metadata": {},
   "outputs": [],
   "source": []
  },
  {
   "cell_type": "markdown",
   "metadata": {},
   "source": [
    "### 順序レイティング(累積ロジットモデル)"
   ]
  },
  {
   "cell_type": "markdown",
   "metadata": {},
   "source": [
    "> 多くのアプリケーションでは、レイティングは本質的に$k$段階スケールで表される。ガウシアンモデルは順序レイティング(例えば、星の数)で一般的に使用されるが、この方法は最良ではないかもしれない。例えば、星５つと星４つの格付けの違いは、星３つと星４つの格付けの違いと同じではないこともある。\n",
    "\n",
    "この場合、順序回帰がより適切だと考えられる。このモデルでは、ユーザ$i$がアイテム$j$に対して与える評価$y_{ij} \\in \\left\\{ 1, \\dots, R \\right\\}$は多項分布に従って生成されると仮定している。\n",
    "\n",
    "$$\n",
    "y_{ij} \\sim \\mathrm {Multinomial}\\left( \\pi_{ij,1}, \\dots, \\pi_{ij,R} \\right)\n",
    "$$\n",
    "\n",
    "ここで、$\\pi_{ij,r}$は、ユーザ$i$がアイテム$j$にレイティング$r$を与える確率である。$Y_{ij}$を観測されたレイティング$y_{ij}$に対応する確率変数とする。"
   ]
  },
  {
   "cell_type": "code",
   "execution_count": null,
   "metadata": {},
   "outputs": [],
   "source": []
  },
  {
   "cell_type": "markdown",
   "metadata": {},
   "source": [
    "### 共起嗜好性スコア"
   ]
  },
  {
   "cell_type": "markdown",
   "metadata": {},
   "source": [
    "> 一部のアプリケーションの設定では、ユーザが１つのアイテムを別のアイテムよりも好む傾向を観察できる。あるいは、ユーザの反応を共起嗜好性に変換することができる(例えば、同一ユーザがクリックしたアイテムは、クリックされていないアイテムよりも優れていると考える)。\n",
    "\n",
    "このような嗜好データをモデル化するには、記法を少し変更しなければならない。\n",
    "\n",
    "$y_{ij\\ell} \\in \\left\\{ +1, -1 \\right\\}$は、ユーザ$i$がアイテム$\\ell$に対してアイテム$j$をより好むかどうかを示すものとする。$\\Omega$を観測された$\\left(i,j,\\ell\\right)$の３組の集合とする。ユーザ$i$がアイテム$\\ell$よりもアイテム$j$を好む傾向は、$s_{ij} - s_{i\\ell}$に比例すると仮定する。つまり、\n",
    "\n",
    "$$\n",
    "y_{ij\\ell} \\sim \\mathrm {Bernoulli}\\left( \\vec {x}_{i}, \\vec {x}_{j}, \\vec {x}_{\\ell} \\right) = \\frac {1}{1 + \\mathrm {exp}\\left\\{ - \\left(s_{ij} - s_{i\\ell}\\right) \\right\\}}\n",
    "$$\n",
    "\n",
    "とする。"
   ]
  },
  {
   "cell_type": "code",
   "execution_count": null,
   "metadata": {},
   "outputs": [],
   "source": []
  },
  {
   "cell_type": "markdown",
   "metadata": {},
   "source": [
    "### 正則化付き最尤推定\n",
    "正則化項を追加すると過学習が軽減されますよーという話"
   ]
  },
  {
   "cell_type": "code",
   "execution_count": null,
   "metadata": {},
   "outputs": [],
   "source": []
  },
  {
   "cell_type": "markdown",
   "metadata": {},
   "source": [
    "---"
   ]
  },
  {
   "cell_type": "markdown",
   "metadata": {},
   "source": [
    "# コンテキスト情報"
   ]
  },
  {
   "cell_type": "markdown",
   "metadata": {},
   "source": [
    "これまでは、ユーザ$i$がアイテム$j$に与えるレイティング$y_{ij}$を予測する方法のみを検討してきた。しかし、そのようなレイティングは通常コンテキストに依存する。\n",
    "\n",
    "> 例えば、$y_{ij}$(ユーザ$i$がアイテム$j$をクリックするかどうか)は、Webページ上のアイテムの位置に依存すると考えられる。目を引く位置にある場合、同じアイテムでも、それほど目立たない位置にある場合よりも高いクリック率が得られる。クリック率は、時刻/平日と週末/デバイス(デスクトップPCとモバイル)/同じWebページに表示されるその他のアイテムなどによっても変わる可能性がある。\n",
    "\n",
    "このようなコンテキスト情報を素性ベクトル$\\vec {z}_{ij}$として表す。このベクトルはユーザ$i$がアイテム$j$との相互作用をする際のコンテキストを特徴付ける。教師あり手法は推定レイティングまたはスコアを次のように再定義することによって、容易にコンテキスト情報を取り込むことができる。\n",
    "\n",
    "$$\n",
    "s_{ij} = s\\left( \\vec {x}_{i}, \\vec {x}_{j}, \\vec {z}_{ij} \\right) = {\\vec {x}}^{\\prime}_{i} {\\bf A} \\vec {x}_{j} + \\vec {b}^{\\prime} \\vec {z}_{ij}\n",
    "$$"
   ]
  },
  {
   "cell_type": "code",
   "execution_count": null,
   "metadata": {},
   "outputs": [],
   "source": []
  }
 ],
 "metadata": {
  "kernelspec": {
   "display_name": "Python 3",
   "language": "python",
   "name": "python3"
  },
  "language_info": {
   "codemirror_mode": {
    "name": "ipython",
    "version": 3
   },
   "file_extension": ".py",
   "mimetype": "text/x-python",
   "name": "python",
   "nbconvert_exporter": "python",
   "pygments_lexer": "ipython3",
   "version": "3.7.0"
  },
  "toc": {
   "nav_menu": {},
   "number_sections": true,
   "sideBar": true,
   "skip_h1_title": false,
   "toc_cell": false,
   "toc_position": {},
   "toc_section_display": "block",
   "toc_window_display": false
  }
 },
 "nbformat": 4,
 "nbformat_minor": 2
}
