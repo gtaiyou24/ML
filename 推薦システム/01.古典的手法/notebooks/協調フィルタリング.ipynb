{
 "cells": [
  {
   "cell_type": "code",
   "execution_count": 1,
   "metadata": {
    "ExecuteTime": {
     "end_time": "2019-06-11T00:24:39.293733Z",
     "start_time": "2019-06-11T00:24:39.289293Z"
    }
   },
   "outputs": [],
   "source": [
    "import numpy as np\n",
    "import pandas as pd\n",
    "\n",
    "import matplotlib.pyplot as plt\n",
    "import seaborn as sns\n",
    "\n",
    "plt.rcParams['font.family'] = 'IPAPGothic' #全体のフォントを設定\n",
    "\n",
    "%matplotlib inline"
   ]
  },
  {
   "cell_type": "markdown",
   "metadata": {},
   "source": [
    "# データセットの作成"
   ]
  },
  {
   "cell_type": "code",
   "execution_count": 2,
   "metadata": {
    "ExecuteTime": {
     "end_time": "2019-06-11T00:24:39.603092Z",
     "start_time": "2019-06-11T00:24:39.589932Z"
    }
   },
   "outputs": [
    {
     "data": {
      "text/html": [
       "<div>\n",
       "<style scoped>\n",
       "    .dataframe tbody tr th:only-of-type {\n",
       "        vertical-align: middle;\n",
       "    }\n",
       "\n",
       "    .dataframe tbody tr th {\n",
       "        vertical-align: top;\n",
       "    }\n",
       "\n",
       "    .dataframe thead th {\n",
       "        text-align: right;\n",
       "    }\n",
       "</style>\n",
       "<table border=\"1\" class=\"dataframe\">\n",
       "  <thead>\n",
       "    <tr style=\"text-align: right;\">\n",
       "      <th></th>\n",
       "      <th>親子丼</th>\n",
       "      <th>牛丼</th>\n",
       "      <th>海鮮丼</th>\n",
       "      <th>カツ丼</th>\n",
       "    </tr>\n",
       "  </thead>\n",
       "  <tbody>\n",
       "    <tr>\n",
       "      <th>山田</th>\n",
       "      <td>1.0</td>\n",
       "      <td>3.0</td>\n",
       "      <td>NaN</td>\n",
       "      <td>3.0</td>\n",
       "    </tr>\n",
       "    <tr>\n",
       "      <th>田中</th>\n",
       "      <td>NaN</td>\n",
       "      <td>1.0</td>\n",
       "      <td>3.0</td>\n",
       "      <td>NaN</td>\n",
       "    </tr>\n",
       "    <tr>\n",
       "      <th>佐藤</th>\n",
       "      <td>2.0</td>\n",
       "      <td>1.0</td>\n",
       "      <td>3.0</td>\n",
       "      <td>1.0</td>\n",
       "    </tr>\n",
       "    <tr>\n",
       "      <th>鈴木</th>\n",
       "      <td>1.0</td>\n",
       "      <td>3.0</td>\n",
       "      <td>2.0</td>\n",
       "      <td>NaN</td>\n",
       "    </tr>\n",
       "  </tbody>\n",
       "</table>\n",
       "</div>"
      ],
      "text/plain": [
       "    親子丼   牛丼  海鮮丼  カツ丼\n",
       "山田  1.0  3.0  NaN  3.0\n",
       "田中  NaN  1.0  3.0  NaN\n",
       "佐藤  2.0  1.0  3.0  1.0\n",
       "鈴木  1.0  3.0  2.0  NaN"
      ]
     },
     "execution_count": 2,
     "metadata": {},
     "output_type": "execute_result"
    }
   ],
   "source": [
    "R_arr = np.array([\n",
    "    [1, 3, np.nan,  3],\n",
    "    [np.nan, 1, 3, np.nan],\n",
    "    [2, 1, 3, 1],\n",
    "    [1, 3, 2, np.nan]\n",
    "])\n",
    "\n",
    "R_df = pd.DataFrame(\n",
    "    R_arr, \n",
    "    columns=['親子丼', '牛丼', '海鮮丼', 'カツ丼'], \n",
    "    index=['山田', '田中', '佐藤', '鈴木']\n",
    ")\n",
    "R_df.head()"
   ]
  },
  {
   "cell_type": "markdown",
   "metadata": {},
   "source": [
    "上記のデータフレームを以下の形式に変換します。\n",
    "\n",
    "| ユーザ | アイテム | 評価値 |\n",
    "|:------:|:--------:|:------:|\n",
    "| 山田 | 親子丼 | 1.0 | \n",
    "| 山田 | 牛丼 | 3.0 |\n",
    "| 山田 | 海鮮丼 | NaN |\n",
    "| ... | ... | ... |\n",
    "| 鈴木 | 海鮮丼 | 2.0 |\n",
    "| 鈴木 | カツ丼 | NaN |"
   ]
  },
  {
   "cell_type": "code",
   "execution_count": 3,
   "metadata": {
    "ExecuteTime": {
     "end_time": "2019-06-11T00:38:33.947080Z",
     "start_time": "2019-06-11T00:38:33.935790Z"
    }
   },
   "outputs": [
    {
     "data": {
      "text/html": [
       "<div>\n",
       "<style scoped>\n",
       "    .dataframe tbody tr th:only-of-type {\n",
       "        vertical-align: middle;\n",
       "    }\n",
       "\n",
       "    .dataframe tbody tr th {\n",
       "        vertical-align: top;\n",
       "    }\n",
       "\n",
       "    .dataframe thead th {\n",
       "        text-align: right;\n",
       "    }\n",
       "</style>\n",
       "<table border=\"1\" class=\"dataframe\">\n",
       "  <thead>\n",
       "    <tr style=\"text-align: right;\">\n",
       "      <th></th>\n",
       "      <th>user</th>\n",
       "      <th>item</th>\n",
       "      <th>rating</th>\n",
       "    </tr>\n",
       "  </thead>\n",
       "  <tbody>\n",
       "    <tr>\n",
       "      <th>0</th>\n",
       "      <td>山田</td>\n",
       "      <td>親子丼</td>\n",
       "      <td>1.0</td>\n",
       "    </tr>\n",
       "    <tr>\n",
       "      <th>1</th>\n",
       "      <td>山田</td>\n",
       "      <td>牛丼</td>\n",
       "      <td>3.0</td>\n",
       "    </tr>\n",
       "    <tr>\n",
       "      <th>2</th>\n",
       "      <td>山田</td>\n",
       "      <td>カツ丼</td>\n",
       "      <td>3.0</td>\n",
       "    </tr>\n",
       "    <tr>\n",
       "      <th>3</th>\n",
       "      <td>田中</td>\n",
       "      <td>牛丼</td>\n",
       "      <td>1.0</td>\n",
       "    </tr>\n",
       "    <tr>\n",
       "      <th>4</th>\n",
       "      <td>田中</td>\n",
       "      <td>海鮮丼</td>\n",
       "      <td>3.0</td>\n",
       "    </tr>\n",
       "  </tbody>\n",
       "</table>\n",
       "</div>"
      ],
      "text/plain": [
       "  user item  rating\n",
       "0   山田  親子丼     1.0\n",
       "1   山田   牛丼     3.0\n",
       "2   山田  カツ丼     3.0\n",
       "3   田中   牛丼     1.0\n",
       "4   田中  海鮮丼     3.0"
      ]
     },
     "execution_count": 3,
     "metadata": {},
     "output_type": "execute_result"
    }
   ],
   "source": [
    "R_df = R_df.stack().reset_index().rename(columns={'level_0': 'user', 'level_1': 'item', 0: 'rating'})\n",
    "R_df.head()"
   ]
  },
  {
   "cell_type": "code",
   "execution_count": 8,
   "metadata": {
    "ExecuteTime": {
     "end_time": "2019-06-11T00:38:38.161889Z",
     "start_time": "2019-06-11T00:38:38.158761Z"
    }
   },
   "outputs": [],
   "source": [
    "from surprise import Reader, Dataset\n",
    "\n",
    "reader = Reader(line_format='user item rating', sep=' ')\n",
    "dataset = Dataset.load_from_df(R_df, reader)"
   ]
  },
  {
   "cell_type": "code",
   "execution_count": 24,
   "metadata": {
    "ExecuteTime": {
     "end_time": "2019-06-11T01:04:05.431688Z",
     "start_time": "2019-06-11T01:04:05.415449Z"
    }
   },
   "outputs": [
    {
     "name": "stdout",
     "output_type": "stream",
     "text": [
      "Computing the pearson similarity matrix...\n",
      "Done computing similarity matrix.\n"
     ]
    },
    {
     "data": {
      "text/plain": [
       "<surprise.prediction_algorithms.knns.KNNBasic at 0x1163c4748>"
      ]
     },
     "execution_count": 24,
     "metadata": {},
     "output_type": "execute_result"
    }
   ],
   "source": [
    "from surprise import KNNBasic\n",
    "\n",
    "trainset = dataset.build_full_trainset()\n",
    "\n",
    "sim_options = {\n",
    "    'name': 'pearson',   # 類似度を計算する方法を指定（ cosine,msd,pearson,pearson_baseline ）\n",
    "    'user_based': True # False にするとアイテムベースに\n",
    "}\n",
    "model = KNNBasic(k=1, min_k=1,sim_options=sim_options)\n",
    "model.fit(trainset)"
   ]
  },
  {
   "cell_type": "code",
   "execution_count": 25,
   "metadata": {},
   "outputs": [
    {
     "name": "stdout",
     "output_type": "stream",
     "text": [
      "Predicted rating(User: 田中, Item: 親子丼): 2.00\n"
     ]
    }
   ],
   "source": [
    "# 評価値を予測する\n",
    "prediction = model.predict(uid=\"田中\", iid=\"親子丼\")\n",
    "\n",
    "print('Predicted rating(User: {0}, Item: {1}): {2:.2f}'.format(prediction.uid, prediction.iid, prediction.est))"
   ]
  },
  {
   "cell_type": "code",
   "execution_count": null,
   "metadata": {},
   "outputs": [],
   "source": []
  }
 ],
 "metadata": {
  "kernelspec": {
   "display_name": "Python 3",
   "language": "python",
   "name": "python3"
  },
  "language_info": {
   "codemirror_mode": {
    "name": "ipython",
    "version": 3
   },
   "file_extension": ".py",
   "mimetype": "text/x-python",
   "name": "python",
   "nbconvert_exporter": "python",
   "pygments_lexer": "ipython3",
   "version": "3.6.3"
  },
  "toc": {
   "nav_menu": {},
   "number_sections": true,
   "sideBar": true,
   "skip_h1_title": false,
   "toc_cell": false,
   "toc_position": {},
   "toc_section_display": true,
   "toc_window_display": false
  }
 },
 "nbformat": 4,
 "nbformat_minor": 2
}
