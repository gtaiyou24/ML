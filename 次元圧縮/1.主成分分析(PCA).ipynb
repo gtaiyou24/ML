{
 "cells": [
  {
   "cell_type": "code",
   "execution_count": null,
   "metadata": {},
   "outputs": [],
   "source": [
    "import pandas as pd\n",
    "import numpy as np\n",
    "from pandas import DataFrame, Series\n",
    "\n",
    "import seaborn as sns\n",
    "import matplotlib as mpl\n",
    "import matplotlib.pyplot as plt\n",
    "\n",
    "# 日本語フォントを設定\n",
    "font = {'family': 'IPAexGothic'}\n",
    "mpl.rc('font', **font)\n",
    "\n",
    "%matplotlib inline"
   ]
  },
  {
   "cell_type": "markdown",
   "metadata": {},
   "source": [
    "---\n",
    "# 主成分分析(principal component analysis: PCA) \n",
    "\n",
    "以下、*「多変量解析法入門」(ライブラリ新数学大系)より*\n",
    "\n",
    "主成分分析とは、**<font color=\"red\">相関のある</font>**多数の変数から相関のない少数で全体のばらつきを最もよく表す主成分と呼ばれる変数を合成する多変量解析の一手法。データの次元を削減するために用いられる。\n",
    "\n",
    "## 適用例\n",
    "生徒の試験の成績データから「科目や生徒を分類できないか」を考える。以下のデータは10人の生徒に実施した国語・英語・数学・理科の4教科の試験成績です。\n",
    "<div style=\"text-align: center;\">\n",
    "    <img src=\"./imgs/1.主成分分析(PCA)/試験の成績データ.png\" width=\"50%\">\n",
    "</div>\n",
    "\n",
    "上記の表を各変数の対ごとに散布図を描くと以下の図を得る。\n",
    "<div style=\"text-align: center;\">\n",
    "    <img src=\"./imgs/1.主成分分析(PCA)/各変数間の散布図.png\" width=\"40%\">\n",
    "</div>\n",
    "\n",
    "各変数間の相関係数はすべて正であり、さらに\n",
    "\n",
    " - 「国語と英語」\n",
    " - 「数学と理科」\n",
    "\n",
    "の相関係数は高い値となっている。つまり、**成績データにはなんらかの<font color=\"red\">相関構造</font>があると考えることができる**。\n",
    "\n",
    "\n",
    "## 解析ストーリー\n",
    "\n",
    "> 1. 相関係数行列$R$の第1固有値(最大固有値)${ \\lambda }_{ 1 }$に対応する固有ベクトルから**第1主成分$z_{1}$**を求める。次に$R$の第2固有値${ \\lambda }_{ 2 }$に対応する固有ベクトルから**第2主成分$z_{2}$**を求める。同様にして、**第$k$主成分**を求める。($k=3,4,\\cdots, p$)\n",
    "> 2. それぞれの主成分の**寄与率**および**累積寄与率**を求める。「固有値が1以上」ないしは「累積寄与率が80%を超える」を目安として主成分を選択する。\n",
    "> 3. **因子負荷量**を求める。固有ベクトルや因子負荷量の値を参考にして、選択した各主成分の意味について考察する。また、因子負荷量を散布図にプロットし、変数の分類を行う。\n",
    "> 4. **主成分得点**を散布図にプロットし、サンプルの特徴付けや分類を行う。"
   ]
  },
  {
   "cell_type": "markdown",
   "metadata": {
    "collapsed": true
   },
   "source": [
    "### 主成分の導出\n",
    "変数$x_{1}$と$x_{2}$を標準化する。\n",
    "$$\n",
    "u_{1} = \\frac {x_{1} - \\bar {x_{1}} }{ \\widehat { \\sigma_{1} } }, \\quad u_{2} = \\frac {x_{2} - \\bar {x_{2}}}{ \\widehat { \\sigma_{2} } }\\\\\n",
    "\\widehat { \\sigma_{i} } = \\frac {1}{n-1}\\sum _{i=1}^{n}{\\left(x_{i} - \\bar {x}\\right)^{2}}\n",
    "$$\n",
    "また、後のため、次のことにも注意しておく。\n",
    "$$\n",
    "\\sum _{i=1}^{n}{{u_{i1}}^{2}} = \\sum _{i=1}^{n}{{u_{i2}}^{2}} = n-1 \\quad (9.2)\n",
    "$$\n",
    "\n",
    "> 証明<br>\n",
    "> $$\n",
    "\\sum { \\left( \\frac { { x }_{ i }-\\bar { x }  }{ \\widehat { \\sigma  }  }  \\right) ^{ 2 } } =\\frac { \\left( n-1 \\right) { \\widehat { \\sigma  }  }^{ 2 } }{ { \\widehat { \\sigma  }  }^{ 2 } } =n-1\n",
    "$$\n",
    "\n",
    "\\---------\n",
    "\n",
    "$$\n",
    "\\sum _{i=1}^{n}{ u_{i1}u_{i2} } = (n-1)r_{x_{1}x_{2}} \\quad (9.3)\n",
    "$$\n",
    "\n",
    "> 証明<br>\n",
    "> $$\n",
    "\\widehat { \\sigma _{ x_{ 1 }x_{ 2 } } } = \\frac { 1 }{ n-1 } \\sum { \\left( { x }_{ i1 }-\\bar { x }  \\right) \\left( { x }_{ i2 }-\\bar { x }  \\right)  }より\\\\\n",
    "\\sum _{ i=1 }^{ n }{ u_{ i1 }u_{ i2 } } =\\sum { \\left( \\frac { { x }_{ i1 }-\\bar { { x }_{ 1 } }  }{ \\widehat { { \\sigma  }_{ 1 } }  }  \\right) \\left( \\frac { { x }_{ i2 }-\\bar { { x }_{ 2 } }  }{ \\widehat { { \\sigma  }_{ 2 } }  }  \\right)  } =\\frac { \\left( n-1 \\right) \\widehat { \\sigma _{ x_{ 1 }x_{ 2 } } }  }{ \\widehat { { \\sigma  }_{ 1 } } \\cdot \\widehat { { \\sigma  }_{ 2 } }  } =\\left( n-1 \\right) { r }_{ { x }_{ 1 }{ x }_{ 2 } }\n",
    "$$"
   ]
  },
  {
   "cell_type": "markdown",
   "metadata": {},
   "source": [
    "#### 第1主成分$z_{1}$\n",
    "**第1主成分$z_{1}$**を\n",
    "$$\n",
    "z_{1} = a_{1}u_{1} + a_{2}u_{2} \\quad (9.4)\n",
    "$$\n",
    "とおく。標準化変量$u_{1},u_{2}$の平均値は0なので、第1主成分の平均値も0である。\n",
    "$$\n",
    "E\\left(z_{1}\\right) = a_{1}E\\left(u_{1}\\right) + a_{2}E\\left(u_{2}\\right) = a_{1}\\cdot0 + a_{2}\\cdot0 = 0 \\quad (9.5)\n",
    "$$\n",
    "目的は、データの情報をできるだけ多く有するように$z_{1}$を定めることである(つまり、係数$a_{1}$と$a_{2}$をデータから定めることである)。\n",
    "\n",
    "　「$z_{1}$がもとのデータの情報をできるだけ多く有する」ということを「データの全体のばらつきをできるだけ$z_{1}$のばらつきに反映させる」と考える。すなわち、$z_{1}$の分散\n",
    "$$\n",
    "V_{z_{1}} = \\frac {1}{n-1}\\sum _{i=1}^{n}{ \\left(z_{i1} - \\bar {z_{1}}\\right)^{2} } = \\frac {1}{n-1}\\sum _{i=1}^{n}{ {z_{i1}}^{2} } \\quad (9.6)\n",
    "$$\n",
    "が最大になるような$a_{1}$と$a_{2}$を求める。(9.2)式と(9.3)式を用いて\n",
    "$$\n",
    "V_{ z_{ 1 } }=\\frac { 1 }{ n-1 } \\sum _{ i=1 }^{ n }{ { z_{ i1 } }^{ 2 } } =\\frac { 1 }{ n-1 } \\sum { \\left( a_{ 1 }u_{ i1 }+a_{ 2 }u_{ i2 } \\right) ^{ 2 } } \\\\ =\\frac { 1 }{ n-1 } \\left\\{ { { a }_{ 1 } }^{ 2 }\\sum { { u_{ i1 } }^{ 2 } } +2{ a }_{ 1 }{ a }_{ 2 }\\sum { u_{ i1 }u_{ i2 } } +{ { a }_{ 2 } }^{ 2 }\\sum { { u_{ i2 } }^{ 2 } }  \\right\\} \\\\ ={ { a }_{ 1 } }^{ 2 }+{ { a }_{ 2 } }^{ 2 }+2{ r }_{ { x }_{ 1 }{ x }_{ 1 } }{ a }_{ 1 }{ a }_{ 2 } \\quad (9.7)\n",
    "$$\n",
    "となるから、$V_{z_{1}}$の値は$a_{1}$と$a_{2}$の値は大きくなればいくらでも大きくなる。そこで、\n",
    "$$\n",
    "{a_{1}}^{2} + {a_{2}}^{2} = 1　\\quad (9.8)\n",
    "$$\n",
    "の制約条件を設けた下で、$V_{z_{1}}$の最大化を考える。\n",
    "\n",
    "\n",
    "> **制約付き分散最大化**<br>\n",
    "> $$\n",
    "\\max {V_{z_{1}}} = { { a }_{ 1 } }^{ 2 }+{ { a }_{ 2 } }^{ 2 }+2{ r }_{ { x }_{ 1 }{ x }_{ 1 } }{ a }_{ 1 }{ a }_{ 2 } \\\\\n",
    "subject.to.\\\\\n",
    "\\begin{eqnarray}\n",
    "{a_{1}}^{2} + {a_{2}}^{2} & = & 1\n",
    "\\end{eqnarray}\n",
    "$$\n",
    "\n",
    "制約付きの最大化問題を求めるための定石は**ラグランジュの未定乗数法**である。\n",
    "$$\n",
    "f\\left(a_{1}, a_{2}, \\lambda \\right) = {a_{1}}^{2} + {a_{2}}^{2} + 2r_{x_{1}x_{2}}a_{1}a_{2} - \\lambda \\left( {a_{1}}^{2} + {a_{2}}^{2} - 1 \\right)\n",
    "$$\n",
    "とおき、$a_{1}, a_{2}$のそれぞれで微分(偏微分)してゼロとおく。すると、次式を得る。\n",
    "$$\n",
    "\\begin{eqnarray} 2a_{ 1 }+2r_{ x_{ 1 }x_{ 2 } }a_{ 2 }-2\\lambda a_{ 1 } & = & 0 \\\\ 2r_{ x_{ 1 }x_{ 2 } }a_{ 1 }+2a_{ 2 }-2\\lambda a_{ 2 } & = & 0 \\end{eqnarray}\\quad (9.10)\n",
    "$$\n",
    "(9.10)式の両辺をそれぞれ2で割って、行列の形に表現すると\n",
    "$$\n",
    "\\begin{bmatrix} 1 & r_{ x_{ 1 }x_{ 2 } } \\\\ r_{ x_{ 1 }x_{ 2 } } & 1 \\end{bmatrix}\\begin{bmatrix} a_{ 1 } \\\\ a_{ 2 } \\end{bmatrix}=\\lambda \\begin{bmatrix} a_{ 1 } \\\\ a_{ 2 } \\end{bmatrix}\\quad (9.11)\n",
    "$$\n",
    "となる。行列$R$を\n",
    "$$\n",
    "R=\\begin{bmatrix} 1 & r_{ x_{ 1 }x_{ 2 } } \\\\ r_{ x_{ 1 }x_{ 2 } } & 1 \\end{bmatrix}\n",
    "$$\n",
    "とおく。$R$は**相関係数行列**である。また、$a = \\left[a_{1}, a_{2}\\right]^{\\prime}$とおくと、(9.11)式は\n",
    "$$\n",
    "Ra = \\lambda a \\quad (9.13)\n",
    "$$\n",
    "となる。(9.11)式および(9.13)式は、$\\lambda$が行列$R$の**固有値**であり、求めるべき$\\left[a_{1}, a_{2}\\right]$は**固有ベクトル**であることを示している。\n",
    "\n",
    "\n",
    "ここで、(9.11)式の両辺に左からベクトル$\\left[ a_{1}, a_{2} \\right]$をかけてみよう。すると\n",
    "$$\n",
    "a_{1}^{2} + a_{2}^{2} + 2 r_{ x_{1} x_{2} } a_{1} a_{2} = \\lambda \\left( a_{1}^{2} + a_{2}^{2} \\right)\n",
    "$$\n",
    "を得る。この式の左辺は$V_{z_{1}}$であり、右辺は(9.8)式で設けた制約条件により$\\lambda$に等しい。すなわち\n",
    "$$\n",
    "V_{z_{1}} = \\lambda\n",
    "$$\n",
    "である。\n",
    "\n",
    "> 以上より、(9.7)式の$V_{z_{1}}$を最大化することは、「**相関係数行列$R$の固有値問題を解いて、最大固有値$\\lambda_{1}$に対応する（長さ１の）固有ベクトル$\\boldsymbol {a} = \\left[ a_{1}, a_{2} \\right]^{T}$を求めれば（つまり、$R \\boldsymbol {a} = \\lambda_{1} \\boldsymbol {a}$）、それが$V_{z_{1}}$の最大値を与える$\\left[ a_{1}, a_{2} \\right]$であり、$V_{z_{1}}$の最大値は$\\lambda_{1}$となる**」という手続きで実行できる。"
   ]
  },
  {
   "cell_type": "markdown",
   "metadata": {},
   "source": [
    "#### 第2主成分$z_{2}$\n",
    "第1主成分$z_{1}$だけでデータの情報を説明できないときは、第2主成分$z_{2}$\n",
    "$$\n",
    "z_{2} = b_{1} u_{1} + b_{2} u_{2}\n",
    "$$\n",
    "を考慮する。\n",
    "\n",
    "> 第2主成分$z_{2}$は、すでに定まっている第1主成分$z_{1}$に含まれない情報を追加するために導入するので、**$z_{1}$と無相関となるように定める**。\n",
    "\n",
    "$z_{1}$と$z_{2}$の相関係数$r_{ z_{1} z_{2} } = \\sum _{i=1}^{n}{(z_{i1} - \\bar {z_{1}}) (z_{i2} - \\bar {z_{2}})} / (n-1)$の分子は、\n",
    "\n",
    "$$\n",
    "\\begin{eqnarray}\n",
    "\\sum {\\left( z_{i1} - \\bar {z_{1}} \\right)\\left( z_{i2} - \\bar {z_{2}} \\right)} & = & \\sum { z_{i1} z_{i2} }\\\\\n",
    "& = & \\sum { \\left( a_{1} u_{i1} + a_{2} u_{i2} \\right) \\left( b_{1} u_{i1} + b_{2} u_{i2} \\right) }\\\\\n",
    "& = & a_{1}b_{1} \\sum { u_{i1}^{2} } + a_{1}b_{2} \\sum { u_{i1}u_{i2} } + a_{2} b_{1} \\sum { u_{i1} u_{i2} } + a_{2}b_{2} \\sum {u_{i2}^{2}}\\\\\n",
    "& = & (n - 1) \\left\\{ a_{1} b_{1} + r_{x_{1}x_{2}} a_{1} b_{2} + r_{x_{1}x_{2}} a_{2} b_{1} + a_{2} b_{2} \\right\\}\\\\\n",
    "& = & (n - 1) \\boldsymbol {\\mathrm {a}}^{T} R \\boldsymbol {\\mathrm {b}}\\\\\n",
    "& = & (n - 1) \\lambda_{1} \\boldsymbol {\\mathrm {a}}^{T} \\boldsymbol {\\mathrm {b}} \\quad (R \\boldsymbol {\\mathrm {a}} = \\lambda_{1} \\boldsymbol {\\mathrm {a}}より\\boldsymbol {\\mathrm {a}}^{T} R = \\lambda_{1} \\boldsymbol {\\mathrm {a}}^{T} [Rは対称行列])\\\\\n",
    "\\end{eqnarray}\n",
    "$$\n",
    "\n",
    " - $\\boldsymbol {\\mathrm {b}} = \\left[ b_{1}, b_{2} \\right]^{T}$\n",
    " \n",
    "となる\n"
   ]
  },
  {
   "cell_type": "markdown",
   "metadata": {},
   "source": [
    "これより、$z_{1}$と$z_{2}$の相関係数$r_{z_{1}z_{2}}$が$0$になる条件は、\n",
    "$$\n",
    "\\boldsymbol {\\mathrm {a}}^{T} R \\boldsymbol {\\mathrm {b}} = 0 \\qquad (9.18)\n",
    "$$\n",
    "または、\n",
    "$$\n",
    "\\boldsymbol {\\mathrm {a}}^{T} \\boldsymbol {\\mathrm {b}} = a_{1} b_{1} + a_{2} b_{2} = 0 \\qquad (9.19)\n",
    "$$\n",
    "の条件と同じである。このことより、第2主成分は、\n",
    "$$\n",
    "\\begin{eqnarray}\n",
    "V_{z_{2}} & = & \\frac {1}{n - 1} \\sum _{i=1}^{n}{\\left( z_{i2} - \\bar {z_{2}} \\right)^{2}} = \\frac {1}{n-1} \\sum _{i=1}^{n}{z_{i2}^{2}}\\\\\n",
    "& = & b_{1}^{2} + b_{2}^{2} + 2 r_{x_{1}x_{2}} b_{1} b_{2}\n",
    "\\end{eqnarray}\n",
    "$$\n",
    "を$b_{1}^{2} + b_{2}^{2} = 1$、および、(9.18)式または(9.19)式の条件の下で最大化することより求められる。\n",
    "\n",
    "> **第2主成分の導出**<br>\n",
    "> $$\n",
    "\\max {V_{z_{2}}} = { { b }_{ 1 } }^{ 2 }+{ { b }_{ 2 } }^{ 2 }+2{ r }_{ { x }_{ 1 }{ x }_{ 1 } }{ b }_{ 1 }{ b }_{ 2 } \\\\\n",
    "subject.to.\\\\\n",
    "\\begin{eqnarray}\n",
    "{b_{1}}^{2} + {b_{2}}^{2} & = & 1\\\\\n",
    "\\boldsymbol {\\mathrm {a}}^{T} \\boldsymbol {\\mathrm {b}} = a_{1} b_{1} + a_{2} b_{2} & = & 0\n",
    "\\end{eqnarray}\n",
    "$$"
   ]
  },
  {
   "cell_type": "markdown",
   "metadata": {},
   "source": [
    "**第2主成分の解**<br>\n",
    "\n",
    "ラグランジュの未定乗数法を用いて解く。\n",
    "\n",
    "<img src=\"./imgs/1.主成分分析(PCA)/第2主成分の導出.png\" width=\"50%\">\n",
    "\n",
    " - (9.26)式は、第2主成分$z_{2}$の係数$\\left( b_{1}, b_{2} \\right)$も$R$の固有ベクトルであることを示している。\n",
    " - $V_{z_{1}}$の最大値が$R$の最大固有値だったことと同じ理由で、$V_{z_{2}}$の最大値も$R$の最大固有値となる。\n",
    "\n",
    "しかし、$V_{z_{2}}$の最大化においては、$R$の最大固有値$\\lambda_{1}$に対応する固有ベクトル$\\boldsymbol {\\mathrm {b}}$は制約条件(9.19)を満たさない。(なぜなら、固有ベクトル$\\boldsymbol {\\mathrm {b}}$は、$\\boldsymbol {\\mathrm {b}} \\equiv\\boldsymbol {\\mathrm {a}}$なので、固有ベクトル$V_{i}$の性質（$V_{i}^{T} V_{i} = 1$）より$\\boldsymbol {\\mathrm {a}}^{T}\\boldsymbol {\\mathrm {b}} = \\boldsymbol {\\mathrm {a}}^{T} \\boldsymbol {\\mathrm {a}} = 1$となり、制約条件を満たさないため)<br>\n",
    "\n",
    "そこで、$V_{z_{2}}$の最大値は**$R$の2番目に大きな固有値$\\lambda_{2}$となり、第2主成分$z_{2}$の構成には$\\lambda_{2}$に対応する（長さ１の）固有ベクトル$\\boldsymbol {\\mathrm {b}} = \\left[ b_{1}, b_{2} \\right]^{T}$を用いる。**"
   ]
  },
  {
   "cell_type": "markdown",
   "metadata": {},
   "source": [
    "### 寄与率および累積寄与率\n",
    "\n",
    "第$k$主成分の寄与率\n",
    "$$\n",
    "\\frac { \\lambda_{k} }{ \\lambda_{1} + \\lambda_{2} + \\cdots + \\lambda_{n} } = \\frac {\\lambda_{k}}{n}\n",
    "$$\n",
    "\n",
    "第$k$主成分までの累積寄与率\n",
    "$$\n",
    "\\frac {  \\lambda_{1} + \\lambda_{2} + \\cdots + \\lambda_{k} }{ \\lambda_{1} + \\lambda_{2} + \\cdots + \\lambda_{n} } = \\frac {  \\lambda_{1} + \\lambda_{2} + \\cdots + \\lambda_{k} }{n}\n",
    "$$\n",
    "\n",
    "\n",
    " - **固有値(=分散)**が**<font color=\"red\">1</font>**以上\n",
    "または\n",
    " - **累積寄与率**が**<font color='red'>0.8(80%)</font>**を超える\n",
    "\n",
    "という目安で主成分を選択する"
   ]
  },
  {
   "cell_type": "markdown",
   "metadata": {},
   "source": [
    "### 因子負荷量と主成分の解釈\n",
    "\n",
    "それぞれの主成分$z_{k}$ともとの変数$x_{i}$との相関係数$r_{z_{k}x_{i}}$を因子負荷量と呼ぶ。\n",
    "\n",
    "\n",
    "### 主成分得点\n",
    "\n",
    "\n",
    "---"
   ]
  },
  {
   "cell_type": "code",
   "execution_count": 2,
   "metadata": {},
   "outputs": [
    {
     "data": {
      "text/html": [
       "<div>\n",
       "<style scoped>\n",
       "    .dataframe tbody tr th:only-of-type {\n",
       "        vertical-align: middle;\n",
       "    }\n",
       "\n",
       "    .dataframe tbody tr th {\n",
       "        vertical-align: top;\n",
       "    }\n",
       "\n",
       "    .dataframe thead th {\n",
       "        text-align: right;\n",
       "    }\n",
       "</style>\n",
       "<table border=\"1\" class=\"dataframe\">\n",
       "  <thead>\n",
       "    <tr style=\"text-align: right;\">\n",
       "      <th></th>\n",
       "      <th>satisfaction_level</th>\n",
       "      <th>last_evaluation</th>\n",
       "      <th>number_project</th>\n",
       "      <th>average_montly_hours</th>\n",
       "      <th>time_spend_company</th>\n",
       "      <th>Work_accident</th>\n",
       "      <th>left</th>\n",
       "      <th>promotion_last_5years</th>\n",
       "      <th>sales</th>\n",
       "      <th>salary</th>\n",
       "    </tr>\n",
       "  </thead>\n",
       "  <tbody>\n",
       "    <tr>\n",
       "      <th>0</th>\n",
       "      <td>0.38</td>\n",
       "      <td>0.53</td>\n",
       "      <td>2</td>\n",
       "      <td>157</td>\n",
       "      <td>3</td>\n",
       "      <td>0</td>\n",
       "      <td>1</td>\n",
       "      <td>0</td>\n",
       "      <td>sales</td>\n",
       "      <td>low</td>\n",
       "    </tr>\n",
       "    <tr>\n",
       "      <th>1</th>\n",
       "      <td>0.80</td>\n",
       "      <td>0.86</td>\n",
       "      <td>5</td>\n",
       "      <td>262</td>\n",
       "      <td>6</td>\n",
       "      <td>0</td>\n",
       "      <td>1</td>\n",
       "      <td>0</td>\n",
       "      <td>sales</td>\n",
       "      <td>medium</td>\n",
       "    </tr>\n",
       "    <tr>\n",
       "      <th>2</th>\n",
       "      <td>0.11</td>\n",
       "      <td>0.88</td>\n",
       "      <td>7</td>\n",
       "      <td>272</td>\n",
       "      <td>4</td>\n",
       "      <td>0</td>\n",
       "      <td>1</td>\n",
       "      <td>0</td>\n",
       "      <td>sales</td>\n",
       "      <td>medium</td>\n",
       "    </tr>\n",
       "    <tr>\n",
       "      <th>3</th>\n",
       "      <td>0.72</td>\n",
       "      <td>0.87</td>\n",
       "      <td>5</td>\n",
       "      <td>223</td>\n",
       "      <td>5</td>\n",
       "      <td>0</td>\n",
       "      <td>1</td>\n",
       "      <td>0</td>\n",
       "      <td>sales</td>\n",
       "      <td>low</td>\n",
       "    </tr>\n",
       "    <tr>\n",
       "      <th>4</th>\n",
       "      <td>0.37</td>\n",
       "      <td>0.52</td>\n",
       "      <td>2</td>\n",
       "      <td>159</td>\n",
       "      <td>3</td>\n",
       "      <td>0</td>\n",
       "      <td>1</td>\n",
       "      <td>0</td>\n",
       "      <td>sales</td>\n",
       "      <td>low</td>\n",
       "    </tr>\n",
       "  </tbody>\n",
       "</table>\n",
       "</div>"
      ],
      "text/plain": [
       "   satisfaction_level  last_evaluation  number_project  average_montly_hours  \\\n",
       "0                0.38             0.53               2                   157   \n",
       "1                0.80             0.86               5                   262   \n",
       "2                0.11             0.88               7                   272   \n",
       "3                0.72             0.87               5                   223   \n",
       "4                0.37             0.52               2                   159   \n",
       "\n",
       "   time_spend_company  Work_accident  left  promotion_last_5years  sales  \\\n",
       "0                   3              0     1                      0  sales   \n",
       "1                   6              0     1                      0  sales   \n",
       "2                   4              0     1                      0  sales   \n",
       "3                   5              0     1                      0  sales   \n",
       "4                   3              0     1                      0  sales   \n",
       "\n",
       "   salary  \n",
       "0     low  \n",
       "1  medium  \n",
       "2  medium  \n",
       "3     low  \n",
       "4     low  "
      ]
     },
     "execution_count": 2,
     "metadata": {},
     "output_type": "execute_result"
    }
   ],
   "source": [
    "#データによる検証\n",
    "HR_DATASET_PATH = \"../datasets/HR_comma_sep.csv\"\n",
    "\n",
    "hr_df = pd.read_csv(HR_DATASET_PATH)\n",
    "hr_df.head()"
   ]
  },
  {
   "cell_type": "markdown",
   "metadata": {},
   "source": [
    "## 主成分の導出\n",
    "[2.5. Decomposing signals in components (matrix factorization problems) — scikit-learn 0.19.0 documentation](http://scikit-learn.org/stable/modules/decomposition.html#)"
   ]
  },
  {
   "cell_type": "code",
   "execution_count": 4,
   "metadata": {},
   "outputs": [],
   "source": [
    "from sklearn.preprocessing import StandardScaler\n",
    "\n",
    "\n",
    "left_employee_df = hr_df[hr_df.left == 1]\n",
    "features = [\n",
    "    'satisfaction_level',\n",
    "    'last_evaluation',\n",
    "    'number_project'\n",
    "]\n",
    "\n",
    "# データを標準化する\n",
    "ss = StandardScaler()\n",
    "X = ss.fit_transform(left_employee_df[features])"
   ]
  },
  {
   "cell_type": "code",
   "execution_count": 14,
   "metadata": {
    "scrolled": false
   },
   "outputs": [
    {
     "data": {
      "image/png": "[encoded data removed]",
      "text/plain": [
       "<matplotlib.figure.Figure at 0x1a149bbb00>"
      ]
     },
     "metadata": {},
     "output_type": "display_data"
    }
   ],
   "source": [
    "# 相関図\n",
    "sns.pairplot(pd.DataFrame(X))\n",
    "plt.show()"
   ]
  },
  {
   "cell_type": "code",
   "execution_count": 16,
   "metadata": {},
   "outputs": [
    {
     "data": {
      "text/html": [
       "<div>\n",
       "<style scoped>\n",
       "    .dataframe tbody tr th:only-of-type {\n",
       "        vertical-align: middle;\n",
       "    }\n",
       "\n",
       "    .dataframe tbody tr th {\n",
       "        vertical-align: top;\n",
       "    }\n",
       "\n",
       "    .dataframe thead th {\n",
       "        text-align: right;\n",
       "    }\n",
       "</style>\n",
       "<table border=\"1\" class=\"dataframe\">\n",
       "  <thead>\n",
       "    <tr style=\"text-align: right;\">\n",
       "      <th></th>\n",
       "      <th>0</th>\n",
       "      <th>1</th>\n",
       "      <th>2</th>\n",
       "    </tr>\n",
       "  </thead>\n",
       "  <tbody>\n",
       "    <tr>\n",
       "      <th>0</th>\n",
       "      <td>1.000000</td>\n",
       "      <td>0.182295</td>\n",
       "      <td>-0.227113</td>\n",
       "    </tr>\n",
       "    <tr>\n",
       "      <th>1</th>\n",
       "      <td>0.182295</td>\n",
       "      <td>1.000000</td>\n",
       "      <td>0.804155</td>\n",
       "    </tr>\n",
       "    <tr>\n",
       "      <th>2</th>\n",
       "      <td>-0.227113</td>\n",
       "      <td>0.804155</td>\n",
       "      <td>1.000000</td>\n",
       "    </tr>\n",
       "  </tbody>\n",
       "</table>\n",
       "</div>"
      ],
      "text/plain": [
       "          0         1         2\n",
       "0  1.000000  0.182295 -0.227113\n",
       "1  0.182295  1.000000  0.804155\n",
       "2 -0.227113  0.804155  1.000000"
      ]
     },
     "execution_count": 16,
     "metadata": {},
     "output_type": "execute_result"
    }
   ],
   "source": [
    "pd.DataFrame(X).corr()"
   ]
  },
  {
   "cell_type": "markdown",
   "metadata": {},
   "source": [
    "ある程度の相関係数があるため、主成分分析による次元圧縮を行います。"
   ]
  },
  {
   "cell_type": "code",
   "execution_count": 3,
   "metadata": {
    "scrolled": false
   },
   "outputs": [],
   "source": [
    "from sklearn.decomposition import PCA\n",
    "\n",
    "\n",
    "DIM = 2\n",
    "\n",
    "# 主成分分析する\n",
    "pca = PCA(n_components=DIM) # 第2主成分まで求める。\n",
    "pca.fit(X)\n",
    "\n",
    "# 分析結果を元にデータセットを主成分に変換する\n",
    "transformed = pca.fit_transform(X)"
   ]
  },
  {
   "cell_type": "markdown",
   "metadata": {},
   "source": [
    "## 2. 寄与率および累積寄与率"
   ]
  },
  {
   "cell_type": "code",
   "execution_count": 4,
   "metadata": {},
   "outputs": [
    {
     "name": "stdout",
     "output_type": "stream",
     "text": [
      "各次元の寄与率: [ 0.60182945  0.36403273]\n",
      "累積寄与率: 0.9658621807609014\n"
     ]
    }
   ],
   "source": [
    "print('各次元の寄与率: {0}'.format(pca.explained_variance_ratio_))\n",
    "print('累積寄与率: {0}'.format(sum(pca.explained_variance_ratio_)))"
   ]
  },
  {
   "cell_type": "markdown",
   "metadata": {},
   "source": [
    "第2主成分までの累積寄与率は、**<font color=\"red\">0.96</font>**なので、第2主成分まで考えれば十分である。すなわち、第2主成分までで、5次元データのもつ情報のうち**<font color=\"red\">96</font>**%を説明できる。"
   ]
  },
  {
   "cell_type": "markdown",
   "metadata": {},
   "source": [
    "## 3. 因子負荷量と主成分の解釈"
   ]
  },
  {
   "cell_type": "code",
   "execution_count": 5,
   "metadata": {},
   "outputs": [
    {
     "data": {
      "text/html": [
       "<div>\n",
       "<table border=\"1\" class=\"dataframe\">\n",
       "  <thead>\n",
       "    <tr style=\"text-align: right;\">\n",
       "      <th></th>\n",
       "      <th>satisfaction_level</th>\n",
       "      <th>last_evaluation</th>\n",
       "      <th>number_project</th>\n",
       "    </tr>\n",
       "  </thead>\n",
       "  <tbody>\n",
       "    <tr>\n",
       "      <th>第1主成分</th>\n",
       "      <td>-0.042025</td>\n",
       "      <td>0.701117</td>\n",
       "      <td>0.711806</td>\n",
       "    </tr>\n",
       "    <tr>\n",
       "      <th>第2主成分</th>\n",
       "      <td>0.950738</td>\n",
       "      <td>0.247069</td>\n",
       "      <td>-0.187228</td>\n",
       "    </tr>\n",
       "  </tbody>\n",
       "</table>\n",
       "</div>"
      ],
      "text/plain": [
       "       satisfaction_level  last_evaluation  number_project\n",
       "第1主成分           -0.042025         0.701117        0.711806\n",
       "第2主成分            0.950738         0.247069       -0.187228"
      ]
     },
     "execution_count": 5,
     "metadata": {},
     "output_type": "execute_result"
    }
   ],
   "source": [
    "DataFrame(\n",
    "    pca.components_, \n",
    "    columns=features, \n",
    "    index=['第{0}主成分'.format(i) for i in range(1, len(pca.components_) + 1)]\n",
    ")"
   ]
  },
  {
   "cell_type": "markdown",
   "metadata": {},
   "source": [
    "主成分の意味ずけを行う。\n",
    "\n",
    "**第1主成分**は、`satisfaction_level`以外の因子負荷量の値が0.7くらいで、符号がすべて正であることから**「できる社員指数」**を表すものと解釈できる。\n",
    "\n",
    "**第2主成分**は、`satisfaction_level`と`last_evaluation`の因子負荷量の値が正で、`number_project`は負なので、**「効率性・充実度」**を表すものと解釈できる。"
   ]
  },
  {
   "cell_type": "code",
   "execution_count": 6,
   "metadata": {},
   "outputs": [
    {
     "data": {
      "text/plain": [
       "<matplotlib.legend.Legend at 0x10aa8b630>"
      ]
     },
     "execution_count": 6,
     "metadata": {},
     "output_type": "execute_result"
    },
    {
     "name": "stderr",
     "output_type": "stream",
     "text": [
      "/Users/taiyou/.pyenv/versions/anaconda3-5.0.1/lib/python3.6/site-packages/matplotlib/font_manager.py:1316: UserWarning: findfont: Font family ['IPAexGothic'] not found. Falling back to DejaVu Sans\n",
      "  (prop.get_family(), self.defaultFamily[fontext]))\n"
     ]
    },
    {
     "data": {
      "image/png": "[encoded data removed]",
      "text/plain": [
       "<matplotlib.figure.Figure at 0x1a168f4390>"
      ]
     },
     "metadata": {},
     "output_type": "display_data"
    }
   ],
   "source": [
    "colors = [plt.cm.hsv(0.1 * 1, i) for i in range(len(features))]\n",
    "\n",
    "for i in range(len(features)):\n",
    "    plt.xlabel('PC1')\n",
    "    plt.ylabel('PC2')\n",
    "    plt.scatter(\n",
    "        pca.components_[0, i],\n",
    "        pca.components_[1, i],\n",
    "        c=colors[i],\n",
    "        label=features[i]\n",
    "    )\n",
    "\n",
    "plt.legend()"
   ]
  },
  {
   "cell_type": "markdown",
   "metadata": {},
   "source": [
    "「`satisfaction_level`」は離れており、「`number_project`」と「`last_evaluation`」は横軸について対称な位置にある。"
   ]
  },
  {
   "cell_type": "markdown",
   "metadata": {},
   "source": [
    "## 4. 主成分得点(データの可視化)"
   ]
  },
  {
   "cell_type": "code",
   "execution_count": 7,
   "metadata": {},
   "outputs": [
    {
     "name": "stderr",
     "output_type": "stream",
     "text": [
      "/Users/taiyou/.pyenv/versions/anaconda3-5.0.1/lib/python3.6/site-packages/matplotlib/font_manager.py:1316: UserWarning: findfont: Font family ['IPAexGothic'] not found. Falling back to DejaVu Sans\n",
      "  (prop.get_family(), self.defaultFamily[fontext]))\n"
     ]
    },
    {
     "data": {
      "image/png": "[encoded data removed]",
      "text/plain": [
       "<matplotlib.figure.Figure at 0x1a19e85240>"
      ]
     },
     "metadata": {},
     "output_type": "display_data"
    }
   ],
   "source": [
    "# 主成分をプロットする\n",
    "plt.figure(figsize=(11,7))\n",
    "plt.title('principal component')\n",
    "plt.xlabel('第1主成分: できる社員指数')\n",
    "plt.ylabel('第2主成分: 効率性・充実度')\n",
    "\n",
    "plt.scatter(\n",
    "    transformed[:, 0],\n",
    "    transformed[:, 1],\n",
    ")\n",
    "\n",
    "# グラフを表示する\n",
    "plt.show()"
   ]
  },
  {
   "cell_type": "markdown",
   "metadata": {},
   "source": [
    "上記のデータの散布図より、「できる&充実している社員」と「できる&退屈社員」と「できない社員」に別れることがわかる。"
   ]
  },
  {
   "cell_type": "markdown",
   "metadata": {
    "collapsed": true
   },
   "source": [
    "## 主成分によるクラスタリング\n",
    "\n",
    "$n$変数を第$k$主成分までに圧縮し、その寄与率が**<font color=\"red\">0.8</font>**以上なら$n$変数を$k$個の合成変数に圧縮したことになる。これは、クラスタリングするベクトルの次元が多い場合に発生する**球面集中現象**問題を解決する手段となる。"
   ]
  },
  {
   "cell_type": "code",
   "execution_count": 8,
   "metadata": {
    "scrolled": false
   },
   "outputs": [
    {
     "name": "stderr",
     "output_type": "stream",
     "text": [
      "/Users/taiyou/.pyenv/versions/anaconda3-5.0.1/lib/python3.6/site-packages/matplotlib/font_manager.py:1316: UserWarning: findfont: Font family ['IPAexGothic'] not found. Falling back to DejaVu Sans\n",
      "  (prop.get_family(), self.defaultFamily[fontext]))\n"
     ]
    },
    {
     "data": {
      "image/png": "[encoded data removed]",
      "text/plain": [
       "<matplotlib.figure.Figure at 0x1a1a337d30>"
      ]
     },
     "metadata": {},
     "output_type": "display_data"
    }
   ],
   "source": [
    "import matplotlib as mpl\n",
    "from sklearn.cluster import KMeans\n",
    "\n",
    "N_CLUSTER = 3\n",
    "\n",
    "# 主成分でクラスタリング\n",
    "km = KMeans(n_clusters=N_CLUSTER, random_state=0)\n",
    "km_model = km.fit(transformed)\n",
    "\n",
    "labels = km_model.labels_\n",
    "\n",
    "# scater method → http://pythondatascience.plavox.info/matplotlib/%E6%95%A3%E5%B8%83%E5%9B%B3\n",
    "plt.figure(figsize=(11,7))\n",
    "plt.xlabel('第1主成分: できる社員指数')\n",
    "plt.ylabel('第2主成分: 効率性・充実度')\n",
    "plt.title('3 Clusters of employees who left')\n",
    "\n",
    "colors = ['navy', 'turquoise', 'darkorange']\n",
    "\n",
    "for i in range(transformed.shape[0]):\n",
    "    plt.scatter(\n",
    "        transformed[i, 0],\n",
    "        transformed[i, 1],\n",
    "        color=colors[labels[i]]\n",
    "    )\n",
    "\n",
    "plt.show()"
   ]
  },
  {
   "cell_type": "markdown",
   "metadata": {
    "collapsed": true
   },
   "source": [
    "---\n",
    "# 行列とベクトル表記による主成分分析"
   ]
  },
  {
   "cell_type": "markdown",
   "metadata": {},
   "source": [
    " - $p$ : 変数の個数,特徴量の数\n",
    " - $n$ : サンプルサイズ\n",
    "\n",
    "$$\n",
    "\\boldsymbol {\\mathrm {a}} = \\left( \\begin{matrix} { a }_{ 1 } \\\\ { a }_{ 2 } \\\\ \\vdots  \\\\ { a }_{ p } \\end{matrix} \\right) ,\\quad \\boldsymbol {\\mathrm {u}}_{i} = \\left( \\begin{matrix} { u }_{ i1 } \\\\ { u }_{ i2 } \\\\ \\vdots  \\\\ { u }_{ ip } \\end{matrix} \\right) \n",
    "$$"
   ]
  },
  {
   "cell_type": "markdown",
   "metadata": {},
   "source": [
    "$u_{ij}$は、No.$i$のサンプル(特徴ベクトル)の変数$x_{j}$(特徴量)の値を用いて標準化したもの\n",
    "$$\n",
    "u_{ij} = \\frac {x_{ij} - \\bar {x}_{j}}{ {\\sigma}_{{x}_{j}} }\n",
    "$$"
   ]
  },
  {
   "cell_type": "markdown",
   "metadata": {},
   "source": [
    "第1主成分を\n",
    "$$\n",
    "z_{1} = a_{1}u_{1} + a_{2}u_{2} + \\cdots + a_{p}u_{p}\n",
    "$$\n",
    "と定義すると、No.$i$のサンプルの主成分得点は次のように表現できる。\n",
    "$$\n",
    "z_{i1} = a_{1}u_{i1} + a_{2}u_{i2} + \\cdots + a_{p}u_{ip}\\\\\n",
    "= \\boldsymbol{\\mathrm {a}}^{T} \\boldsymbol {\\mathrm {u}}_{i}\\\\\n",
    "= \\boldsymbol {\\mathrm {u}}_{i}^{T} \\boldsymbol {\\mathrm {a}}\n",
    "$$"
   ]
  },
  {
   "cell_type": "markdown",
   "metadata": {},
   "source": [
    "これより$z_{1}$の分散を考える。\n",
    "$$\n",
    "V_{z_{1}} = \\frac {1}{n - 1} \\sum _{i=1}^{n}{\\left( z_{i1} - {\\bar {z}}_{1} \\right)^{2}}\\\\\n",
    "= \\frac {1}{n - 1} \\sum _{i=1}^{n}{ { z_{i1} }^{2}}\\\\\n",
    "= \\frac {1}{n - 1} \\sum _{i=1}^{n}{\\left( {\\boldsymbol {\\mathrm {a}}}^{T} {\\boldsymbol {\\mathrm {u}}_{i}} \\right)\\left( {\\boldsymbol {\\mathrm {u}}_{i}}^{T} {\\boldsymbol {\\mathrm {a}}} \\right)}\\\\\n",
    "= {\\boldsymbol {\\mathrm {a}}}^{T} \\left( \\frac {1}{n - 1} \\sum _{i=1}^{n}{ {\\boldsymbol {\\mathrm {u}}}_{i} {\\boldsymbol {\\mathrm {u}}}_{i}^{T} } \\right) \\boldsymbol {\\mathrm {a}}\\\\\n",
    "= {\\boldsymbol {\\mathrm {a}}}^{T} \\boldsymbol {\\mathrm {R}} \\boldsymbol {\\mathrm {a}} \\quad (9.40)\n",
    "$$"
   ]
  },
  {
   "cell_type": "markdown",
   "metadata": {},
   "source": [
    "ここで、$\\boldsymbol {\\mathrm {R}}$は相関係数行列(共分散行列)である。\n",
    "$$\n",
    "{\\boldsymbol {\\mathrm {u}}}_{i} {\\mathrm {u}}_{i}^{T} = \\begin{bmatrix} { u }_{ i1 } \\\\ { u }_{ i2 } \\\\ \\vdots  \\\\ { u }_{ ip } \\end{bmatrix}\\left[ \\begin{matrix} { u }_{ i1 } & { u }_{ i2 } & \\cdots  & { u }_{ ip } \\end{matrix} \\right] =\\begin{bmatrix} { { u }_{ i1 } }^{ 2 } & { u }_{ i1 }{ u }_{ i2 } & \\cdots  & { u }_{ i1 }{ u }_{ ip } \\\\ { u }_{ i2 }{ u }_{ i1 } & { { u }_{ i2 } }^{ 2 } & \\cdots  & { u }_{ i2 }{ u }_{ ip } \\\\ \\vdots  & \\vdots  & \\ddots  & \\vdots  \\\\ { u }_{ ip }{ u }_{ i1 } & { u }_{ ip }{ u }_{ i2 } & \\cdots  & { { u }_{ ip } }^{ 2 } \\end{bmatrix} \\quad (9.41)\n",
    "$$"
   ]
  },
  {
   "cell_type": "markdown",
   "metadata": {},
   "source": [
    "上式(9.40)の分散$V_{z_{1}}$の最大化において、制約条件\n",
    "$$\n",
    "a_{1}^{2} + a_{2}^{2} + \\cdots + a_{p}^{2} = {\\boldsymbol {\\mathrm {a}}}^{T} \\boldsymbol {\\mathrm {a}} = 1\\quad (9.42)\n",
    "$$\n",
    "を設ける。"
   ]
  },
  {
   "cell_type": "markdown",
   "metadata": {},
   "source": [
    "> $$\n",
    "\\max { V_{z_{1}} = {\\boldsymbol {\\mathrm {a}}}^{T} \\boldsymbol {\\mathrm {R}} \\boldsymbol {\\mathrm {a}} }\\\\\n",
    "s.t. \\quad = {\\boldsymbol {\\mathrm {a}}}^{T} \\boldsymbol {\\mathrm {a}} = 1\n",
    "$$"
   ]
  },
  {
   "cell_type": "markdown",
   "metadata": {},
   "source": [
    "ラグランジュの未定乗数法を用いて、\n",
    "$$\n",
    "f\\left( \\boldsymbol {\\mathrm {a}}, \\lambda \\right) = {\\boldsymbol {\\mathrm {a}}}^{T} \\boldsymbol {\\mathrm {R}} \\boldsymbol {\\mathrm {a}} - \\lambda \\left( {\\boldsymbol {\\mathrm {a}}}^{T} \\boldsymbol {\\mathrm {a}} - 1 \\right) \\quad (9.43)\n",
    "$$\n",
    "とおいて、これをベクトル$\\boldsymbol {\\mathrm {a}}$により微分して(サイエンス社「多変量解析法入門 3.3節」を参照)0とおく。\n",
    "$$\n",
    "\\frac {\\partial f}{\\partial \\boldsymbol {\\mathrm {a}}} = 2 \\boldsymbol {\\mathrm {R}} \\boldsymbol {\\mathrm {a}} - 2 \\lambda \\boldsymbol {\\mathrm {a}} = 0 \\quad (9.44)\n",
    "$$"
   ]
  },
  {
   "cell_type": "markdown",
   "metadata": {},
   "source": [
    "これより、\n",
    "$$\n",
    "\\boldsymbol {\\mathrm {R}} \\boldsymbol {\\mathrm {a}} = \\lambda \\boldsymbol {\\mathrm {a}} \\quad (9.45)\n",
    "$$\n",
    "を得る。このことから、第1主成分の係数は、(9.45)式の固有値問題をといて、最大固有値に対応する(長さ1の、ノムル1の)固有ベクトルを求めればよいことがわかる。"
   ]
  },
  {
   "cell_type": "markdown",
   "metadata": {},
   "source": [
    "(9.45)式に左から$\\boldsymbol {\\mathrm {a}}^{T}$をかければ、(9.42)式を用いることにより、\n",
    "$$\n",
    "{\\boldsymbol {\\mathrm {}a}}^{T} \\boldsymbol {\\mathrm {R}} \\boldsymbol {\\mathrm {a}} = \\lambda {\\boldsymbol {\\mathrm {a}}}^{T} \\boldsymbol {\\mathrm {a}} = \\lambda\n",
    "$$\n",
    "を得る。また、式(9.40)より\n",
    "$$\n",
    "V_{z_{1}} = {\\boldsymbol {\\mathrm {}a}}^{T} \\boldsymbol {\\mathrm {R}} \\boldsymbol {\\mathrm {a}} = \\lambda\n",
    "$$\n",
    "となる。"
   ]
  },
  {
   "cell_type": "markdown",
   "metadata": {},
   "source": [
    "次に、第2主成分の導出を考える。"
   ]
  },
  {
   "cell_type": "code",
   "execution_count": null,
   "metadata": {},
   "outputs": [],
   "source": []
  }
 ],
 "metadata": {
  "kernelspec": {
   "display_name": "Python 3",
   "language": "python",
   "name": "python3"
  },
  "language_info": {
   "codemirror_mode": {
    "name": "ipython",
    "version": 3
   },
   "file_extension": ".py",
   "mimetype": "text/x-python",
   "name": "python",
   "nbconvert_exporter": "python",
   "pygments_lexer": "ipython3",
   "version": "3.7.0"
  },
  "toc": {
   "nav_menu": {},
   "number_sections": true,
   "sideBar": true,
   "skip_h1_title": false,
   "toc_cell": false,
   "toc_position": {},
   "toc_section_display": "block",
   "toc_window_display": false
  }
 },
 "nbformat": 4,
 "nbformat_minor": 2
}
