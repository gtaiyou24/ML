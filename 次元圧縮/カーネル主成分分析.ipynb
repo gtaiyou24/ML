{
 "cells": [
  {
   "cell_type": "code",
   "execution_count": 1,
   "metadata": {
    "ExecuteTime": {
     "end_time": "2019-01-28T04:38:18.633071Z",
     "start_time": "2019-01-28T04:38:17.352655Z"
    }
   },
   "outputs": [],
   "source": [
    "import pandas as pd\n",
    "import numpy as np\n",
    "\n",
    "import seaborn as sns\n",
    "import matplotlib as mpl\n",
    "import matplotlib.pyplot as plt\n",
    "\n",
    "# 日本語フォントを設定\n",
    "font = {'family': 'IPAexGothic'}\n",
    "mpl.rc('font', **font)\n",
    "\n",
    "%matplotlib inline"
   ]
  },
  {
   "cell_type": "markdown",
   "metadata": {},
   "source": [
    "---\n",
    "# カーネル主成分分析\n",
    "## カーネル主成分分析の概要\n",
    "> 非線形データをより高次元の空間に変換する非線形写像を実行し、その高次元空間に対して標準のPCAを適用し、より低次元の空間へデータを再び射影する分析手法"
   ]
  },
  {
   "cell_type": "markdown",
   "metadata": {},
   "source": [
    "## カーネル主成分の導出\n",
    "<img scr=\"./imgs/カーネル行列の導出①.png\">\n",
    "<img scr=\"./imgs/カーネル行列の導出②.png\">"
   ]
  },
  {
   "cell_type": "markdown",
   "metadata": {},
   "source": [
    "---\n",
    "# カーネルPCAの計算手順\n",
    "\n",
    " 1. カーネル(類似度)行列$\\boldsymbol {\\mathrm {K}}$を計算\n",
    " 2. カーネル行列$\\boldsymbol {\\mathrm {K}}$を中心化\n",
    " 3. 中心化されたカーネル行列$\\boldsymbol {\\mathrm {K}}^{\\prime}$の固有値、その固有値に対応する固有ベクトルを計算。第$k$主成分まで求めるには、最大固有値から順に$k$個の固有値と固有ベクトルを取得。"
   ]
  },
  {
   "cell_type": "markdown",
   "metadata": {},
   "source": [
    "---\n",
    "# Pythonでカーネル主成分分析を実装"
   ]
  },
  {
   "cell_type": "code",
   "execution_count": 4,
   "metadata": {
    "ExecuteTime": {
     "end_time": "2019-01-28T00:09:28.617816Z",
     "start_time": "2019-01-28T00:09:28.612352Z"
    },
    "code_folding": []
   },
   "outputs": [],
   "source": [
    "from scipy.spatial.distance import pdist, squareform\n",
    "from scipy import exp\n",
    "from scipy.linalg import eigh\n",
    "\n",
    "\n",
    "def rbf_kernel_pca(X, gamma, n_components):\n",
    "    \"\"\"\n",
    "    RBFカーネルPCAの実装\n",
    "\n",
    "    Parameters\n",
    "    ----------\n",
    "    X: {NumPy ndarray}, shape = [n_samples, n_features]\n",
    "        \n",
    "    gamma: float\n",
    "      RBFカーネルのチューニングパラメータ\n",
    "        \n",
    "    n_components: int\n",
    "      返される主成分の個数\n",
    "\n",
    "    Returns\n",
    "    -------\n",
    "     X_pc: {NumPy ndarray}, shape = [n_samples, k_features]\n",
    "       射影されたデータセット\n",
    "    \"\"\"\n",
    "    sq_dists = pdist(X, 'sqeuclidean')   # M×N次元のデータセットでペアごとのユークリッド距離の２乗を計算.\n",
    "    mat_sq_dists = squareform(sq_dists)  # ペアごとの距離を正方行列に変換.\n",
    "\n",
    "    # 対称カーネル行列を計算.\n",
    "    K = exp(-gamma * mat_sq_dists)\n",
    "\n",
    "    # カーネル行列を中心化.\n",
    "    N = K.shape[0]\n",
    "    one_n = np.ones((N, N)) / N\n",
    "    K = K - one_n.dot(K) - K.dot(one_n) + one_n.dot(K).dot(one_n)\n",
    "\n",
    "    # 中心化されたカーネル行列から固有対を取得.\n",
    "    # scipy.linalg.eigh はそれらを昇順で返す.\n",
    "    eigvals, eigvecs = eigh(K)\n",
    "    eigvals, eigvecs = eigvals[::-1], eigvecs[:, ::-1]\n",
    "\n",
    "    # 上位k個の固有ベクトル(射影されたサンプル)を取得\n",
    "    X_pc = np.column_stack( (eigvecs[:, i] for i in range(n_components)) )\n",
    "\n",
    "    return X_pc"
   ]
  },
  {
   "cell_type": "markdown",
   "metadata": {},
   "source": [
    "**備考**<br>\n",
    "> RBFカーネルPCAを次元圧縮として利用する際は、[Grid Search](https://qh73xebitbucketorg.readthedocs.io/ja/latest/1.Programmings/python/LIB/scikit-learn/girdSearch/)等でハイパラメータをチューニングする"
   ]
  },
  {
   "cell_type": "markdown",
   "metadata": {},
   "source": [
    "## 例1) 半月形の分離"
   ]
  },
  {
   "cell_type": "code",
   "execution_count": 13,
   "metadata": {
    "ExecuteTime": {
     "end_time": "2019-01-28T00:15:06.630992Z",
     "start_time": "2019-01-28T00:15:06.627859Z"
    },
    "scrolled": true
   },
   "outputs": [],
   "source": [
    "from sklearn.datasets import make_moons\n",
    "\n",
    "\n",
    "X,y = make_moons(n_samples=100, random_state=123)"
   ]
  },
  {
   "cell_type": "code",
   "execution_count": 16,
   "metadata": {
    "ExecuteTime": {
     "end_time": "2019-01-28T00:15:53.514637Z",
     "start_time": "2019-01-28T00:15:53.511308Z"
    }
   },
   "outputs": [
    {
     "name": "stdout",
     "output_type": "stream",
     "text": [
      "[[ 0.8713187   0.49071755]\n",
      " [ 0.71547241 -0.45866785]\n",
      " [ 1.46253829 -0.38659931]\n",
      " [-0.22252093  0.97492791]\n",
      " [ 0.32769911 -0.240278  ]\n",
      " [ 1.          0.        ]\n",
      " [ 0.94905575  0.31510822]\n",
      " [ 0.          0.5       ]\n",
      " [ 1.40478334 -0.41441262]\n",
      " [ 0.96729486  0.25365458]]\n",
      "[0 1 1 0 1 0 0 1 1 0 0 1 1 1 0 0 1 0 1 1 0 1 0 0 0 1 1 0 1 0 0 1 0 1 1 1 1\n",
      " 1 1 0 0 1 0 1 0 1 0 1 0 1 0 0 1 0 0 1 0 0 1 0 0 1 0 0 0 0 1 1 1 0 0 0 0 1\n",
      " 0 0 1 1 1 0 0 1 1 0 1 1 0 1 1 0 0 0 1 0 1 1 1 0 1 1]\n"
     ]
    }
   ],
   "source": [
    "print(X[:10])\n",
    "print(y)"
   ]
  },
  {
   "cell_type": "code",
   "execution_count": 18,
   "metadata": {
    "ExecuteTime": {
     "end_time": "2019-01-28T00:17:20.382935Z",
     "start_time": "2019-01-28T00:17:20.286426Z"
    }
   },
   "outputs": [
    {
     "data": {
      "image/png": "[encoded data removed]",
      "text/plain": [
       "<Figure size 432x288 with 1 Axes>"
      ]
     },
     "metadata": {},
     "output_type": "display_data"
    }
   ],
   "source": [
    "# 負例、正例\n",
    "neg_label = 0\n",
    "pos_label = 1\n",
    "\n",
    "plt.scatter(X[y==neg_label, 0], X[y==neg_label,1], color='red', marker='^', alpha=0.5)\n",
    "plt.scatter(X[y==pos_label, 0], X[y==pos_label,1], color='blue', marker='o', alpha=0.5)\n",
    "\n",
    "plt.tight_layout()\n",
    "plt.show()"
   ]
  },
  {
   "cell_type": "markdown",
   "metadata": {},
   "source": [
    "### 主成分分析(PCA)による次元圧縮"
   ]
  },
  {
   "cell_type": "code",
   "execution_count": 20,
   "metadata": {
    "ExecuteTime": {
     "end_time": "2019-01-28T00:22:49.412261Z",
     "start_time": "2019-01-28T00:22:49.409100Z"
    }
   },
   "outputs": [],
   "source": [
    "from sklearn.decomposition import PCA\n",
    "\n",
    "DIM = 2\n",
    "\n",
    "# 主成分分析\n",
    "scikit_pca = PCA(n_components=DIM) # 第2主成分まで求める。\n",
    "X_spca = scikit_pca.fit_transform(X)"
   ]
  },
  {
   "cell_type": "code",
   "execution_count": 25,
   "metadata": {
    "ExecuteTime": {
     "end_time": "2019-01-28T00:28:17.976444Z",
     "start_time": "2019-01-28T00:28:17.855114Z"
    }
   },
   "outputs": [
    {
     "data": {
      "image/png": "[encoded data removed]",
      "text/plain": [
       "<Figure size 504x216 with 2 Axes>"
      ]
     },
     "metadata": {},
     "output_type": "display_data"
    }
   ],
   "source": [
    "fig, ax = plt.subplots(nrows=1, ncols=2, figsize=(7, 3))\n",
    "\n",
    "# 第1,2主成分で描写\n",
    "ax[0].scatter(X_spca[y == neg_label, 0], X_spca[y == neg_label, 1], color='red', marker='^', alpha=0.5)\n",
    "ax[0].scatter(X_spca[y == pos_label, 0], X_spca[y == pos_label, 1], color='blue', marker='o', alpha=0.5)\n",
    "\n",
    "# 第1主成分だけの描写(重なりがわかりやすくなるように少しだけ上下にずらしている)\n",
    "ax[1].scatter(X_spca[y == neg_label, 0], np.zeros((50, 1)) + 0.02, color='red', marker='^', alpha=0.5)\n",
    "ax[1].scatter(X_spca[y == pos_label, 0], np.zeros((50, 1)) - 0.02, color='blue', marker='o', alpha=0.5)\n",
    "\n",
    "ax[0].set_xlabel('PC1')\n",
    "ax[0].set_ylabel('PC2')\n",
    "ax[1].set_ylim([-1, 1])\n",
    "ax[1].set_yticks([])\n",
    "ax[1].set_xlabel('PC1')\n",
    "\n",
    "plt.tight_layout()\n",
    "# plt.savefig('images/05_13.png', dpi=300)\n",
    "plt.show()"
   ]
  },
  {
   "cell_type": "code",
   "execution_count": 24,
   "metadata": {
    "ExecuteTime": {
     "end_time": "2019-01-28T00:27:39.187818Z",
     "start_time": "2019-01-28T00:27:39.184499Z"
    }
   },
   "outputs": [
    {
     "name": "stdout",
     "output_type": "stream",
     "text": [
      "各次元の寄与率: [0.81968748 0.18031252]\n",
      "累積寄与率    : 1.0\n"
     ]
    }
   ],
   "source": [
    "print('各次元の寄与率: {0}'.format(scikit_pca.explained_variance_ratio_))\n",
    "print('累積寄与率    : {0}'.format(sum(scikit_pca.explained_variance_ratio_)))"
   ]
  },
  {
   "cell_type": "code",
   "execution_count": 30,
   "metadata": {
    "ExecuteTime": {
     "end_time": "2019-01-28T00:38:20.938655Z",
     "start_time": "2019-01-28T00:38:20.922213Z"
    }
   },
   "outputs": [
    {
     "data": {
      "text/html": [
       "<div>\n",
       "<style scoped>\n",
       "    .dataframe tbody tr th:only-of-type {\n",
       "        vertical-align: middle;\n",
       "    }\n",
       "\n",
       "    .dataframe tbody tr th {\n",
       "        vertical-align: top;\n",
       "    }\n",
       "\n",
       "    .dataframe thead th {\n",
       "        text-align: right;\n",
       "    }\n",
       "</style>\n",
       "<table border=\"1\" class=\"dataframe\">\n",
       "  <thead>\n",
       "    <tr style=\"text-align: right;\">\n",
       "      <th></th>\n",
       "      <th>0</th>\n",
       "      <th>1</th>\n",
       "    </tr>\n",
       "  </thead>\n",
       "  <tbody>\n",
       "    <tr>\n",
       "      <th>0</th>\n",
       "      <td>1.000000</td>\n",
       "      <td>-0.436869</td>\n",
       "    </tr>\n",
       "    <tr>\n",
       "      <th>1</th>\n",
       "      <td>-0.436869</td>\n",
       "      <td>1.000000</td>\n",
       "    </tr>\n",
       "  </tbody>\n",
       "</table>\n",
       "</div>"
      ],
      "text/plain": [
       "          0         1\n",
       "0  1.000000 -0.436869\n",
       "1 -0.436869  1.000000"
      ]
     },
     "execution_count": 30,
     "metadata": {},
     "output_type": "execute_result"
    }
   ],
   "source": [
    "pd.DataFrame(X).corr()"
   ]
  },
  {
   "cell_type": "markdown",
   "metadata": {},
   "source": [
    "(疑問点？：線形分離を行いたいのが目的なら上記の結果では十分な性能を出せないが、”次元圧縮”が目的ならPCAによる第1主成分だけで82%説明できているので十分？？？そもそも線形分離したいのなら、より高次元へ射影したほうが良いのでは。。。？線形分離がしたいのか次元圧縮がしたいのかよくわからないです。わかる方、助けてくださいm(><;)m )"
   ]
  },
  {
   "cell_type": "markdown",
   "metadata": {},
   "source": [
    "### カーネルPCA(RBF)による次元圧縮"
   ]
  },
  {
   "cell_type": "code",
   "execution_count": 26,
   "metadata": {
    "ExecuteTime": {
     "end_time": "2019-01-28T00:35:26.763783Z",
     "start_time": "2019-01-28T00:35:26.694663Z"
    }
   },
   "outputs": [],
   "source": [
    "DIM   = 2\n",
    "GAMMA = 15\n",
    "X_kpca = rbf_kernel_pca(X, gamma=GAMMA, n_components=DIM)"
   ]
  },
  {
   "cell_type": "code",
   "execution_count": 27,
   "metadata": {
    "ExecuteTime": {
     "end_time": "2019-01-28T00:36:09.389406Z",
     "start_time": "2019-01-28T00:36:09.263956Z"
    }
   },
   "outputs": [
    {
     "data": {
      "image/png": "[encoded data removed]",
      "text/plain": [
       "<Figure size 504x216 with 2 Axes>"
      ]
     },
     "metadata": {},
     "output_type": "display_data"
    }
   ],
   "source": [
    "fig, ax = plt.subplots(nrows=1,ncols=2, figsize=(7,3))\n",
    "\n",
    "\n",
    "ax[0].scatter(X_kpca[y==neg_label, 0], X_kpca[y==neg_label, 1], color='red', marker='^', alpha=0.5)\n",
    "ax[0].scatter(X_kpca[y==pos_label, 0], X_kpca[y==pos_label, 1], color='blue', marker='o', alpha=0.5)\n",
    "\n",
    "ax[1].scatter(X_kpca[y==neg_label, 0], np.zeros((50,1))+0.02, color='red', marker='^', alpha=0.5)\n",
    "ax[1].scatter(X_kpca[y==pos_label, 0], np.zeros((50,1))-0.02, color='blue', marker='o', alpha=0.5)\n",
    "\n",
    "ax[0].set_xlabel('PC1')\n",
    "ax[0].set_ylabel('PC2')\n",
    "ax[1].set_ylim([-1, 1])\n",
    "ax[1].set_yticks([])\n",
    "ax[1].set_xlabel('PC1')\n",
    "\n",
    "plt.tight_layout()\n",
    "# plt.savefig('images/05_14.png', dpi=300)\n",
    "plt.show()"
   ]
  },
  {
   "cell_type": "markdown",
   "metadata": {},
   "source": [
    "うまく線形分離できるようなデータセットになった"
   ]
  },
  {
   "cell_type": "markdown",
   "metadata": {},
   "source": [
    "## 例2) 同心円の分離"
   ]
  },
  {
   "cell_type": "code",
   "execution_count": 33,
   "metadata": {
    "ExecuteTime": {
     "end_time": "2019-01-28T00:40:26.203867Z",
     "start_time": "2019-01-28T00:40:26.198946Z"
    }
   },
   "outputs": [
    {
     "name": "stdout",
     "output_type": "stream",
     "text": [
      "[[-0.08769568  1.08597835]\n",
      " [-0.83755821  0.54731034]\n",
      " [ 0.79684284  0.41149548]\n",
      " [ 0.21215762  0.10698486]\n",
      " [-0.0536839   0.9796336 ]\n",
      " [ 0.0892458   0.23355252]\n",
      " [-0.56754307 -0.80796973]\n",
      " [ 0.73499347 -0.470101  ]\n",
      " [ 0.28711857 -0.03244849]\n",
      " [ 0.86687928 -0.21027292]]\n",
      "[0 0 0 1 0 1 0 0 1 0]\n"
     ]
    }
   ],
   "source": [
    "\n",
    "from sklearn.datasets import make_circles\n",
    "\n",
    "X, y = make_circles(n_samples=1000, random_state=123, noise=0.1, factor=0.2)\n",
    "print(X[:10])\n",
    "print(y[:10])"
   ]
  },
  {
   "cell_type": "code",
   "execution_count": 32,
   "metadata": {
    "ExecuteTime": {
     "end_time": "2019-01-28T00:40:10.285271Z",
     "start_time": "2019-01-28T00:40:10.184701Z"
    }
   },
   "outputs": [
    {
     "data": {
      "image/png": "[encoded data removed]",
      "text/plain": [
       "<Figure size 432x288 with 1 Axes>"
      ]
     },
     "metadata": {},
     "output_type": "display_data"
    }
   ],
   "source": [
    "plt.scatter(X[y == 0, 0], X[y == 0, 1], color='red', marker='^', alpha=0.5)\n",
    "plt.scatter(X[y == 1, 0], X[y == 1, 1], color='blue', marker='o', alpha=0.5)\n",
    "\n",
    "plt.tight_layout()\n",
    "# plt.savefig('images/05_15.png', dpi=300)\n",
    "plt.show()"
   ]
  },
  {
   "cell_type": "markdown",
   "metadata": {},
   "source": [
    "### PCAによる次元圧縮"
   ]
  },
  {
   "cell_type": "code",
   "execution_count": 36,
   "metadata": {
    "ExecuteTime": {
     "end_time": "2019-01-28T00:43:07.214582Z",
     "start_time": "2019-01-28T00:43:07.211064Z"
    }
   },
   "outputs": [],
   "source": [
    "scikit_pca = PCA(n_components=2)\n",
    "X_spca = scikit_pca.fit_transform(X)"
   ]
  },
  {
   "cell_type": "code",
   "execution_count": 35,
   "metadata": {
    "ExecuteTime": {
     "end_time": "2019-01-28T00:41:39.495122Z",
     "start_time": "2019-01-28T00:41:39.348152Z"
    }
   },
   "outputs": [
    {
     "data": {
      "image/png": "[encoded data removed]",
      "text/plain": [
       "<Figure size 504x216 with 2 Axes>"
      ]
     },
     "metadata": {},
     "output_type": "display_data"
    }
   ],
   "source": [
    "fig, ax = plt.subplots(nrows=1, ncols=2, figsize=(7, 3))\n",
    "\n",
    "ax[0].scatter(X_spca[y == 0, 0], X_spca[y == 0, 1], color='red', marker='^', alpha=0.5)\n",
    "ax[0].scatter(X_spca[y == 1, 0], X_spca[y == 1, 1], color='blue', marker='o', alpha=0.5)\n",
    "\n",
    "ax[1].scatter(X_spca[y == 0, 0], np.zeros((500, 1)) + 0.02, color='red', marker='^', alpha=0.5)\n",
    "ax[1].scatter(X_spca[y == 1, 0], np.zeros((500, 1)) - 0.02, color='blue', marker='o', alpha=0.5)\n",
    "\n",
    "ax[0].set_xlabel('PC1')\n",
    "ax[0].set_ylabel('PC2')\n",
    "ax[1].set_ylim([-1, 1])\n",
    "ax[1].set_yticks([])\n",
    "ax[1].set_xlabel('PC1')\n",
    "\n",
    "plt.tight_layout()\n",
    "# plt.savefig('images/05_16.png', dpi=300)\n",
    "plt.show()"
   ]
  },
  {
   "cell_type": "markdown",
   "metadata": {},
   "source": [
    "### カーネルPCA(RBF)による次元圧縮"
   ]
  },
  {
   "cell_type": "code",
   "execution_count": 37,
   "metadata": {
    "ExecuteTime": {
     "end_time": "2019-01-28T00:43:35.895995Z",
     "start_time": "2019-01-28T00:43:35.691158Z"
    }
   },
   "outputs": [],
   "source": [
    "GAMMA  = 15\n",
    "X_kpca = rbf_kernel_pca(X, gamma=GAMMA, n_components=2)"
   ]
  },
  {
   "cell_type": "code",
   "execution_count": 38,
   "metadata": {
    "ExecuteTime": {
     "end_time": "2019-01-28T00:43:38.268458Z",
     "start_time": "2019-01-28T00:43:38.113470Z"
    }
   },
   "outputs": [
    {
     "data": {
      "image/png": "[encoded data removed]",
      "text/plain": [
       "<Figure size 504x216 with 2 Axes>"
      ]
     },
     "metadata": {},
     "output_type": "display_data"
    }
   ],
   "source": [
    "fig, ax = plt.subplots(nrows=1, ncols=2, figsize=(7, 3))\n",
    "ax[0].scatter(X_kpca[y == 0, 0], X_kpca[y == 0, 1], color='red', marker='^', alpha=0.5)\n",
    "ax[0].scatter(X_kpca[y == 1, 0], X_kpca[y == 1, 1], color='blue', marker='o', alpha=0.5)\n",
    "\n",
    "ax[1].scatter(X_kpca[y == 0, 0], np.zeros((500, 1)) + 0.02, color='red', marker='^', alpha=0.5)\n",
    "ax[1].scatter(X_kpca[y == 1, 0], np.zeros((500, 1)) - 0.02, color='blue', marker='o', alpha=0.5)\n",
    "\n",
    "ax[0].set_xlabel('PC1')\n",
    "ax[0].set_ylabel('PC2')\n",
    "ax[1].set_ylim([-1, 1])\n",
    "ax[1].set_yticks([])\n",
    "ax[1].set_xlabel('PC1')\n",
    "\n",
    "plt.tight_layout()\n",
    "# plt.savefig('images/05_17.png', dpi=300)\n",
    "plt.show()"
   ]
  },
  {
   "cell_type": "markdown",
   "metadata": {},
   "source": [
    "---\n",
    "# 新しいデータ$\\boldsymbol {x}^{\\prime}$を射影する\n",
    "$$\n",
    "Kernel PCA\\left( \\boldsymbol {x}^{\\prime} \\right) = \\sum _{i=1}^{n}{ \\boldsymbol {\\alpha}_{i} k\\left( \\boldsymbol {x}^{\\prime}, \\boldsymbol {x}_{i} \\right) }\n",
    "$$\n",
    "\n",
    " - $n$ : トレーニングデータセットのサンプル数\n",
    " - $\\boldsymbol {\\alpha}_{i}$ : 中心化されたカーネル行列の固有ベクトル\n",
    " - $k\\left( \\boldsymbol {x}^{\\prime}, \\boldsymbol {x}_{i} \\right)$ : カーネル関数"
   ]
  },
  {
   "cell_type": "markdown",
   "metadata": {},
   "source": [
    "データ数が少ない場合に適用することが多い"
   ]
  },
  {
   "cell_type": "code",
   "execution_count": 40,
   "metadata": {
    "ExecuteTime": {
     "end_time": "2019-01-28T01:01:57.217131Z",
     "start_time": "2019-01-28T01:01:57.210869Z"
    }
   },
   "outputs": [],
   "source": [
    "from scipy.spatial.distance import pdist, squareform\n",
    "from scipy import exp\n",
    "from scipy.linalg import eigh\n",
    "import numpy as np\n",
    "\n",
    "def rbf_kernel_pca(X, gamma, n_components):\n",
    "    \"\"\"\n",
    "    RBFカーネルPCAの実装\n",
    "\n",
    "    Parameters\n",
    "    ----------\n",
    "    X: {NumPy ndarray}, shape = [n_samples, n_features]\n",
    "        \n",
    "    gamma: float\n",
    "      RBFカーネルのハイパーパラメータ\n",
    "        \n",
    "    n_components: int\n",
    "      返される主成分の個数\n",
    "\n",
    "    Returns\n",
    "    -------\n",
    "     alphas: {NumPy ndarray}, shape = [n_samples, k_features]\n",
    "       射影されたデータセット\n",
    "     \n",
    "     lambdas: list\n",
    "       固有値\n",
    "\n",
    "    \"\"\"\n",
    "    sq_dists = pdist(X, 'sqeuclidean')   # ユークリッド距離を計算\n",
    "    mat_sq_dists = squareform(sq_dists)  # ペアごとの距離を正方行列に変換\n",
    "\n",
    "    K = exp(-gamma * mat_sq_dists)       # 対称カーネル行列を計算\n",
    "\n",
    "    # カーネル行列を中心化\n",
    "    N = K.shape[0]\n",
    "    one_n = np.ones((N, N)) / N\n",
    "    K = K - one_n.dot(K) - K.dot(one_n) + one_n.dot(K).dot(one_n)\n",
    "\n",
    "    # 中心化されたカーネル行列から固有対を取得\n",
    "    eigvals, eigvecs = eigh(K)\n",
    "    eigvals, eigvecs = eigvals[::-1], eigvecs[:, ::-1]\n",
    "\n",
    "    # 上位k個の固有ベクトル(射影されたサンプルを収集)\n",
    "    alphas = np.column_stack( (eigvecs[:, i] for i in range(n_components)) )\n",
    "\n",
    "    # 対応する固有値を収集\n",
    "    lambdas = [eigvals[i] for i in range(n_components)]\n",
    "\n",
    "    return alphas, lambdas"
   ]
  },
  {
   "cell_type": "markdown",
   "metadata": {},
   "source": [
    "## 例3) 半月形データセット"
   ]
  },
  {
   "cell_type": "code",
   "execution_count": 41,
   "metadata": {
    "ExecuteTime": {
     "end_time": "2019-01-28T01:03:14.118264Z",
     "start_time": "2019-01-28T01:03:14.113817Z"
    }
   },
   "outputs": [
    {
     "name": "stdout",
     "output_type": "stream",
     "text": [
      "[[ 0.8713187   0.49071755]\n",
      " [ 0.71547241 -0.45866785]\n",
      " [ 1.46253829 -0.38659931]\n",
      " [-0.22252093  0.97492791]\n",
      " [ 0.32769911 -0.240278  ]\n",
      " [ 1.          0.        ]\n",
      " [ 0.94905575  0.31510822]\n",
      " [ 0.          0.5       ]\n",
      " [ 1.40478334 -0.41441262]\n",
      " [ 0.96729486  0.25365458]]\n",
      "[0 1 1 0 1 0 0 1 1 0]\n"
     ]
    }
   ],
   "source": [
    "from sklearn.datasets import make_moons\n",
    "\n",
    "X,y = make_moons(n_samples=100, random_state=123)\n",
    "print(X[:10])\n",
    "print(y[:10])"
   ]
  },
  {
   "cell_type": "code",
   "execution_count": 42,
   "metadata": {
    "ExecuteTime": {
     "end_time": "2019-01-28T01:04:05.888998Z",
     "start_time": "2019-01-28T01:04:05.884445Z"
    }
   },
   "outputs": [],
   "source": [
    "# 射影されたデータセット, 固有値\n",
    "alphas, lambdas = rbf_kernel_pca(X, gamma=15, n_components=1)"
   ]
  },
  {
   "cell_type": "code",
   "execution_count": 52,
   "metadata": {
    "ExecuteTime": {
     "end_time": "2019-01-28T01:08:06.367161Z",
     "start_time": "2019-01-28T01:08:06.362339Z"
    }
   },
   "outputs": [
    {
     "data": {
      "text/plain": [
       "array([1.8713187 , 0.00928245])"
      ]
     },
     "execution_count": 52,
     "metadata": {},
     "output_type": "execute_result"
    }
   ],
   "source": [
    "# 射影前のデータ(2次元)\n",
    "x_new = X[25]\n",
    "x_new"
   ]
  },
  {
   "cell_type": "code",
   "execution_count": 51,
   "metadata": {
    "ExecuteTime": {
     "end_time": "2019-01-28T01:07:59.372826Z",
     "start_time": "2019-01-28T01:07:59.368473Z"
    }
   },
   "outputs": [
    {
     "data": {
      "text/plain": [
       "array([0.07877284])"
      ]
     },
     "execution_count": 51,
     "metadata": {},
     "output_type": "execute_result"
    }
   ],
   "source": [
    "# 1次元空間に射影済みのデータ\n",
    "x_proj = alphas[25] # original projection\n",
    "x_proj"
   ]
  },
  {
   "cell_type": "code",
   "execution_count": 53,
   "metadata": {
    "ExecuteTime": {
     "end_time": "2019-01-28T01:10:08.077572Z",
     "start_time": "2019-01-28T01:10:08.071267Z"
    },
    "scrolled": true
   },
   "outputs": [
    {
     "data": {
      "text/plain": [
       "array([0.07877284])"
      ]
     },
     "execution_count": 53,
     "metadata": {},
     "output_type": "execute_result"
    }
   ],
   "source": [
    "def project_x(x_new, X, gamma, alphas, lambdas):\n",
    "    \"\"\"\n",
    "    Parameters\n",
    "    ----------\n",
    "    alphas: {NumPy ndarray}, shape = [n_samples, k_features]\n",
    "       射影されたデータセット\n",
    "     \n",
    "     lambdas: list\n",
    "       固有値\n",
    "    \"\"\"\n",
    "    pair_dist = np.array([np.sum((x_new - row)**2) for row in X])\n",
    "    # RBF関数を計算\n",
    "    k = np.exp(-gamma * pair_dist)\n",
    "    return k.dot(alphas / lambdas)\n",
    "\n",
    "# projection of the \"new\" datapoint\n",
    "x_reproj = project_x(x_new, X, gamma=15, alphas=alphas, lambdas=lambdas)\n",
    "x_reproj"
   ]
  },
  {
   "cell_type": "code",
   "execution_count": 55,
   "metadata": {
    "ExecuteTime": {
     "end_time": "2019-01-28T01:11:10.357854Z",
     "start_time": "2019-01-28T01:11:10.234093Z"
    }
   },
   "outputs": [
    {
     "data": {
      "image/png": "[encoded data removed]",
      "text/plain": [
       "<Figure size 432x288 with 1 Axes>"
      ]
     },
     "metadata": {},
     "output_type": "display_data"
    }
   ],
   "source": [
    "plt.scatter(alphas[y == 0, 0], np.zeros((50)), color='red', marker='^', alpha=0.5)\n",
    "plt.scatter(alphas[y == 1, 0], np.zeros((50)), color='blue', marker='o', alpha=0.5)\n",
    "\n",
    "# 射影済みのデータ\n",
    "plt.scatter(x_proj, 0, color='black', label='original projection of point X[25]', marker='^', s=100)\n",
    "# `project_x`を適用したデータ\n",
    "plt.scatter(x_reproj, 0, color='green', label='remapped point X[25]', marker='x', s=500)\n",
    "\n",
    "plt.legend(scatterpoints=1)\n",
    "plt.tight_layout()\n",
    "# plt.savefig('images/05_18.png', dpi=300)\n",
    "plt.show()"
   ]
  },
  {
   "cell_type": "markdown",
   "metadata": {},
   "source": [
    "---\n",
    "# scikit-learnのカーネル主成分分析\n",
    "\n",
    "参考サイト\n",
    "\n",
    " - [sklearn.decomposition.KernelPCA — scikit-learn 0.20.2 documentation](https://scikit-learn.org/stable/modules/generated/sklearn.decomposition.KernelPCA.html)"
   ]
  },
  {
   "cell_type": "code",
   "execution_count": 57,
   "metadata": {
    "ExecuteTime": {
     "end_time": "2019-01-28T01:12:52.403748Z",
     "start_time": "2019-01-28T01:12:52.400439Z"
    }
   },
   "outputs": [],
   "source": [
    "N = 100\n",
    "X, y = make_moons(n_samples=N, random_state=123)"
   ]
  },
  {
   "cell_type": "code",
   "execution_count": 84,
   "metadata": {
    "ExecuteTime": {
     "end_time": "2019-01-28T01:24:06.534449Z",
     "start_time": "2019-01-28T01:24:06.529921Z"
    }
   },
   "outputs": [],
   "source": [
    "from sklearn.decomposition import KernelPCA\n",
    "\n",
    "\n",
    "DIM    = 2\n",
    "KERNEL = 'rbf'\n",
    "GAMMA  = 15\n",
    "\n",
    "# カーネルPCAクラスのインスタンスを生成\n",
    "scikit_kpca = KernelPCA(n_components=DIM, kernel=KERNEL, gamma=GAMMA)\n",
    "X_skernpca = scikit_kpca.fit_transform(X)"
   ]
  },
  {
   "cell_type": "code",
   "execution_count": 85,
   "metadata": {
    "ExecuteTime": {
     "end_time": "2019-01-28T01:24:07.204686Z",
     "start_time": "2019-01-28T01:24:07.096341Z"
    }
   },
   "outputs": [
    {
     "data": {
      "image/png": "[encoded data removed]",
      "text/plain": [
       "<Figure size 432x288 with 1 Axes>"
      ]
     },
     "metadata": {},
     "output_type": "display_data"
    }
   ],
   "source": [
    "plt.scatter(X_skernpca[y == 0, 0], X_skernpca[y == 0, 1], color='red', marker='^', alpha=0.5)\n",
    "plt.scatter(X_skernpca[y == 1, 0], X_skernpca[y == 1, 1], color='blue', marker='o', alpha=0.5)\n",
    "\n",
    "plt.xlabel('PC1')\n",
    "plt.ylabel('PC2')\n",
    "plt.tight_layout()\n",
    "# plt.savefig('images/05_19.png', dpi=300)\n",
    "plt.show()"
   ]
  },
  {
   "cell_type": "code",
   "execution_count": 87,
   "metadata": {
    "ExecuteTime": {
     "end_time": "2019-01-28T01:24:20.252591Z",
     "start_time": "2019-01-28T01:24:20.153472Z"
    }
   },
   "outputs": [
    {
     "data": {
      "image/png": "[encoded data removed]",
      "text/plain": [
       "<Figure size 432x288 with 1 Axes>"
      ]
     },
     "metadata": {},
     "output_type": "display_data"
    }
   ],
   "source": [
    "plt.scatter(X_skernpca[y == 0, 0], np.zeros((50)), color='red', marker='^', alpha=0.5)\n",
    "plt.scatter(X_skernpca[y == 1, 0], np.zeros((50)), color='blue', marker='o', alpha=0.5)\n",
    "\n",
    "plt.tight_layout()\n",
    "plt.show()"
   ]
  },
  {
   "cell_type": "markdown",
   "metadata": {},
   "source": [
    "## 新たなデータ$\\boldsymbol {x}^{\\prime}$を射影する"
   ]
  },
  {
   "cell_type": "code",
   "execution_count": 90,
   "metadata": {
    "ExecuteTime": {
     "end_time": "2019-01-28T01:24:50.443775Z",
     "start_time": "2019-01-28T01:24:50.440162Z"
    }
   },
   "outputs": [
    {
     "name": "stdout",
     "output_type": "stream",
     "text": [
      "[1.8713187  0.00928245]\n",
      "[ 0.20934501 -0.33483988]\n"
     ]
    }
   ],
   "source": [
    "print(X[25])\n",
    "print(X_skernpca[25])"
   ]
  },
  {
   "cell_type": "code",
   "execution_count": 95,
   "metadata": {
    "ExecuteTime": {
     "end_time": "2019-01-28T01:25:20.683658Z",
     "start_time": "2019-01-28T01:25:20.679431Z"
    }
   },
   "outputs": [
    {
     "data": {
      "text/plain": [
       "array([[ 0.20934501, -0.33483988]])"
      ]
     },
     "execution_count": 95,
     "metadata": {},
     "output_type": "execute_result"
    }
   ],
   "source": [
    "scikit_kpca.transform(np.array([X[25]]))"
   ]
  },
  {
   "cell_type": "markdown",
   "metadata": {},
   "source": [
    "---\n",
    "# 参考文献\n",
    "\n",
    "書籍\n",
    " - Sebastian Raschka, Vahid Mirjalili[2018]「5.3 カーネル主成分分析を使った非線形写像」『［第2版］Python機械学習プログラミング達人データサイエンティストによる理論と実践』株式会社インプレス（162~180頁）\n",
    "\n",
    "Webサイト\n",
    "\n",
    " - [カーネル法による非線形データ解析入門 - 統計数理研究所](http://www.ism.ac.jp/~fukumizu/papers/Kernel_rois2006.pdf)\n",
    " - [python-machine-learning-book-2nd-edition/ch05.ipynb at master · rasbt/python-machine-learning-book-2nd-edition](https://github.com/rasbt/python-machine-learning-book-2nd-edition/blob/master/code/ch05/ch05.ipynb)"
   ]
  },
  {
   "cell_type": "code",
   "execution_count": null,
   "metadata": {},
   "outputs": [],
   "source": []
  }
 ],
 "metadata": {
  "kernelspec": {
   "display_name": "Python 3",
   "language": "python",
   "name": "python3"
  },
  "language_info": {
   "codemirror_mode": {
    "name": "ipython",
    "version": 3
   },
   "file_extension": ".py",
   "mimetype": "text/x-python",
   "name": "python",
   "nbconvert_exporter": "python",
   "pygments_lexer": "ipython3",
   "version": "3.7.0"
  },
  "toc": {
   "nav_menu": {},
   "number_sections": true,
   "sideBar": true,
   "skip_h1_title": false,
   "toc_cell": false,
   "toc_position": {},
   "toc_section_display": true,
   "toc_window_display": false
  }
 },
 "nbformat": 4,
 "nbformat_minor": 2
}
