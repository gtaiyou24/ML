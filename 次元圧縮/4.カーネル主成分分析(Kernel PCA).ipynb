{
 "cells": [
  {
   "cell_type": "code",
   "execution_count": 1,
   "metadata": {
    "ExecuteTime": {
     "end_time": "2019-01-27T23:52:46.908293Z",
     "start_time": "2019-01-27T23:52:45.259547Z"
    }
   },
   "outputs": [],
   "source": [
    "import pandas as pd\n",
    "import numpy as np\n",
    "from pandas import DataFrame, Series\n",
    "\n",
    "import seaborn as sns\n",
    "import matplotlib as mpl\n",
    "import matplotlib.pyplot as plt\n",
    "\n",
    "# 日本語フォントを設定\n",
    "font = {'family': 'IPAexGothic'}\n",
    "mpl.rc('font', **font)\n",
    "\n",
    "%matplotlib inline"
   ]
  },
  {
   "cell_type": "markdown",
   "metadata": {},
   "source": [
    "---\n",
    "# "
   ]
  },
  {
   "cell_type": "markdown",
   "metadata": {},
   "source": [
    "---\n",
    "---\n",
    "---"
   ]
  },
  {
   "cell_type": "markdown",
   "metadata": {},
   "source": [
    "# カーネル主成分の導出\n",
    "\n",
    "カーネル主成分分析は、学習データ:$x_{i} \\in R^{d} \\quad (i=1,...,N)$を非線形特徴変換$x_{i} \\in R^{d} \\rightarrow \\varphi \\left( { x }_{ i } \\right) \\in R^{ M }\\quad (M>d)$をしてより高次元のデータに変換した上でPCAを行う分析手法である。\n",
    "\n",
    "![](http://www1.doshisha.ac.jp/~mjin/R/Chap_31/image1.jpg)\n",
    "\n",
    "参考サイト\n",
    "\n",
    " - [カーネル法による非線形データ解析入門 - 統計数理研究所](http://www.ism.ac.jp/~fukumizu/papers/Kernel_rois2006.pdf)\n",
    " - [PCAの最終形態GPLVMの解説 - SlideShare](https://www.slideshare.net/antiplastics/pcagplvm)\n",
    " - [Kernel PCA (Principal Component Analysis) の導出 - めもめも](http://enakai00.hatenablog.com/entry/2016/09/09/103142)\n",
    " - [主成分分析のあれこれ - Qiita](http://qiita.com/kenchin110100/items/16f49da7dc207a31b160#%E3%82%AB%E3%83%BC%E3%83%8D%E3%83%AB%E4%B8%BB%E6%88%90%E5%88%86%E5%88%86%E6%9E%90)\n",
    " - [Rとカーネル法・サポートベクターマシン](http://www1.doshisha.ac.jp/~mjin/R/Chap_31/31.html)\n",
    " - [sklearnによるKernelPCAの実装](http://scikit-learn.org/stable/modules/generated/sklearn.decomposition.KernelPCA.html#examples-using-sklearn-decomposition-kernelpca)\n",
    "\n",
    "\n",
    "## カーネル関数を決める\n",
    "\n",
    "\n",
    "## データから写像行列を求める\n",
    "\n",
    "## 写像行列の固有値と固有ベクトル\n",
    "## 固有値と固有ベクトルを正規化する"
   ]
  },
  {
   "cell_type": "markdown",
   "metadata": {},
   "source": [
    "---\n",
    "# 実装"
   ]
  },
  {
   "cell_type": "code",
   "execution_count": 4,
   "metadata": {},
   "outputs": [
    {
     "data": {
      "text/html": [
       "<div>\n",
       "<style scoped>\n",
       "    .dataframe tbody tr th:only-of-type {\n",
       "        vertical-align: middle;\n",
       "    }\n",
       "\n",
       "    .dataframe tbody tr th {\n",
       "        vertical-align: top;\n",
       "    }\n",
       "\n",
       "    .dataframe thead th {\n",
       "        text-align: right;\n",
       "    }\n",
       "</style>\n",
       "<table border=\"1\" class=\"dataframe\">\n",
       "  <thead>\n",
       "    <tr style=\"text-align: right;\">\n",
       "      <th></th>\n",
       "      <th>satisfaction_level</th>\n",
       "      <th>last_evaluation</th>\n",
       "      <th>number_project</th>\n",
       "      <th>average_montly_hours</th>\n",
       "      <th>time_spend_company</th>\n",
       "      <th>Work_accident</th>\n",
       "      <th>left</th>\n",
       "      <th>promotion_last_5years</th>\n",
       "      <th>sales</th>\n",
       "      <th>salary</th>\n",
       "    </tr>\n",
       "  </thead>\n",
       "  <tbody>\n",
       "    <tr>\n",
       "      <th>0</th>\n",
       "      <td>0.38</td>\n",
       "      <td>0.53</td>\n",
       "      <td>2</td>\n",
       "      <td>157</td>\n",
       "      <td>3</td>\n",
       "      <td>0</td>\n",
       "      <td>1</td>\n",
       "      <td>0</td>\n",
       "      <td>sales</td>\n",
       "      <td>low</td>\n",
       "    </tr>\n",
       "    <tr>\n",
       "      <th>1</th>\n",
       "      <td>0.80</td>\n",
       "      <td>0.86</td>\n",
       "      <td>5</td>\n",
       "      <td>262</td>\n",
       "      <td>6</td>\n",
       "      <td>0</td>\n",
       "      <td>1</td>\n",
       "      <td>0</td>\n",
       "      <td>sales</td>\n",
       "      <td>medium</td>\n",
       "    </tr>\n",
       "    <tr>\n",
       "      <th>2</th>\n",
       "      <td>0.11</td>\n",
       "      <td>0.88</td>\n",
       "      <td>7</td>\n",
       "      <td>272</td>\n",
       "      <td>4</td>\n",
       "      <td>0</td>\n",
       "      <td>1</td>\n",
       "      <td>0</td>\n",
       "      <td>sales</td>\n",
       "      <td>medium</td>\n",
       "    </tr>\n",
       "    <tr>\n",
       "      <th>3</th>\n",
       "      <td>0.72</td>\n",
       "      <td>0.87</td>\n",
       "      <td>5</td>\n",
       "      <td>223</td>\n",
       "      <td>5</td>\n",
       "      <td>0</td>\n",
       "      <td>1</td>\n",
       "      <td>0</td>\n",
       "      <td>sales</td>\n",
       "      <td>low</td>\n",
       "    </tr>\n",
       "    <tr>\n",
       "      <th>4</th>\n",
       "      <td>0.37</td>\n",
       "      <td>0.52</td>\n",
       "      <td>2</td>\n",
       "      <td>159</td>\n",
       "      <td>3</td>\n",
       "      <td>0</td>\n",
       "      <td>1</td>\n",
       "      <td>0</td>\n",
       "      <td>sales</td>\n",
       "      <td>low</td>\n",
       "    </tr>\n",
       "  </tbody>\n",
       "</table>\n",
       "</div>"
      ],
      "text/plain": [
       "   satisfaction_level  last_evaluation  number_project  average_montly_hours  \\\n",
       "0                0.38             0.53               2                   157   \n",
       "1                0.80             0.86               5                   262   \n",
       "2                0.11             0.88               7                   272   \n",
       "3                0.72             0.87               5                   223   \n",
       "4                0.37             0.52               2                   159   \n",
       "\n",
       "   time_spend_company  Work_accident  left  promotion_last_5years  sales  \\\n",
       "0                   3              0     1                      0  sales   \n",
       "1                   6              0     1                      0  sales   \n",
       "2                   4              0     1                      0  sales   \n",
       "3                   5              0     1                      0  sales   \n",
       "4                   3              0     1                      0  sales   \n",
       "\n",
       "   salary  \n",
       "0     low  \n",
       "1  medium  \n",
       "2  medium  \n",
       "3     low  \n",
       "4     low  "
      ]
     },
     "execution_count": 4,
     "metadata": {},
     "output_type": "execute_result"
    }
   ],
   "source": [
    "#データによる検証\n",
    "HR_DATASET_PATH = \"../datasets/HR_comma_sep.csv\"\n",
    "\n",
    "hr_df = pd.read_csv(HR_DATASET_PATH)\n",
    "hr_df.head()"
   ]
  },
  {
   "cell_type": "code",
   "execution_count": 7,
   "metadata": {
    "collapsed": true
   },
   "outputs": [],
   "source": [
    "from sklearn.decomposition import KernelPCA\n",
    "from sklearn.preprocessing import StandardScaler\n",
    "\n",
    "left_employee_df = hr_df[hr_df.left == 1]\n",
    "features = [\n",
    "    'satisfaction_level',\n",
    "    'last_evaluation',\n",
    "    'number_project'\n",
    "]\n",
    "\n",
    "# データを標準化する\n",
    "ss = StandardScaler()\n",
    "X = ss.fit_transform(left_employee_df[features])\n",
    "\n",
    "DIM = 2\n",
    "\n",
    "# 主成分分析する\n",
    "kpca = KernelPCA(n_components=DIM, kernel='rbf') # 第2主成分まで求める。\n",
    "kpca.fit(X)\n",
    "\n",
    "# 分析結果を元にデータセットを主成分に変換する\n",
    "transformed = kpca.fit_transform(X)"
   ]
  },
  {
   "cell_type": "code",
   "execution_count": 8,
   "metadata": {},
   "outputs": [
    {
     "data": {
      "text/plain": [
       "{'alpha': 1.0,\n",
       " 'coef0': 1,\n",
       " 'copy_X': True,\n",
       " 'degree': 3,\n",
       " 'eigen_solver': 'auto',\n",
       " 'fit_inverse_transform': False,\n",
       " 'gamma': None,\n",
       " 'kernel': 'rbf',\n",
       " 'kernel_params': None,\n",
       " 'max_iter': None,\n",
       " 'n_components': 2,\n",
       " 'n_jobs': 1,\n",
       " 'random_state': None,\n",
       " 'remove_zero_eig': False,\n",
       " 'tol': 0}"
      ]
     },
     "execution_count": 8,
     "metadata": {},
     "output_type": "execute_result"
    }
   ],
   "source": [
    "kpca.get_params()"
   ]
  },
  {
   "cell_type": "code",
   "execution_count": 9,
   "metadata": {},
   "outputs": [
    {
     "name": "stderr",
     "output_type": "stream",
     "text": [
      "/Users/taiyou/.pyenv/versions/anaconda3-2.3.0/lib/python3.4/site-packages/matplotlib/collections.py:590: FutureWarning: elementwise comparison failed; returning scalar instead, but in the future will perform elementwise comparison\n",
      "  if self._edgecolors == str('face'):\n"
     ]
    },
    {
     "data": {
      "image/png": "[encoded data removed]",
      "text/plain": [
       "<matplotlib.figure.Figure at 0x11e752668>"
      ]
     },
     "metadata": {},
     "output_type": "display_data"
    }
   ],
   "source": [
    "# 主成分をプロットする\n",
    "plt.figure(figsize=(11,7))\n",
    "plt.title('principal component')\n",
    "plt.xlabel('第1主成分: できる社員指数')\n",
    "plt.ylabel('第2主成分: 効率性・充実度')\n",
    "\n",
    "plt.scatter(\n",
    "    transformed[:, 0],\n",
    "    transformed[:, 1],\n",
    ")\n",
    "\n",
    "# グラフを表示する\n",
    "plt.show()"
   ]
  },
  {
   "cell_type": "markdown",
   "metadata": {
    "collapsed": true
   },
   "source": [
    "---\n",
    "# 参考文献\n",
    "\n",
    "書籍\n",
    " - Sebastian Raschka, Vahid Mirjalili[2018]「5.3 カーネル主成分分析を使った非線形写像」『［第2版］Python機械学習プログラミング達人データサイエンティストによる理論と実践』株式会社インプレス（162~180頁）\n",
    "\n",
    "Webサイト\n",
    " - [python-machine-learning-book-2nd-edition/ch05.ipynb at master · rasbt/python-machine-learning-book-2nd-edition](https://github.com/rasbt/python-machine-learning-book-2nd-edition/blob/master/code/ch05/ch05.ipynb)"
   ]
  },
  {
   "cell_type": "code",
   "execution_count": null,
   "metadata": {},
   "outputs": [],
   "source": []
  }
 ],
 "metadata": {
  "kernelspec": {
   "display_name": "Python 3",
   "language": "python",
   "name": "python3"
  },
  "language_info": {
   "codemirror_mode": {
    "name": "ipython",
    "version": 3
   },
   "file_extension": ".py",
   "mimetype": "text/x-python",
   "name": "python",
   "nbconvert_exporter": "python",
   "pygments_lexer": "ipython3",
   "version": "3.7.0"
  },
  "toc": {
   "nav_menu": {},
   "number_sections": true,
   "sideBar": true,
   "skip_h1_title": false,
   "toc_cell": false,
   "toc_position": {},
   "toc_section_display": "block",
   "toc_window_display": true
  }
 },
 "nbformat": 4,
 "nbformat_minor": 2
}
