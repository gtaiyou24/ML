{
 "cells": [
  {
   "cell_type": "markdown",
   "metadata": {},
   "source": [
    "# Theano\n",
    "\n",
    ">　- Theanoは、数値計算を高速化してくれるPythonライブラリ\n",
    "> - Theanoの特徴\n",
    "     - 実行時にC言語のコードが生成・コンパイルされることによる高速化\n",
    "     - **自動微分** : 自動で関数の微分式を評価・計算してくれる機能のこと\n",
    "     - GPU環境にも対応している\n",
    "\n",
    "**インストール**\n",
    "```bash\n",
    "pip install theano\n",
    "```"
   ]
  },
  {
   "cell_type": "code",
   "execution_count": 1,
   "metadata": {},
   "outputs": [],
   "source": [
    "import numpy as np\n",
    "import theano\n",
    "import theano.tensor as T"
   ]
  },
  {
   "cell_type": "markdown",
   "metadata": {},
   "source": [
    "## 数式の定義 : シンボルの生成\n",
    "Theanoでは、ベクトルや行列、スカラーを表す変数はすべて**シンボル**として扱う。\n",
    "\n",
    "> #### float型のスカラー : dscalar\n",
    "> ```python\n",
    "> # 'd'は、double(浮動小数点数)の頭文字\n",
    "> x = T.dscalar('x')\n",
    ">```\n",
    "\n",
    "> #### int型のスカラー : iscalar\n",
    "> ```python\n",
    "> # 'i'は、int型のスカラー\n",
    "> x = T.iscalar('x')\n",
    "> ```\n",
    "\n",
    "> #### float型のベクトル : dvector\n",
    "> ```python\n",
    "x = T.dvector('x')\n",
    "> ```\n",
    "\n",
    "> #### float型の行列\n",
    "> ```python\n",
    "x = T.dmatrix('x')\n",
    "> ```"
   ]
  },
  {
   "cell_type": "markdown",
   "metadata": {},
   "source": [
    "生成したシンボルを用いることによって、数式を定義できる。\n",
    "$$\n",
    "y = x^{2}\n",
    "$$"
   ]
  },
  {
   "cell_type": "code",
   "execution_count": 2,
   "metadata": {},
   "outputs": [],
   "source": [
    "x = T.dscalar('x')\n",
    "\n",
    "y = x ** 2"
   ]
  },
  {
   "cell_type": "markdown",
   "metadata": {},
   "source": [
    "## 関数の生成 : theano.function()\n",
    "ただし、シンボルを用いて数式を定義しただけでは、まだ計算を行えない。数式に対応する関数を生成する必要がある。"
   ]
  },
  {
   "cell_type": "code",
   "execution_count": 3,
   "metadata": {},
   "outputs": [
    {
     "name": "stdout",
     "output_type": "stream",
     "text": [
      "1.0\n",
      "4.0\n",
      "9.0\n"
     ]
    }
   ],
   "source": [
    "f = theano.function(inputs=[x], outputs=y)\n",
    "\n",
    "# inputs : 関数の入力\n",
    "# outputs : 関数の出力, Numpy配列\n",
    "\n",
    "print(f(1))\n",
    "print(f(2))\n",
    "print(f(3))"
   ]
  },
  {
   "cell_type": "markdown",
   "metadata": {},
   "source": [
    "### 引数がベクトルの場合"
   ]
  },
  {
   "cell_type": "code",
   "execution_count": 4,
   "metadata": {},
   "outputs": [],
   "source": [
    "#  シンボルの生成\n",
    "x = T.dvector('x')\n",
    "\n",
    "# 数式の定義\n",
    "y = x ** 2\n",
    "\n",
    "# 関数の生成\n",
    "f = theano.function(inputs=[x], outputs=y)"
   ]
  },
  {
   "cell_type": "code",
   "execution_count": 5,
   "metadata": {},
   "outputs": [
    {
     "data": {
      "text/plain": [
       "array([1., 4., 9.])"
      ]
     },
     "execution_count": 5,
     "metadata": {},
     "output_type": "execute_result"
    }
   ],
   "source": [
    "a = np.array([1, 2, 3])\n",
    "f(a)"
   ]
  },
  {
   "cell_type": "markdown",
   "metadata": {},
   "source": [
    "## 自動微分 : T.grad()"
   ]
  },
  {
   "cell_type": "code",
   "execution_count": 6,
   "metadata": {},
   "outputs": [],
   "source": [
    "x = T.dscalar('x')\n",
    "y = x ** 2"
   ]
  },
  {
   "cell_type": "markdown",
   "metadata": {},
   "source": [
    "↑yの微分は、以下を定義するだけ。"
   ]
  },
  {
   "cell_type": "code",
   "execution_count": 7,
   "metadata": {},
   "outputs": [],
   "source": [
    "gy = T.grad(cost=y, wrt=x)\n",
    "\n",
    "# cost : 微分したい関数\n",
    "# wrt : どの変数に関して微分したいか"
   ]
  },
  {
   "cell_type": "markdown",
   "metadata": {},
   "source": [
    "$$\n",
    "\\frac {d y}{d x} = 2 x\n",
    "$$"
   ]
  },
  {
   "cell_type": "code",
   "execution_count": 8,
   "metadata": {},
   "outputs": [
    {
     "name": "stdout",
     "output_type": "stream",
     "text": [
      "2.0\n",
      "4.0\n",
      "6.0\n"
     ]
    }
   ],
   "source": [
    "g = theano.function(inputs=[x], outputs=gy)\n",
    "\n",
    "print(g(1))\n",
    "print(g(2))\n",
    "print(g(3))"
   ]
  },
  {
   "cell_type": "code",
   "execution_count": null,
   "metadata": {},
   "outputs": [],
   "source": []
  }
 ],
 "metadata": {
  "kernelspec": {
   "display_name": "Python 3",
   "language": "python",
   "name": "python3"
  },
  "language_info": {
   "codemirror_mode": {
    "name": "ipython",
    "version": 3
   },
   "file_extension": ".py",
   "mimetype": "text/x-python",
   "name": "python",
   "nbconvert_exporter": "python",
   "pygments_lexer": "ipython3",
   "version": "3.6.3"
  },
  "toc": {
   "nav_menu": {},
   "number_sections": true,
   "sideBar": true,
   "skip_h1_title": false,
   "toc_cell": false,
   "toc_position": {},
   "toc_section_display": "block",
   "toc_window_display": true
  }
 },
 "nbformat": 4,
 "nbformat_minor": 2
}
