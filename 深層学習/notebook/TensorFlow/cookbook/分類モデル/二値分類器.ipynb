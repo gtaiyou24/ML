{
 "cells": [
  {
   "cell_type": "markdown",
   "metadata": {},
   "source": [
    "# ロジスティックシグモイド関数\n",
    "\n",
    "## モデル化\n",
    "$$\n",
    "p\\left( { y = 1 } | { \\boldsymbol {\\mathrm {x}} } \\right) \\approx f\\left( u \\right)\\\\\n",
    "p\\left( { y = 0 } | { \\boldsymbol {\\mathrm {x}} } \\right) \\approx 1 - f\\left( u \\right)\n",
    "$$\n",
    "\n",
    "### 活性化関数 : ロジスティックシグモイド関数\n",
    "$$\n",
    "f\\left( u \\right) = \\frac {1}{1 + e^{-u}}\\\\\n",
    "u = \\boldsymbol {\\mathrm {w}}^{T} \\boldsymbol {\\mathrm {x}} + \\boldsymbol {\\mathrm {b}}\n",
    "$$\n",
    "\n",
    "### 出力層の活性化関数 : ロジスティックシグモイド関数\n",
    "\n",
    "\n",
    "### 誤差関数 : 負の対数尤度関数\n",
    "$$\n",
    "L\\left( \\boldsymbol {\\mathrm {w}} ; \\boldsymbol {\\mathrm {x}} \\right) = \\prod _{i=1}^{N}{p\\left( { y_{i} } | { \\boldsymbol {\\mathrm {x}} ; \\boldsymbol {\\mathrm {w}}} \\right)} = \\prod _{i=1}^{N}{\\left\\{ f\\left( \\boldsymbol {\\mathrm {x}}_{i} ; \\boldsymbol {\\mathrm {w}} \\right) \\right\\}^{y_{i}} \\left\\{ 1 - f\\left( \\boldsymbol {\\mathrm {x}}_{i} ; \\boldsymbol {\\mathrm {w}} \\right) \\right\\}^{1 - y_{i}} }\\\\\n",
    "\\log {L\\left( \\boldsymbol {\\mathrm {w}} ; \\boldsymbol {\\mathrm {x}} \\right)} = \\sum _{i=1}^{N}{\\left\\{ y_{i} \\log {f\\left( \\boldsymbol {\\mathrm {x}}_{i} ; \\boldsymbol {\\mathrm {w}} \\right)} + (1 - y_{i}) \\log {\\left[ 1 - f\\left( \\boldsymbol {\\mathrm {x}}_{i} ; \\boldsymbol {\\mathrm {w}} \\right) \\right]} \\right\\}}\n",
    "$$\n",
    "上記の対数尤度関数の符号を反転した関数を誤差関数とし、この値の最小化を考える。\n",
    "$$\n",
    "E\\left( \\boldsymbol {\\mathrm {w}} \\right) = - \\sum _{i=1}^{N}{\\left\\{ y_{i} \\log {f\\left( \\boldsymbol {\\mathrm {x}}_{i} ; \\boldsymbol {\\mathrm {w}} \\right)} + (1 - y_{i}) \\log {\\left[ 1 - f\\left( \\boldsymbol {\\mathrm {x}}_{i} ; \\boldsymbol {\\mathrm {w}} \\right) \\right]} \\right\\}}\n",
    "$$\n",
    "$$\n",
    "\\boldsymbol {\\mathrm {w}} = arg \\min _{ \\boldsymbol {\\mathrm {w}} }{E\\left( \\boldsymbol {\\mathrm {w}} \\right)}\n",
    "$$\n",
    "\n",
    "### 勾配降下法\n",
    "$$\n",
    "\\nabla E \\equiv \\frac {\\partial E}{\\partial \\boldsymbol {w}} = \\left( \\frac {\\partial E}{\\partial w_{1}}, \\dots, \\frac {\\partial E}{\\partial w_{p}} \\right)^{T}\\\\\n",
    "\\boldsymbol {w}^{(t+1)} = \\boldsymbol {w}^{(t)} - \\epsilon \\nabla E\n",
    "$$\n",
    "\n",
    "勾配ベクトルの各要素は次式になる。\n",
    "$$\n",
    "\\frac {\\partial E}{\\partial w_{j}} = - \\sum _{i=1}^{N}{\\left[ y_{i} - f\\left( \\boldsymbol {\\mathrm {x}}_{i} ; \\boldsymbol {\\mathrm {w}} \\right) \\right] x_{j}}\n",
    "$$"
   ]
  },
  {
   "cell_type": "code",
   "execution_count": 3,
   "metadata": {},
   "outputs": [],
   "source": [
    "import numpy as np\n",
    "import pandas as pd\n",
    "\n",
    "import matplotlib.pyplot as plt\n",
    "import seaborn as sns\n",
    "\n",
    "import tensorflow as tf\n",
    "\n",
    "%matplotlib inline"
   ]
  },
  {
   "cell_type": "code",
   "execution_count": 6,
   "metadata": {},
   "outputs": [
    {
     "name": "stderr",
     "output_type": "stream",
     "text": [
      "/Users/taiyou/.pyenv/versions/anaconda3-5.0.1/lib/python3.6/site-packages/matplotlib/font_manager.py:1316: UserWarning: findfont: Font family ['[IPAexGothic]'] not found. Falling back to DejaVu Sans\n",
      "  (prop.get_family(), self.defaultFamily[fontext]))\n"
     ]
    },
    {
     "data": {
      "image/png": "[encoded data removed]",
      "text/plain": [
       "<matplotlib.figure.Figure at 0x1a2187fd68>"
      ]
     },
     "metadata": {},
     "output_type": "display_data"
    }
   ],
   "source": [
    "N = 500\n",
    "x1 = np.random.normal(3, 1, N)\n",
    "y1 = np.random.normal(2, 1, N)\n",
    "\n",
    "x2 = np.random.normal(7, 1, N)\n",
    "y2 = np.random.normal(6, 1, N)\n",
    "\n",
    "# 特徴量\n",
    "x = np.append(x1, x2)\n",
    "y = np.append(y1, y2)\n",
    "\n",
    "# 教師データ\n",
    "t = np.asarray([0.0] * len(x1) + [1.0] * len(x2))\n",
    "\n",
    "plt.plot(x1, y1, 'o', color=\"blue\", markersize=2, label='正解が0のグループ')\n",
    "plt.plot(x2, y2, 'v', color=\"red\", markersize=2, label='正解が1のグループ')\n",
    "plt.legend()\n",
    "plt.show()"
   ]
  },
  {
   "cell_type": "markdown",
   "metadata": {},
   "source": [
    "## データフローグラフの作成"
   ]
  },
  {
   "cell_type": "code",
   "execution_count": 7,
   "metadata": {},
   "outputs": [],
   "source": [
    "LEARNING_RATE = 0.1     # 学習率\n",
    "EPOCHS = 1000                # 学習を繰り返す回数"
   ]
  },
  {
   "cell_type": "code",
   "execution_count": 8,
   "metadata": {},
   "outputs": [],
   "source": [
    "# データフローグラフ\n",
    "\n",
    "\n",
    "X1 = tf.placeholder(tf.float32, shape=[None], name=\"x1\")  # x座標を保持する可変長のプレースホルダー\n",
    "X2 = tf.placeholder(tf.float32, shape=[None], name=\"x2\")  # y座標を保持する可変長のプレースホルダー\n",
    "T = tf.placeholder(tf.float32, shape=[None], name=\"y\")      # 正解データを保持するプレースホルダー\n",
    "\n",
    "w = tf.Variable([0., 0., 0.], name=\"w\", trainable=True)         # バイアスと重みを保持するリスト型の変数(初期値0.0)\n",
    "\n",
    "# シグモイド関数を実行するopノード\n",
    "model = tf.sigmoid(-(w[0] + w[1]*X1 + w[2]*X2))\n",
    "\n",
    "# 誤差関数のopノード\n",
    "cost = -tf.reduce_mean(\n",
    "    T*tf.log(model + 1e-7) + (1 - T)*tf.log((1 - model))\n",
    "    )\n",
    "\n",
    "# ミニマイザー\n",
    "train_op = tf.train.GradientDescentOptimizer(\n",
    "    LEARNING_RATE      # 学習率\n",
    "    ).minimize(cost)   # 最小化問題を解く\n",
    "\n",
    "init_op = tf.global_variables_initializer()    # 変数を初期化するノード"
   ]
  },
  {
   "cell_type": "code",
   "execution_count": 9,
   "metadata": {},
   "outputs": [
    {
     "name": "stdout",
     "output_type": "stream",
     "text": [
      "( 100 ) err= 0.37905115 [ 0.0013907254 ]\n",
      "( 200 ) err= 0.27700183 [ 0.0007497668 ]\n",
      "( 300 ) err= 0.21848036 [ 0.00045736134 ]\n",
      "( 400 ) err= 0.1812096 [ 0.00030459464 ]\n",
      "( 500 ) err= 0.15556559 [ 0.00021657348 ]\n",
      "( 600 ) err= 0.13687617 [ 0.0001617372 ]\n",
      "( 700 ) err= 0.1226501 [ 0.00012546033 ]\n",
      "( 800 ) err= 0.11145107 [ 0.00010021776 ]\n",
      "( 802 ) err= 0.11125126 [ 9.980798e-05 ]\n"
     ]
    }
   ],
   "source": [
    "# セッションの処理\n",
    "with tf.Session() as sess:\n",
    "    sess.run(init_op)                    # initノードを実行して変数を初期化\n",
    "    prev_err = 0                         # 現在の誤差を保持する変数\n",
    "    for epoch in range(EPOCHS): # 学習を繰り返す\n",
    "        epoch += 1\n",
    "\n",
    "        err, _ = sess.run(\n",
    "                            [\n",
    "                                cost,          # 交差エントロピー誤差関数ノード実行\n",
    "                                train_op    # ミニマイザーを実行\n",
    "                            ],\n",
    "                            feed_dict={\n",
    "                                X1: x, # X1にx_sumをセット\n",
    "                                X2: y, # X2にy_sumをセット\n",
    "                                T: t       # Tに正解値tをセット\n",
    "                            })\n",
    "\n",
    "        if epoch % 100 == 0:             # 100回ごとに誤差を出力\n",
    "            print('(', epoch, ')',\n",
    "                  'err=',err,\n",
    "                  '[', prev_err - err, ']'\n",
    "                 )\n",
    "        if abs(prev_err - err) < 0.0001: # 誤差の差が0.0001以下で終了\n",
    "            print('(', epoch, ')',\n",
    "                  'err=',err,\n",
    "                  '[', prev_err - err, ']'\n",
    "                 )\n",
    "            break\n",
    "        prev_err = err                   # 誤差を更新する\n",
    "\n",
    "    w_val = sess.run(w,                  # wノードを実行して重みの値を取得\n",
    "                     feed_dict={\n",
    "                         X1: x,      # X1にx_sumをセット\n",
    "                         X2: y,      # X2にy_sumをセット\n",
    "                         T: t            # Tに正解値tをセット\n",
    "                     })"
   ]
  },
  {
   "cell_type": "code",
   "execution_count": 10,
   "metadata": {},
   "outputs": [
    {
     "name": "stderr",
     "output_type": "stream",
     "text": [
      "/Users/taiyou/.pyenv/versions/anaconda3-5.0.1/lib/python3.6/site-packages/matplotlib/font_manager.py:1316: UserWarning: findfont: Font family ['[IPAexGothic]'] not found. Falling back to DejaVu Sans\n",
      "  (prop.get_family(), self.defaultFamily[fontext]))\n"
     ]
    },
    {
     "data": {
      "image/png": "[encoded data removed]",
      "text/plain": [
       "<matplotlib.figure.Figure at 0x1a21a2f048>"
      ]
     },
     "metadata": {},
     "output_type": "display_data"
    }
   ],
   "source": [
    "# データと境界線の描画\n",
    "x_test = np.linspace(0, 10, 20)\n",
    "\n",
    "plt.plot(x_test,\n",
    "         -(w_val[0]+w_val[1]*x_test)/w_val[2],\n",
    "         color='red')\n",
    "# 正解が0のデータをプロット\n",
    "plt.plot(x1, y1, 'o',  color='blue', markersize=2)\n",
    "# 正解が1のデータをプロット\n",
    "plt.plot(x2, y2, 'v',  color='red',markersize=2)\n",
    "plt.show()"
   ]
  },
  {
   "cell_type": "code",
   "execution_count": null,
   "metadata": {},
   "outputs": [],
   "source": []
  }
 ],
 "metadata": {
  "kernelspec": {
   "display_name": "Python 3",
   "language": "python",
   "name": "python3"
  },
  "language_info": {
   "codemirror_mode": {
    "name": "ipython",
    "version": 3
   },
   "file_extension": ".py",
   "mimetype": "text/x-python",
   "name": "python",
   "nbconvert_exporter": "python",
   "pygments_lexer": "ipython3",
   "version": "3.6.3"
  },
  "toc": {
   "nav_menu": {},
   "number_sections": true,
   "sideBar": true,
   "skip_h1_title": false,
   "toc_cell": false,
   "toc_position": {},
   "toc_section_display": "block",
   "toc_window_display": true
  }
 },
 "nbformat": 4,
 "nbformat_minor": 2
}
