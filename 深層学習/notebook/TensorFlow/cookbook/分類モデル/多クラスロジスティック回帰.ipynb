{
 "cells": [
  {
   "cell_type": "markdown",
   "metadata": {},
   "source": [
    "# ソフトマックス関数\n",
    "\n",
    "## モデル化\n",
    "### ネットワーク構造\n",
    "\n",
    "\n",
    "\n",
    "### 活性化関数 : ソフトマックス関数(softmax function)\n",
    "$$\n",
    "y_{k} \\equiv p\\left( {C = k} | {\\boldsymbol {\\mathrm {x}}} \\right) = \\frac {\\mathrm {exp}\\left( u_{k} \\right)}{\\sum _{j=1}^{K}{\\mathrm {exp}\\left( u_{j} \\right)}}\\\\\n",
    "u_{k} = \\boldsymbol {\\mathrm {W}} \\boldsymbol {\\mathrm {x}} + \\boldsymbol {\\mathrm {b}}\n",
    "$$\n",
    "$$\n",
    "\\sum _{k=1}^{K}{y_{k}} = 1\n",
    "$$\n",
    "\n",
    "### 誤差関数 : 交差エントロピー\n",
    "訓練データ : \n",
    "$$\n",
    "y_{ i }=\\left( \\begin{matrix} { y }_{ i1 } & { y }_{ i2 } & \\dots  & { y }_{ iK-1 } & { y }_{ iK } \\end{matrix} \\right) ^{ T }\n",
    "$$\n",
    "$$\n",
    "y_{ i }=\\left( \\begin{matrix} 0 & 0 & \\dots  & 1 & 0 \\end{matrix} \\right) ^{ T }\n",
    "$$\n",
    "尤度関数:\n",
    "$$\n",
    "L\\left( w \\right) =\\prod _{ i=1 }^{ N }{ p\\left( { y_{ i } }|{ { \\boldsymbol {\\mathrm {x}} }_{ i } }; \\boldsymbol {\\mathrm {W}} \\right)  } =\\prod _{ i=1 }^{ N }{ \\prod _{ k=1 }^{ K }{ { p\\left( { C_{ k } }|{ { { x }_{ i } } }; \\boldsymbol {\\mathrm {W}} \\right)  }^{ { y }_{ ik } } }  } =\\prod _{ i=1 }^{ N }{ \\prod _{ k=1 }^{ K }{ { ({ y }_{ k }\\left( { x }; \\boldsymbol {\\mathrm {W}} \\right) ) }^{ { y }_{ ik } } }  } \n",
    "$$\n",
    "対数尤度関数:\n",
    "$$\n",
    "E\\left( \\boldsymbol {\\mathrm {W}} \\right) =-\\sum _{ i=1 }^{ N }{ \\sum _{ k=1 }^{ K }{ { y }_{ ik }\\log { { y }_{ k }\\left( { x }_{ i }; \\boldsymbol {\\mathrm {W}} \\right)  }  }  } \n",
    "$$\n",
    "\n",
    "$$\n",
    "\\boldsymbol {\\mathrm {W}} = arg \\min _{ \\boldsymbol {\\mathrm {W}} }{E\\left( \\boldsymbol {\\mathrm {W}} \\right)}\n",
    "$$\n",
    "\n",
    "### 学習法 : \n",
    "$$\n",
    "\\nabla E \\equiv \\frac {\\partial E}{\\partial \\boldsymbol {W}} = \\left( \\frac {\\partial E}{\\partial \\boldsymbol {\\mathrm {w}}_{1}}, \\dots, \\frac {\\partial E}{\\partial \\boldsymbol {\\mathrm {w}}_{p}} \\right)^{T}\\\\\n",
    "\\boldsymbol {\\mathrm {w}}^{(t+1)} = \\boldsymbol {\\mathrm {w}}^{(t)} - \\epsilon \\nabla E\n",
    "$$\n",
    "\n",
    "\n",
    "$$\n",
    "\\frac {\\partial E}{\\partial \\boldsymbol {w}_{j}} = - \\sum _{i=1}^{N}{\\left[ \\boldsymbol {y}_{ij} - f_{j}\\left( \\boldsymbol {\\mathrm {x}}_{i} ; \\boldsymbol {\\mathrm {W}} \\right) \\right] \\boldsymbol {\\mathrm {x}}_{i}}\n",
    "$$\n",
    "\n",
    "$$\n",
    "\\frac {\\partial E}{\\partial \\boldsymbol {\\mathrm {W}}} = - \\sum _{i=1}^{N}{\\left( \\boldsymbol {y}_{i} - \\boldsymbol {f}_{j}\\left( \\boldsymbol {\\mathrm {x}}_{i} ; \\boldsymbol {\\mathrm {W}} \\right) \\right) \\boldsymbol {\\mathrm {x}}_{i}^{T}}\n",
    "$$\n",
    "\n",
    "#### (バッチ)勾配降下法(gradient descent)\n",
    "WIP\n",
    "\n",
    "#### 確率的勾配降下法(stochastic gradient descent)\n",
    "WIP\n",
    "\n",
    "#### ミニバッチ勾配降下法(minibatch gradient descent)\n",
    "WIP"
   ]
  },
  {
   "cell_type": "markdown",
   "metadata": {},
   "source": [
    "# 実装\n",
    "## TensorFlowによる実装"
   ]
  },
  {
   "cell_type": "code",
   "execution_count": 4,
   "metadata": {},
   "outputs": [],
   "source": [
    "import numpy as np\n",
    "import tensorflow as tf"
   ]
  },
  {
   "cell_type": "markdown",
   "metadata": {},
   "source": [
    "### モデルの定義\n",
    "\n",
    " - パラメータの定義\n",
    " - 出力層の定義\n",
    " - 誤差関数の定義\n",
    " - 最適化手法の定義"
   ]
  },
  {
   "cell_type": "code",
   "execution_count": 17,
   "metadata": {},
   "outputs": [],
   "source": [
    "M = 2    # 入力データの次元\n",
    "K = 3    # クラス数\n",
    "n = 100     # クラスごとのデータ数\n",
    "N = n * K   # 全データ数\n",
    "\n",
    "\n",
    "# 重み行列, バイアスベクトルを定義\n",
    "W = tf.Variable(tf.zeros([M, K]))\n",
    "b = tf.Variable(tf.zeros([K]))\n",
    "\n",
    "# 出力層\n",
    "x = tf.placeholder(tf.float32, shape=[None, M])\n",
    "y = tf.placeholder(tf.float32, shape=[None, K])\n",
    "f = tf.nn.softmax(tf.matmul(x, W) + b)\n",
    "\n",
    "# 誤差関数\n",
    "cross_entropy = tf.reduce_mean(-tf.reduce_sum(y * tf.log(f), reduction_indices=[1]))\n",
    "\n",
    "# 最適化手法の定義\n",
    "LEARNING_RATE = 0.1\n",
    "train_step = tf.train.GradientDescentOptimizer(LEARNING_RATE).minimize(cross_entropy)\n",
    "\n",
    "# 予測\n",
    "correct_prediction = tf.equal(tf.argmax(f, 1), tf.argmax(y, 1))"
   ]
  },
  {
   "cell_type": "markdown",
   "metadata": {},
   "source": [
    " - `tf.reduce_mean` : ミニバッチごとの平均値\n",
    " - `tf.reduce_sum` : 合計"
   ]
  },
  {
   "cell_type": "markdown",
   "metadata": {},
   "source": [
    "### データセットの用意"
   ]
  },
  {
   "cell_type": "code",
   "execution_count": 18,
   "metadata": {},
   "outputs": [],
   "source": [
    "# 学習データの用意\n",
    "import matplotlib.pyplot as plt\n",
    "from sklearn.utils import shuffle\n",
    "\n",
    "X1 = np.random.randn(n, M) + np.array([0, 10])\n",
    "X2 = np.random.randn(n, M) + np.array([5, 5])\n",
    "X3 = np.random.randn(n, M) + np.array([10, 0])\n",
    "Y1 = np.array([[1, 0, 0] for i in range(n)])\n",
    "Y2 = np.array([[0, 1, 0] for i in range(n)])\n",
    "Y3 = np.array([[0, 0, 1] for i in range(n)])\n",
    "\n",
    "X = np.concatenate((X1, X2, X3), axis=0)\n",
    "Y = np.concatenate((Y1, Y2, Y3), axis=0)"
   ]
  },
  {
   "cell_type": "markdown",
   "metadata": {},
   "source": [
    "### セッションの初期化"
   ]
  },
  {
   "cell_type": "code",
   "execution_count": 19,
   "metadata": {},
   "outputs": [],
   "source": [
    "# ---セッション---\n",
    "\n",
    "init = tf.global_variables_initializer()\n",
    "sess = tf.Session()\n",
    "sess.run(init)    # ここではじめてモデルの定義で宣言した変数・式の初期化が行われる"
   ]
  },
  {
   "cell_type": "markdown",
   "metadata": {},
   "source": [
    "### 学習"
   ]
  },
  {
   "cell_type": "code",
   "execution_count": 20,
   "metadata": {},
   "outputs": [],
   "source": [
    "batch_size = 50    # ミニバッチサイズ\n",
    "n_batches = N    # batch_size\n",
    "\n",
    "for epoch in range(20):\n",
    "    X_, Y_ = shuffle(X, Y)\n",
    "    \n",
    "    for i in range(n_batches):\n",
    "        start = i * batch_size\n",
    "        end = start + batch_size\n",
    "        \n",
    "        sess.run(train_step, feed_dict={x: X_[start:end], y: Y_[start:end]})"
   ]
  },
  {
   "cell_type": "markdown",
   "metadata": {},
   "source": [
    "### 評価"
   ]
  },
  {
   "cell_type": "code",
   "execution_count": 22,
   "metadata": {},
   "outputs": [
    {
     "name": "stdout",
     "output_type": "stream",
     "text": [
      "===[classified]===\n",
      "[ True  True  True  True  True  True  True  True  True  True]\n",
      "===[prob]=== \n",
      "[[9.1983430e-04 9.6831191e-01 3.0768214e-02]\n",
      " [3.3742201e-02 9.6437895e-01 1.8788164e-03]\n",
      " [1.4817037e-07 4.0019002e-02 9.5998079e-01]\n",
      " [9.9885333e-01 1.1466896e-03 2.7971214e-10]\n",
      " [9.9841142e-01 1.5885374e-03 2.0899114e-09]\n",
      " [2.4606669e-02 9.6900392e-01 6.3893991e-03]\n",
      " [1.7782869e-03 9.7434843e-01 2.3873348e-02]\n",
      " [1.1031040e-01 8.8553250e-01 4.1571436e-03]\n",
      " [2.4705239e-08 1.2057335e-02 9.8794264e-01]\n",
      " [9.0052523e-03 9.8831844e-01 2.6762991e-03]]\n"
     ]
    }
   ],
   "source": [
    "X_, Y_ = shuffle(X, Y)\n",
    "\n",
    "classified = correct_prediction.eval(session=sess, feed_dict={x: X_[0:10], y: Y_[0:10]})\n",
    "prob = f.eval(session=sess, feed_dict={x: X_[0:10]})\n",
    "\n",
    "print('===[classified]===')\n",
    "print('{0}'.format(classified))\n",
    "print('===[prob]=== ')\n",
    "print('{0}'.format(prob))"
   ]
  },
  {
   "cell_type": "markdown",
   "metadata": {},
   "source": [
    "## Kerasによる実装"
   ]
  },
  {
   "cell_type": "code",
   "execution_count": 25,
   "metadata": {},
   "outputs": [
    {
     "name": "stdout",
     "output_type": "stream",
     "text": [
      "Epoch 1/20\n",
      "300/300 [==============================] - 0s 498us/step - loss: 1.9149\n",
      "Epoch 2/20\n",
      "300/300 [==============================] - 0s 27us/step - loss: 0.2456\n",
      "Epoch 3/20\n",
      "300/300 [==============================] - 0s 33us/step - loss: 0.1679\n",
      "Epoch 4/20\n",
      "300/300 [==============================] - 0s 42us/step - loss: 0.1363\n",
      "Epoch 5/20\n",
      "300/300 [==============================] - 0s 39us/step - loss: 0.1127\n",
      "Epoch 6/20\n",
      "300/300 [==============================] - 0s 49us/step - loss: 0.0940\n",
      "Epoch 7/20\n",
      "300/300 [==============================] - 0s 41us/step - loss: 0.0860\n",
      "Epoch 8/20\n",
      "300/300 [==============================] - 0s 30us/step - loss: 0.0752\n",
      "Epoch 9/20\n",
      "300/300 [==============================] - 0s 54us/step - loss: 0.0689\n",
      "Epoch 10/20\n",
      "300/300 [==============================] - 0s 37us/step - loss: 0.0638\n",
      "Epoch 11/20\n",
      "300/300 [==============================] - 0s 38us/step - loss: 0.0591\n",
      "Epoch 12/20\n",
      "300/300 [==============================] - 0s 36us/step - loss: 0.0554\n",
      "Epoch 13/20\n",
      "300/300 [==============================] - 0s 39us/step - loss: 0.0528\n",
      "Epoch 14/20\n",
      "300/300 [==============================] - 0s 46us/step - loss: 0.0497\n",
      "Epoch 15/20\n",
      "300/300 [==============================] - 0s 35us/step - loss: 0.0470\n",
      "Epoch 16/20\n",
      "300/300 [==============================] - 0s 47us/step - loss: 0.0449\n",
      "Epoch 17/20\n",
      "300/300 [==============================] - 0s 29us/step - loss: 0.0432\n",
      "Epoch 18/20\n",
      "300/300 [==============================] - 0s 48us/step - loss: 0.0413\n",
      "Epoch 19/20\n",
      "300/300 [==============================] - 0s 42us/step - loss: 0.0400\n",
      "Epoch 20/20\n",
      "300/300 [==============================] - 0s 31us/step - loss: 0.0388\n",
      "===[classified]===\n",
      "[ True  True  True  True  True  True  True  True  True  True]\n",
      "===[prob]=== \n",
      "[[1.3822981e-08 1.0878920e-02 9.8912102e-01]\n",
      " [7.0527710e-02 9.2783177e-01 1.6405042e-03]\n",
      " [1.3877099e-09 4.5900554e-03 9.9540991e-01]\n",
      " [9.8722458e-01 1.2775427e-02 2.2502391e-08]\n",
      " [6.4101329e-08 3.5402484e-02 9.6459740e-01]\n",
      " [1.1571991e-03 9.8733205e-01 1.1510800e-02]\n",
      " [2.4606420e-03 9.8484749e-01 1.2691880e-02]\n",
      " [8.2469243e-01 1.7530732e-01 2.5589912e-07]\n",
      " [1.1482461e-08 8.4868800e-03 9.9151307e-01]\n",
      " [1.4993114e-08 3.7999137e-03 9.9620003e-01]]\n"
     ]
    }
   ],
   "source": [
    "import numpy as np\n",
    "from keras.models import Sequential\n",
    "from keras.layers import Dense, Activation\n",
    "from keras.optimizers import SGD    # 確率的勾配降下法\n",
    "\n",
    "# 出力層の定義\n",
    "model = Sequential()\n",
    "model.add(Dense(input_dim=M, units=K))    # 層\n",
    "model.add(Activation('softmax'))    # 活性化関数\n",
    "\n",
    "# 最適化手法の定義 : 確率的勾配降下法\n",
    "LEARNING_RATE = 0.1\n",
    "model.compile(loss='categorical_crossentropy', optimizer=SGD(lr=LEARNING_RATE))\n",
    "\n",
    "# 学習\n",
    "minibatch_size = 50\n",
    "model.fit(X, Y, epochs=20, batch_size=minibatch_size)\n",
    "\n",
    "# 評価\n",
    "X_, Y_ = shuffle(X, Y)\n",
    "classes = model.predict_classes(X_[0:10], batch_size=minibatch_size)\n",
    "prob = model.predict_proba(X_[0:10], batch_size=1)\n",
    "\n",
    "print('===[classified]===')\n",
    "print('{0}'.format(np.argmax(model.predict(X_[0:10]), axis=1) == classes))\n",
    "print('===[prob]=== ')\n",
    "print('{0}'.format(prob))"
   ]
  },
  {
   "cell_type": "code",
   "execution_count": null,
   "metadata": {},
   "outputs": [],
   "source": []
  }
 ],
 "metadata": {
  "kernelspec": {
   "display_name": "Python 3",
   "language": "python",
   "name": "python3"
  },
  "language_info": {
   "codemirror_mode": {
    "name": "ipython",
    "version": 3
   },
   "file_extension": ".py",
   "mimetype": "text/x-python",
   "name": "python",
   "nbconvert_exporter": "python",
   "pygments_lexer": "ipython3",
   "version": "3.6.3"
  },
  "toc": {
   "nav_menu": {},
   "number_sections": true,
   "sideBar": true,
   "skip_h1_title": false,
   "toc_cell": false,
   "toc_position": {},
   "toc_section_display": "block",
   "toc_window_display": true
  }
 },
 "nbformat": 4,
 "nbformat_minor": 2
}
