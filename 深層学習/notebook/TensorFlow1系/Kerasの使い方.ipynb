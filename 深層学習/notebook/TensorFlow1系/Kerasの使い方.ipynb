{
 "cells": [
  {
   "cell_type": "markdown",
   "metadata": {},
   "source": [
    "# Kerasの概要\n",
    "> Kerasは，Pythonで書かれた，TensorFlowまたはTheano上で実行可能な高水準の**ニューラルネットワークライブラリ**です． Kerasは，迅速な実験を可能にすることに重点を置いて開発されました． 可能な限り遅れなくアイデアから結果に進められることは，良い研究をする上で重要です．\n",
    ">\n",
    ">次のような場合で深層学習ライブラリが必要なら，Kerasを使用してください:\n",
    ">\n",
    "> - 容易に素早くプロトタイプの作成が可能（ユーザーフレンドリー，モジュール性，および拡張性による）\n",
    "> - CNNとRNNの両方，およびこれらの2つの組み合わせをサポート\n",
    "> - CPUとGPU上でシームレスな動作\n",
    "\n",
    "Keras Documentationより引用\n",
    "\n",
    "**インストール方法**\n",
    "```bash\n",
    "pip install keras\n",
    "```\n",
    "**インポート方法**\n",
    "```python\n",
    "import keras\n",
    "```\n",
    "\n",
    "\n",
    "\n",
    "## Kerasの各種ドキュメント\n",
    "\n",
    " - [Keras: Pythonの深層学習ライブラリ - https://keras.io/ja/](https://keras.io/ja/)\n",
    " - [Kerasの実装例 - https://github.com/keras-team/keras/tree/master/examples](https://github.com/keras-team/keras/tree/master/examples)"
   ]
  },
  {
   "cell_type": "markdown",
   "metadata": {},
   "source": [
    "---\n",
    "# モデリング"
   ]
  },
  {
   "cell_type": "code",
   "execution_count": 3,
   "metadata": {},
   "outputs": [],
   "source": [
    "import numpy as np\n",
    "import pandas as pd\n",
    "\n",
    "import matplotlib.pyplot as plt\n",
    "import seaborn as sns\n",
    "\n",
    "%matplotlib inline"
   ]
  },
  {
   "cell_type": "markdown",
   "metadata": {},
   "source": [
    "## データを用意"
   ]
  },
  {
   "cell_type": "code",
   "execution_count": 8,
   "metadata": {},
   "outputs": [],
   "source": [
    "from keras.datasets import mnist\n",
    "from keras.utils import np_utils\n",
    "\n",
    "# Kerasに含まれるMNISTデータの取得\n",
    "# 初回はダウンロードが発生するため時間がかかる\n",
    "(X_train, Y_train), (X_test, Y_test) = mnist.load_data()\n",
    " \n",
    "# 配列の整形と、色の範囲を0-255 -> 0-1に変換\n",
    "X_train = X_train.reshape(60000, 784) / 255\n",
    "X_test = X_test.reshape(10000, 784) / 255\n",
    " \n",
    "# 正解データを数値からダミー変数の形式に変換\n",
    "# これは例えば0, 1, 2の3値の分類の正解ラベル5件のデータが以下のような配列になってるとして\n",
    "#   [0, 1, 2, 1, 0]\n",
    "# 以下のような形式に変換する\n",
    "#   [[1, 0, 0],\n",
    "#    [0, 1, 0],\n",
    "#    [0, 0, 1],\n",
    "#    [0, 1, 0],\n",
    "#    [1, 0, 0]]\n",
    "# 列方向が0, 1, 2、行方向が各データに対応し、元のデータで正解となる部分が1、それ以外が0となるように展開してる\n",
    "Y_train = np_utils.to_categorical(Y_train)\n",
    "Y_test = np_utils.to_categorical(Y_test)"
   ]
  },
  {
   "cell_type": "markdown",
   "metadata": {},
   "source": [
    "## モデル設定\n",
    "\n",
    " 1. `model = Sequential()`で初期化.\n",
    " 2. `model.add()`で層を積んでいく."
   ]
  },
  {
   "cell_type": "code",
   "execution_count": 9,
   "metadata": {
    "scrolled": true
   },
   "outputs": [],
   "source": [
    "from keras.datasets import mnist\n",
    "from keras.models import Sequential\n",
    "from keras.layers.core import Dense, Activation\n",
    "\n",
    "\n",
    "# ネットワークの定義\n",
    "# 各層や活性関数に該当するレイヤを順に入れていく\n",
    "# 作成したあとにmodel.add()で追加することも可能\n",
    "model = Sequential([\n",
    "        Dense(512, input_shape=(784,)),\n",
    "        Activation('sigmoid'),\n",
    "        Dense(10),\n",
    "        Activation('softmax')\n",
    "    ])"
   ]
  },
  {
   "cell_type": "markdown",
   "metadata": {},
   "source": [
    "## モデルのコンパイル\n",
    "```python\n",
    "model.compile(loss=\"損失関数\", optimizer=\"最適化関数\")\n",
    "```"
   ]
  },
  {
   "cell_type": "code",
   "execution_count": 11,
   "metadata": {},
   "outputs": [],
   "source": [
    "# 損失関数、 最適化アルゴリズムなどを設定しモデルのコンパイルを行う\n",
    "model.compile(\n",
    "    loss='categorical_crossentropy', \n",
    "    optimizer='sgd', \n",
    "    metrics=['accuracy']\n",
    ")"
   ]
  },
  {
   "cell_type": "markdown",
   "metadata": {},
   "source": [
    "## モデルの学習\n",
    "```python\n",
    "model.fit(\n",
    "    X_train,  # 特徴量データ\n",
    "    Y_train,  # 教師データ\n",
    "    batch_size=200,  # 1つのミニバッチのデータ数\n",
    "    epochs=20,  # 学習の繰り返し. N個のデータを何回学習するか\n",
    "    validation_split=0.1  # 入力データの何割を検証用データにするか(各エポックのテスト)\n",
    "    callbacks=[check]  # コールバック関数を指定\n",
    ")\n",
    "```"
   ]
  },
  {
   "cell_type": "markdown",
   "metadata": {},
   "source": [
    "**コールバック関数**\n",
    "\n",
    "Kerasには学習時に利用できるコールバック関数というものがあります。 コールバック関数を利用すると学習時にエポックごとなど適宜その関数が呼ばれることになるため、学習状況の監視やチェックポイントの作成などに役立ちます。\n",
    "\n",
    "例 ) 早期終了を行うためのコールバック関数の設定は以下のようになります。\n",
    "```python\n",
    "from keras.callbacks import EarlyStopping\n",
    " \n",
    "...\n",
    "...\n",
    " \n",
    "early_stopping = EarlyStopping(monitor='val_loss')\n",
    "model.fit(\n",
    "    X_train, y_train, \n",
    "    batch_size=200, \n",
    "    verbose=1, \n",
    "    epochs=20, \n",
    "    validation_split=0.1, \n",
    "    callbacks=[early_stopping])\n",
    "```"
   ]
  },
  {
   "cell_type": "code",
   "execution_count": 13,
   "metadata": {
    "scrolled": true
   },
   "outputs": [
    {
     "name": "stdout",
     "output_type": "stream",
     "text": [
      "Train on 54000 samples, validate on 6000 samples\n",
      "Epoch 1/20\n",
      "54000/54000 [==============================] - 3s 60us/step - loss: 0.4524 - acc: 0.8809 - val_loss: 0.3751 - val_acc: 0.9077\n",
      "Epoch 2/20\n",
      "54000/54000 [==============================] - 4s 72us/step - loss: 0.4445 - acc: 0.8819 - val_loss: 0.3685 - val_acc: 0.9078\n",
      "Epoch 3/20\n",
      "54000/54000 [==============================] - 3s 62us/step - loss: 0.4372 - acc: 0.8836 - val_loss: 0.3613 - val_acc: 0.9092\n",
      "Epoch 4/20\n",
      "54000/54000 [==============================] - 4s 65us/step - loss: 0.4306 - acc: 0.8836 - val_loss: 0.3557 - val_acc: 0.9100\n",
      "Epoch 5/20\n",
      "54000/54000 [==============================] - 4s 66us/step - loss: 0.4246 - acc: 0.8853 - val_loss: 0.3499 - val_acc: 0.9095\n",
      "Epoch 6/20\n",
      "54000/54000 [==============================] - 4s 73us/step - loss: 0.4191 - acc: 0.8858 - val_loss: 0.3453 - val_acc: 0.9102\n",
      "Epoch 7/20\n",
      "54000/54000 [==============================] - 4s 68us/step - loss: 0.4138 - acc: 0.8869 - val_loss: 0.3405 - val_acc: 0.9112\n",
      "Epoch 8/20\n",
      "54000/54000 [==============================] - 4s 69us/step - loss: 0.4090 - acc: 0.8882 - val_loss: 0.3362 - val_acc: 0.9123\n",
      "Epoch 9/20\n",
      "54000/54000 [==============================] - 4s 75us/step - loss: 0.4045 - acc: 0.8887 - val_loss: 0.3325 - val_acc: 0.9133\n",
      "Epoch 10/20\n",
      "54000/54000 [==============================] - 4s 75us/step - loss: 0.4003 - acc: 0.8902 - val_loss: 0.3289 - val_acc: 0.9127\n",
      "Epoch 11/20\n",
      "54000/54000 [==============================] - 4s 75us/step - loss: 0.3963 - acc: 0.8902 - val_loss: 0.3260 - val_acc: 0.9135\n",
      "Epoch 12/20\n",
      "54000/54000 [==============================] - 4s 76us/step - loss: 0.3927 - acc: 0.8912 - val_loss: 0.3228 - val_acc: 0.9132\n",
      "Epoch 13/20\n",
      "54000/54000 [==============================] - 4s 76us/step - loss: 0.3891 - acc: 0.8919 - val_loss: 0.3192 - val_acc: 0.9145\n",
      "Epoch 14/20\n",
      "54000/54000 [==============================] - 5s 85us/step - loss: 0.3859 - acc: 0.8928 - val_loss: 0.3170 - val_acc: 0.9143\n",
      "Epoch 15/20\n",
      "54000/54000 [==============================] - 4s 78us/step - loss: 0.3827 - acc: 0.8929 - val_loss: 0.3139 - val_acc: 0.9155\n",
      "Epoch 16/20\n",
      "54000/54000 [==============================] - 4s 74us/step - loss: 0.3798 - acc: 0.8931 - val_loss: 0.3114 - val_acc: 0.9163\n",
      "Epoch 17/20\n",
      "54000/54000 [==============================] - 4s 71us/step - loss: 0.3770 - acc: 0.8943 - val_loss: 0.3089 - val_acc: 0.9155\n",
      "Epoch 18/20\n",
      "54000/54000 [==============================] - 4s 72us/step - loss: 0.3743 - acc: 0.8946 - val_loss: 0.3066 - val_acc: 0.9165\n",
      "Epoch 19/20\n",
      "54000/54000 [==============================] - 4s 70us/step - loss: 0.3719 - acc: 0.8956 - val_loss: 0.3049 - val_acc: 0.9177\n",
      "Epoch 20/20\n",
      "54000/54000 [==============================] - 4s 68us/step - loss: 0.3694 - acc: 0.8957 - val_loss: 0.3025 - val_acc: 0.9172\n"
     ]
    },
    {
     "data": {
      "text/plain": [
       "<keras.callbacks.History at 0x182d2a8358>"
      ]
     },
     "execution_count": 13,
     "metadata": {},
     "output_type": "execute_result"
    }
   ],
   "source": [
    "from keras.callbacks import ModelCheckpoint\n",
    "\n",
    "\n",
    "check = ModelCheckpoint(\"model.hdf5\")\n",
    "\n",
    "MINI_BATCH_SIZE = 200\n",
    "EPOCHS = 20\n",
    "VALIDATION_SPLIT = 0.1\n",
    "callbacks_list = [\n",
    "    check,\n",
    "]\n",
    "\n",
    "# 学習処理の実行\n",
    "model.fit(\n",
    "    X_train, y_train, \n",
    "    batch_size=MINI_BATCH_SIZE, \n",
    "    verbose=1, \n",
    "    epochs=EPOCHS, \n",
    "    validation_split=VALIDATION_SPLIT,\n",
    "    callbacks=callbacks_list\n",
    ")"
   ]
  },
  {
   "cell_type": "markdown",
   "metadata": {},
   "source": [
    "## 予測"
   ]
  },
  {
   "cell_type": "code",
   "execution_count": 16,
   "metadata": {},
   "outputs": [
    {
     "name": "stdout",
     "output_type": "stream",
     "text": [
      "[[1.65042366e-04 2.83217059e-06 9.43930354e-05 ... 9.95475829e-01\n",
      "  2.55696359e-05 3.01114493e-03]\n",
      " [2.00643912e-02 1.05723646e-03 7.88447201e-01 ... 1.64628739e-06\n",
      "  1.29138213e-02 4.20704237e-06]\n",
      " [9.45803113e-05 9.58125472e-01 1.21648926e-02 ... 8.00932106e-03\n",
      "  4.80091106e-03 1.84087304e-03]\n",
      " ...\n",
      " [1.17688751e-05 5.87388058e-05 1.32061265e-04 ... 4.53505013e-03\n",
      "  2.31036451e-02 9.88734886e-02]\n",
      " [1.08677633e-02 1.01448335e-02 2.69526150e-03 ... 1.52515178e-03\n",
      "  3.89797211e-01 2.27136561e-03]\n",
      " [1.27916632e-03 7.71623263e-08 2.73585739e-03 ... 5.14278611e-08\n",
      "  3.21497137e-05 2.31314857e-06]]\n"
     ]
    }
   ],
   "source": [
    "# 予測\n",
    "pred = model.predict(X_test)\n",
    "print(pred)"
   ]
  },
  {
   "cell_type": "markdown",
   "metadata": {},
   "source": [
    "## 評価"
   ]
  },
  {
   "cell_type": "code",
   "execution_count": 19,
   "metadata": {},
   "outputs": [
    {
     "name": "stdout",
     "output_type": "stream",
     "text": [
      "10000/10000 [==============================] - 1s 56us/step\n",
      "loss:0.3452177201509476\n",
      "accuracy:0.903\n"
     ]
    }
   ],
   "source": [
    "loss, accuracy = model.evaluate(X_test, Y_test)\n",
    "print(\"loss:{}\\naccuracy:{}\".format(loss, accuracy))"
   ]
  },
  {
   "cell_type": "markdown",
   "metadata": {},
   "source": [
    "---\n",
    "# ネットワークの可視化\n",
    "> Kerasは作成したネットワークを可視化する機能も有してる。 \n",
    "\n",
    "**インストール**\n",
    "```bash\n",
    "brew install graphviz\n",
    "pip install pydot\n",
    "```\n",
    "\n",
    "**ネットワークを可視化した画像を保存**\n",
    "```python\n",
    "from keras.utils.visualize_util import plot\n",
    "plot(model, to_file=\"ネットワークの可視化画像名.png\", show_shapes=True, show_layer_names=True)\n",
    "```\n",
    "\n",
    " - `to_file` : 出力の画像ファイル名\n",
    " - `show_shapes` : グラフ中に出力形状を書くか否や.(defaultはFalse)\n",
    " - `show_layer_names` : レイヤー名を書くか否や.(defaultはTrue)"
   ]
  },
  {
   "cell_type": "markdown",
   "metadata": {},
   "source": [
    "**Jupyter notebook上のインラインに表示**"
   ]
  },
  {
   "cell_type": "code",
   "execution_count": 20,
   "metadata": {},
   "outputs": [
    {
     "data": {
      "image/svg+xml": [
       "<svg height=\"337pt\" viewBox=\"0.00 0.00 158.92 337.00\" width=\"159pt\" xmlns=\"http://www.w3.org/2000/svg\" xmlns:xlink=\"http://www.w3.org/1999/xlink\">\n",
       "<g class=\"graph\" id=\"graph0\" transform=\"scale(1 1) rotate(0) translate(4 333)\">\n",
       "<title>G</title>\n",
       "<polygon fill=\"#ffffff\" points=\"-4,4 -4,-333 154.9209,-333 154.9209,4 -4,4\" stroke=\"transparent\"/>\n",
       "<!-- 112892586416 -->\n",
       "<g class=\"node\" id=\"node1\">\n",
       "<title>112892586416</title>\n",
       "<polygon fill=\"none\" points=\"23.3345,-219.5 23.3345,-255.5 127.5864,-255.5 127.5864,-219.5 23.3345,-219.5\" stroke=\"#000000\"/>\n",
       "<text fill=\"#000000\" font-family=\"Times,serif\" font-size=\"14.00\" text-anchor=\"middle\" x=\"75.4604\" y=\"-233.3\">dense_5: Dense</text>\n",
       "</g>\n",
       "<!-- 112892719960 -->\n",
       "<g class=\"node\" id=\"node2\">\n",
       "<title>112892719960</title>\n",
       "<polygon fill=\"none\" points=\"0,-146.5 0,-182.5 150.9209,-182.5 150.9209,-146.5 0,-146.5\" stroke=\"#000000\"/>\n",
       "<text fill=\"#000000\" font-family=\"Times,serif\" font-size=\"14.00\" text-anchor=\"middle\" x=\"75.4604\" y=\"-160.3\">activation_5: Activation</text>\n",
       "</g>\n",
       "<!-- 112892586416&#45;&gt;112892719960 -->\n",
       "<g class=\"edge\" id=\"edge2\">\n",
       "<title>112892586416-&gt;112892719960</title>\n",
       "<path d=\"M75.4604,-219.4551C75.4604,-211.3828 75.4604,-201.6764 75.4604,-192.6817\" fill=\"none\" stroke=\"#000000\"/>\n",
       "<polygon fill=\"#000000\" points=\"78.9605,-192.5903 75.4604,-182.5904 71.9605,-192.5904 78.9605,-192.5903\" stroke=\"#000000\"/>\n",
       "</g>\n",
       "<!-- 112892719736 -->\n",
       "<g class=\"node\" id=\"node3\">\n",
       "<title>112892719736</title>\n",
       "<polygon fill=\"none\" points=\"23.3345,-73.5 23.3345,-109.5 127.5864,-109.5 127.5864,-73.5 23.3345,-73.5\" stroke=\"#000000\"/>\n",
       "<text fill=\"#000000\" font-family=\"Times,serif\" font-size=\"14.00\" text-anchor=\"middle\" x=\"75.4604\" y=\"-87.3\">dense_6: Dense</text>\n",
       "</g>\n",
       "<!-- 112892719960&#45;&gt;112892719736 -->\n",
       "<g class=\"edge\" id=\"edge3\">\n",
       "<title>112892719960-&gt;112892719736</title>\n",
       "<path d=\"M75.4604,-146.4551C75.4604,-138.3828 75.4604,-128.6764 75.4604,-119.6817\" fill=\"none\" stroke=\"#000000\"/>\n",
       "<polygon fill=\"#000000\" points=\"78.9605,-119.5903 75.4604,-109.5904 71.9605,-119.5904 78.9605,-119.5903\" stroke=\"#000000\"/>\n",
       "</g>\n",
       "<!-- 103830178728 -->\n",
       "<g class=\"node\" id=\"node4\">\n",
       "<title>103830178728</title>\n",
       "<polygon fill=\"none\" points=\"0,-.5 0,-36.5 150.9209,-36.5 150.9209,-.5 0,-.5\" stroke=\"#000000\"/>\n",
       "<text fill=\"#000000\" font-family=\"Times,serif\" font-size=\"14.00\" text-anchor=\"middle\" x=\"75.4604\" y=\"-14.3\">activation_6: Activation</text>\n",
       "</g>\n",
       "<!-- 112892719736&#45;&gt;103830178728 -->\n",
       "<g class=\"edge\" id=\"edge4\">\n",
       "<title>112892719736-&gt;103830178728</title>\n",
       "<path d=\"M75.4604,-73.4551C75.4604,-65.3828 75.4604,-55.6764 75.4604,-46.6817\" fill=\"none\" stroke=\"#000000\"/>\n",
       "<polygon fill=\"#000000\" points=\"78.9605,-46.5903 75.4604,-36.5904 71.9605,-46.5904 78.9605,-46.5903\" stroke=\"#000000\"/>\n",
       "</g>\n",
       "<!-- 103830178000 -->\n",
       "<g class=\"node\" id=\"node5\">\n",
       "<title>103830178000</title>\n",
       "<polygon fill=\"none\" points=\"25.4604,-292.5 25.4604,-328.5 125.4604,-328.5 125.4604,-292.5 25.4604,-292.5\" stroke=\"#000000\"/>\n",
       "<text fill=\"#000000\" font-family=\"Times,serif\" font-size=\"14.00\" text-anchor=\"middle\" x=\"75.4604\" y=\"-306.3\">103830178000</text>\n",
       "</g>\n",
       "<!-- 103830178000&#45;&gt;112892586416 -->\n",
       "<g class=\"edge\" id=\"edge1\">\n",
       "<title>103830178000-&gt;112892586416</title>\n",
       "<path d=\"M75.4604,-292.4551C75.4604,-284.3828 75.4604,-274.6764 75.4604,-265.6817\" fill=\"none\" stroke=\"#000000\"/>\n",
       "<polygon fill=\"#000000\" points=\"78.9605,-265.5903 75.4604,-255.5904 71.9605,-265.5904 78.9605,-265.5903\" stroke=\"#000000\"/>\n",
       "</g>\n",
       "</g>\n",
       "</svg>"
      ],
      "text/plain": [
       "<IPython.core.display.SVG object>"
      ]
     },
     "execution_count": 20,
     "metadata": {},
     "output_type": "execute_result"
    }
   ],
   "source": [
    "from IPython.display import SVG\n",
    "from keras.utils.vis_utils import model_to_dot\n",
    " \n",
    "SVG(model_to_dot(model).create(prog='dot', format='svg'))"
   ]
  },
  {
   "cell_type": "markdown",
   "metadata": {},
   "source": [
    "---\n",
    "# 学習過程を可視化"
   ]
  },
  {
   "cell_type": "code",
   "execution_count": 26,
   "metadata": {},
   "outputs": [],
   "source": [
    "def plot_history(history):\n",
    "    # 精度の履歴をプロット\n",
    "    plt.plot(history.history['acc'],\"o-\",label=\"accuracy\")\n",
    "    plt.plot(history.history['val_acc'],\"o-\",label=\"val_acc\")\n",
    "    plt.title('model accuracy')\n",
    "    plt.xlabel('epoch')\n",
    "    plt.ylabel('accuracy')\n",
    "    plt.legend(loc=\"lower right\")\n",
    "    plt.show()\n",
    "\n",
    "    # 損失の履歴をプロット\n",
    "    plt.plot(history.history['loss'],\"o-\",label=\"loss\",)\n",
    "    plt.plot(history.history['val_loss'],\"o-\",label=\"val_loss\")\n",
    "    plt.title('model loss')\n",
    "    plt.xlabel('epoch')\n",
    "    plt.ylabel('loss')\n",
    "    plt.legend(loc='lower right')\n",
    "    plt.show()"
   ]
  },
  {
   "cell_type": "code",
   "execution_count": 28,
   "metadata": {},
   "outputs": [
    {
     "name": "stderr",
     "output_type": "stream",
     "text": [
      "/Users/taiyou/.pyenv/versions/anaconda3-5.0.1/lib/python3.6/site-packages/matplotlib/font_manager.py:1316: UserWarning: findfont: Font family ['[IPAexGothic]'] not found. Falling back to DejaVu Sans\n",
      "  (prop.get_family(), self.defaultFamily[fontext]))\n"
     ]
    },
    {
     "data": {
      "image/png": "[encoded data removed]",
      "text/plain": [
       "<matplotlib.figure.Figure at 0x182cc0b438>"
      ]
     },
     "metadata": {},
     "output_type": "display_data"
    },
    {
     "data": {
      "image/png": "[encoded data removed]",
      "text/plain": [
       "<matplotlib.figure.Figure at 0x182dcf53c8>"
      ]
     },
     "metadata": {},
     "output_type": "display_data"
    }
   ],
   "source": [
    "# modelに学習させた時の変化の様子をplot\n",
    "plot_history(model.history)"
   ]
  },
  {
   "cell_type": "markdown",
   "metadata": {},
   "source": [
    "---\n",
    "# モデルの設定(記述)方法\n",
    "\n",
    "Kerasでは、ネットワークを層(Layer)を記述する方法が2つある。\n",
    "\n",
    " - **`Sequential`モデル** : ネットワークを1列に積み重ねていく、シンプルな方法.\n",
    " - **`Functional API`** : 複雑なネットワークの記述が可能な方法. Sequentialモデルと異なり、複数の出力や共有レイヤーの定義等が可能."
   ]
  },
  {
   "cell_type": "markdown",
   "metadata": {},
   "source": []
  },
  {
   "cell_type": "code",
   "execution_count": null,
   "metadata": {},
   "outputs": [],
   "source": []
  }
 ],
 "metadata": {
  "kernelspec": {
   "display_name": "Python 3",
   "language": "python",
   "name": "python3"
  },
  "language_info": {
   "codemirror_mode": {
    "name": "ipython",
    "version": 3
   },
   "file_extension": ".py",
   "mimetype": "text/x-python",
   "name": "python",
   "nbconvert_exporter": "python",
   "pygments_lexer": "ipython3",
   "version": "3.7.2"
  },
  "toc": {
   "nav_menu": {},
   "number_sections": true,
   "sideBar": true,
   "skip_h1_title": false,
   "toc_cell": false,
   "toc_position": {},
   "toc_section_display": "block",
   "toc_window_display": false
  }
 },
 "nbformat": 4,
 "nbformat_minor": 2
}
