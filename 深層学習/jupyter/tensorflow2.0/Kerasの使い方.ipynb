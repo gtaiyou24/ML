{
 "cells": [
  {
   "cell_type": "markdown",
   "metadata": {},
   "source": [
    "# Kerasの使い方"
   ]
  },
  {
   "cell_type": "markdown",
   "metadata": {},
   "source": [
    "## 参考資料"
   ]
  },
  {
   "cell_type": "markdown",
   "metadata": {},
   "source": [
    " - [詳解ディープラーニング 第2版 (Compass Books)](https://www.amazon.co.jp/gp/product/B081RN1Z9C/ref=ppx_yo_dt_b_d_asin_title_o00?ie=UTF8&psc=1)\n",
    " - [TensorFlow, Kerasの基本的な使い方（モデル構築・訓練・評価・予測） | note.nkmk.me](https://note.nkmk.me/python-tensorflow-keras-basics/)\n",
    " - [Keras: Pythonの深層学習ライブラリ](https://keras.io/ja/)\n",
    " - [Neural Networkでの失敗経験やアンチパターンを語る - のんびりしているエンジニアの日記](https://nonbiri-tereka.hatenablog.com/entry/2016/03/10/073633)"
   ]
  },
  {
   "cell_type": "markdown",
   "metadata": {},
   "source": [
    "## データの準備"
   ]
  },
  {
   "cell_type": "code",
   "execution_count": 158,
   "metadata": {
    "ExecuteTime": {
     "end_time": "2020-11-15T10:21:09.683150Z",
     "start_time": "2020-11-15T10:21:09.661907Z"
    }
   },
   "outputs": [],
   "source": [
    "import pandas as pd\n",
    "from sklearn.datasets import fetch_california_housing\n",
    "\n",
    "\n",
    "dataset = fetch_california_housing()\n",
    "teacher_ser = pd.Series(dataset.target, name=\"カルフォルニアの住宅価格\")\n",
    "feature_df = pd.DataFrame(dataset.data, columns=dataset.feature_names)"
   ]
  },
  {
   "cell_type": "code",
   "execution_count": 159,
   "metadata": {
    "ExecuteTime": {
     "end_time": "2020-11-15T10:21:09.833034Z",
     "start_time": "2020-11-15T10:21:09.822826Z"
    }
   },
   "outputs": [
    {
     "data": {
      "text/plain": [
       "0    4.526\n",
       "1    3.585\n",
       "2    3.521\n",
       "3    3.413\n",
       "4    3.422\n",
       "Name: カルフォルニアの住宅価格, dtype: float64"
      ]
     },
     "execution_count": 159,
     "metadata": {},
     "output_type": "execute_result"
    }
   ],
   "source": [
    "teacher_ser.head()"
   ]
  },
  {
   "cell_type": "code",
   "execution_count": 160,
   "metadata": {
    "ExecuteTime": {
     "end_time": "2020-11-15T10:21:10.026439Z",
     "start_time": "2020-11-15T10:21:10.006139Z"
    }
   },
   "outputs": [
    {
     "data": {
      "text/html": [
       "<div>\n",
       "<style scoped>\n",
       "    .dataframe tbody tr th:only-of-type {\n",
       "        vertical-align: middle;\n",
       "    }\n",
       "\n",
       "    .dataframe tbody tr th {\n",
       "        vertical-align: top;\n",
       "    }\n",
       "\n",
       "    .dataframe thead th {\n",
       "        text-align: right;\n",
       "    }\n",
       "</style>\n",
       "<table border=\"1\" class=\"dataframe\">\n",
       "  <thead>\n",
       "    <tr style=\"text-align: right;\">\n",
       "      <th></th>\n",
       "      <th>MedInc</th>\n",
       "      <th>HouseAge</th>\n",
       "      <th>AveRooms</th>\n",
       "      <th>AveBedrms</th>\n",
       "      <th>Population</th>\n",
       "      <th>AveOccup</th>\n",
       "      <th>Latitude</th>\n",
       "      <th>Longitude</th>\n",
       "    </tr>\n",
       "  </thead>\n",
       "  <tbody>\n",
       "    <tr>\n",
       "      <th>0</th>\n",
       "      <td>8.3252</td>\n",
       "      <td>41.0</td>\n",
       "      <td>6.984127</td>\n",
       "      <td>1.023810</td>\n",
       "      <td>322.0</td>\n",
       "      <td>2.555556</td>\n",
       "      <td>37.88</td>\n",
       "      <td>-122.23</td>\n",
       "    </tr>\n",
       "    <tr>\n",
       "      <th>1</th>\n",
       "      <td>8.3014</td>\n",
       "      <td>21.0</td>\n",
       "      <td>6.238137</td>\n",
       "      <td>0.971880</td>\n",
       "      <td>2401.0</td>\n",
       "      <td>2.109842</td>\n",
       "      <td>37.86</td>\n",
       "      <td>-122.22</td>\n",
       "    </tr>\n",
       "    <tr>\n",
       "      <th>2</th>\n",
       "      <td>7.2574</td>\n",
       "      <td>52.0</td>\n",
       "      <td>8.288136</td>\n",
       "      <td>1.073446</td>\n",
       "      <td>496.0</td>\n",
       "      <td>2.802260</td>\n",
       "      <td>37.85</td>\n",
       "      <td>-122.24</td>\n",
       "    </tr>\n",
       "    <tr>\n",
       "      <th>3</th>\n",
       "      <td>5.6431</td>\n",
       "      <td>52.0</td>\n",
       "      <td>5.817352</td>\n",
       "      <td>1.073059</td>\n",
       "      <td>558.0</td>\n",
       "      <td>2.547945</td>\n",
       "      <td>37.85</td>\n",
       "      <td>-122.25</td>\n",
       "    </tr>\n",
       "    <tr>\n",
       "      <th>4</th>\n",
       "      <td>3.8462</td>\n",
       "      <td>52.0</td>\n",
       "      <td>6.281853</td>\n",
       "      <td>1.081081</td>\n",
       "      <td>565.0</td>\n",
       "      <td>2.181467</td>\n",
       "      <td>37.85</td>\n",
       "      <td>-122.25</td>\n",
       "    </tr>\n",
       "  </tbody>\n",
       "</table>\n",
       "</div>"
      ],
      "text/plain": [
       "   MedInc  HouseAge  AveRooms  AveBedrms  Population  AveOccup  Latitude  \\\n",
       "0  8.3252      41.0  6.984127   1.023810       322.0  2.555556     37.88   \n",
       "1  8.3014      21.0  6.238137   0.971880      2401.0  2.109842     37.86   \n",
       "2  7.2574      52.0  8.288136   1.073446       496.0  2.802260     37.85   \n",
       "3  5.6431      52.0  5.817352   1.073059       558.0  2.547945     37.85   \n",
       "4  3.8462      52.0  6.281853   1.081081       565.0  2.181467     37.85   \n",
       "\n",
       "   Longitude  \n",
       "0    -122.23  \n",
       "1    -122.22  \n",
       "2    -122.24  \n",
       "3    -122.25  \n",
       "4    -122.25  "
      ]
     },
     "execution_count": 160,
     "metadata": {},
     "output_type": "execute_result"
    }
   ],
   "source": [
    "feature_df.head()"
   ]
  },
  {
   "cell_type": "code",
   "execution_count": 161,
   "metadata": {
    "ExecuteTime": {
     "end_time": "2020-11-15T10:21:10.108561Z",
     "start_time": "2020-11-15T10:21:10.093552Z"
    }
   },
   "outputs": [],
   "source": [
    "from sklearn.model_selection import train_test_split\n",
    "\n",
    "\n",
    "train_feature_df, test_feature_df, train_teacher_ser, test_teacher_ser = train_test_split(feature_df, teacher_ser)"
   ]
  },
  {
   "cell_type": "code",
   "execution_count": 162,
   "metadata": {
    "ExecuteTime": {
     "end_time": "2020-11-15T10:21:10.271586Z",
     "start_time": "2020-11-15T10:21:10.260381Z"
    }
   },
   "outputs": [],
   "source": [
    "# データの正規化\n",
    "\n",
    "平均 = train_feature_df.mean()\n",
    "標準偏差 = train_feature_df.std()\n",
    "\n",
    "train_normed_feature_df = (train_feature_df - 平均) / 標準偏差\n",
    "test_normed_feature_df = (test_feature_df - 平均) / 標準偏差"
   ]
  },
  {
   "cell_type": "markdown",
   "metadata": {},
   "source": [
    "## モデルの構築 "
   ]
  },
  {
   "cell_type": "markdown",
   "metadata": {},
   "source": [
    " - [活性化関数 - Keras Documentation](https://keras.io/ja/activations/)\n",
    " - [正則化 - Keras Documentation](https://keras.io/ja/regularizers/)\n",
    " - [レイヤーの重み初期化 - Keras Documentation](https://keras.io/ja/initializers/)"
   ]
  },
  {
   "cell_type": "markdown",
   "metadata": {},
   "source": [
    "### Sequential API : シンプルな一直線のモデルを構築可能"
   ]
  },
  {
   "cell_type": "code",
   "execution_count": 163,
   "metadata": {
    "ExecuteTime": {
     "end_time": "2020-11-15T10:21:10.956823Z",
     "start_time": "2020-11-15T10:21:10.835818Z"
    },
    "code_folding": [],
    "scrolled": true
   },
   "outputs": [],
   "source": [
    "import tensorflow as tf\n",
    "\n",
    "\n",
    "特徴量の数 = len(train_normed_feature_df.keys())\n",
    "モデルの名前 = 'regression'\n",
    "\n",
    "多層ネットワークモデル = tf.keras.Sequential([\n",
    "    tf.keras.layers.Flatten(input_shape=(特徴量の数, ), name=\"input_layer\"),\n",
    "    tf.keras.layers.Dense(units=64, activation='relu', name=\"internal_layer_1\"),\n",
    "    tf.keras.layers.Dense(units=64, activation='relu', name=\"internal_layer_2\"),\n",
    "    tf.keras.layers.Dense(1, activation=\"relu\", name=\"output_layer\")\n",
    "], name=モデルの名前)"
   ]
  },
  {
   "cell_type": "code",
   "execution_count": 164,
   "metadata": {
    "ExecuteTime": {
     "end_time": "2020-11-15T10:21:11.559646Z",
     "start_time": "2020-11-15T10:21:11.547348Z"
    }
   },
   "outputs": [
    {
     "name": "stdout",
     "output_type": "stream",
     "text": [
      "_________________________________________________________________\n",
      "Layer (type)                 Output Shape              Param #   \n",
      "=================================================================\n",
      "input_layer (Flatten)        (None, 8)                 0         \n",
      "_________________________________________________________________\n",
      "internal_layer_1 (Dense)     (None, 64)                576       \n",
      "_________________________________________________________________\n",
      "dropout_7 (Dropout)          (None, 64)                0         \n",
      "_________________________________________________________________\n",
      "internal_layer_2 (Dense)     (None, 64)                4160      \n",
      "_________________________________________________________________\n",
      "dropout_8 (Dropout)          (None, 64)                0         \n",
      "_________________________________________________________________\n",
      "output_layer (Dense)         (None, 1)                 65        \n",
      "=================================================================\n",
      "Total params: 4,801\n",
      "Trainable params: 4,801\n",
      "Non-trainable params: 0\n",
      "_________________________________________________________________\n"
     ]
    }
   ],
   "source": [
    "多層ネットワークモデル.summary()"
   ]
  },
  {
   "cell_type": "markdown",
   "metadata": {
    "ExecuteTime": {
     "end_time": "2020-07-15T13:53:52.941000Z",
     "start_time": "2020-07-15T13:53:52.936419Z"
    }
   },
   "source": [
    "### Subclassing API (Model Subclassing) : 最も柔軟にモデルを構築可能"
   ]
  },
  {
   "cell_type": "code",
   "execution_count": 85,
   "metadata": {
    "ExecuteTime": {
     "end_time": "2020-11-15T09:57:08.628244Z",
     "start_time": "2020-11-15T09:57:08.613529Z"
    },
    "code_folding": []
   },
   "outputs": [],
   "source": [
    "class MultiLayerNenuralNet(tf.keras.Model):\n",
    "    def __init__(self):\n",
    "        super(MultiLayerNenuralNet, self).__init__()\n",
    "        self.flatten = tf.keras.layers.Flatten()\n",
    "        self.fc1 = tf.keras.layers.Dense(10, activation='relu')\n",
    "        self.dropout = tf.keras.layers.Dropout(0.2)\n",
    "\n",
    "    def call(self, x, training=False):\n",
    "        x = self.flatten(x)\n",
    "        x = self.fc1(x)\n",
    "        x = self.dropout(x, training=training)\n",
    "        return x\n",
    "\n",
    "多層ネットワークモデル = MultiLayerNenuralNet()"
   ]
  },
  {
   "cell_type": "markdown",
   "metadata": {},
   "source": [
    "## 学習プロセスの設定"
   ]
  },
  {
   "cell_type": "markdown",
   "metadata": {},
   "source": [
    " - [最適化 - Keras Documentation](https://keras.io/ja/optimizers/)\n",
    " - [損失関数 - Keras Documentation](https://keras.io/ja/losses/)\n",
    " - [評価関数 - Keras Documentation](https://keras.io/ja/metrics/)"
   ]
  },
  {
   "cell_type": "code",
   "execution_count": 165,
   "metadata": {
    "ExecuteTime": {
     "end_time": "2020-11-15T10:21:14.631566Z",
     "start_time": "2020-11-15T10:21:14.556304Z"
    }
   },
   "outputs": [],
   "source": [
    "最適化アルゴリズム = 'adam'\n",
    "損失関数 = 'mse'\n",
    "評価関数_list  = ['mse', 'mae']\n",
    "\n",
    "多層ネットワークモデル.compile(\n",
    "    optimizer=最適化アルゴリズム,\n",
    "    loss=損失関数,\n",
    "    metrics=評価関数_list\n",
    ")"
   ]
  },
  {
   "cell_type": "code",
   "execution_count": 166,
   "metadata": {
    "ExecuteTime": {
     "end_time": "2020-11-15T10:21:15.526157Z",
     "start_time": "2020-11-15T10:21:15.196145Z"
    }
   },
   "outputs": [
    {
     "data": {
      "text/plain": [
       "array([[0.12266522],\n",
       "       [0.        ],\n",
       "       [0.        ],\n",
       "       [0.        ],\n",
       "       [0.19362313],\n",
       "       [0.0168501 ],\n",
       "       [0.        ],\n",
       "       [0.        ],\n",
       "       [0.10118583],\n",
       "       [0.23680747]], dtype=float32)"
      ]
     },
     "execution_count": 166,
     "metadata": {},
     "output_type": "execute_result"
    }
   ],
   "source": [
    "多層ネットワークモデル.predict(train_normed_feature_df[:10])"
   ]
  },
  {
   "cell_type": "markdown",
   "metadata": {},
   "source": [
    "## 学習"
   ]
  },
  {
   "cell_type": "markdown",
   "metadata": {},
   "source": [
    " - [コールバック - Keras Documentation](https://keras.io/ja/callbacks/)"
   ]
  },
  {
   "cell_type": "code",
   "execution_count": 167,
   "metadata": {
    "ExecuteTime": {
     "end_time": "2020-11-15T10:21:52.182944Z",
     "start_time": "2020-11-15T10:21:17.394854Z"
    },
    "scrolled": true
   },
   "outputs": [
    {
     "name": "stdout",
     "output_type": "stream",
     "text": [
      "Train on 12384 samples, validate on 3096 samples\n",
      "Epoch 1/1000\n",
      "12384/12384 [==============================] - 1s 75us/step - loss: 1.6623 - mean_squared_error: 1.6623 - mean_absolute_error: 0.9261 - val_loss: 0.7355 - val_mean_squared_error: 0.7355 - val_mean_absolute_error: 0.6107\n",
      "Epoch 2/1000\n",
      "12384/12384 [==============================] - 0s 25us/step - loss: 0.8683 - mean_squared_error: 0.8683 - mean_absolute_error: 0.6698 - val_loss: 0.5693 - val_mean_squared_error: 0.5693 - val_mean_absolute_error: 0.5329\n",
      "Epoch 3/1000\n",
      "12384/12384 [==============================] - 0s 23us/step - loss: 0.7333 - mean_squared_error: 0.7333 - mean_absolute_error: 0.6076 - val_loss: 0.5125 - val_mean_squared_error: 0.5125 - val_mean_absolute_error: 0.5127\n",
      "Epoch 4/1000\n",
      "12384/12384 [==============================] - 0s 21us/step - loss: 0.6257 - mean_squared_error: 0.6257 - mean_absolute_error: 0.5674 - val_loss: 0.4894 - val_mean_squared_error: 0.4894 - val_mean_absolute_error: 0.4882\n",
      "Epoch 5/1000\n",
      "12384/12384 [==============================] - 0s 23us/step - loss: 0.5938 - mean_squared_error: 0.5938 - mean_absolute_error: 0.5493 - val_loss: 0.4763 - val_mean_squared_error: 0.4763 - val_mean_absolute_error: 0.4785\n",
      "Epoch 6/1000\n",
      "12384/12384 [==============================] - 1s 41us/step - loss: 0.5638 - mean_squared_error: 0.5638 - mean_absolute_error: 0.5350 - val_loss: 0.4624 - val_mean_squared_error: 0.4624 - val_mean_absolute_error: 0.4753\n",
      "Epoch 7/1000\n",
      "12384/12384 [==============================] - 0s 32us/step - loss: 0.5358 - mean_squared_error: 0.5358 - mean_absolute_error: 0.5197 - val_loss: 0.4369 - val_mean_squared_error: 0.4369 - val_mean_absolute_error: 0.4646\n",
      "Epoch 8/1000\n",
      "12384/12384 [==============================] - 0s 33us/step - loss: 0.5140 - mean_squared_error: 0.5140 - mean_absolute_error: 0.5103 - val_loss: 0.4505 - val_mean_squared_error: 0.4505 - val_mean_absolute_error: 0.4627\n",
      "Epoch 9/1000\n",
      "12384/12384 [==============================] - 0s 32us/step - loss: 0.4987 - mean_squared_error: 0.4987 - mean_absolute_error: 0.5068 - val_loss: 0.4341 - val_mean_squared_error: 0.4341 - val_mean_absolute_error: 0.4573\n",
      "Epoch 10/1000\n",
      "12384/12384 [==============================] - 0s 35us/step - loss: 0.4959 - mean_squared_error: 0.4959 - mean_absolute_error: 0.5009 - val_loss: 0.4216 - val_mean_squared_error: 0.4216 - val_mean_absolute_error: 0.4525\n",
      "Epoch 11/1000\n",
      "12384/12384 [==============================] - 0s 26us/step - loss: 0.4803 - mean_squared_error: 0.4803 - mean_absolute_error: 0.4913 - val_loss: 0.4287 - val_mean_squared_error: 0.4287 - val_mean_absolute_error: 0.4493\n",
      "Epoch 12/1000\n",
      "12384/12384 [==============================] - 0s 33us/step - loss: 0.4772 - mean_squared_error: 0.4772 - mean_absolute_error: 0.4885 - val_loss: 0.4151 - val_mean_squared_error: 0.4151 - val_mean_absolute_error: 0.4491\n",
      "Epoch 13/1000\n",
      "12384/12384 [==============================] - 0s 28us/step - loss: 0.4771 - mean_squared_error: 0.4771 - mean_absolute_error: 0.4873 - val_loss: 0.4199 - val_mean_squared_error: 0.4199 - val_mean_absolute_error: 0.4516\n",
      "Epoch 14/1000\n",
      "12384/12384 [==============================] - 0s 22us/step - loss: 0.4655 - mean_squared_error: 0.4655 - mean_absolute_error: 0.4843 - val_loss: 0.4143 - val_mean_squared_error: 0.4143 - val_mean_absolute_error: 0.4418\n",
      "Epoch 15/1000\n",
      "12384/12384 [==============================] - 0s 24us/step - loss: 0.4486 - mean_squared_error: 0.4486 - mean_absolute_error: 0.4766 - val_loss: 0.4050 - val_mean_squared_error: 0.4050 - val_mean_absolute_error: 0.4410\n",
      "Epoch 16/1000\n",
      "12384/12384 [==============================] - 0s 23us/step - loss: 0.4470 - mean_squared_error: 0.4470 - mean_absolute_error: 0.4730 - val_loss: 0.4007 - val_mean_squared_error: 0.4007 - val_mean_absolute_error: 0.4406\n",
      "Epoch 17/1000\n",
      "12384/12384 [==============================] - 0s 27us/step - loss: 0.4345 - mean_squared_error: 0.4345 - mean_absolute_error: 0.4652 - val_loss: 0.3995 - val_mean_squared_error: 0.3995 - val_mean_absolute_error: 0.4380\n",
      "Epoch 18/1000\n",
      "12384/12384 [==============================] - 0s 27us/step - loss: 0.4344 - mean_squared_error: 0.4344 - mean_absolute_error: 0.4657 - val_loss: 0.3977 - val_mean_squared_error: 0.3977 - val_mean_absolute_error: 0.4376\n",
      "Epoch 19/1000\n",
      "12384/12384 [==============================] - 0s 29us/step - loss: 0.4340 - mean_squared_error: 0.4340 - mean_absolute_error: 0.4669 - val_loss: 0.3880 - val_mean_squared_error: 0.3880 - val_mean_absolute_error: 0.4355\n",
      "Epoch 20/1000\n",
      "12384/12384 [==============================] - 0s 30us/step - loss: 0.4284 - mean_squared_error: 0.4284 - mean_absolute_error: 0.4616 - val_loss: 0.3928 - val_mean_squared_error: 0.3928 - val_mean_absolute_error: 0.4324\n",
      "Epoch 21/1000\n",
      "12384/12384 [==============================] - 0s 26us/step - loss: 0.4263 - mean_squared_error: 0.4263 - mean_absolute_error: 0.4611 - val_loss: 0.3904 - val_mean_squared_error: 0.3904 - val_mean_absolute_error: 0.4320\n",
      "Epoch 22/1000\n",
      "12384/12384 [==============================] - 0s 26us/step - loss: 0.4151 - mean_squared_error: 0.4151 - mean_absolute_error: 0.4532 - val_loss: 0.3859 - val_mean_squared_error: 0.3859 - val_mean_absolute_error: 0.4309\n",
      "Epoch 23/1000\n",
      "12384/12384 [==============================] - 0s 26us/step - loss: 0.4198 - mean_squared_error: 0.4198 - mean_absolute_error: 0.4590 - val_loss: 0.3784 - val_mean_squared_error: 0.3784 - val_mean_absolute_error: 0.4253\n",
      "Epoch 24/1000\n",
      "12384/12384 [==============================] - 0s 24us/step - loss: 0.4038 - mean_squared_error: 0.4038 - mean_absolute_error: 0.4490 - val_loss: 0.3728 - val_mean_squared_error: 0.3728 - val_mean_absolute_error: 0.4253\n",
      "Epoch 25/1000\n",
      "12384/12384 [==============================] - 0s 30us/step - loss: 0.4105 - mean_squared_error: 0.4105 - mean_absolute_error: 0.4519 - val_loss: 0.3710 - val_mean_squared_error: 0.3710 - val_mean_absolute_error: 0.4271\n",
      "Epoch 26/1000\n",
      "12384/12384 [==============================] - 0s 25us/step - loss: 0.4002 - mean_squared_error: 0.4002 - mean_absolute_error: 0.4489 - val_loss: 0.3697 - val_mean_squared_error: 0.3697 - val_mean_absolute_error: 0.4209\n",
      "Epoch 27/1000\n",
      "12384/12384 [==============================] - 0s 33us/step - loss: 0.4034 - mean_squared_error: 0.4034 - mean_absolute_error: 0.4479 - val_loss: 0.3681 - val_mean_squared_error: 0.3681 - val_mean_absolute_error: 0.4184\n",
      "Epoch 28/1000\n",
      "12384/12384 [==============================] - 0s 31us/step - loss: 0.3985 - mean_squared_error: 0.3985 - mean_absolute_error: 0.4457 - val_loss: 0.3693 - val_mean_squared_error: 0.3693 - val_mean_absolute_error: 0.4198\n",
      "Epoch 29/1000\n",
      "12384/12384 [==============================] - 0s 23us/step - loss: 0.4014 - mean_squared_error: 0.4014 - mean_absolute_error: 0.4449 - val_loss: 0.3604 - val_mean_squared_error: 0.3604 - val_mean_absolute_error: 0.4181\n",
      "Epoch 30/1000\n",
      "12384/12384 [==============================] - 0s 22us/step - loss: 0.3999 - mean_squared_error: 0.3999 - mean_absolute_error: 0.4471 - val_loss: 0.3657 - val_mean_squared_error: 0.3657 - val_mean_absolute_error: 0.4171\n",
      "Epoch 31/1000\n",
      "12384/12384 [==============================] - 0s 28us/step - loss: 0.3952 - mean_squared_error: 0.3952 - mean_absolute_error: 0.4417 - val_loss: 0.3684 - val_mean_squared_error: 0.3684 - val_mean_absolute_error: 0.4163\n",
      "Epoch 32/1000\n",
      "12384/12384 [==============================] - 0s 27us/step - loss: 0.3887 - mean_squared_error: 0.3887 - mean_absolute_error: 0.4400 - val_loss: 0.3597 - val_mean_squared_error: 0.3597 - val_mean_absolute_error: 0.4157\n",
      "Epoch 33/1000\n",
      "12384/12384 [==============================] - 0s 35us/step - loss: 0.3898 - mean_squared_error: 0.3898 - mean_absolute_error: 0.4391 - val_loss: 0.3648 - val_mean_squared_error: 0.3648 - val_mean_absolute_error: 0.4152\n",
      "Epoch 34/1000\n",
      "12384/12384 [==============================] - 0s 32us/step - loss: 0.3769 - mean_squared_error: 0.3769 - mean_absolute_error: 0.4352 - val_loss: 0.3545 - val_mean_squared_error: 0.3545 - val_mean_absolute_error: 0.4136\n",
      "Epoch 35/1000\n",
      "12384/12384 [==============================] - 0s 30us/step - loss: 0.3812 - mean_squared_error: 0.3812 - mean_absolute_error: 0.4369 - val_loss: 0.3587 - val_mean_squared_error: 0.3587 - val_mean_absolute_error: 0.4108\n"
     ]
    },
    {
     "name": "stdout",
     "output_type": "stream",
     "text": [
      "Epoch 36/1000\n",
      "12384/12384 [==============================] - 0s 26us/step - loss: 0.3836 - mean_squared_error: 0.3836 - mean_absolute_error: 0.4362 - val_loss: 0.3575 - val_mean_squared_error: 0.3575 - val_mean_absolute_error: 0.4111\n",
      "Epoch 37/1000\n",
      "12384/12384 [==============================] - 0s 24us/step - loss: 0.3813 - mean_squared_error: 0.3813 - mean_absolute_error: 0.4351 - val_loss: 0.3622 - val_mean_squared_error: 0.3622 - val_mean_absolute_error: 0.4112\n",
      "Epoch 38/1000\n",
      "12384/12384 [==============================] - 0s 28us/step - loss: 0.3729 - mean_squared_error: 0.3729 - mean_absolute_error: 0.4270 - val_loss: 0.3528 - val_mean_squared_error: 0.3528 - val_mean_absolute_error: 0.4079\n",
      "Epoch 39/1000\n",
      "12384/12384 [==============================] - 0s 29us/step - loss: 0.3748 - mean_squared_error: 0.3748 - mean_absolute_error: 0.4297 - val_loss: 0.3566 - val_mean_squared_error: 0.3566 - val_mean_absolute_error: 0.4088\n",
      "Epoch 40/1000\n",
      "12384/12384 [==============================] - 0s 26us/step - loss: 0.3733 - mean_squared_error: 0.3733 - mean_absolute_error: 0.4290 - val_loss: 0.3454 - val_mean_squared_error: 0.3454 - val_mean_absolute_error: 0.4066\n",
      "Epoch 41/1000\n",
      "12384/12384 [==============================] - 0s 26us/step - loss: 0.3766 - mean_squared_error: 0.3766 - mean_absolute_error: 0.4312 - val_loss: 0.3442 - val_mean_squared_error: 0.3442 - val_mean_absolute_error: 0.4045\n",
      "Epoch 42/1000\n",
      "12384/12384 [==============================] - 0s 26us/step - loss: 0.3738 - mean_squared_error: 0.3738 - mean_absolute_error: 0.4279 - val_loss: 0.3427 - val_mean_squared_error: 0.3427 - val_mean_absolute_error: 0.4101\n",
      "Epoch 43/1000\n",
      "12384/12384 [==============================] - 0s 27us/step - loss: 0.3650 - mean_squared_error: 0.3650 - mean_absolute_error: 0.4232 - val_loss: 0.3428 - val_mean_squared_error: 0.3428 - val_mean_absolute_error: 0.4023\n",
      "Epoch 44/1000\n",
      "12384/12384 [==============================] - 0s 26us/step - loss: 0.3622 - mean_squared_error: 0.3622 - mean_absolute_error: 0.4223 - val_loss: 0.3418 - val_mean_squared_error: 0.3418 - val_mean_absolute_error: 0.4047\n",
      "Epoch 45/1000\n",
      "12384/12384 [==============================] - 0s 27us/step - loss: 0.3610 - mean_squared_error: 0.3610 - mean_absolute_error: 0.4213 - val_loss: 0.3401 - val_mean_squared_error: 0.3401 - val_mean_absolute_error: 0.4011\n",
      "Epoch 46/1000\n",
      "12384/12384 [==============================] - 0s 28us/step - loss: 0.3635 - mean_squared_error: 0.3635 - mean_absolute_error: 0.4240 - val_loss: 0.3419 - val_mean_squared_error: 0.3419 - val_mean_absolute_error: 0.4033\n",
      "Epoch 47/1000\n",
      "12384/12384 [==============================] - 0s 33us/step - loss: 0.3624 - mean_squared_error: 0.3624 - mean_absolute_error: 0.4233 - val_loss: 0.3404 - val_mean_squared_error: 0.3404 - val_mean_absolute_error: 0.3992\n",
      "Epoch 48/1000\n",
      "12384/12384 [==============================] - 0s 25us/step - loss: 0.3545 - mean_squared_error: 0.3545 - mean_absolute_error: 0.4159 - val_loss: 0.3464 - val_mean_squared_error: 0.3464 - val_mean_absolute_error: 0.4005\n",
      "Epoch 49/1000\n",
      "12384/12384 [==============================] - 0s 28us/step - loss: 0.3595 - mean_squared_error: 0.3595 - mean_absolute_error: 0.4212 - val_loss: 0.3365 - val_mean_squared_error: 0.3365 - val_mean_absolute_error: 0.3969\n",
      "Epoch 50/1000\n",
      "12384/12384 [==============================] - 0s 28us/step - loss: 0.3553 - mean_squared_error: 0.3553 - mean_absolute_error: 0.4171 - val_loss: 0.3328 - val_mean_squared_error: 0.3328 - val_mean_absolute_error: 0.3996\n",
      "Epoch 51/1000\n",
      "12384/12384 [==============================] - 0s 36us/step - loss: 0.3544 - mean_squared_error: 0.3544 - mean_absolute_error: 0.4177 - val_loss: 0.3327 - val_mean_squared_error: 0.3327 - val_mean_absolute_error: 0.3987\n",
      "Epoch 52/1000\n",
      "12384/12384 [==============================] - 0s 25us/step - loss: 0.3512 - mean_squared_error: 0.3512 - mean_absolute_error: 0.4162 - val_loss: 0.3309 - val_mean_squared_error: 0.3309 - val_mean_absolute_error: 0.3970\n",
      "Epoch 53/1000\n",
      "12384/12384 [==============================] - 0s 36us/step - loss: 0.3527 - mean_squared_error: 0.3527 - mean_absolute_error: 0.4158 - val_loss: 0.3440 - val_mean_squared_error: 0.3440 - val_mean_absolute_error: 0.4003\n",
      "Epoch 54/1000\n",
      "12384/12384 [==============================] - 0s 24us/step - loss: 0.3545 - mean_squared_error: 0.3545 - mean_absolute_error: 0.4173 - val_loss: 0.3323 - val_mean_squared_error: 0.3323 - val_mean_absolute_error: 0.3954\n",
      "Epoch 55/1000\n",
      "12384/12384 [==============================] - 0s 21us/step - loss: 0.3513 - mean_squared_error: 0.3513 - mean_absolute_error: 0.4150 - val_loss: 0.3284 - val_mean_squared_error: 0.3284 - val_mean_absolute_error: 0.3936\n",
      "Epoch 56/1000\n",
      "12384/12384 [==============================] - 0s 35us/step - loss: 0.3516 - mean_squared_error: 0.3516 - mean_absolute_error: 0.4151 - val_loss: 0.3262 - val_mean_squared_error: 0.3262 - val_mean_absolute_error: 0.3917\n",
      "Epoch 57/1000\n",
      "12384/12384 [==============================] - 0s 31us/step - loss: 0.3487 - mean_squared_error: 0.3487 - mean_absolute_error: 0.4139 - val_loss: 0.3288 - val_mean_squared_error: 0.3288 - val_mean_absolute_error: 0.4002\n",
      "Epoch 58/1000\n",
      "12384/12384 [==============================] - 0s 30us/step - loss: 0.3511 - mean_squared_error: 0.3511 - mean_absolute_error: 0.4158 - val_loss: 0.3342 - val_mean_squared_error: 0.3342 - val_mean_absolute_error: 0.4006\n",
      "Epoch 59/1000\n",
      "12384/12384 [==============================] - 0s 26us/step - loss: 0.3480 - mean_squared_error: 0.3480 - mean_absolute_error: 0.4157 - val_loss: 0.3271 - val_mean_squared_error: 0.3271 - val_mean_absolute_error: 0.3941\n",
      "Epoch 60/1000\n",
      "12384/12384 [==============================] - 0s 25us/step - loss: 0.3422 - mean_squared_error: 0.3422 - mean_absolute_error: 0.4110 - val_loss: 0.3259 - val_mean_squared_error: 0.3259 - val_mean_absolute_error: 0.3932\n",
      "Epoch 61/1000\n",
      "12384/12384 [==============================] - 0s 28us/step - loss: 0.3442 - mean_squared_error: 0.3442 - mean_absolute_error: 0.4134 - val_loss: 0.3281 - val_mean_squared_error: 0.3281 - val_mean_absolute_error: 0.3943\n",
      "Epoch 62/1000\n",
      "12384/12384 [==============================] - 0s 26us/step - loss: 0.3431 - mean_squared_error: 0.3431 - mean_absolute_error: 0.4093 - val_loss: 0.3274 - val_mean_squared_error: 0.3274 - val_mean_absolute_error: 0.3953\n",
      "Epoch 63/1000\n",
      "12384/12384 [==============================] - 0s 26us/step - loss: 0.3419 - mean_squared_error: 0.3419 - mean_absolute_error: 0.4100 - val_loss: 0.3229 - val_mean_squared_error: 0.3229 - val_mean_absolute_error: 0.3916\n",
      "Epoch 64/1000\n",
      "12384/12384 [==============================] - 0s 28us/step - loss: 0.3440 - mean_squared_error: 0.3440 - mean_absolute_error: 0.4108 - val_loss: 0.3319 - val_mean_squared_error: 0.3319 - val_mean_absolute_error: 0.3989\n",
      "Epoch 65/1000\n",
      "12384/12384 [==============================] - 0s 28us/step - loss: 0.3411 - mean_squared_error: 0.3411 - mean_absolute_error: 0.4108 - val_loss: 0.3357 - val_mean_squared_error: 0.3357 - val_mean_absolute_error: 0.4013\n",
      "Epoch 66/1000\n",
      "12384/12384 [==============================] - 0s 28us/step - loss: 0.3377 - mean_squared_error: 0.3377 - mean_absolute_error: 0.4066 - val_loss: 0.3244 - val_mean_squared_error: 0.3244 - val_mean_absolute_error: 0.3945\n",
      "Epoch 67/1000\n",
      "12384/12384 [==============================] - 0s 29us/step - loss: 0.3397 - mean_squared_error: 0.3397 - mean_absolute_error: 0.4098 - val_loss: 0.3225 - val_mean_squared_error: 0.3225 - val_mean_absolute_error: 0.3901\n",
      "Epoch 68/1000\n",
      "12384/12384 [==============================] - 0s 32us/step - loss: 0.3359 - mean_squared_error: 0.3359 - mean_absolute_error: 0.4073 - val_loss: 0.3282 - val_mean_squared_error: 0.3282 - val_mean_absolute_error: 0.3939\n",
      "Epoch 69/1000\n",
      "12384/12384 [==============================] - 0s 31us/step - loss: 0.3371 - mean_squared_error: 0.3371 - mean_absolute_error: 0.4062 - val_loss: 0.3259 - val_mean_squared_error: 0.3259 - val_mean_absolute_error: 0.3921\n",
      "Epoch 70/1000\n",
      "12384/12384 [==============================] - 0s 28us/step - loss: 0.3420 - mean_squared_error: 0.3420 - mean_absolute_error: 0.4101 - val_loss: 0.3296 - val_mean_squared_error: 0.3296 - val_mean_absolute_error: 0.3994\n",
      "Epoch 71/1000\n"
     ]
    },
    {
     "name": "stdout",
     "output_type": "stream",
     "text": [
      "12384/12384 [==============================] - 0s 29us/step - loss: 0.3378 - mean_squared_error: 0.3378 - mean_absolute_error: 0.4066 - val_loss: 0.3286 - val_mean_squared_error: 0.3286 - val_mean_absolute_error: 0.3930\n",
      "Epoch 72/1000\n",
      "12384/12384 [==============================] - 0s 22us/step - loss: 0.3380 - mean_squared_error: 0.3380 - mean_absolute_error: 0.4065 - val_loss: 0.3185 - val_mean_squared_error: 0.3185 - val_mean_absolute_error: 0.3885\n",
      "Epoch 73/1000\n",
      "12384/12384 [==============================] - 0s 26us/step - loss: 0.3321 - mean_squared_error: 0.3321 - mean_absolute_error: 0.4077 - val_loss: 0.3185 - val_mean_squared_error: 0.3185 - val_mean_absolute_error: 0.3922\n",
      "Epoch 74/1000\n",
      "12384/12384 [==============================] - 0s 26us/step - loss: 0.3451 - mean_squared_error: 0.3451 - mean_absolute_error: 0.4074 - val_loss: 0.3198 - val_mean_squared_error: 0.3198 - val_mean_absolute_error: 0.3909\n",
      "Epoch 75/1000\n",
      "12384/12384 [==============================] - 0s 30us/step - loss: 0.3354 - mean_squared_error: 0.3354 - mean_absolute_error: 0.4059 - val_loss: 0.3238 - val_mean_squared_error: 0.3238 - val_mean_absolute_error: 0.3908\n",
      "Epoch 76/1000\n",
      "12384/12384 [==============================] - 0s 28us/step - loss: 0.3337 - mean_squared_error: 0.3337 - mean_absolute_error: 0.4044 - val_loss: 0.3231 - val_mean_squared_error: 0.3231 - val_mean_absolute_error: 0.3865\n",
      "Epoch 77/1000\n",
      "12384/12384 [==============================] - 0s 29us/step - loss: 0.3299 - mean_squared_error: 0.3299 - mean_absolute_error: 0.4037 - val_loss: 0.3190 - val_mean_squared_error: 0.3190 - val_mean_absolute_error: 0.3897\n",
      "Epoch 78/1000\n",
      "12384/12384 [==============================] - 0s 22us/step - loss: 0.3324 - mean_squared_error: 0.3324 - mean_absolute_error: 0.4042 - val_loss: 0.3198 - val_mean_squared_error: 0.3198 - val_mean_absolute_error: 0.3862\n",
      "Epoch 79/1000\n",
      "12384/12384 [==============================] - 0s 30us/step - loss: 0.3384 - mean_squared_error: 0.3384 - mean_absolute_error: 0.4058 - val_loss: 0.3171 - val_mean_squared_error: 0.3171 - val_mean_absolute_error: 0.3845\n",
      "Epoch 80/1000\n",
      "12384/12384 [==============================] - 0s 32us/step - loss: 0.3322 - mean_squared_error: 0.3322 - mean_absolute_error: 0.4043 - val_loss: 0.3154 - val_mean_squared_error: 0.3154 - val_mean_absolute_error: 0.3851\n",
      "Epoch 81/1000\n",
      "12384/12384 [==============================] - 0s 30us/step - loss: 0.3400 - mean_squared_error: 0.3400 - mean_absolute_error: 0.4073 - val_loss: 0.3194 - val_mean_squared_error: 0.3194 - val_mean_absolute_error: 0.3912\n",
      "Epoch 82/1000\n",
      "12384/12384 [==============================] - 0s 25us/step - loss: 0.3304 - mean_squared_error: 0.3304 - mean_absolute_error: 0.4048 - val_loss: 0.3222 - val_mean_squared_error: 0.3222 - val_mean_absolute_error: 0.3872\n",
      "Epoch 83/1000\n",
      "12384/12384 [==============================] - 0s 31us/step - loss: 0.3306 - mean_squared_error: 0.3306 - mean_absolute_error: 0.4024 - val_loss: 0.3208 - val_mean_squared_error: 0.3208 - val_mean_absolute_error: 0.3877\n",
      "Epoch 84/1000\n",
      "12384/12384 [==============================] - 0s 29us/step - loss: 0.3298 - mean_squared_error: 0.3298 - mean_absolute_error: 0.4016 - val_loss: 0.3292 - val_mean_squared_error: 0.3292 - val_mean_absolute_error: 0.3925\n",
      "Epoch 85/1000\n",
      "12384/12384 [==============================] - 0s 28us/step - loss: 0.3317 - mean_squared_error: 0.3317 - mean_absolute_error: 0.4045 - val_loss: 0.3218 - val_mean_squared_error: 0.3218 - val_mean_absolute_error: 0.3934\n",
      "Epoch 86/1000\n",
      "12384/12384 [==============================] - 0s 30us/step - loss: 0.3277 - mean_squared_error: 0.3277 - mean_absolute_error: 0.4034 - val_loss: 0.3121 - val_mean_squared_error: 0.3121 - val_mean_absolute_error: 0.3871\n",
      "Epoch 87/1000\n",
      "12384/12384 [==============================] - 0s 30us/step - loss: 0.3303 - mean_squared_error: 0.3303 - mean_absolute_error: 0.4020 - val_loss: 0.3162 - val_mean_squared_error: 0.3162 - val_mean_absolute_error: 0.3869\n",
      "Epoch 88/1000\n",
      "12384/12384 [==============================] - 0s 30us/step - loss: 0.3240 - mean_squared_error: 0.3240 - mean_absolute_error: 0.3992 - val_loss: 0.3174 - val_mean_squared_error: 0.3174 - val_mean_absolute_error: 0.3872\n",
      "Epoch 89/1000\n",
      "12384/12384 [==============================] - 0s 25us/step - loss: 0.3253 - mean_squared_error: 0.3253 - mean_absolute_error: 0.3990 - val_loss: 0.3167 - val_mean_squared_error: 0.3167 - val_mean_absolute_error: 0.3887\n",
      "Epoch 90/1000\n",
      "12384/12384 [==============================] - 0s 31us/step - loss: 0.3286 - mean_squared_error: 0.3286 - mean_absolute_error: 0.4020 - val_loss: 0.3141 - val_mean_squared_error: 0.3141 - val_mean_absolute_error: 0.3870\n",
      "Epoch 91/1000\n",
      "12384/12384 [==============================] - 0s 31us/step - loss: 0.3280 - mean_squared_error: 0.3280 - mean_absolute_error: 0.4037 - val_loss: 0.3166 - val_mean_squared_error: 0.3166 - val_mean_absolute_error: 0.3865\n",
      "Epoch 92/1000\n",
      "12384/12384 [==============================] - 0s 30us/step - loss: 0.3232 - mean_squared_error: 0.3232 - mean_absolute_error: 0.3994 - val_loss: 0.3134 - val_mean_squared_error: 0.3134 - val_mean_absolute_error: 0.3858\n",
      "Epoch 93/1000\n",
      "12384/12384 [==============================] - 0s 28us/step - loss: 0.3238 - mean_squared_error: 0.3238 - mean_absolute_error: 0.3997 - val_loss: 0.3128 - val_mean_squared_error: 0.3128 - val_mean_absolute_error: 0.3885\n",
      "Epoch 94/1000\n",
      "12384/12384 [==============================] - 0s 30us/step - loss: 0.3293 - mean_squared_error: 0.3293 - mean_absolute_error: 0.4023 - val_loss: 0.3178 - val_mean_squared_error: 0.3178 - val_mean_absolute_error: 0.3851\n",
      "Epoch 95/1000\n",
      "12384/12384 [==============================] - 0s 27us/step - loss: 0.3277 - mean_squared_error: 0.3277 - mean_absolute_error: 0.4018 - val_loss: 0.3171 - val_mean_squared_error: 0.3171 - val_mean_absolute_error: 0.3945\n",
      "Epoch 96/1000\n",
      "12384/12384 [==============================] - 0s 27us/step - loss: 0.3264 - mean_squared_error: 0.3264 - mean_absolute_error: 0.4003 - val_loss: 0.3127 - val_mean_squared_error: 0.3127 - val_mean_absolute_error: 0.3839\n"
     ]
    },
    {
     "data": {
      "text/plain": [
       "<tensorflow.python.keras.callbacks.History at 0x7feda6097080>"
      ]
     },
     "execution_count": 167,
     "metadata": {},
     "output_type": "execute_result"
    }
   ],
   "source": [
    "from keras.callbacks import EarlyStopping\n",
    "\n",
    "\n",
    "バッチサイズ = 100\n",
    "エポック数 = 1000\n",
    "# コールバックs = []\n",
    "コールバックs = [EarlyStopping(monitor='val_loss', patience=10)]  # 最低10エポックはパラメーターを更新する\n",
    "\n",
    "history = 多層ネットワークモデル.fit(\n",
    "    train_normed_feature_df, train_teacher_ser, \n",
    "    validation_split=0.2,\n",
    "    batch_size=バッチサイズ,\n",
    "    epochs=エポック数,\n",
    "    callbacks=コールバックs\n",
    ")\n",
    "history"
   ]
  },
  {
   "cell_type": "code",
   "execution_count": 168,
   "metadata": {
    "ExecuteTime": {
     "end_time": "2020-11-15T10:21:54.225805Z",
     "start_time": "2020-11-15T10:21:54.208447Z"
    }
   },
   "outputs": [
    {
     "data": {
      "text/html": [
       "<div>\n",
       "<style scoped>\n",
       "    .dataframe tbody tr th:only-of-type {\n",
       "        vertical-align: middle;\n",
       "    }\n",
       "\n",
       "    .dataframe tbody tr th {\n",
       "        vertical-align: top;\n",
       "    }\n",
       "\n",
       "    .dataframe thead th {\n",
       "        text-align: right;\n",
       "    }\n",
       "</style>\n",
       "<table border=\"1\" class=\"dataframe\">\n",
       "  <thead>\n",
       "    <tr style=\"text-align: right;\">\n",
       "      <th></th>\n",
       "      <th>val_loss</th>\n",
       "      <th>val_mean_squared_error</th>\n",
       "      <th>val_mean_absolute_error</th>\n",
       "      <th>loss</th>\n",
       "      <th>mean_squared_error</th>\n",
       "      <th>mean_absolute_error</th>\n",
       "    </tr>\n",
       "  </thead>\n",
       "  <tbody>\n",
       "    <tr>\n",
       "      <th>0</th>\n",
       "      <td>0.735461</td>\n",
       "      <td>0.735461</td>\n",
       "      <td>0.610736</td>\n",
       "      <td>1.662335</td>\n",
       "      <td>1.662335</td>\n",
       "      <td>0.926133</td>\n",
       "    </tr>\n",
       "    <tr>\n",
       "      <th>1</th>\n",
       "      <td>0.569292</td>\n",
       "      <td>0.569292</td>\n",
       "      <td>0.532936</td>\n",
       "      <td>0.868333</td>\n",
       "      <td>0.868333</td>\n",
       "      <td>0.669765</td>\n",
       "    </tr>\n",
       "    <tr>\n",
       "      <th>2</th>\n",
       "      <td>0.512515</td>\n",
       "      <td>0.512515</td>\n",
       "      <td>0.512670</td>\n",
       "      <td>0.733253</td>\n",
       "      <td>0.733253</td>\n",
       "      <td>0.607635</td>\n",
       "    </tr>\n",
       "    <tr>\n",
       "      <th>3</th>\n",
       "      <td>0.489423</td>\n",
       "      <td>0.489423</td>\n",
       "      <td>0.488216</td>\n",
       "      <td>0.625711</td>\n",
       "      <td>0.625711</td>\n",
       "      <td>0.567373</td>\n",
       "    </tr>\n",
       "    <tr>\n",
       "      <th>4</th>\n",
       "      <td>0.476343</td>\n",
       "      <td>0.476343</td>\n",
       "      <td>0.478463</td>\n",
       "      <td>0.593850</td>\n",
       "      <td>0.593850</td>\n",
       "      <td>0.549348</td>\n",
       "    </tr>\n",
       "  </tbody>\n",
       "</table>\n",
       "</div>"
      ],
      "text/plain": [
       "   val_loss  val_mean_squared_error  val_mean_absolute_error      loss  \\\n",
       "0  0.735461                0.735461                 0.610736  1.662335   \n",
       "1  0.569292                0.569292                 0.532936  0.868333   \n",
       "2  0.512515                0.512515                 0.512670  0.733253   \n",
       "3  0.489423                0.489423                 0.488216  0.625711   \n",
       "4  0.476343                0.476343                 0.478463  0.593850   \n",
       "\n",
       "   mean_squared_error  mean_absolute_error  \n",
       "0            1.662335             0.926133  \n",
       "1            0.868333             0.669765  \n",
       "2            0.733253             0.607635  \n",
       "3            0.625711             0.567373  \n",
       "4            0.593850             0.549348  "
      ]
     },
     "execution_count": 168,
     "metadata": {},
     "output_type": "execute_result"
    }
   ],
   "source": [
    "学習推移_df = pd.DataFrame(history.history, index=history.epoch)\n",
    "学習推移_df.head()"
   ]
  },
  {
   "cell_type": "code",
   "execution_count": 169,
   "metadata": {
    "ExecuteTime": {
     "end_time": "2020-11-15T10:21:55.084911Z",
     "start_time": "2020-11-15T10:21:54.802683Z"
    }
   },
   "outputs": [
    {
     "data": {
      "image/png": "[encoded data removed]",
      "text/plain": [
       "<matplotlib.figure.Figure at 0x7feda65dc278>"
      ]
     },
     "metadata": {},
     "output_type": "display_data"
    }
   ],
   "source": [
    "import matplotlib.pyplot as plt\n",
    "\n",
    "\n",
    "plt.figure(figsize=(18, 9))\n",
    "plt.title(\"Graph of Loss function value\")\n",
    "plt.plot(学習推移_df['loss'], label='loss')\n",
    "plt.plot(学習推移_df['val_loss'], label='val_loss')\n",
    "plt.legend(loc='best', fontsize=10)\n",
    "plt.grid()\n",
    "plt.xlabel('epoch')\n",
    "plt.ylabel('loss')\n",
    "plt.show()"
   ]
  },
  {
   "cell_type": "markdown",
   "metadata": {},
   "source": [
    "## 評価"
   ]
  },
  {
   "cell_type": "code",
   "execution_count": 170,
   "metadata": {
    "ExecuteTime": {
     "end_time": "2020-11-15T10:21:59.468404Z",
     "start_time": "2020-11-15T10:21:59.284500Z"
    }
   },
   "outputs": [
    {
     "name": "stdout",
     "output_type": "stream",
     "text": [
      "5160/5160 [==============================] - 0s 35us/step\n"
     ]
    }
   ],
   "source": [
    "metrics = 多層ネットワークモデル.evaluate(test_normed_feature_df, test_teacher_ser)"
   ]
  },
  {
   "cell_type": "code",
   "execution_count": 171,
   "metadata": {
    "ExecuteTime": {
     "end_time": "2020-11-15T10:21:59.632525Z",
     "start_time": "2020-11-15T10:21:59.617402Z"
    }
   },
   "outputs": [
    {
     "data": {
      "text/plain": [
       "loss                   0.274776\n",
       "mean_squared_error     0.274776\n",
       "mean_absolute_error    0.361868\n",
       "Name: 評価指標, dtype: float64"
      ]
     },
     "execution_count": 171,
     "metadata": {},
     "output_type": "execute_result"
    }
   ],
   "source": [
    "pd.Series(\n",
    "    metrics,\n",
    "    index=多層ネットワークモデル.metrics_names,\n",
    "    name='評価指標'\n",
    ")"
   ]
  },
  {
   "cell_type": "markdown",
   "metadata": {},
   "source": [
    "## 予測"
   ]
  },
  {
   "cell_type": "code",
   "execution_count": 172,
   "metadata": {
    "ExecuteTime": {
     "end_time": "2020-11-15T10:22:00.539461Z",
     "start_time": "2020-11-15T10:22:00.442037Z"
    }
   },
   "outputs": [],
   "source": [
    "predicted_y_arr = 多層ネットワークモデル.predict(test_normed_feature_df)"
   ]
  },
  {
   "cell_type": "code",
   "execution_count": 173,
   "metadata": {
    "ExecuteTime": {
     "end_time": "2020-11-15T10:22:00.949846Z",
     "start_time": "2020-11-15T10:22:00.936553Z"
    }
   },
   "outputs": [
    {
     "data": {
      "text/plain": [
       "array([1.6296583, 1.767854 , 3.262125 , ..., 2.364806 , 3.1501303,\n",
       "       3.4615464], dtype=float32)"
      ]
     },
     "execution_count": 173,
     "metadata": {},
     "output_type": "execute_result"
    }
   ],
   "source": [
    "predicted_y_arr[:, 0]"
   ]
  },
  {
   "cell_type": "code",
   "execution_count": 174,
   "metadata": {
    "ExecuteTime": {
     "end_time": "2020-11-15T10:22:01.318153Z",
     "start_time": "2020-11-15T10:22:01.307647Z"
    }
   },
   "outputs": [
    {
     "data": {
      "text/plain": [
       "0    1.629658\n",
       "1    1.767854\n",
       "2    3.262125\n",
       "3    2.064524\n",
       "4    1.510647\n",
       "Name: 予測値, dtype: float32"
      ]
     },
     "execution_count": 174,
     "metadata": {},
     "output_type": "execute_result"
    }
   ],
   "source": [
    "predicted_y_ser = pd.Series(predicted_y_arr[:, 0], name=\"予測値\")\n",
    "predicted_y_ser.head()"
   ]
  },
  {
   "cell_type": "code",
   "execution_count": 175,
   "metadata": {
    "ExecuteTime": {
     "end_time": "2020-11-15T10:22:02.335975Z",
     "start_time": "2020-11-15T10:22:01.969192Z"
    },
    "scrolled": false
   },
   "outputs": [
    {
     "data": {
      "image/png": "[encoded data removed]",
      "text/plain": [
       "<matplotlib.figure.Figure at 0x7feda58700f0>"
      ]
     },
     "metadata": {},
     "output_type": "display_data"
    }
   ],
   "source": [
    "plt.figure(figsize=(15, 6))\n",
    "plt.title(\"shape of distribution\")\n",
    "plt.hist(test_teacher_ser, bins=50, alpha=0.5, label='teacher')\n",
    "plt.hist(predicted_y_ser, bins=50, alpha=0.5, label='prediction')\n",
    "plt.legend()\n",
    "plt.grid(True)\n",
    "plt.show()"
   ]
  },
  {
   "cell_type": "markdown",
   "metadata": {
    "heading_collapsed": true
   },
   "source": [
    "## 保存"
   ]
  },
  {
   "cell_type": "code",
   "execution_count": 70,
   "metadata": {
    "ExecuteTime": {
     "end_time": "2020-07-19T14:03:56.657150Z",
     "start_time": "2020-07-19T14:03:56.288756Z"
    },
    "hidden": true
   },
   "outputs": [],
   "source": [
    "多層ネットワークモデル.save('/Users/taiyou/Desktop/kerasの使い方モデル.h5')"
   ]
  },
  {
   "cell_type": "markdown",
   "metadata": {
    "heading_collapsed": true
   },
   "source": [
    "## 復元"
   ]
  },
  {
   "cell_type": "code",
   "execution_count": 71,
   "metadata": {
    "ExecuteTime": {
     "end_time": "2020-07-19T14:04:02.117427Z",
     "start_time": "2020-07-19T14:04:01.943801Z"
    },
    "hidden": true
   },
   "outputs": [],
   "source": [
    "import tensorflow as tf\n",
    "\n",
    "\n",
    "model = tf.keras.models.load_model('/Users/taiyou/Desktop/kerasの使い方モデル.h5')"
   ]
  },
  {
   "cell_type": "code",
   "execution_count": 72,
   "metadata": {
    "ExecuteTime": {
     "end_time": "2020-07-19T14:04:02.752824Z",
     "start_time": "2020-07-19T14:04:02.590439Z"
    },
    "hidden": true,
    "scrolled": true
   },
   "outputs": [
    {
     "data": {
      "text/plain": [
       "array([[0.],\n",
       "       [0.],\n",
       "       [0.],\n",
       "       ...,\n",
       "       [0.],\n",
       "       [0.],\n",
       "       [0.]], dtype=float32)"
      ]
     },
     "execution_count": 72,
     "metadata": {},
     "output_type": "execute_result"
    }
   ],
   "source": [
    "model.predict(test_normed_feature_df)"
   ]
  },
  {
   "cell_type": "code",
   "execution_count": null,
   "metadata": {
    "hidden": true
   },
   "outputs": [],
   "source": []
  }
 ],
 "metadata": {
  "kernelspec": {
   "display_name": "Python 3",
   "language": "python",
   "name": "python3"
  },
  "language_info": {
   "codemirror_mode": {
    "name": "ipython",
    "version": 3
   },
   "file_extension": ".py",
   "mimetype": "text/x-python",
   "name": "python",
   "nbconvert_exporter": "python",
   "pygments_lexer": "ipython3",
   "version": "3.6.3"
  },
  "toc": {
   "nav_menu": {},
   "number_sections": true,
   "sideBar": true,
   "skip_h1_title": false,
   "toc_cell": false,
   "toc_position": {},
   "toc_section_display": "block",
   "toc_window_display": false
  }
 },
 "nbformat": 4,
 "nbformat_minor": 2
}
