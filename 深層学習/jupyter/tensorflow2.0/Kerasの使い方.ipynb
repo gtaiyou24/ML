{
 "cells": [
  {
   "cell_type": "markdown",
   "metadata": {},
   "source": [
    "# Kerasの使い方"
   ]
  },
  {
   "cell_type": "markdown",
   "metadata": {
    "heading_collapsed": true
   },
   "source": [
    "## 参考資料"
   ]
  },
  {
   "cell_type": "markdown",
   "metadata": {
    "hidden": true
   },
   "source": [
    " - [詳解ディープラーニング 第2版 (Compass Books)](https://www.amazon.co.jp/gp/product/B081RN1Z9C/ref=ppx_yo_dt_b_d_asin_title_o00?ie=UTF8&psc=1)\n",
    " - [TensorFlow, Kerasの基本的な使い方（モデル構築・訓練・評価・予測） | note.nkmk.me](https://note.nkmk.me/python-tensorflow-keras-basics/)\n",
    " - [Keras: Pythonの深層学習ライブラリ](https://keras.io/ja/)"
   ]
  },
  {
   "cell_type": "markdown",
   "metadata": {
    "heading_collapsed": true
   },
   "source": [
    "## データの準備"
   ]
  },
  {
   "cell_type": "code",
   "execution_count": 73,
   "metadata": {
    "ExecuteTime": {
     "end_time": "2020-07-19T14:05:08.371038Z",
     "start_time": "2020-07-19T14:05:08.343993Z"
    },
    "hidden": true
   },
   "outputs": [],
   "source": [
    "import pandas as pd\n",
    "from sklearn.datasets import fetch_california_housing, load_breast_cancer\n",
    "\n",
    "\n",
    "住宅価格の特徴量, カルフォルニアの住宅価格 = fetch_california_housing(return_X_y=True)\n",
    "カルフォルニアの住宅価格_ser = pd.Series(カルフォルニアの住宅価格, name=\"カルフォルニアの住宅価格\")\n",
    "住宅価格の特徴量_df = pd.DataFrame(住宅価格の特徴量)"
   ]
  },
  {
   "cell_type": "code",
   "execution_count": 74,
   "metadata": {
    "ExecuteTime": {
     "end_time": "2020-07-19T14:05:32.337042Z",
     "start_time": "2020-07-19T14:05:32.325879Z"
    },
    "hidden": true
   },
   "outputs": [],
   "source": [
    "from sklearn.model_selection import train_test_split\n",
    "\n",
    "\n",
    "train_feature_df, test_feature_df, train_teacher_ser, test_teacher_ser = train_test_split(住宅価格の特徴量_df, カルフォルニアの住宅価格_ser)"
   ]
  },
  {
   "cell_type": "markdown",
   "metadata": {
    "heading_collapsed": true
   },
   "source": [
    "## モデルの構築 "
   ]
  },
  {
   "cell_type": "markdown",
   "metadata": {
    "hidden": true
   },
   "source": [
    " - [活性化関数 - Keras Documentation](https://keras.io/ja/activations/)\n",
    " - [正則化 - Keras Documentation](https://keras.io/ja/regularizers/)\n",
    " - [レイヤーの重み初期化 - Keras Documentation](https://keras.io/ja/initializers/)"
   ]
  },
  {
   "cell_type": "markdown",
   "metadata": {
    "hidden": true
   },
   "source": [
    "### Sequential API : シンプルな一直線のモデルを構築可能"
   ]
  },
  {
   "cell_type": "code",
   "execution_count": 76,
   "metadata": {
    "ExecuteTime": {
     "end_time": "2020-07-19T14:05:55.015326Z",
     "start_time": "2020-07-19T14:05:54.864824Z"
    },
    "code_folding": [],
    "hidden": true,
    "scrolled": true
   },
   "outputs": [],
   "source": [
    "import tensorflow as tf\n",
    "\n",
    "回帰特徴量の数 = train_住宅価格の特徴量_df.shape[1]\n",
    "回帰モデルの名前 = 'model_name'\n",
    "\n",
    "回帰モデル = tf.keras.Sequential([\n",
    "    tf.keras.layers.Flatten(input_shape=(回帰特徴量の数, ), name=\"input_layer\"),\n",
    "    tf.keras.layers.Dense(units=10, activation='linear'),\n",
    "    tf.keras.layers.Dropout(0.2),\n",
    "    tf.keras.layers.Dense(units=10, activation='linear'),\n",
    "    tf.keras.layers.Dropout(0.2),\n",
    "    tf.keras.layers.Dense(1, activation='relu')\n",
    "], name=回帰モデルの名前)\n",
    "\n",
    "\n",
    "分類特徴量の数 = 10\n",
    "分類モデルの名前 = 'classifier'\n",
    "\n",
    "分類モデル = tf.keras.Sequential(name=分類モデルの名前)\n",
    "分類モデル.add(tf.keras.layers.Flatten(input_shape=(回帰特徴量の数, )))  # 入力層\n",
    "分類モデル.add(tf.keras.layers.Dense(3, activation='sigmoid'))  # 隠れ層\n",
    "分類モデル.add(tf.keras.layers.Dense(1, activation='sigmoid'))  # 出力層"
   ]
  },
  {
   "cell_type": "code",
   "execution_count": 77,
   "metadata": {
    "ExecuteTime": {
     "end_time": "2020-07-19T14:05:57.053661Z",
     "start_time": "2020-07-19T14:05:57.044813Z"
    },
    "hidden": true
   },
   "outputs": [
    {
     "name": "stdout",
     "output_type": "stream",
     "text": [
      "Model: \"model_name\"\n",
      "_________________________________________________________________\n",
      "Layer (type)                 Output Shape              Param #   \n",
      "=================================================================\n",
      "input_layer (Flatten)        (None, 8)                 0         \n",
      "_________________________________________________________________\n",
      "dense_37 (Dense)             (None, 10)                90        \n",
      "_________________________________________________________________\n",
      "dropout_20 (Dropout)         (None, 10)                0         \n",
      "_________________________________________________________________\n",
      "dense_38 (Dense)             (None, 10)                110       \n",
      "_________________________________________________________________\n",
      "dropout_21 (Dropout)         (None, 10)                0         \n",
      "_________________________________________________________________\n",
      "dense_39 (Dense)             (None, 1)                 11        \n",
      "=================================================================\n",
      "Total params: 211\n",
      "Trainable params: 211\n",
      "Non-trainable params: 0\n",
      "_________________________________________________________________\n"
     ]
    }
   ],
   "source": [
    "回帰モデル.summary()"
   ]
  },
  {
   "cell_type": "code",
   "execution_count": 78,
   "metadata": {
    "ExecuteTime": {
     "end_time": "2020-07-19T14:05:57.541024Z",
     "start_time": "2020-07-19T14:05:57.513909Z"
    },
    "code_folding": [],
    "hidden": true
   },
   "outputs": [
    {
     "name": "stdout",
     "output_type": "stream",
     "text": [
      "Model: \"classifier\"\n",
      "_________________________________________________________________\n",
      "Layer (type)                 Output Shape              Param #   \n",
      "=================================================================\n",
      "flatten_2 (Flatten)          (None, 8)                 0         \n",
      "_________________________________________________________________\n",
      "dense_40 (Dense)             (None, 3)                 27        \n",
      "_________________________________________________________________\n",
      "dense_41 (Dense)             (None, 1)                 4         \n",
      "=================================================================\n",
      "Total params: 31\n",
      "Trainable params: 31\n",
      "Non-trainable params: 0\n",
      "_________________________________________________________________\n"
     ]
    }
   ],
   "source": [
    "分類モデル.summary()"
   ]
  },
  {
   "cell_type": "markdown",
   "metadata": {
    "ExecuteTime": {
     "end_time": "2020-07-15T13:53:52.941000Z",
     "start_time": "2020-07-15T13:53:52.936419Z"
    },
    "heading_collapsed": true,
    "hidden": true
   },
   "source": [
    "### Subclassing API (Model Subclassing) : 最も柔軟にモデルを構築可能"
   ]
  },
  {
   "cell_type": "code",
   "execution_count": 22,
   "metadata": {
    "ExecuteTime": {
     "end_time": "2020-07-15T13:52:27.780366Z",
     "start_time": "2020-07-15T13:52:27.761219Z"
    },
    "code_folding": [],
    "hidden": true
   },
   "outputs": [],
   "source": [
    "class MyModel(tf.keras.Model):\n",
    "    def __init__(self):\n",
    "        super(MyModel, self).__init__()\n",
    "        self.flatten = tf.keras.layers.Flatten()\n",
    "        self.fc1 = tf.keras.layers.Dense(10, activation='relu')\n",
    "        self.dropout = tf.keras.layers.Dropout(0.2)\n",
    "\n",
    "    def call(self, x, training=False):\n",
    "        x = self.flatten(x)\n",
    "        x = self.fc1(x)\n",
    "        x = self.dropout(x, training=training)\n",
    "        return x\n",
    "\n",
    "回帰モデル = MyModel()"
   ]
  },
  {
   "cell_type": "markdown",
   "metadata": {
    "heading_collapsed": true
   },
   "source": [
    "## 学習プロセスの設定"
   ]
  },
  {
   "cell_type": "markdown",
   "metadata": {
    "hidden": true
   },
   "source": [
    " - [最適化 - Keras Documentation](https://keras.io/ja/optimizers/)\n",
    " - [損失関数 - Keras Documentation](https://keras.io/ja/losses/)\n",
    " - [評価関数 - Keras Documentation](https://keras.io/ja/metrics/)"
   ]
  },
  {
   "cell_type": "code",
   "execution_count": 63,
   "metadata": {
    "ExecuteTime": {
     "end_time": "2020-07-19T14:03:12.213535Z",
     "start_time": "2020-07-19T14:03:12.189200Z"
    },
    "hidden": true
   },
   "outputs": [],
   "source": [
    "最適化アルゴリズム = 'adam'\n",
    "損失関数 = 'mean_squared_error'\n",
    "評価関数_list  = ['mse', 'mae']\n",
    "\n",
    "回帰モデル.compile(\n",
    "    optimizer=最適化アルゴリズム,\n",
    "    loss=損失関数,\n",
    "    metrics=評価関数_list\n",
    ")"
   ]
  },
  {
   "cell_type": "markdown",
   "metadata": {
    "heading_collapsed": true
   },
   "source": [
    "## 学習"
   ]
  },
  {
   "cell_type": "markdown",
   "metadata": {
    "hidden": true
   },
   "source": [
    " - [コールバック - Keras Documentation](https://keras.io/ja/callbacks/)"
   ]
  },
  {
   "cell_type": "code",
   "execution_count": 64,
   "metadata": {
    "ExecuteTime": {
     "end_time": "2020-07-19T14:03:28.393961Z",
     "start_time": "2020-07-19T14:03:23.115284Z"
    },
    "hidden": true,
    "scrolled": true
   },
   "outputs": [
    {
     "name": "stdout",
     "output_type": "stream",
     "text": [
      "Epoch 1/20\n",
      "65/78 [========================>.....] - ETA: 0s - loss: 31606.6035 - mse: 31606.6035 - mae: 44.2537WARNING:tensorflow:Early stopping conditioned on metric `val_loss` which is not available. Available metrics are: loss,mse,mae\n",
      "78/78 [==============================] - 0s 3ms/step - loss: 26994.6094 - mse: 26994.6094 - mae: 38.7897\n",
      "Epoch 2/20\n",
      "71/78 [==========================>...] - ETA: 0s - loss: 3318.7905 - mse: 3318.7905 - mae: 7.9741WARNING:tensorflow:Early stopping conditioned on metric `val_loss` which is not available. Available metrics are: loss,mse,mae\n",
      "78/78 [==============================] - 0s 4ms/step - loss: 3145.8533 - mse: 3145.8533 - mae: 7.7134\n",
      "Epoch 3/20\n",
      "60/78 [======================>.......] - ETA: 0s - loss: 838.8871 - mse: 838.8871 - mae: 4.8819WARNING:tensorflow:Early stopping conditioned on metric `val_loss` which is not available. Available metrics are: loss,mse,mae\n",
      "78/78 [==============================] - 0s 2ms/step - loss: 866.3813 - mse: 866.3813 - mae: 4.9079\n",
      "Epoch 4/20\n",
      "72/78 [==========================>...] - ETA: 0s - loss: 880.1175 - mse: 880.1175 - mae: 4.5340WARNING:tensorflow:Early stopping conditioned on metric `val_loss` which is not available. Available metrics are: loss,mse,mae\n",
      "78/78 [==============================] - 0s 3ms/step - loss: 983.8842 - mse: 983.8842 - mae: 4.5702\n",
      "Epoch 5/20\n",
      "65/78 [========================>.....] - ETA: 0s - loss: 361.3528 - mse: 361.3528 - mae: 3.6504WARNING:tensorflow:Early stopping conditioned on metric `val_loss` which is not available. Available metrics are: loss,mse,mae\n",
      "78/78 [==============================] - 0s 2ms/step - loss: 328.3361 - mse: 328.3361 - mae: 3.5879\n",
      "Epoch 6/20\n",
      "66/78 [========================>.....] - ETA: 0s - loss: 391.1053 - mse: 391.1053 - mae: 3.4039WARNING:tensorflow:Early stopping conditioned on metric `val_loss` which is not available. Available metrics are: loss,mse,mae\n",
      "78/78 [==============================] - 0s 3ms/step - loss: 344.6814 - mse: 344.6814 - mae: 3.2991\n",
      "Epoch 7/20\n",
      "74/78 [===========================>..] - ETA: 0s - loss: 325.9482 - mse: 325.9482 - mae: 3.3166WARNING:tensorflow:Early stopping conditioned on metric `val_loss` which is not available. Available metrics are: loss,mse,mae\n",
      "78/78 [==============================] - 0s 3ms/step - loss: 316.5916 - mse: 316.5916 - mae: 3.2988\n",
      "Epoch 8/20\n",
      "64/78 [=======================>......] - ETA: 0s - loss: 91.5723 - mse: 91.5723 - mae: 2.7119  WARNING:tensorflow:Early stopping conditioned on metric `val_loss` which is not available. Available metrics are: loss,mse,mae\n",
      "78/78 [==============================] - 0s 3ms/step - loss: 92.9530 - mse: 92.9530 - mae: 2.6984\n",
      "Epoch 9/20\n",
      "53/78 [===================>..........] - ETA: 0s - loss: 174.4513 - mse: 174.4513 - mae: 2.9106WARNING:tensorflow:Early stopping conditioned on metric `val_loss` which is not available. Available metrics are: loss,mse,mae\n",
      "78/78 [==============================] - 0s 2ms/step - loss: 176.1395 - mse: 176.1395 - mae: 2.8345\n",
      "Epoch 10/20\n",
      "58/78 [=====================>........] - ETA: 0s - loss: 190.3445 - mse: 190.3445 - mae: 2.8112WARNING:tensorflow:Early stopping conditioned on metric `val_loss` which is not available. Available metrics are: loss,mse,mae\n",
      "78/78 [==============================] - 0s 2ms/step - loss: 177.6413 - mse: 177.6413 - mae: 2.7868\n",
      "Epoch 11/20\n",
      "59/78 [=====================>........] - ETA: 0s - loss: 124.4245 - mse: 124.4245 - mae: 2.6395WARNING:tensorflow:Early stopping conditioned on metric `val_loss` which is not available. Available metrics are: loss,mse,mae\n",
      "78/78 [==============================] - 0s 2ms/step - loss: 106.0659 - mse: 106.0659 - mae: 2.5971\n",
      "Epoch 12/20\n",
      "64/78 [=======================>......] - ETA: 0s - loss: 242.5215 - mse: 242.5215 - mae: 2.5691WARNING:tensorflow:Early stopping conditioned on metric `val_loss` which is not available. Available metrics are: loss,mse,mae\n",
      "78/78 [==============================] - 0s 2ms/step - loss: 212.3201 - mse: 212.3201 - mae: 2.5745\n",
      "Epoch 13/20\n",
      "67/78 [========================>.....] - ETA: 0s - loss: 116.6090 - mse: 116.6090 - mae: 2.5528WARNING:tensorflow:Early stopping conditioned on metric `val_loss` which is not available. Available metrics are: loss,mse,mae\n",
      "78/78 [==============================] - 0s 2ms/step - loss: 103.4885 - mse: 103.4885 - mae: 2.5150\n",
      "Epoch 14/20\n",
      "54/78 [===================>..........] - ETA: 0s - loss: 89.5184 - mse: 89.5184 - mae: 2.3991 WARNING:tensorflow:Early stopping conditioned on metric `val_loss` which is not available. Available metrics are: loss,mse,mae\n",
      "78/78 [==============================] - 0s 3ms/step - loss: 72.8455 - mse: 72.8455 - mae: 2.3799\n",
      "Epoch 15/20\n",
      "61/78 [======================>.......] - ETA: 0s - loss: 111.3584 - mse: 111.3584 - mae: 2.4038WARNING:tensorflow:Early stopping conditioned on metric `val_loss` which is not available. Available metrics are: loss,mse,mae\n",
      "78/78 [==============================] - 0s 2ms/step - loss: 100.1681 - mse: 100.1681 - mae: 2.4056\n",
      "Epoch 16/20\n",
      "71/78 [==========================>...] - ETA: 0s - loss: 73.2305 - mse: 73.2305 - mae: 2.4127WARNING:tensorflow:Early stopping conditioned on metric `val_loss` which is not available. Available metrics are: loss,mse,mae\n",
      "78/78 [==============================] - 0s 2ms/step - loss: 69.4282 - mse: 69.4282 - mae: 2.4097\n",
      "Epoch 17/20\n",
      "74/78 [===========================>..] - ETA: 0s - loss: 97.6646 - mse: 97.6646 - mae: 2.4723  WARNING:tensorflow:Early stopping conditioned on metric `val_loss` which is not available. Available metrics are: loss,mse,mae\n",
      "78/78 [==============================] - 0s 2ms/step - loss: 103.2294 - mse: 103.2294 - mae: 2.4958\n",
      "Epoch 18/20\n",
      "67/78 [========================>.....] - ETA: 0s - loss: 24.7675 - mse: 24.7675 - mae: 2.2679WARNING:tensorflow:Early stopping conditioned on metric `val_loss` which is not available. Available metrics are: loss,mse,mae\n",
      "78/78 [==============================] - 0s 4ms/step - loss: 27.7692 - mse: 27.7692 - mae: 2.2762\n",
      "Epoch 19/20\n",
      "57/78 [====================>.........] - ETA: 0s - loss: 72.3866 - mse: 72.3866 - mae: 2.3049WARNING:tensorflow:Early stopping conditioned on metric `val_loss` which is not available. Available metrics are: loss,mse,mae\n",
      "78/78 [==============================] - 0s 2ms/step - loss: 81.1441 - mse: 81.1441 - mae: 2.3265\n",
      "Epoch 20/20\n",
      "73/78 [===========================>..] - ETA: 0s - loss: 35.0403 - mse: 35.0403 - mae: 2.2868WARNING:tensorflow:Early stopping conditioned on metric `val_loss` which is not available. Available metrics are: loss,mse,mae\n",
      "78/78 [==============================] - 0s 2ms/step - loss: 33.4199 - mse: 33.4199 - mae: 2.2775\n"
     ]
    },
    {
     "data": {
      "text/plain": [
       "<tensorflow.python.keras.callbacks.History at 0x7ff0f259c208>"
      ]
     },
     "execution_count": 64,
     "metadata": {},
     "output_type": "execute_result"
    }
   ],
   "source": [
    "from keras.callbacks import EarlyStopping\n",
    "\n",
    "\n",
    "バッチサイズ = 200\n",
    "エポック数 = 20\n",
    "コールバックs = [\n",
    "    EarlyStopping(monitor='val_loss')\n",
    "]\n",
    "\n",
    "history = 回帰モデル.fit(\n",
    "    train_feature_df, train_teacher_ser, \n",
    "    batch_size=バッチサイズ,\n",
    "    epochs=エポック数,\n",
    "    callbacks=コールバックs\n",
    ")\n",
    "history"
   ]
  },
  {
   "cell_type": "code",
   "execution_count": 65,
   "metadata": {
    "ExecuteTime": {
     "end_time": "2020-07-19T14:03:31.167410Z",
     "start_time": "2020-07-19T14:03:30.774630Z"
    },
    "hidden": true
   },
   "outputs": [
    {
     "data": {
      "text/plain": [
       "<Figure size 1800x900 with 1 Axes>"
      ]
     },
     "metadata": {},
     "output_type": "display_data"
    }
   ],
   "source": [
    "import matplotlib.pyplot as plt\n",
    "\n",
    "plt.figure(figsize=(18, 9))\n",
    "plt.title(\"Graph of Loss function value\")\n",
    "plt.plot(range(エポック数), history.history['loss'], marker='.', label='loss')\n",
    "plt.legend(loc='best', fontsize=10)\n",
    "plt.grid()\n",
    "plt.xlabel('epoch')\n",
    "plt.ylabel('loss')\n",
    "plt.show()"
   ]
  },
  {
   "cell_type": "markdown",
   "metadata": {
    "heading_collapsed": true
   },
   "source": [
    "## 評価"
   ]
  },
  {
   "cell_type": "code",
   "execution_count": 66,
   "metadata": {
    "ExecuteTime": {
     "end_time": "2020-07-19T14:03:38.355923Z",
     "start_time": "2020-07-19T14:03:37.737532Z"
    },
    "hidden": true
   },
   "outputs": [
    {
     "name": "stdout",
     "output_type": "stream",
     "text": [
      "162/162 [==============================] - 0s 2ms/step - loss: 7.8646 - mse: 7.8646 - mae: 2.1216\n"
     ]
    }
   ],
   "source": [
    "metrics = 回帰モデル.evaluate(test_feature_df, test_teacher_ser)"
   ]
  },
  {
   "cell_type": "code",
   "execution_count": 67,
   "metadata": {
    "ExecuteTime": {
     "end_time": "2020-07-19T14:03:40.766560Z",
     "start_time": "2020-07-19T14:03:40.739539Z"
    },
    "hidden": true
   },
   "outputs": [
    {
     "data": {
      "text/plain": [
       "loss    7.864568\n",
       "mse     7.864568\n",
       "mae     2.121597\n",
       "Name: 評価指標, dtype: float64"
      ]
     },
     "execution_count": 67,
     "metadata": {},
     "output_type": "execute_result"
    }
   ],
   "source": [
    "pd.Series(\n",
    "    metrics,\n",
    "    index=回帰モデル.metrics_names,\n",
    "    name='評価指標'\n",
    ")"
   ]
  },
  {
   "cell_type": "markdown",
   "metadata": {
    "heading_collapsed": true
   },
   "source": [
    "## 予測"
   ]
  },
  {
   "cell_type": "code",
   "execution_count": 68,
   "metadata": {
    "ExecuteTime": {
     "end_time": "2020-07-19T14:03:46.443866Z",
     "start_time": "2020-07-19T14:03:46.045715Z"
    },
    "hidden": true
   },
   "outputs": [],
   "source": [
    "predicted_y_arr = 回帰モデル.predict(test_feature_df)"
   ]
  },
  {
   "cell_type": "code",
   "execution_count": 69,
   "metadata": {
    "ExecuteTime": {
     "end_time": "2020-07-19T14:03:48.563857Z",
     "start_time": "2020-07-19T14:03:48.544782Z"
    },
    "hidden": true
   },
   "outputs": [
    {
     "data": {
      "text/html": [
       "<div>\n",
       "<style scoped>\n",
       "    .dataframe tbody tr th:only-of-type {\n",
       "        vertical-align: middle;\n",
       "    }\n",
       "\n",
       "    .dataframe tbody tr th {\n",
       "        vertical-align: top;\n",
       "    }\n",
       "\n",
       "    .dataframe thead th {\n",
       "        text-align: right;\n",
       "    }\n",
       "</style>\n",
       "<table border=\"1\" class=\"dataframe\">\n",
       "  <thead>\n",
       "    <tr style=\"text-align: right;\">\n",
       "      <th></th>\n",
       "      <th>0</th>\n",
       "    </tr>\n",
       "  </thead>\n",
       "  <tbody>\n",
       "    <tr>\n",
       "      <th>0</th>\n",
       "      <td>0.0</td>\n",
       "    </tr>\n",
       "    <tr>\n",
       "      <th>1</th>\n",
       "      <td>0.0</td>\n",
       "    </tr>\n",
       "    <tr>\n",
       "      <th>2</th>\n",
       "      <td>0.0</td>\n",
       "    </tr>\n",
       "    <tr>\n",
       "      <th>3</th>\n",
       "      <td>0.0</td>\n",
       "    </tr>\n",
       "    <tr>\n",
       "      <th>4</th>\n",
       "      <td>0.0</td>\n",
       "    </tr>\n",
       "  </tbody>\n",
       "</table>\n",
       "</div>"
      ],
      "text/plain": [
       "     0\n",
       "0  0.0\n",
       "1  0.0\n",
       "2  0.0\n",
       "3  0.0\n",
       "4  0.0"
      ]
     },
     "execution_count": 69,
     "metadata": {},
     "output_type": "execute_result"
    }
   ],
   "source": [
    "predicted_y_df = pd.DataFrame(predicted_y_arr)\n",
    "predicted_y_df.head()"
   ]
  },
  {
   "cell_type": "code",
   "execution_count": 132,
   "metadata": {
    "ExecuteTime": {
     "end_time": "2020-07-15T00:34:51.095907Z",
     "start_time": "2020-07-15T00:34:51.054054Z"
    },
    "hidden": true
   },
   "outputs": [
    {
     "data": {
      "text/plain": [
       "0.0    5160\n",
       "Name: 0, dtype: int64"
      ]
     },
     "execution_count": 132,
     "metadata": {},
     "output_type": "execute_result"
    }
   ],
   "source": [
    "predicted_y_df[0].value_counts()"
   ]
  },
  {
   "cell_type": "markdown",
   "metadata": {
    "heading_collapsed": true
   },
   "source": [
    "## 保存"
   ]
  },
  {
   "cell_type": "code",
   "execution_count": 70,
   "metadata": {
    "ExecuteTime": {
     "end_time": "2020-07-19T14:03:56.657150Z",
     "start_time": "2020-07-19T14:03:56.288756Z"
    },
    "hidden": true
   },
   "outputs": [],
   "source": [
    "回帰モデル.save('/Users/taiyou/Desktop/kerasの使い方モデル.h5')"
   ]
  },
  {
   "cell_type": "markdown",
   "metadata": {
    "heading_collapsed": true
   },
   "source": [
    "## 復元"
   ]
  },
  {
   "cell_type": "code",
   "execution_count": 71,
   "metadata": {
    "ExecuteTime": {
     "end_time": "2020-07-19T14:04:02.117427Z",
     "start_time": "2020-07-19T14:04:01.943801Z"
    },
    "hidden": true
   },
   "outputs": [],
   "source": [
    "import tensorflow as tf\n",
    "\n",
    "\n",
    "model = tf.keras.models.load_model('/Users/taiyou/Desktop/kerasの使い方モデル.h5')"
   ]
  },
  {
   "cell_type": "code",
   "execution_count": 72,
   "metadata": {
    "ExecuteTime": {
     "end_time": "2020-07-19T14:04:02.752824Z",
     "start_time": "2020-07-19T14:04:02.590439Z"
    },
    "hidden": true,
    "scrolled": true
   },
   "outputs": [
    {
     "data": {
      "text/plain": [
       "array([[0.],\n",
       "       [0.],\n",
       "       [0.],\n",
       "       ...,\n",
       "       [0.],\n",
       "       [0.],\n",
       "       [0.]], dtype=float32)"
      ]
     },
     "execution_count": 72,
     "metadata": {},
     "output_type": "execute_result"
    }
   ],
   "source": [
    "model.predict(test_feature_df)"
   ]
  },
  {
   "cell_type": "code",
   "execution_count": null,
   "metadata": {
    "hidden": true
   },
   "outputs": [],
   "source": []
  }
 ],
 "metadata": {
  "kernelspec": {
   "display_name": "Python 3",
   "language": "python",
   "name": "python3"
  },
  "language_info": {
   "codemirror_mode": {
    "name": "ipython",
    "version": 3
   },
   "file_extension": ".py",
   "mimetype": "text/x-python",
   "name": "python",
   "nbconvert_exporter": "python",
   "pygments_lexer": "ipython3",
   "version": "3.6.3"
  },
  "toc": {
   "nav_menu": {},
   "number_sections": true,
   "sideBar": true,
   "skip_h1_title": false,
   "toc_cell": false,
   "toc_position": {},
   "toc_section_display": "block",
   "toc_window_display": false
  }
 },
 "nbformat": 4,
 "nbformat_minor": 2
}
