{
 "cells": [
  {
   "cell_type": "markdown",
   "metadata": {},
   "source": [
    "# 多層ニューラルネットの学習"
   ]
  },
  {
   "cell_type": "markdown",
   "metadata": {},
   "source": [
    "## チューニング箇所\n",
    "\n",
    "<b>順伝播型ネットワーク</b>\n",
    " - 中間層の数\n",
    " - 各中間層のユニット数\n",
    " - 各層でのユニットの活性化関数\n",
    " - 出力層の活性化関数\n",
    " - 損失関数\n",
    "\n",
    "<b>勾配降下法</b>\n",
    " - アルゴリズム\n",
    " - 学習係数\n",
    " - エポック数\n",
    " - ミニバッチのサイズ\n",
    " \n",
    "<b>過学習対策</b>\n",
    " - 早期終了(early stopping)\n",
    " - 重み制約\n",
    "     - 重み減衰(weight decay): 正則化の強さを制御するパラメータ\n",
    "     - 重み上限: $\\sum _{i}{ w^{2}_{ji} } < c$の$c$\n",
    " - ドロップアウト\n",
    "     - 各層のユニット選出確率\n",
    " \n",
    "<b>学習のトリック</b>\n",
    " - データの正規化\n",
    " - データ拡張\n",
    " - 複数ネットの平均\n",
    " - 重みの初期化\n",
    " - サンプルの順序"
   ]
  },
  {
   "cell_type": "markdown",
   "metadata": {},
   "source": [
    "---"
   ]
  },
  {
   "cell_type": "markdown",
   "metadata": {},
   "source": [
    "## 実装"
   ]
  },
  {
   "cell_type": "code",
   "execution_count": 13,
   "metadata": {
    "ExecuteTime": {
     "end_time": "2020-11-15T05:19:58.806189Z",
     "start_time": "2020-11-15T05:19:58.698488Z"
    }
   },
   "outputs": [],
   "source": [
    "import pandas as pd\n",
    "import numpy as np\n",
    "\n",
    "import matplotlib.pyplot as plt\n",
    "\n",
    "% matplotlib inline"
   ]
  },
  {
   "cell_type": "markdown",
   "metadata": {},
   "source": [
    "### データセットの読み込み"
   ]
  },
  {
   "cell_type": "code",
   "execution_count": 25,
   "metadata": {
    "ExecuteTime": {
     "end_time": "2020-11-15T05:27:40.756605Z",
     "start_time": "2020-11-15T05:27:40.730796Z"
    }
   },
   "outputs": [],
   "source": [
    "from sklearn.datasets import fetch_california_housing\n",
    "\n",
    "\n",
    "住宅価格の特徴量, カルフォルニアの住宅価格 = fetch_california_housing(return_X_y=True)\n",
    "カルフォルニアの住宅価格_ser = pd.Series(カルフォルニアの住宅価格, name=\"カルフォルニアの住宅価格\")\n",
    "住宅価格の特徴量_df = pd.DataFrame(住宅価格の特徴量)"
   ]
  },
  {
   "cell_type": "markdown",
   "metadata": {},
   "source": [
    "#### 回帰問題"
   ]
  },
  {
   "cell_type": "code",
   "execution_count": 26,
   "metadata": {
    "ExecuteTime": {
     "end_time": "2020-11-15T05:28:35.463710Z",
     "start_time": "2020-11-15T05:28:35.444685Z"
    }
   },
   "outputs": [],
   "source": [
    "回帰問題_y = カルフォルニアの住宅価格_ser.copy()\n",
    "回帰問題_X = 住宅価格の特徴量_df.copy()"
   ]
  },
  {
   "cell_type": "markdown",
   "metadata": {},
   "source": [
    "#### 二値分類"
   ]
  },
  {
   "cell_type": "code",
   "execution_count": null,
   "metadata": {},
   "outputs": [],
   "source": []
  }
 ],
 "metadata": {
  "kernelspec": {
   "display_name": "Python 3",
   "language": "python",
   "name": "python3"
  },
  "language_info": {
   "codemirror_mode": {
    "name": "ipython",
    "version": 3
   },
   "file_extension": ".py",
   "mimetype": "text/x-python",
   "name": "python",
   "nbconvert_exporter": "python",
   "pygments_lexer": "ipython3",
   "version": "3.6.3"
  },
  "toc": {
   "nav_menu": {},
   "number_sections": true,
   "sideBar": true,
   "skip_h1_title": false,
   "toc_cell": false,
   "toc_position": {},
   "toc_section_display": "block",
   "toc_window_display": false
  }
 },
 "nbformat": 4,
 "nbformat_minor": 2
}
