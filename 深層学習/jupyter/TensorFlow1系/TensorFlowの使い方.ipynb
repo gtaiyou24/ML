{
 "cells": [
  {
   "cell_type": "markdown",
   "metadata": {},
   "source": [
    "# TensorFlow\n",
    "> - 計算グラフを用いた数値計算を行うためのオープンソースのライブラリ。\n",
    "> - データの流れをエッジで表した計算グラフによる\"Define and Run\"\n",
    "> - TensorFlowでは、「データフローグラフ」の考え方に基づいて処理を作る\n",
    "     - 機械学習では様々な計算式を用いて処理を行うが、プログラムとして書くからには、一つの計算式を関数として定義し、これを相互に呼び出し合って処理を進めていくことになる\n",
    "> - CPUやGPUといったデバイス単位だけでなく、ネットワーク上の他のマシンでも実行可能\n",
    "> - PythonやC++のAPIの他にもJava, Go言語も使用可能\n",
    "> - 深層学習以外の用途でも使われるように設計されている\n",
    "\n",
    "**インストール方法**\n",
    "```bash\n",
    "pip install tensorflow\n",
    "```\n",
    "もし使っているマシンがGPUに対応しているならば、下記のコマンドを使ってインストールしておくと、GPU環境でも簡単にTensorFlowを使うことができる。\n",
    "```bash\n",
    "pip install tensorflow-gpu\n",
    "```\n",
    "\n",
    "**参考サイト**\n",
    "\n",
    " - [TensorFlowのPython APIセクション](https://www.tensorflow.org/api_docs/python/)<br>\n",
    " https://www.tensorflow.org/api_docs/python/\n",
    " - [TensorFlowのチュートリアル](https://www.tensorflow.org/tutorials)<br>\n",
    " https://www.tensorflow.org/tutorials"
   ]
  },
  {
   "cell_type": "markdown",
   "metadata": {},
   "source": [
    "## TensorFlowの基本的な使い方\n",
    "TensorFlowでは、「データフローグラフ」の考え方に基づいて処理を作る。そのため、\n",
    "\n",
    " 1. 変数、placeholder、計算手順等を定義(*Define*)する\n",
    " 2. データフローグラフを実行(*Run*)する\n",
    "\n",
    "**\"*Define and Run*\"**\n",
    "```python\n",
    "# Define by Run\n",
    "z = x * y    # 掛け算した結果の数値がzに格納される\n",
    "\n",
    "# Define and Run\n",
    "c = tf.maltiply(a, b)    # 掛け算した結果の実際の数値がcに入るわけではない\n",
    "# 計算グラフ上のcというシンボリックを別に実行する必要がある\n",
    "```\n",
    "\n",
    " - *Define by Run* : TensorFlow, Theano\n",
    " - *Define and Run* : Chainer, Torch"
   ]
  },
  {
   "cell_type": "markdown",
   "metadata": {},
   "source": [
    "### `tf.Session()` : Seesionオブジェクトを生成する\n",
    "**<font color=\"red\">※`tf.Session()`を実行すると以下の初期化メソッドが呼ばれる</font>**\n",
    "\n",
    "```python\n",
    "sess = tf.Session(\n",
    "    target='',  # オプション。接続先の実行エンジンを指定する。\n",
    "    graph=None,  # オプション。使用するデータフローグラフを指定する場合に使用する。\n",
    "    config=None  # オプション。セッションの構成オプションを指定する。\n",
    ")\n",
    "```\n",
    "\n",
    "**`Sessionオブジェクト.run(opノード)`** : opノード(Tensorオブジェクト)を評価し、計算操作の結果を返す\n",
    "```python\n",
    "sess.run(\n",
    "    fetches,  # 計算グラフのopノード(Tensorオブジェクト)を指定する。\n",
    "    feed_dict=None,  # 型を指定。指定されていない場合はfetchesから推論された型がセットされる。\n",
    "    options=None,  # オプション。このオプションを使って特定のステップの振る舞いを制御できる(トレースをオンにするなど)。\n",
    "    run_metadata=None  # オプション。非テンソルからの出力を収集する。\n",
    ")\n",
    "```"
   ]
  },
  {
   "cell_type": "code",
   "execution_count": 1,
   "metadata": {
    "ExecuteTime": {
     "end_time": "2020-07-14T12:25:39.108912Z",
     "start_time": "2020-07-14T12:25:27.124249Z"
    },
    "scrolled": true
   },
   "outputs": [
    {
     "ename": "AttributeError",
     "evalue": "module 'tensorflow' has no attribute 'Session'",
     "output_type": "error",
     "traceback": [
      "\u001b[0;31m---------------------------------------------------------------------------\u001b[0m",
      "\u001b[0;31mAttributeError\u001b[0m                            Traceback (most recent call last)",
      "\u001b[0;32m<ipython-input-1-17c326c98b4a>\u001b[0m in \u001b[0;36m<module>\u001b[0;34m()\u001b[0m\n\u001b[1;32m      2\u001b[0m \u001b[0;34m\u001b[0m\u001b[0m\n\u001b[1;32m      3\u001b[0m \u001b[0;31m# セッションスタート\u001b[0m\u001b[0;34m\u001b[0m\u001b[0;34m\u001b[0m\u001b[0;34m\u001b[0m\u001b[0m\n\u001b[0;32m----> 4\u001b[0;31m \u001b[0msess\u001b[0m \u001b[0;34m=\u001b[0m \u001b[0mtf\u001b[0m\u001b[0;34m.\u001b[0m\u001b[0mSession\u001b[0m\u001b[0;34m(\u001b[0m\u001b[0;34m)\u001b[0m\u001b[0;34m\u001b[0m\u001b[0;34m\u001b[0m\u001b[0m\n\u001b[0m\u001b[1;32m      5\u001b[0m \u001b[0;34m\u001b[0m\u001b[0m\n\u001b[1;32m      6\u001b[0m \u001b[0mc_tf\u001b[0m \u001b[0;34m=\u001b[0m \u001b[0mtf\u001b[0m\u001b[0;34m.\u001b[0m\u001b[0mconstant\u001b[0m\u001b[0;34m(\u001b[0m\u001b[0;36m10.0\u001b[0m\u001b[0;34m,\u001b[0m \u001b[0mdtype\u001b[0m\u001b[0;34m=\u001b[0m\u001b[0mtf\u001b[0m\u001b[0;34m.\u001b[0m\u001b[0mfloat32\u001b[0m\u001b[0;34m)\u001b[0m\u001b[0;34m\u001b[0m\u001b[0;34m\u001b[0m\u001b[0m\n",
      "\u001b[0;31mAttributeError\u001b[0m: module 'tensorflow' has no attribute 'Session'"
     ]
    }
   ],
   "source": [
    "import tensorflow as tf\n",
    "\n",
    "# セッションスタート\n",
    "sess = tf.Session()\n",
    "\n",
    "c_tf = tf.constant(10.0, dtype=tf.float32)\n",
    "\n",
    "sess.run(c_tf)\n",
    "# セッションクローズ\n",
    "sess.close()"
   ]
  },
  {
   "cell_type": "markdown",
   "metadata": {},
   "source": [
    "### `tf.InteractiveSession()` : セッションをインタラクティブモードで実行する\n",
    "<div style=\"text-align:center\">\n",
    "    Sessionオブジェクト.run(opノード) → opノード.eval()\n",
    "</div>\n",
    "\n",
    "**<font color=\"red\">※InteractiveSessionオブジェクトを生成する</font>**\n",
    "```python\n",
    "__init__(\n",
    "    target='',\n",
    "    graph=None,\n",
    "    config=None\n",
    ")\n",
    "```\n",
    "\n",
    "| 引数名 | 説明 |\n",
    "|:--------|:-------|\n",
    "| `target` | オプション。接続先の実行エンジンを指定する。 |\n",
    "| `graph` | オプション。特に使用する計算グラフがある場合に指定する。 |\n",
    "| `config` | オプション。セッションの構成オプションを指定する。 |\n",
    "\n",
    " - 「セッションにテンソルオブジェクトを渡す必要がない」\n",
    " - Jupiter Notebookのような対話型(インタラクティブモード)の実行環境において、セッションを気にすることなく、コーディングに集中できるように用意された機能"
   ]
  },
  {
   "cell_type": "code",
   "execution_count": null,
   "metadata": {},
   "outputs": [],
   "source": [
    "import tensorflow as tf\n",
    "\n",
    "# データフローグラフの作成\n",
    "rate = tf.constant(0.08, dtype=tf.float32)\n",
    "price = tf.Variable(1000.0, dtype=tf.float32)\n",
    "tax = tf.multiply(rate, price)\n",
    "price_tax = tf.add(tax, price)\n",
    "update = tf.assign(price, price_tax)\n",
    "\n",
    "# セッション部\n",
    "sess = tf.InteractiveSession() # インタラクティブモードでセッション開始\n",
    "sess.run(tf.global_variables_initializer())\n",
    "print('rate = ', rate.eval())\n",
    "print('price = ', price.eval())\n",
    "update.eval()\n",
    "print('price(update) = ', price.eval())\n",
    "\n",
    "sess.close() # セッションを閉じる"
   ]
  },
  {
   "cell_type": "markdown",
   "metadata": {},
   "source": [
    "### with文でセッション全体をラップする\n",
    "\n",
    " - メリット : セッション部とデータフローグラフ作成部を分け、セッションの処理を関数として定義することでわかりやすくする.\n",
    "\n",
    "```python\n",
    "with オブジェクトを生成するコード as 変数:\n",
    "    オブジェクトを用いた処理\n",
    "```\n",
    "with以下の処理が終了したら、自動的にcloseされる。"
   ]
  },
  {
   "cell_type": "code",
   "execution_count": null,
   "metadata": {},
   "outputs": [],
   "source": [
    "import tensorflow as tf\n",
    "\n",
    "# データフローグラフの作成\n",
    "rate = tf.constant(0.08, dtype=tf.float32)\n",
    "price = tf.Variable(1000.0, dtype=tf.float32)\n",
    "tax = tf.multiply(rate, price)\n",
    "price_tax = tf.add(tax, price)\n",
    "update = tf.assign(price, price_tax)\n",
    "\n",
    "# セッションの処理を実行する関数\n",
    "def run_session():\n",
    "    sess = tf.Session()    # セッションスタート\n",
    "    # すべての変数をまとめて初期化\n",
    "    sess.run(tf.global_variables_initializer())\n",
    "    print('rate = ', sess.run(rate))\n",
    "    print('price = ', sess.run(price))\n",
    "    sess.run(update)    # updateノードを実行\n",
    "    print('price(update) = ', sess.run(price))\n",
    "    sess.close()    # セッションクローズ\n",
    "\n",
    "# セッションを実行\n",
    "run_session()"
   ]
  },
  {
   "cell_type": "code",
   "execution_count": 22,
   "metadata": {},
   "outputs": [
    {
     "name": "stdout",
     "output_type": "stream",
     "text": [
      "rate =  0.08\n",
      "price =  1000.0\n",
      "price(update) =  1080.0\n"
     ]
    }
   ],
   "source": [
    "import tensorflow as tf\n",
    "\n",
    "# データフローグラフの作成\n",
    "rate = tf.constant(0.08, dtype=tf.float32)\n",
    "price = tf.Variable(1000.0, dtype=tf.float32)\n",
    "tax = tf.multiply(rate, price)\n",
    "price_tax = tf.add(tax, price)\n",
    "update = tf.assign(price, price_tax)\n",
    "\n",
    "# セッションの処理\n",
    "with tf.Session() as sess:\n",
    "    sess.run(tf.global_variables_initializer())\n",
    "    print('rate = ', sess.run(rate))\n",
    "    print('price = ', sess.run(price))\n",
    "    sess.run(update)\n",
    "    print('price(update) = ', sess.run(price))"
   ]
  },
  {
   "cell_type": "markdown",
   "metadata": {},
   "source": [
    "---\n",
    "# テンソルを作成する\n",
    "\n",
    " - テンソル(tensor) : TensorFlowが計算グラフを操作するために使用する第一のデータ構造"
   ]
  },
  {
   "cell_type": "markdown",
   "metadata": {},
   "source": [
    "## 固定のテンソル\n",
    "\n",
    "**すべて0の要素からなるテンソルを作成**\n",
    "```python\n",
    "# tf.zeros([行数, 列数])\n",
    "zero_tsr = tf.zeros([row_dim, col_dim])\n",
    "```\n",
    "\n",
    "**すべて1の要素からなるテンソルを作成**\n",
    "```python\n",
    "# tf.ones([行数, 列数])\n",
    "ones_tsr = tf.ones([row_dim, col_dim])\n",
    "```\n",
    "\n",
    "**定数で埋められたテンソルを作成**\n",
    "```python\n",
    "# tf.fill([行数, 列数], 定数値)\n",
    "filled_tsr = tf.fill([row_dim, col_dim], 42)\n",
    "```\n",
    "\n",
    "**既存の定数からテンソルを作成**\n",
    "```python\n",
    "constant_tsr = tf.constant([1, 2, 3])\n",
    "```\n",
    "`tf.constant()`を使ってある値を配列にブロードキャストすれば、`tf.fill()`の振る舞いを模倣できる。\n",
    "```python\n",
    "tf.fill([row_dim, col_dim], 42)\n",
    "# ↑のコードは次のように書くことができる.\n",
    "tf.constant(42, shape=[row_dim, col_dim])\n",
    "```"
   ]
  },
  {
   "cell_type": "markdown",
   "metadata": {},
   "source": [
    "## 定数のテンソル : `tf.constant()`\n",
    "```python\n",
    "tensorflow.constant(\n",
    "    value,\n",
    "    dtype=None,\n",
    "    shape=None,\n",
    "    name='Const',\n",
    "    verify_shape=False\n",
    ")\n",
    "```\n",
    "\n",
    "| 引数 | 説明 |\n",
    "|:------|:----------------------------------------|\n",
    "| `value` | 定数値または定数値のリストを指定. 値がリストの場合は、shape引数でサイズ(長さ)を指定する際に、実際のサイズが収まるようにサイズ指定することが必要. リストの長さが指定された要素の数よりも少ない場合は、リストの最後の要素が残りの要素を埋めるために使用される. |\n",
    "| `dtype` | 型を指定. 指定されていない場合は、valueの値から推論された型がセットされる. |\n",
    "| `shape` | オプション. データのサイズ(長さ)を指定する |\n",
    "| `name` | 定数を内部的に識別するための名前. 指定しない場合はデフォルトのConstが使用される |\n",
    "| `verify_shape` | valueの形状を検証可能にするかどうかを論理値で指定する. デフォルトはFalse(検証可能にしない). |"
   ]
  },
  {
   "cell_type": "markdown",
   "metadata": {},
   "source": [
    "## 同じような形状のテンソルを複数作成\n",
    "他のテンソルの形状に基づいて変数を初期化することもできる。\n",
    "```python\n",
    "zeros_similar = tf.zeros_like(constant_tsr)\n",
    "ones_similar = tf.ones_like(constant_tsr)\n",
    "```\n",
    "※これらのテンソルは引数のテンソルに依存するため、テンソルを順番に初期化しなければならないことに注意！"
   ]
  },
  {
   "cell_type": "markdown",
   "metadata": {},
   "source": [
    "## シーケンステンソル\n",
    "TensorFlowでは、あらかじめ定義された区間を含んだテンソルを指定できる。次の関数の動作は、`range()`の出力やNumPyの`linspace()`の出力と非常によく似ている."
   ]
  },
  {
   "cell_type": "code",
   "execution_count": 5,
   "metadata": {},
   "outputs": [
    {
     "name": "stdout",
     "output_type": "stream",
     "text": [
      "[0.0, 5.0, 10.0]\n",
      "[0, 3, 6, 9]\n"
     ]
    }
   ],
   "source": [
    "import numpy as np\n",
    "\n",
    "print([i for i in np.linspace(0, 10, 3)])\n",
    "print([i for i in range(0, 10, 3)])"
   ]
  },
  {
   "cell_type": "markdown",
   "metadata": {},
   "source": [
    "```python\n",
    "linear_tsr = tf.linspace(start=0, stop=1, num=3)\n",
    ">>> [0.0, 0.5, 1.0]\n",
    "```\n",
    "```python\n",
    "integer_seq_tsr = tf.range(start=6, limit=15, delta=3)\n",
    ">>> [6, 9, 12]\n",
    "```"
   ]
  },
  {
   "cell_type": "code",
   "execution_count": 6,
   "metadata": {},
   "outputs": [
    {
     "name": "stdout",
     "output_type": "stream",
     "text": [
      "[0.0, 0.5, 1.0]\n",
      "[6, 9, 12]\n"
     ]
    }
   ],
   "source": [
    "print([i for i in np.linspace(0, 1, 3)])\n",
    "print([i for i in range(6, 15, 3)])"
   ]
  },
  {
   "cell_type": "markdown",
   "metadata": {},
   "source": [
    "## ランダムテンソル\n",
    "**一様分布から抽出された乱数を生成**\n",
    "```python\n",
    "randunif_tsr = tf.random_uniform([row_dim, col_dim], minval=0, maxval=1)\n",
    "# ( minval <= x < maxval )から抽出される\n",
    "```\n",
    "\n",
    "**正規分布から抽出された乱数を生成**\n",
    "```python\n",
    "# tf.random_normal([行数, 列数], mean=平均値, stddev=標準偏差)\n",
    "randnorm_tsr = tf.random_normal([row_dim, col_dim], mean=0.0, stddev=1.0)\n",
    "```\n",
    "\n",
    "**指定された平均から標準偏差の2倍までの正規分布から値を抽出**\n",
    "```python\n",
    "# tf.truncated_normal([行数, 列数], mean=平均値, stddev=標準偏差)\n",
    "runcnorm_tsr = tf.truncated_normal([row_dim, col_dim], mean=0.0, stddev=1.0)\n",
    "```\n",
    "\n",
    "**配列の要素をランダム化する**\n",
    "```python\n",
    "shuffled_output = tf.random_shuffle(input_tensor)\n",
    "cropped_output = tf.random_crop(input_tensor, crop_size)\n",
    "```\n",
    "\n",
    "**RGB画像のサイズのクロップ(切り取り)をランダムに実行できる**\n",
    "```python\n",
    "# tf.random_crop(my_image, [高さ, 幅, 3])\n",
    "cropped_image = tf.random_crop(my_image, [height/2, width/2, 3])\n",
    "```"
   ]
  },
  {
   "cell_type": "markdown",
   "metadata": {},
   "source": [
    "## 固定のテンソルから変数テンソルを作成\n",
    "テンソルの作成方法が決まったら、テンソルを`Variable()`でラップすることで、対応する変数を作成することもできる。\n",
    "```python\n",
    "my_var = tf.Variable(tf.zeros([row_dim, col_dim]))\n",
    "```"
   ]
  },
  {
   "cell_type": "markdown",
   "metadata": {},
   "source": [
    "## 変数のテンソルを作成 : `tf.Variable()`\n",
    "> **変数** : アルゴリズムのパラメータであり、TensorFlowはアルゴリズムを最適化するためにそれらのパラメータの変更方法を追跡する\n",
    "\n",
    "**<font color=\"red\">※`tf.Variable()`を実行すると以下の初期化メソッドが呼ばれる</font>**.\n",
    "```python\n",
    "__init__(\n",
    "    initial_value=None,\n",
    "    trainable=True,\n",
    "    collections=None,\n",
    "    validate_shape=True,\n",
    "    caching_device=None,\n",
    "    name='Variable',\n",
    "    variable_def=None,\n",
    "    dtype=None,\n",
    "    expected_shape=None,\n",
    "    import_scope=None,\n",
    "    constraint=None\n",
    ")\n",
    "```\n",
    "\n",
    "| 引数名 | 説明 |\n",
    "| :------- | :------- |\n",
    "| `initial_value` | 変数の値として使用できるPythonオブジェクト. 初期値を設定しないことも可能だが、その場合は、dtype指定する必要がある.<br> 値がリストの場合は、shape引数でサイズ(長さ)を指定する際に、実際のサイズが収まるようにサイズ指定することが必要. リストの長さが指定された要素の数よりも少ない場合は、リストの最後の要素が残りの要素を埋めるために使用される. |\n",
    "| `trainable` | デフォルトのTrueで、変数をグラフに追加する. |\n",
    "| `collections` | グラフコレクションキーのリストで、変数はこれらのコレクションに追加される. デフォルトのNoneで[GraphKeys.GLOBAL_VARIABLES]が使われる. |\n",
    "| `validate_shape` | Falseに設定すると、変数が未知の値で初期化されるのを許可する. デフォルトのTrueは、initial_valueの値によって形状を決定する |\n",
    "| `caching_device` | 変数に読み込む値をキャッシュデータとして保存する場合を指定するためのオプション |\n",
    "| `name` | 変数を内部的に識別するための名前. 指定しない場合はデフォルトのVariableが使用される |\n",
    "| `expected_shape` | initial_valueの形状をあらかじめ指定する場合に使用する |\n",
    "| `import_scope` | 変数のスコープとして使用する文字列を設定するためのオプション. プロトコルバッファから初期化するときにのみ使用する |\n",
    "| `constraint` | 更新(値をセット)された後に変数に適用される関数を指定するオプション. |"
   ]
  },
  {
   "cell_type": "code",
   "execution_count": 14,
   "metadata": {},
   "outputs": [
    {
     "data": {
      "text/plain": [
       "array([[0., 0., 0.],\n",
       "       [0., 0., 0.]], dtype=float32)"
      ]
     },
     "execution_count": 14,
     "metadata": {},
     "output_type": "execute_result"
    }
   ],
   "source": [
    "sess = tf.Session()\n",
    "\n",
    "# 変数の設定 = tf.Variable(テンソル)\n",
    "my_var = tf.Variable(tf.zeros([2, 3]))\n",
    "\n",
    "# 変数を初期化するノード\n",
    "initialize_op = tf.global_variables_initializer()\n",
    "# 変数を初期化\n",
    "sess.run(initialize_op)\n",
    "\n",
    "sess.run(my_var)"
   ]
  },
  {
   "cell_type": "markdown",
   "metadata": {},
   "source": [
    "## placeholder\n",
    "\n",
    " - **placeholder** : 特定の型と形状を持つデータを供給できるようにするオブジェクト\n",
    " \n",
    "**placeholder** : 計算グラフに供給するデータの位置を保持しているだけ\n",
    " - placeholderは、セッションの `feed_dict` 引数からデータを取得する\n",
    " - placeholderを計算グラフに配置するには、そのplaceholderで少なくとも1つの演算を実行しなければならない\n",
    "\n",
    "定数(Constant)や変数(Variable)は、宣言時に初期値を設定する。ただ、処理によっては実際にプログラムを実行してみないことには値が決まらないこともある。そようなときに使うのが、`tf.placeholder`。\n",
    "\n",
    "```python\n",
    "tf.placeholder(\n",
    "    dtype,\n",
    "    shape=None,\n",
    "    name=None\n",
    ")\n",
    "```\n",
    "\n",
    "| 引数名 | 説明 |\n",
    "|:--------|:------|\n",
    "| `dtype` | 要素の型 |\n",
    "| `shape` | オプション。要素の形状を指定。 |\n",
    "| `name` | オプション。オペレーションの名前。 |\n",
    "\n",
    "計算グラフを通じてデータを供給する前に、データの形状を設定し、演算の成果指標の形状を知っておく必要がある。だが、常にそうなるとは限らない。事前にはわからない次元が1つか2つあるかもしれないし、それらが変化することも考えられる。そのような場合は、変化する可能性がある、あるいは不明な次元をNoneという値で指定する。\n",
    "\n",
    "x_data = tf.placeholder(tf.float32, shape=[3, None])"
   ]
  },
  {
   "cell_type": "code",
   "execution_count": 11,
   "metadata": {},
   "outputs": [
    {
     "data": {
      "text/plain": [
       "array([[0.95327884, 0.39202842],\n",
       "       [0.3763179 , 0.3363032 ]], dtype=float32)"
      ]
     },
     "execution_count": 11,
     "metadata": {},
     "output_type": "execute_result"
    }
   ],
   "source": [
    "sess = tf.Session()\n",
    "\n",
    "# tf.placeholder(データ型, shape=[行数, 列数])\n",
    "x = tf.placeholder(tf.float32, shape=[2, 2])\n",
    "# 恒等演算(単にxを返す)\n",
    "y = tf.identity(x)\n",
    "\n",
    "x_vals = np.random.rand(2, 2)\n",
    "sess.run(y, feed_dict={x: x_vals})\n",
    "# sess.run(x, feed_dict={x: x_vals}) が自己参照エラーになることに注意"
   ]
  },
  {
   "cell_type": "markdown",
   "metadata": {},
   "source": [
    "## 変数の初期化\n",
    "計算グラフを実行するときには、作成した変数をいつ初期化するのかについてTensorFlowに教えてやらなければならない。\n",
    "\n",
    " - 変数にはそれぞれ`initializer`メソッドが用意されているが、変数を初期化するための最も一般的な方法は、**ヘルパー関数**(この場合は、`global_variables_initializer()`)を使用することである。\n",
    " - この関数は計算グラフに演算を追加するものであり、その計算グラフでは変数がすべて初期化される。\n",
    "\n",
    "```python\n",
    "initializer_op = tf.global_variables_initializer()\n",
    "```"
   ]
  },
  {
   "cell_type": "markdown",
   "metadata": {},
   "source": [
    "### `Variableオブジェクト.initializer` : 変数の初期化\n",
    "**変数(Variable)の初期化**\n",
    "```python\n",
    "# initializerプロパティの戻り値(初期化op)を取得する.\n",
    "Sessionオブジェクト.run(Variableオブジェクト.initializer)\n",
    "\n",
    "# 初期化が済むと他のopノードと同じ状態になる.\n",
    "Sessionオブジェクト.run(Variableオブジェクト)\n",
    "```"
   ]
  },
  {
   "cell_type": "code",
   "execution_count": 20,
   "metadata": {},
   "outputs": [
    {
     "name": "stdout",
     "output_type": "stream",
     "text": [
      "first_var =  [[0. 0. 0.]\n",
      " [0. 0. 0.]]\n",
      "first_var =  [[1. 1. 1.]\n",
      " [1. 1. 1.]]\n"
     ]
    },
    {
     "ename": "NameError",
     "evalue": "name 'seconde_var' is not defined",
     "output_type": "error",
     "traceback": [
      "\u001b[0;31m---------------------------------------------------------------------------\u001b[0m",
      "\u001b[0;31mNameError\u001b[0m                                 Traceback (most recent call last)",
      "\u001b[0;32m<ipython-input-20-a2d5d0b87c45>\u001b[0m in \u001b[0;36m<module>\u001b[0;34m()\u001b[0m\n\u001b[1;32m     14\u001b[0m \u001b[0msecond_var\u001b[0m \u001b[0;34m=\u001b[0m \u001b[0mtf\u001b[0m\u001b[0;34m.\u001b[0m\u001b[0mVariable\u001b[0m\u001b[0;34m(\u001b[0m\u001b[0mtf\u001b[0m\u001b[0;34m.\u001b[0m\u001b[0mzeros_like\u001b[0m\u001b[0;34m(\u001b[0m\u001b[0mfirst_var\u001b[0m\u001b[0;34m)\u001b[0m\u001b[0;34m)\u001b[0m\u001b[0;34m\u001b[0m\u001b[0m\n\u001b[1;32m     15\u001b[0m \u001b[0;31m# first_varに依存\u001b[0m\u001b[0;34m\u001b[0m\u001b[0;34m\u001b[0m\u001b[0m\n\u001b[0;32m---> 16\u001b[0;31m \u001b[0msess\u001b[0m\u001b[0;34m.\u001b[0m\u001b[0mrun\u001b[0m\u001b[0;34m(\u001b[0m\u001b[0mseconde_var\u001b[0m\u001b[0;34m.\u001b[0m\u001b[0minitializer\u001b[0m\u001b[0;34m)\u001b[0m\u001b[0;34m\u001b[0m\u001b[0m\n\u001b[0m\u001b[1;32m     17\u001b[0m \u001b[0;34m\u001b[0m\u001b[0m\n\u001b[1;32m     18\u001b[0m \u001b[0;31m# セッションを閉じる\u001b[0m\u001b[0;34m\u001b[0m\u001b[0;34m\u001b[0m\u001b[0m\n",
      "\u001b[0;31mNameError\u001b[0m: name 'seconde_var' is not defined"
     ]
    }
   ],
   "source": [
    "sess = tf.Session()\n",
    "\n",
    "first_var = tf.Variable(tf.zeros([2, 3]))\n",
    "add_first_var = tf.add(first_var, 1)\n",
    "# 変数first_varは初期化が必要\n",
    "sess.run(first_var.initializer)\n",
    "# 変数first_varを出力\n",
    "print('first_var = ', sess.run(first_var))\n",
    "# 1を足す\n",
    "sess.run(add_first_var)\n",
    "# 更新を確認\n",
    "print('first_var = ', sess.run(add_first_var))\n",
    "\n",
    "second_var = tf.Variable(tf.zeros_like(first_var))\n",
    "# first_varに依存\n",
    "sess.run(seconde_var.initializer)\n",
    "\n",
    "# セッションを閉じる\n",
    "sess.close()"
   ]
  },
  {
   "cell_type": "markdown",
   "metadata": {},
   "source": [
    "### `tf.global_variables_initializer()`で変数をまとめて初期化する\n",
    "`tf.global_variables_initializer()`は、定義済みのすべての変数をまとめて初期化する。\n",
    "\n",
    "> `tf.global_variables_initializer()` : **すべてのグローバル変数を初期化するための処理を返す。**\n",
    "\n",
    "```python\n",
    "Sessionオブジェクト.run(tf.global_variables_initializer())\n",
    "```"
   ]
  },
  {
   "cell_type": "code",
   "execution_count": 21,
   "metadata": {},
   "outputs": [
    {
     "name": "stdout",
     "output_type": "stream",
     "text": [
      "rate =  0.08\n",
      "price =  1000.0\n",
      "price(update) =  1080.0\n"
     ]
    }
   ],
   "source": [
    "# 例)\n",
    "import tensorflow as tf\n",
    "\n",
    "# データフローグラフの作成\n",
    "rate = tf.constant(0.08, dtype=tf.float32)\n",
    "price = tf.Variable(1000.0, dtype=tf.float32)\n",
    "tax = tf.multiply(rate, price)\n",
    "price_tax = tf.add(tax, price)\n",
    "update = tf.assign(price, price_tax)\n",
    "\n",
    "# --- セッション部 ---\n",
    "sess = tf.Session()    # セッションスタート\n",
    "\n",
    "print('rate = ', sess.run(rate))    # rateノードを実行\n",
    "\n",
    "sess.run(tf.global_variables_initializer())\n",
    "\n",
    "print('price = ', sess.run(price))\n",
    "\n",
    "sess.run(update)    # updateノードを実行\n",
    "print('price(update) = ', sess.run(price))    # 更新後のpriceを出力\n",
    "\n",
    "sess.close()    # セッションクローズ\n",
    "# --- セッション部 ---"
   ]
  },
  {
   "cell_type": "markdown",
   "metadata": {},
   "source": [
    "# 行列を操作する"
   ]
  },
  {
   "cell_type": "code",
   "execution_count": 8,
   "metadata": {},
   "outputs": [],
   "source": [
    "import numpy as np\n",
    "import tensorflow as tf\n",
    "\n",
    "sess = tf.Session()"
   ]
  },
  {
   "cell_type": "markdown",
   "metadata": {},
   "source": [
    "## 行列を作成する"
   ]
  },
  {
   "cell_type": "code",
   "execution_count": 10,
   "metadata": {},
   "outputs": [
    {
     "name": "stdout",
     "output_type": "stream",
     "text": [
      "[[1. 0. 0.]\n",
      " [0. 1. 0.]\n",
      " [0. 0. 1.]]\n"
     ]
    }
   ],
   "source": [
    "identity_matrix = tf.diag([1.0, 1.0, 1.0])    # 1次元の配列やリストから対角行列を作成\n",
    "A = tf.truncated_normal([2, 3])\n",
    "B = tf.fill([2, 3], 5.0)\n",
    "C = tf.random_uniform([3, 2])\n",
    "D = tf.convert_to_tensor(np.array([[1., 2., 3.], [-3., -7., -1.], [0., 5., -2.]]))\n",
    "\n",
    "print(sess.run(identity_matrix))"
   ]
  },
  {
   "cell_type": "code",
   "execution_count": 11,
   "metadata": {},
   "outputs": [
    {
     "name": "stdout",
     "output_type": "stream",
     "text": [
      "[[ 0.8404328   0.41313443 -0.78452784]\n",
      " [ 0.03570103  0.06861581 -1.1504939 ]]\n"
     ]
    }
   ],
   "source": [
    "print(sess.run(A))"
   ]
  },
  {
   "cell_type": "code",
   "execution_count": 12,
   "metadata": {},
   "outputs": [
    {
     "name": "stdout",
     "output_type": "stream",
     "text": [
      "[[5. 5. 5.]\n",
      " [5. 5. 5.]]\n"
     ]
    }
   ],
   "source": [
    "print(sess.run(B))"
   ]
  },
  {
   "cell_type": "code",
   "execution_count": 13,
   "metadata": {},
   "outputs": [
    {
     "name": "stdout",
     "output_type": "stream",
     "text": [
      "[[0.99865496 0.44942558]\n",
      " [0.59569776 0.7610649 ]\n",
      " [0.11731505 0.7798513 ]]\n"
     ]
    }
   ],
   "source": [
    "print(sess.run(C))"
   ]
  },
  {
   "cell_type": "code",
   "execution_count": 14,
   "metadata": {},
   "outputs": [
    {
     "name": "stdout",
     "output_type": "stream",
     "text": [
      "[[ 1.  2.  3.]\n",
      " [-3. -7. -1.]\n",
      " [ 0.  5. -2.]]\n"
     ]
    }
   ],
   "source": [
    "print(sess.run(D))"
   ]
  },
  {
   "cell_type": "markdown",
   "metadata": {},
   "source": [
    "## 行列の加算/減算/乗算"
   ]
  },
  {
   "cell_type": "code",
   "execution_count": 15,
   "metadata": {},
   "outputs": [
    {
     "name": "stdout",
     "output_type": "stream",
     "text": [
      "[[5.038511  4.1288133 4.5794473]\n",
      " [5.8132734 5.2717886 3.946489 ]]\n"
     ]
    }
   ],
   "source": [
    "print(sess.run(A + B))"
   ]
  },
  {
   "cell_type": "code",
   "execution_count": 16,
   "metadata": {},
   "outputs": [
    {
     "name": "stdout",
     "output_type": "stream",
     "text": [
      "[[0. 0. 0.]\n",
      " [0. 0. 0.]]\n"
     ]
    }
   ],
   "source": [
    "print(sess.run(B - B))"
   ]
  },
  {
   "cell_type": "markdown",
   "metadata": {},
   "source": [
    "### `tf.matmul`\n",
    "基本的な演算子の次によく使われるものといえば、一般的な行列の掛け算である matmul 演算でしょう。matmul 演算は非常に簡単で、LxN 行列を第一引数に、MxN 行列を第二引数に渡すと、LxM 行列を返してくれます。具体的には、下記の結果を見ていただくのが早いでしょう。"
   ]
  },
  {
   "cell_type": "code",
   "execution_count": 17,
   "metadata": {},
   "outputs": [
    {
     "name": "stdout",
     "output_type": "stream",
     "text": [
      "[[5. 5. 5.]\n",
      " [5. 5. 5.]]\n"
     ]
    }
   ],
   "source": [
    "print(sess.run(tf.matmul(B, identity_matrix)))"
   ]
  },
  {
   "cell_type": "code",
   "execution_count": 48,
   "metadata": {},
   "outputs": [
    {
     "data": {
      "text/plain": [
       "array([[14],\n",
       "       [26]], dtype=int32)"
      ]
     },
     "execution_count": 48,
     "metadata": {},
     "output_type": "execute_result"
    }
   ],
   "source": [
    "# 2×3行列\n",
    "a = tf.Variable([[1, 2, 3],\n",
    "                            [3, 4, 5]])\n",
    "# 3×1行列\n",
    "y = tf.matmul(a, [[1],\n",
    "                               [2],\n",
    "                               [3]])\n",
    "sess.run(a.initializer)\n",
    "# 2x3 行列と3x1 行列の掛け算 → 2×1行列\n",
    "sess.run(y)"
   ]
  },
  {
   "cell_type": "code",
   "execution_count": 53,
   "metadata": {
    "scrolled": true
   },
   "outputs": [
    {
     "data": {
      "text/plain": [
       "array([[14],\n",
       "       [26]], dtype=int32)"
      ]
     },
     "execution_count": 53,
     "metadata": {},
     "output_type": "execute_result"
    }
   ],
   "source": [
    "# 3×1行列テンソル\n",
    "b = tf.Variable([[1], [2], [3]])\n",
    "o = tf.matmul(a, b)\n",
    "\n",
    "sess.run(b.initializer)\n",
    "sess.run(o)"
   ]
  },
  {
   "cell_type": "markdown",
   "metadata": {},
   "source": [
    "## 行列の転置"
   ]
  },
  {
   "cell_type": "code",
   "execution_count": 18,
   "metadata": {},
   "outputs": [
    {
     "name": "stdout",
     "output_type": "stream",
     "text": [
      "[[0.4336083  0.057863   0.27412355]\n",
      " [0.5640781  0.05613565 0.33640802]]\n"
     ]
    }
   ],
   "source": [
    "print(sess.run(tf.transpose(C)))"
   ]
  },
  {
   "cell_type": "markdown",
   "metadata": {},
   "source": [
    "この場合、乱数が再び初期化されるため、以前とは異なる値が得られることに注意！"
   ]
  },
  {
   "cell_type": "markdown",
   "metadata": {},
   "source": [
    "## 行列式を求める"
   ]
  },
  {
   "cell_type": "code",
   "execution_count": 23,
   "metadata": {},
   "outputs": [
    {
     "name": "stdout",
     "output_type": "stream",
     "text": [
      "-37.99999999999999\n"
     ]
    }
   ],
   "source": [
    "print(sess.run(tf.matrix_determinant(D)))"
   ]
  },
  {
   "cell_type": "markdown",
   "metadata": {},
   "source": [
    "## 逆行列を求める"
   ]
  },
  {
   "cell_type": "code",
   "execution_count": 24,
   "metadata": {},
   "outputs": [
    {
     "name": "stdout",
     "output_type": "stream",
     "text": [
      "[[-0.5        -0.5        -0.5       ]\n",
      " [ 0.15789474  0.05263158  0.21052632]\n",
      " [ 0.39473684  0.13157895  0.02631579]]\n"
     ]
    }
   ],
   "source": [
    "print(sess.run(tf.matrix_inverse(D)))"
   ]
  },
  {
   "cell_type": "markdown",
   "metadata": {},
   "source": [
    "## コレスキー分解"
   ]
  },
  {
   "cell_type": "code",
   "execution_count": 25,
   "metadata": {},
   "outputs": [
    {
     "name": "stdout",
     "output_type": "stream",
     "text": [
      "[[1. 0. 0.]\n",
      " [0. 1. 0.]\n",
      " [0. 0. 1.]]\n"
     ]
    }
   ],
   "source": [
    "print(sess.run(tf.cholesky(identity_matrix)))"
   ]
  },
  {
   "cell_type": "markdown",
   "metadata": {},
   "source": [
    "## 固有値と固有ベクトルを求める"
   ]
  },
  {
   "cell_type": "code",
   "execution_count": 26,
   "metadata": {},
   "outputs": [
    {
     "name": "stdout",
     "output_type": "stream",
     "text": [
      "[-10.65907521  -0.22750691   2.88658212]\n",
      "[[ 0.21749542  0.63250104 -0.74339638]\n",
      " [ 0.84526515  0.2587998   0.46749277]\n",
      " [-0.4880805   0.73004459  0.47834331]]\n"
     ]
    }
   ],
   "source": [
    "eigenvalues, eigenvectors = sess.run(tf.self_adjoint_eig(D))\n",
    "print(eigenvalues)\n",
    "print(eigenvectors)"
   ]
  },
  {
   "cell_type": "markdown",
   "metadata": {},
   "source": [
    "# 演算を設定する"
   ]
  },
  {
   "cell_type": "code",
   "execution_count": 27,
   "metadata": {},
   "outputs": [],
   "source": [
    "import tensorflow as tf\n",
    "\n",
    "sess = tf.Session()"
   ]
  },
  {
   "cell_type": "markdown",
   "metadata": {},
   "source": [
    "## 徐算の計算"
   ]
  },
  {
   "cell_type": "code",
   "execution_count": 28,
   "metadata": {},
   "outputs": [
    {
     "name": "stdout",
     "output_type": "stream",
     "text": [
      "0\n",
      "0.75\n"
     ]
    }
   ],
   "source": [
    "print(sess.run(tf.div(3, 4)))\n",
    "print(sess.run(tf.div(3.0, 4.0)))"
   ]
  },
  {
   "cell_type": "markdown",
   "metadata": {},
   "source": [
    "浮動小数点数を返す"
   ]
  },
  {
   "cell_type": "code",
   "execution_count": 29,
   "metadata": {},
   "outputs": [
    {
     "name": "stdout",
     "output_type": "stream",
     "text": [
      "0.75\n"
     ]
    }
   ],
   "source": [
    "print(sess.run(tf.truediv(3, 4)))"
   ]
  },
  {
   "cell_type": "markdown",
   "metadata": {},
   "source": [
    "浮動小数点数ではあるものの、整数の徐算を行いたい場合は、`floordiv()`という関数を使用する"
   ]
  },
  {
   "cell_type": "code",
   "execution_count": 30,
   "metadata": {},
   "outputs": [
    {
     "name": "stdout",
     "output_type": "stream",
     "text": [
      "0.0\n"
     ]
    }
   ],
   "source": [
    "print(sess.run(tf.floordiv(3.0, 4.0)))"
   ]
  },
  {
   "cell_type": "markdown",
   "metadata": {},
   "source": [
    "## 徐算の余りを返す"
   ]
  },
  {
   "cell_type": "code",
   "execution_count": 31,
   "metadata": {},
   "outputs": [
    {
     "name": "stdout",
     "output_type": "stream",
     "text": [
      "2.0\n"
     ]
    }
   ],
   "source": [
    "print(sess.run(tf.mod(22.0, 5.0)))"
   ]
  },
  {
   "cell_type": "markdown",
   "metadata": {},
   "source": [
    "## 2つのテンソルの外積を求める\n",
    "外積が定義されるのは、2つの3要素ベクトルに限られる。"
   ]
  },
  {
   "cell_type": "code",
   "execution_count": 32,
   "metadata": {},
   "outputs": [
    {
     "name": "stdout",
     "output_type": "stream",
     "text": [
      "[0. 0. 1.]\n"
     ]
    }
   ],
   "source": [
    "print(sess.run(tf.cross([1.0, 0.0, 0.0], [0.0, 1.0, 0.0])))"
   ]
  },
  {
   "cell_type": "markdown",
   "metadata": {},
   "source": [
    "## 一般的な数学関数\n",
    "\n",
    "| 演算子 | 説明 |\n",
    "|:--------|:-------|\n",
    "| `tf.add(x, y)` | 同じ型のTensorを足し算する($x + y$)。 |\n",
    "| `tf.abs(x)` | `x`の絶対値を返す |\n",
    "| `tf.ceil(x)` | `x`の天井関数 |\n",
    "| `ft.cos(x)` | `x`のcos関数 |\n",
    "| `tf.subtract(x, y)` | 同じ型のTensorを引き算する($x - y$)。 |\n",
    "| `tf.sqrt(x)` | $x$の平方根を求める。 |\n",
    "| `tf.square(x)` | `x`の自乗を計算 |\n",
    "| `tf.multiply(x, y)` | 2つのTensorに対して行列の積を求める。 |\n",
    "| `tf.pow(x, y)` | $x$の要素ごとに$y$乗する($x^{y}$)。 |\n",
    "| `tf.exp(x)` | $\\mathrm {exp}\\left( x \\right)$ |\n",
    "| `tf.log(x)` | `x`の自然対数を返す |\n",
    "| `tf.div(x, y)` | $x$と$y$の要素ごとの徐算を行う。 |\n",
    "| `tf.truediv(x, y)` | float型の引数をキャストする以外は、`div()`と同じ。 |\n",
    "| `tf.floordiv(x, y)` | 求めた値を整数に丸める以外は、`div()`と同じ。 |\n",
    "| `tf.mod(x, y)` | 要素ごとの剰余を求める。 |\n",
    "| `tf.maximum(x, y)` | `x`,`y`の要素単位の最大値 |\n",
    "| `tf.minimum(x, y)` | `x`, `y`の要素単位の最小値 |\n",
    "\n",
    "機械学習で使用されていて、TensorFlowにも組み込まれている特別な数学関数\n",
    "\n",
    "| 関数 | 説明 |\n",
    "|:------|:------|\n",
    "| `digamma(x)` | `x`のプサイ関数. `lgamma()`の導関数 |\n",
    "| `erf(x)` | `x`のガウス誤差関数 |\n",
    "| `erfc(x)` | `x`の相補誤差関数 |\n",
    "| `igamma(a, x)` | 第1種不完全ガンマ関数 |\n",
    "| `igammac(a, x)` | 第2種不完全ガンマ関数 |\n",
    "| `lbeta(x)` | `x`のベータ関数の絶対値の自然対数 |\n",
    "| `lgamma(x)` | `x`のガンマ関数の絶対値の自然対数 |\n",
    "| `squared_difference(x, y)` | `x`と`y`の差の自乗 |"
   ]
  },
  {
   "cell_type": "markdown",
   "metadata": {},
   "source": [
    "## 自作の関数を作成する\n",
    "$$\n",
    "y = 3 x^{2} - x + 10\n",
    "$$"
   ]
  },
  {
   "cell_type": "code",
   "execution_count": 33,
   "metadata": {},
   "outputs": [
    {
     "name": "stdout",
     "output_type": "stream",
     "text": [
      "362\n"
     ]
    }
   ],
   "source": [
    "def custom_polynomial(value):\n",
    "    return (tf.subtract(3 * tf.square(value), value) + 10)\n",
    "\n",
    "print(sess.run(custom_polynomial(11)))"
   ]
  },
  {
   "cell_type": "markdown",
   "metadata": {},
   "source": [
    "---\n",
    "# 入れ子の演算を階層化する\n",
    "同じ計算グラフに複数の演算を追加する方法について説明する。\n",
    "\n",
    "<img src=\"./imgs/02/データが計算グラフをさかのぼっていくときのサイズを確認できる計算グラフ.png\" width=\"30%\">"
   ]
  },
  {
   "cell_type": "markdown",
   "metadata": {},
   "source": [
    "計算グラフの流れ\n",
    "$$\n",
    "y = const2 + y1\\\\\n",
    "y1 = const1 \\times y2\\\\\n",
    "y2 = const \\times placeholder\n",
    "$$"
   ]
  },
  {
   "cell_type": "code",
   "execution_count": 2,
   "metadata": {},
   "outputs": [],
   "source": [
    "import numpy as np\n",
    "import tensorflow as tf\n",
    "\n",
    "sess = tf.Session()"
   ]
  },
  {
   "cell_type": "code",
   "execution_count": 8,
   "metadata": {},
   "outputs": [
    {
     "data": {
      "text/plain": [
       "array([[[ 1.,  3.,  5.,  7.,  9.],\n",
       "        [-2.,  0.,  2.,  4.,  6.],\n",
       "        [-6., -3.,  0.,  3.,  6.]],\n",
       "\n",
       "       [[ 2.,  4.,  6.,  8., 10.],\n",
       "        [-1.,  1.,  3.,  5.,  7.],\n",
       "        [-5., -2.,  1.,  4.,  7.]]])"
      ]
     },
     "execution_count": 8,
     "metadata": {},
     "output_type": "execute_result"
    }
   ],
   "source": [
    "my_array = np.array([\n",
    "        [1.0, 3.0, 5.0, 7.0, 9.0],\n",
    "        [-2.0, 0.0, 2.0, 4.0, 6.0],\n",
    "        [-6.0, -3.0, 0.0, 3.0, 6.0]\n",
    "    ])\n",
    "\n",
    "# 入力を2つにするために配列を複製\n",
    "sample_arr = np.array([my_array, my_array + 1])\n",
    "sample_arr"
   ]
  },
  {
   "cell_type": "code",
   "execution_count": 4,
   "metadata": {},
   "outputs": [],
   "source": [
    "x_ph = tf.placeholder(tf.float32, shape=(3, 5))\n",
    "\n",
    "const_1 = tf.constant([[1.0], [0.0], [-1.0], [2.0], [4.0]])\n",
    "const_2 = tf.constant([[2.0]])\n",
    "a1 = tf.constant([[10.0]])"
   ]
  },
  {
   "cell_type": "code",
   "execution_count": 5,
   "metadata": {},
   "outputs": [],
   "source": [
    "# 行列の徐算(A[3×5] * m1[5×1] = prod1[3×1])\n",
    "y2 = tf.matmul(x_ph, const_1)\n",
    "# 行列の乗算(prod1[3×1] * m2[1×1] = prod2[3×1])\n",
    "y1 = tf.matmul(y2, const_2)\n",
    "# 行列の加算(prod2[3×1] + a1[1×1])\n",
    "y = tf.add(y1, a1)"
   ]
  },
  {
   "cell_type": "code",
   "execution_count": 7,
   "metadata": {},
   "outputs": [
    {
     "name": "stdout",
     "output_type": "stream",
     "text": [
      "[[102.]\n",
      " [ 66.]\n",
      " [ 58.]]\n",
      "[[114.]\n",
      " [ 78.]\n",
      " [ 70.]]\n"
     ]
    }
   ],
   "source": [
    "for x in sample_arr:\n",
    "    print(sess.run(y, feed_dict={x_ph: x}))"
   ]
  },
  {
   "cell_type": "markdown",
   "metadata": {},
   "source": [
    "---\n",
    "# 複数の層を操作する"
   ]
  },
  {
   "cell_type": "code",
   "execution_count": 39,
   "metadata": {},
   "outputs": [],
   "source": [
    "import numpy as np\n",
    "import tensorflow as tf\n",
    "import os\n",
    "\n",
    "sess = tf.Session()"
   ]
  },
  {
   "cell_type": "markdown",
   "metadata": {},
   "source": [
    "## 例\n",
    "**1. NumPyを使ってサンプルの2D画像を作成する。**これは4×4ピクセルの画像であり、4つの次元で作成する。"
   ]
  },
  {
   "cell_type": "code",
   "execution_count": 40,
   "metadata": {},
   "outputs": [
    {
     "data": {
      "text/plain": [
       "array([[[[0.60736108],\n",
       "         [0.6397809 ],\n",
       "         [0.19806684],\n",
       "         [0.46055464]],\n",
       "\n",
       "        [[0.24045537],\n",
       "         [0.87856878],\n",
       "         [0.69671331],\n",
       "         [0.1944757 ]],\n",
       "\n",
       "        [[0.55127505],\n",
       "         [0.69572689],\n",
       "         [0.6853485 ],\n",
       "         [0.9049865 ]],\n",
       "\n",
       "        [[0.56250792],\n",
       "         [0.41152774],\n",
       "         [0.02212364],\n",
       "         [0.57048396]]]])"
      ]
     },
     "execution_count": 40,
     "metadata": {},
     "output_type": "execute_result"
    }
   ],
   "source": [
    "x_shape = [1, 4, 4, 1]\n",
    "x_val = np.random.uniform(size=x_shape)\n",
    "x_val"
   ]
  },
  {
   "cell_type": "markdown",
   "metadata": {},
   "source": [
    "**2. 次にサンプル画像を供給するためのplaceholderを計算グラフに作成しなければならない**"
   ]
  },
  {
   "cell_type": "code",
   "execution_count": 41,
   "metadata": {},
   "outputs": [],
   "source": [
    "x_data = tf.placeholder(tf.float32, shape=x_shape)"
   ]
  },
  {
   "cell_type": "markdown",
   "metadata": {},
   "source": [
    "**3. 4×4画像に対する移動平均ウィンドウを作成するには、2×2の形状のウィンドウに定数を畳み込む関数を使用する**"
   ]
  },
  {
   "cell_type": "code",
   "execution_count": 42,
   "metadata": {},
   "outputs": [],
   "source": [
    "my_filter = tf.constant(0.25, shape=[2, 2, 1, 1])\n",
    "my_strides = [1, 2, 2, 1]\n",
    "mov_avg_layer = tf.nn.conv2d(x_data, my_filter, my_strides, padding=\"SAME\", name='Moving_Avg_Window')"
   ]
  },
  {
   "cell_type": "markdown",
   "metadata": {},
   "source": [
    "また、`tf.nn.conv2d()`の`name`引数を使って、この層に`Moving_Avg_Window`という名前を付けていることにも注意しよう。"
   ]
  },
  {
   "cell_type": "markdown",
   "metadata": {},
   "source": [
    "**4. 次に移動平均ウィンドウの2×2出力を操作するカスタム層を定義する**"
   ]
  },
  {
   "cell_type": "code",
   "execution_count": 43,
   "metadata": {},
   "outputs": [],
   "source": [
    "def custom_layer(input_matrix):\n",
    "    input_matrix_sqeezed = tf.squeeze(input_matrix)\n",
    "    A = tf.constant([[1.0, 2.0], [-1.0, 3.0]])\n",
    "    b = tf.constant(1.0, shape=[2, 2])\n",
    "    temp1 = tf.matmul(A, input_matrix_sqeezed)\n",
    "    temp = tf.add(temp1, b)  # Ax + b\n",
    "    return tf.sigmoid(temp)"
   ]
  },
  {
   "cell_type": "markdown",
   "metadata": {},
   "source": [
    "**5. 次に、この新しい層を計算グラフに追加する必要がある。次に示すように、この追加は名前付きスコープを使って行うため、新しい層の識別/畳み込み/展開が可能となる。**"
   ]
  },
  {
   "cell_type": "code",
   "execution_count": 44,
   "metadata": {},
   "outputs": [],
   "source": [
    "with tf.name_scope('Custom_Layer') as scope:\n",
    "    custom_layer1 = custom_layer(mov_avg_layer)"
   ]
  },
  {
   "cell_type": "markdown",
   "metadata": {},
   "source": [
    "**6. あとは、placeholderに4×4画像を供給し、TensorFlowに計算グラフの処理を実行させればよい。**"
   ]
  },
  {
   "cell_type": "code",
   "execution_count": 45,
   "metadata": {},
   "outputs": [
    {
     "name": "stdout",
     "output_type": "stream",
     "text": [
      "[[0.93714815 0.922651  ]\n",
      " [0.8883738  0.90462935]]\n"
     ]
    }
   ],
   "source": [
    "print(sess.run(custom_layer1, feed_dict={x_data: x_val}))"
   ]
  },
  {
   "cell_type": "code",
   "execution_count": null,
   "metadata": {},
   "outputs": [],
   "source": []
  }
 ],
 "metadata": {
  "kernelspec": {
   "display_name": "Python 3",
   "language": "python",
   "name": "python3"
  },
  "language_info": {
   "codemirror_mode": {
    "name": "ipython",
    "version": 3
   },
   "file_extension": ".py",
   "mimetype": "text/x-python",
   "name": "python",
   "nbconvert_exporter": "python",
   "pygments_lexer": "ipython3",
   "version": "3.7.2"
  },
  "toc": {
   "nav_menu": {},
   "number_sections": true,
   "sideBar": true,
   "skip_h1_title": false,
   "toc_cell": false,
   "toc_position": {
    "height": "889px",
    "left": "0px",
    "right": "1468px",
    "top": "49px",
    "width": "337px"
   },
   "toc_section_display": "block",
   "toc_window_display": false
  }
 },
 "nbformat": 4,
 "nbformat_minor": 2
}
