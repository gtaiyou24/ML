{
 "cells": [
  {
   "cell_type": "markdown",
   "metadata": {},
   "source": [
    "# Recurrent Neural Network(再帰型ニューラルネットワーク)\n",
    "\n",
    " - [EC購買サンプルデータセット](https://support.treasuredata.com/hc/ja/articles/213697057-%E3%82%B5%E3%83%B3%E3%83%97%E3%83%AB%E3%83%87%E3%83%BC%E3%82%BF%E3%82%BB%E3%83%83%E3%83%88-EC-)"
   ]
  },
  {
   "cell_type": "code",
   "execution_count": 1,
   "metadata": {},
   "outputs": [],
   "source": [
    "import numpy as np\n",
    "import pandas as pd\n",
    "\n",
    "import matplotlib.pyplot as plt\n",
    "import seaborn as sns\n",
    "\n",
    "%matplotlib inline"
   ]
  },
  {
   "cell_type": "markdown",
   "metadata": {},
   "source": [
    "## データセットの生成\n",
    "### 時系列データ\n",
    " - 時系列データ : $x\\left(1\\right), \\dots, x\\left(t\\right), \\dots, x\\left(T\\right)$\n",
    "     - ex) 電車の乗客数、自動車の動き、店舗の売り上げ、株価、為替...\n",
    " - RNNでは、$T$個の時系列データが１つの入力データ群となり、このデータ群を複数扱うことになる\n",
    "     - 時系列データの並びに規則性・パターンがある(あるいはありそうに見える)データを学習することで、未知の時系列データが与えられたときに、そのデータの未来の状態を予測する"
   ]
  },
  {
   "cell_type": "markdown",
   "metadata": {},
   "source": [
    "### 問題 : sin波の予測\n",
    "$$\n",
    "\\begin{eqnarray}\n",
    "f\\left( t \\right) & = & \\sin {\\left( \\frac {2\\pi}{T} t \\right)} \\quad (t=1,\\dots,2T)\n",
    "\\end{eqnarray}\n",
    "$$\n",
    "\n",
    " - $T$ : sin波の周期\n",
    "\n",
    "<div style=\"text-align:center\">\n",
    "    <b>問題 : このsin波をニューラルネットワークで予測することができないか</b>\n",
    "</div>\n",
    "\n",
    "しかし、このままでは真の分布$f\\left( t \\right)$に従ったデータしか与えないことになってしまうので、下記のようにノイズ$u$を与えたsin波を考える。\n",
    "$$\n",
    "\\begin{eqnarray}\n",
    "f\\left( t \\right) & = & \\sin {\\left(\\frac {2\\pi}{T} t \\right)} + 0.05u\\\\\n",
    "u & \\sim & U\\left( -1.0, 1.0 \\right)\n",
    "\\end{eqnarray}\n",
    "$$\n",
    "\n",
    " - $U\\left( a, b \\right)$ : $a$から$b$までの一様分布\n",
    " \n",
    "> sin波は、音を表している　→　「音波」\n",
    ">\n",
    "> - 規則性のある式(1) : 雑音のない綺麗な音を表している\n",
    "> - ノイズの加わった式(2) : 雑音の混じった音を表している\n",
    ">\n",
    "> もしsin波をニューラルネットワークで学習できるのであれば、\n",
    "> 1. それを応用することで音声認識・音声解析にも活用することが考えられる。\n",
    "> 2. ノイズ入りのsin波から真の分布であるsin波を認識できれば、それはノイズの除去に相当する処理をニューラルネットワークによって実現できることにつながる。\n",
    "\n",
    "**損失関数**:　二乗誤差\n",
    "$$\n",
    "E\\left( \\mathrm {\\boldsymbol {w}} \\right) = \\frac {1}{2} \\sum _{t=1}^{T}{\\left[ \\boldsymbol {t}\\left(t\\right) - \\boldsymbol {y}\\left(t ; \\boldsymbol {\\mathrm {w}} \\right) \\right]^{2}}\n",
    "$$\n",
    "\n",
    " - $\\boldsymbol {y}\\left(t ; \\boldsymbol {\\mathrm {w}} \\right)$ : モデルの出力(予測値)\n",
    " - $ \\boldsymbol {t}\\left(t\\right)$ : 教師データ\n",
    "\n",
    "**逆伝播**: BPTT法"
   ]
  },
  {
   "cell_type": "markdown",
   "metadata": {},
   "source": [
    "### 実装 : 時系列データの生成"
   ]
  },
  {
   "cell_type": "code",
   "execution_count": 2,
   "metadata": {},
   "outputs": [],
   "source": [
    "def sin(x, T=100):\n",
    "    \"\"\"sin関数\"\"\"\n",
    "    return np.sin(2.0 * np.pi * x / T)\n",
    "\n",
    "def toy_problem(T=100, ampl=0.05):\n",
    "    \"\"\"サイン波 + ノイズのデータを生成する\"\"\"\n",
    "    x = np.arange(0, 2 * T + 1)\n",
    "    noise = ampl * np.random.uniform(low=-1.0, high=1.0, size=len(x))\n",
    "    return sin(x) + noise"
   ]
  },
  {
   "cell_type": "code",
   "execution_count": 3,
   "metadata": {},
   "outputs": [
    {
     "name": "stderr",
     "output_type": "stream",
     "text": [
      "/Users/taiyou/.pyenv/versions/anaconda3-5.0.1/lib/python3.6/site-packages/matplotlib/font_manager.py:1316: UserWarning: findfont: Font family ['[IPAexGothic]'] not found. Falling back to DejaVu Sans\n",
      "  (prop.get_family(), self.defaultFamily[fontext]))\n"
     ]
    },
    {
     "data": {
      "image/png": "[encoded data removed]",
      "text/plain": [
       "<matplotlib.figure.Figure at 0x1a14729080>"
      ]
     },
     "metadata": {},
     "output_type": "display_data"
    }
   ],
   "source": [
    "T = 100\n",
    "f = toy_problem(T)\n",
    "\n",
    "plt.title('sin data with noise : {0}'.format(f.size));\n",
    "plt.plot(f)\n",
    "plt.show()"
   ]
  },
  {
   "cell_type": "markdown",
   "metadata": {},
   "source": [
    "### 実装 : 教師データへの整形\n",
    "\n",
    "| 教師データ | 特徴ベクトル |\n",
    "|:-------------:|:---------------:|\n",
    "| $f\\left( \\tau + 1 \\right)$ | $f\\left( \\tau \\right), \\dots, f\\left( 1 \\right)$ |\n",
    "| $f\\left( \\tau + 2 \\right)$ | $f\\left( \\tau + 1 \\right), \\dots, f\\left( 2 \\right)$ |\n",
    "| $\\vdots $ | $\\vdots $ |\n",
    "| $f\\left( t + 1 \\right)$ | $f\\left( t \\right), \\dots, f\\left( t - \\tau + 1 \\right)$ |"
   ]
  },
  {
   "cell_type": "code",
   "execution_count": 4,
   "metadata": {},
   "outputs": [],
   "source": [
    "# τごとにデータを分割していく\n",
    "length_of_sequences = 2 * T    # 全時系列の長さ\n",
    "maxlen = 25    # 1つの時系列データの長さ\n",
    "\n",
    "data = []\n",
    "target = []\n",
    "\n",
    "for i in range(0, length_of_sequences - maxlen + 1):\n",
    "    data.append(f[i: i + maxlen])\n",
    "    target.append(f[i + maxlen])"
   ]
  },
  {
   "cell_type": "code",
   "execution_count": 5,
   "metadata": {},
   "outputs": [
    {
     "name": "stdout",
     "output_type": "stream",
     "text": [
      "[0.04161185 0.09478509 0.08325072 0.2316581  0.21688437 0.28660678\n",
      " 0.32136594 0.40417705 0.47139679 0.56900411 0.62063203 0.65134991\n",
      " 0.72173892 0.75198655 0.72551565 0.76882863 0.88534983 0.87667507\n",
      " 0.88202087 0.8947206  0.98374801 0.95795997 1.03045336 0.977018\n",
      " 1.01184259]\n",
      "1.001479794572442\n"
     ]
    }
   ],
   "source": [
    "print(data[0])\n",
    "print(target[0])"
   ]
  },
  {
   "cell_type": "code",
   "execution_count": 6,
   "metadata": {},
   "outputs": [],
   "source": [
    "# 扱いやすい形状へ変更\n",
    "X = np.array(data).reshape(len(data), maxlen, 1)\n",
    "Y = np.array(target).reshape(len(data), 1)"
   ]
  },
  {
   "cell_type": "code",
   "execution_count": 7,
   "metadata": {
    "scrolled": true
   },
   "outputs": [
    {
     "name": "stdout",
     "output_type": "stream",
     "text": [
      "[[0.04161185]\n",
      " [0.09478509]\n",
      " [0.08325072]\n",
      " [0.2316581 ]\n",
      " [0.21688437]\n",
      " [0.28660678]\n",
      " [0.32136594]\n",
      " [0.40417705]\n",
      " [0.47139679]\n",
      " [0.56900411]\n",
      " [0.62063203]\n",
      " [0.65134991]\n",
      " [0.72173892]\n",
      " [0.75198655]\n",
      " [0.72551565]\n",
      " [0.76882863]\n",
      " [0.88534983]\n",
      " [0.87667507]\n",
      " [0.88202087]\n",
      " [0.8947206 ]\n",
      " [0.98374801]\n",
      " [0.95795997]\n",
      " [1.03045336]\n",
      " [0.977018  ]\n",
      " [1.01184259]]\n",
      "[1.00147979]\n"
     ]
    }
   ],
   "source": [
    "print(X[0])\n",
    "print(Y[0])"
   ]
  },
  {
   "cell_type": "code",
   "execution_count": 8,
   "metadata": {},
   "outputs": [],
   "source": [
    "from sklearn.model_selection import train_test_split\n",
    "\n",
    "\n",
    "X_train, X_test, Y_train, Y_test = train_test_split(X, Y, test_size=0.1, random_state=0)"
   ]
  },
  {
   "cell_type": "markdown",
   "metadata": {},
   "source": [
    "# 単純再帰型ネット(Simple RNN)"
   ]
  },
  {
   "cell_type": "markdown",
   "metadata": {},
   "source": [
    "## TensorFlowによる実装"
   ]
  },
  {
   "cell_type": "code",
   "execution_count": null,
   "metadata": {},
   "outputs": [],
   "source": [
    "def inference(x, maxlen):\n",
    "    \"\"\"\n",
    "    Parameters:\n",
    "    x : \n",
    "    \"\"\"\n",
    "    s = tanh(matmul(x, U) + matmul(s_prev, W) + b)\n",
    "    for t in range(maxlen):\n",
    "        s[t] = s[t - 1]\n",
    "    y = matmul(s[t], V) + c\n",
    "    return y"
   ]
  },
  {
   "cell_type": "code",
   "execution_count": null,
   "metadata": {},
   "outputs": [],
   "source": []
  },
  {
   "cell_type": "markdown",
   "metadata": {},
   "source": [
    "## Kerasによる実装\n",
    "\n",
    "### モデルの設定\n",
    "\n",
    " - `n_hidden` : 中間層の数\n",
    " - `n_out` : 出力層のユニット数\n",
    " - `n_in` : 入力層のユニット数(=特徴量の数)\n",
    " - `maxlen` : 出力に時刻用いる過去の数"
   ]
  },
  {
   "cell_type": "code",
   "execution_count": 9,
   "metadata": {},
   "outputs": [
    {
     "name": "stderr",
     "output_type": "stream",
     "text": [
      "/Users/taiyou/.pyenv/versions/anaconda3-5.0.1/lib/python3.6/site-packages/h5py/__init__.py:34: FutureWarning: Conversion of the second argument of issubdtype from `float` to `np.floating` is deprecated. In future, it will be treated as `np.float64 == np.dtype(float).type`.\n",
      "  from ._conv import register_converters as _register_converters\n",
      "Using TensorFlow backend.\n",
      "/Users/taiyou/.pyenv/versions/anaconda3-5.0.1/lib/python3.6/importlib/_bootstrap.py:219: RuntimeWarning: compiletime version 3.5 of module 'tensorflow.python.framework.fast_tensor_util' does not match runtime version 3.6\n",
      "  return f(*args, **kwds)\n"
     ]
    }
   ],
   "source": [
    "from keras.models import Sequential\n",
    "from keras.layers.core import Dense, Activation\n",
    "from keras.layers.recurrent import SimpleRNN\n",
    "from keras.optimizers import Adam\n",
    "from keras.callbacks import EarlyStopping\n",
    "from sklearn.model_selection import train_test_split\n",
    "from sklearn.utils import shuffle\n",
    "\n",
    "\n",
    "n_in = len(X[0][0])  # 1\n",
    "n_hidden = 20\n",
    "n_out = len(Y[0])  # 1\n",
    "\n",
    "\n",
    "def weight_variable(shape, name=None):\n",
    "    return np.random.normal(scale=0.01, size=shape)\n",
    "\n",
    "\n",
    "early_stopping = EarlyStopping(monitor='val_loss', patience=10, verbose=1)\n",
    "\n",
    "model = Sequential()\n",
    "model.add(\n",
    "    SimpleRNN(\n",
    "        n_hidden,\n",
    "        kernel_initializer=weight_variable,\n",
    "        input_shape=(maxlen, n_in)\n",
    "    )\n",
    ")\n",
    "model.add(Dense(n_out, kernel_initializer=weight_variable))\n",
    "model.add(Activation('linear'))\n",
    "\n",
    "optimizer = Adam(lr=0.001, beta_1=0.9, beta_2=0.999)\n",
    "\n",
    "model.compile(\n",
    "    loss='mean_squared_error',\n",
    "    optimizer=optimizer\n",
    ")"
   ]
  },
  {
   "cell_type": "markdown",
   "metadata": {},
   "source": [
    "### モデル学習\n",
    "\n",
    " - `epochs` : 勾配更新回数\n",
    " - `batch_size` : ミニバッチサイズ"
   ]
  },
  {
   "cell_type": "code",
   "execution_count": 10,
   "metadata": {
    "scrolled": true
   },
   "outputs": [
    {
     "name": "stdout",
     "output_type": "stream",
     "text": [
      "Train on 158 samples, validate on 18 samples\n",
      "Epoch 1/500\n",
      "158/158 [==============================] - 1s 4ms/step - loss: 0.4730 - val_loss: 0.5821\n",
      "Epoch 2/500\n",
      "158/158 [==============================] - 0s 774us/step - loss: 0.4092 - val_loss: 0.4826\n",
      "Epoch 3/500\n",
      "158/158 [==============================] - 0s 1ms/step - loss: 0.3231 - val_loss: 0.3534\n",
      "Epoch 4/500\n",
      "158/158 [==============================] - 0s 695us/step - loss: 0.2006 - val_loss: 0.1431\n",
      "Epoch 5/500\n",
      "158/158 [==============================] - 0s 628us/step - loss: 0.0779 - val_loss: 0.0555\n",
      "Epoch 6/500\n",
      "158/158 [==============================] - 0s 592us/step - loss: 0.0402 - val_loss: 0.0312\n",
      "Epoch 7/500\n",
      "158/158 [==============================] - 0s 697us/step - loss: 0.0344 - val_loss: 0.0273\n",
      "Epoch 8/500\n",
      "158/158 [==============================] - 0s 478us/step - loss: 0.0337 - val_loss: 0.0239\n",
      "Epoch 9/500\n",
      "158/158 [==============================] - 0s 590us/step - loss: 0.0281 - val_loss: 0.0205\n",
      "Epoch 10/500\n",
      "158/158 [==============================] - 0s 582us/step - loss: 0.0175 - val_loss: 0.0160\n",
      "Epoch 11/500\n",
      "158/158 [==============================] - 0s 657us/step - loss: 0.0127 - val_loss: 0.0117\n",
      "Epoch 12/500\n",
      "158/158 [==============================] - 0s 707us/step - loss: 0.0122 - val_loss: 0.0112\n",
      "Epoch 13/500\n",
      "158/158 [==============================] - 0s 593us/step - loss: 0.0114 - val_loss: 0.0108\n",
      "Epoch 14/500\n",
      "158/158 [==============================] - 0s 546us/step - loss: 0.0101 - val_loss: 0.0076\n",
      "Epoch 15/500\n",
      "158/158 [==============================] - 0s 577us/step - loss: 0.0088 - val_loss: 0.0081\n",
      "Epoch 16/500\n",
      "158/158 [==============================] - 0s 506us/step - loss: 0.0083 - val_loss: 0.0076\n",
      "Epoch 17/500\n",
      "158/158 [==============================] - 0s 546us/step - loss: 0.0085 - val_loss: 0.0067\n",
      "Epoch 18/500\n",
      "158/158 [==============================] - 0s 535us/step - loss: 0.0082 - val_loss: 0.0057\n",
      "Epoch 19/500\n",
      "158/158 [==============================] - 0s 484us/step - loss: 0.0076 - val_loss: 0.0061\n",
      "Epoch 20/500\n",
      "158/158 [==============================] - 0s 582us/step - loss: 0.0072 - val_loss: 0.0051\n",
      "Epoch 21/500\n",
      "158/158 [==============================] - 0s 589us/step - loss: 0.0070 - val_loss: 0.0052\n",
      "Epoch 22/500\n",
      "158/158 [==============================] - 0s 660us/step - loss: 0.0070 - val_loss: 0.0051\n",
      "Epoch 23/500\n",
      "158/158 [==============================] - 0s 883us/step - loss: 0.0064 - val_loss: 0.0043\n",
      "Epoch 24/500\n",
      "158/158 [==============================] - 0s 513us/step - loss: 0.0061 - val_loss: 0.0048\n",
      "Epoch 25/500\n",
      "158/158 [==============================] - 0s 494us/step - loss: 0.0058 - val_loss: 0.0045\n",
      "Epoch 26/500\n",
      "158/158 [==============================] - 0s 519us/step - loss: 0.0071 - val_loss: 0.0049\n",
      "Epoch 27/500\n",
      "158/158 [==============================] - 0s 595us/step - loss: 0.0081 - val_loss: 0.0045\n",
      "Epoch 28/500\n",
      "158/158 [==============================] - 0s 574us/step - loss: 0.0085 - val_loss: 0.0049\n",
      "Epoch 29/500\n",
      "158/158 [==============================] - 0s 559us/step - loss: 0.0062 - val_loss: 0.0046\n",
      "Epoch 30/500\n",
      "158/158 [==============================] - 0s 520us/step - loss: 0.0067 - val_loss: 0.0049\n",
      "Epoch 31/500\n",
      "158/158 [==============================] - 0s 520us/step - loss: 0.0060 - val_loss: 0.0039\n",
      "Epoch 32/500\n",
      "158/158 [==============================] - 0s 614us/step - loss: 0.0049 - val_loss: 0.0034\n",
      "Epoch 33/500\n",
      "158/158 [==============================] - 0s 488us/step - loss: 0.0048 - val_loss: 0.0030\n",
      "Epoch 34/500\n",
      "158/158 [==============================] - 0s 843us/step - loss: 0.0050 - val_loss: 0.0041\n",
      "Epoch 35/500\n",
      "158/158 [==============================] - 0s 499us/step - loss: 0.0054 - val_loss: 0.0029\n",
      "Epoch 36/500\n",
      "158/158 [==============================] - 0s 490us/step - loss: 0.0053 - val_loss: 0.0033\n",
      "Epoch 37/500\n",
      "158/158 [==============================] - 0s 505us/step - loss: 0.0042 - val_loss: 0.0032\n",
      "Epoch 38/500\n",
      "158/158 [==============================] - 0s 545us/step - loss: 0.0043 - val_loss: 0.0031\n",
      "Epoch 39/500\n",
      "158/158 [==============================] - 0s 553us/step - loss: 0.0047 - val_loss: 0.0032\n",
      "Epoch 40/500\n",
      "158/158 [==============================] - 0s 529us/step - loss: 0.0042 - val_loss: 0.0027\n",
      "Epoch 41/500\n",
      "158/158 [==============================] - 0s 496us/step - loss: 0.0039 - val_loss: 0.0022\n",
      "Epoch 42/500\n",
      "158/158 [==============================] - 0s 514us/step - loss: 0.0039 - val_loss: 0.0021\n",
      "Epoch 43/500\n",
      "158/158 [==============================] - 0s 505us/step - loss: 0.0036 - val_loss: 0.0036\n",
      "Epoch 44/500\n",
      "158/158 [==============================] - 0s 516us/step - loss: 0.0036 - val_loss: 0.0026\n",
      "Epoch 45/500\n",
      "158/158 [==============================] - 0s 665us/step - loss: 0.0034 - val_loss: 0.0024\n",
      "Epoch 46/500\n",
      "158/158 [==============================] - 0s 678us/step - loss: 0.0034 - val_loss: 0.0020\n",
      "Epoch 47/500\n",
      "158/158 [==============================] - 0s 694us/step - loss: 0.0036 - val_loss: 0.0028\n",
      "Epoch 48/500\n",
      "158/158 [==============================] - 0s 648us/step - loss: 0.0031 - val_loss: 0.0017\n",
      "Epoch 49/500\n",
      "158/158 [==============================] - 0s 505us/step - loss: 0.0028 - val_loss: 0.0014\n",
      "Epoch 50/500\n",
      "158/158 [==============================] - 0s 496us/step - loss: 0.0030 - val_loss: 0.0015\n",
      "Epoch 51/500\n",
      "158/158 [==============================] - 0s 514us/step - loss: 0.0029 - val_loss: 0.0017\n",
      "Epoch 52/500\n",
      "158/158 [==============================] - 0s 538us/step - loss: 0.0025 - val_loss: 0.0015\n",
      "Epoch 53/500\n",
      "158/158 [==============================] - 0s 495us/step - loss: 0.0028 - val_loss: 0.0016\n",
      "Epoch 54/500\n",
      "158/158 [==============================] - 0s 519us/step - loss: 0.0027 - val_loss: 0.0014\n",
      "Epoch 55/500\n",
      "158/158 [==============================] - 0s 525us/step - loss: 0.0026 - val_loss: 0.0019\n",
      "Epoch 56/500\n",
      "158/158 [==============================] - 0s 693us/step - loss: 0.0023 - val_loss: 0.0018\n",
      "Epoch 57/500\n",
      "158/158 [==============================] - 0s 502us/step - loss: 0.0025 - val_loss: 0.0023\n",
      "Epoch 58/500\n",
      "158/158 [==============================] - 0s 480us/step - loss: 0.0029 - val_loss: 0.0026\n",
      "Epoch 59/500\n",
      "158/158 [==============================] - 0s 485us/step - loss: 0.0029 - val_loss: 0.0026\n",
      "Epoch 60/500\n",
      "158/158 [==============================] - 0s 477us/step - loss: 0.0024 - val_loss: 0.0011\n",
      "Epoch 61/500\n",
      "158/158 [==============================] - 0s 615us/step - loss: 0.0021 - val_loss: 0.0013\n",
      "Epoch 62/500\n",
      "158/158 [==============================] - 0s 548us/step - loss: 0.0021 - val_loss: 0.0014\n",
      "Epoch 63/500\n",
      "158/158 [==============================] - 0s 552us/step - loss: 0.0020 - val_loss: 0.0014\n",
      "Epoch 64/500\n",
      "158/158 [==============================] - 0s 536us/step - loss: 0.0021 - val_loss: 0.0015\n",
      "Epoch 65/500\n",
      "158/158 [==============================] - 0s 569us/step - loss: 0.0021 - val_loss: 0.0012\n",
      "Epoch 66/500\n",
      "158/158 [==============================] - 0s 483us/step - loss: 0.0020 - val_loss: 0.0013\n",
      "Epoch 67/500\n",
      "158/158 [==============================] - 0s 485us/step - loss: 0.0020 - val_loss: 0.0013\n",
      "Epoch 68/500\n",
      "158/158 [==============================] - 0s 805us/step - loss: 0.0018 - val_loss: 0.0014\n",
      "Epoch 69/500\n",
      "158/158 [==============================] - 0s 650us/step - loss: 0.0019 - val_loss: 0.0014\n",
      "Epoch 70/500\n",
      "158/158 [==============================] - 0s 565us/step - loss: 0.0019 - val_loss: 0.0012\n",
      "Epoch 00070: early stopping\n"
     ]
    },
    {
     "data": {
      "text/plain": [
       "<keras.callbacks.History at 0x1a2498c320>"
      ]
     },
     "execution_count": 10,
     "metadata": {},
     "output_type": "execute_result"
    }
   ],
   "source": [
    "epochs = 500\n",
    "batch_size = 10\n",
    "\n",
    "model.fit(\n",
    "    X_train, Y_train,\n",
    "    batch_size=batch_size,\n",
    "    epochs=epochs,\n",
    "    validation_data=(X_test, Y_test),\n",
    "    callbacks=[early_stopping]\n",
    ")"
   ]
  },
  {
   "cell_type": "markdown",
   "metadata": {},
   "source": [
    "### 出力を用いて予測"
   ]
  },
  {
   "cell_type": "code",
   "execution_count": 11,
   "metadata": {},
   "outputs": [],
   "source": [
    "truncate = maxlen\n",
    "Z = X[:1]  # 元データの最初の一部だけ切り出し\n",
    "\n",
    "original = [f[i] for i in range(maxlen)]\n",
    "predicted = [None for i in range(maxlen)]\n",
    "\n",
    "for i in range(length_of_sequences - maxlen + 1):\n",
    "    # 入力\n",
    "    z_ = Z[-1:]\n",
    "    # 出力\n",
    "    y_ = model.predict(z_)\n",
    "    sequence_ = np.concatenate(\n",
    "        (z_.reshape(maxlen, n_in)[1:], y_),\n",
    "        axis=0\n",
    "    ).reshape(1, maxlen, n_in)\n",
    "\n",
    "    Z = np.append(Z, sequence_, axis=0)\n",
    "    predicted.append(y_.reshape(-1))"
   ]
  },
  {
   "cell_type": "markdown",
   "metadata": {},
   "source": [
    "### グラフで可視化"
   ]
  },
  {
   "cell_type": "code",
   "execution_count": 12,
   "metadata": {},
   "outputs": [
    {
     "data": {
      "image/png": "[encoded data removed]",
      "text/plain": [
       "<matplotlib.figure.Figure at 0x1a24d084e0>"
      ]
     },
     "metadata": {},
     "output_type": "display_data"
    }
   ],
   "source": [
    "plt.rc('font', family='serif')\n",
    "plt.figure()\n",
    "plt.ylim([-1.5, 1.5])\n",
    "plt.plot(toy_problem(T, ampl=0), linestyle='dotted', color='#aaaaaa')\n",
    "plt.plot(original, linestyle='dashed', color='black')\n",
    "plt.plot(predicted, color='black')\n",
    "plt.show()"
   ]
  },
  {
   "cell_type": "markdown",
   "metadata": {},
   "source": [
    "---\n",
    "# LSTM"
   ]
  },
  {
   "cell_type": "code",
   "execution_count": 13,
   "metadata": {},
   "outputs": [],
   "source": [
    "import numpy as np\n",
    "import pandas as pd\n",
    "\n",
    "import matplotlib.pyplot as plt\n",
    "import seaborn as sns\n",
    "\n",
    "%matplotlib inline"
   ]
  },
  {
   "cell_type": "markdown",
   "metadata": {},
   "source": [
    "## データ生成"
   ]
  },
  {
   "cell_type": "code",
   "execution_count": 14,
   "metadata": {},
   "outputs": [],
   "source": [
    "np.random.seed(0)\n",
    "\n",
    "\n",
    "def _sin(x, T=100):\n",
    "    \"\"\"\n",
    "    sin関数(sin波).\n",
    "    \n",
    "    Parameters\n",
    "    --------------\n",
    "    x : \n",
    "    T : int, optional, default: 100\n",
    "        sin波の周期パラメータ.\n",
    "    \"\"\"\n",
    "    return np.sin(2.0 * np.pi * x / T)\n",
    "\n",
    "\n",
    "def toy_problem(T=100, ampl=0.05):\n",
    "    \"\"\"\n",
    "    サイン波 + ノイズのデータを生成する.\n",
    "    \n",
    "    Parameters\n",
    "    --------------\n",
    "    T : int, optional, default: 100\n",
    "        データサイズ\n",
    "\n",
    "    ampl : float, optional, default: 0.05\n",
    "        ノイズパラメータ.\n",
    "    \"\"\"\n",
    "    x = np.arange(0, 2 * T + 1)\n",
    "    noise = ampl * np.random.uniform(low=-1.0, high=1.0, size=len(x))\n",
    "    return _sin(x) + noise"
   ]
  },
  {
   "cell_type": "code",
   "execution_count": 15,
   "metadata": {},
   "outputs": [],
   "source": [
    "from sklearn.model_selection import train_test_split\n",
    "\n",
    "\n",
    "np.random.seed(0)\n",
    "T = 100\n",
    "sin_with_noise = toy_problem(T)\n",
    "\n",
    "length_of_sequences = 2 * T\n",
    "maxlen = 25  # ひとつの時系列データの長さ\n",
    "\n",
    "data = []\n",
    "target = []\n",
    "\n",
    "for i in range(0, length_of_sequences - maxlen + 1):\n",
    "    data.append(sin_with_noise[i: i + maxlen]) # t^{1}, ..., t^{t}\n",
    "    target.append(sin_with_noise[i + maxlen]) # t^{t+1}\n",
    "\n",
    "X = np.array(data).reshape(len(data), maxlen, 1)\n",
    "Y = np.array(target).reshape(len(data), 1)\n",
    "\n",
    "# データ設定\n",
    "X_train, X_test, Y_train, Y_test = train_test_split(X, Y, test_size=0.1)"
   ]
  },
  {
   "cell_type": "code",
   "execution_count": 16,
   "metadata": {
    "scrolled": true
   },
   "outputs": [
    {
     "name": "stdout",
     "output_type": "stream",
     "text": [
      "[[ 0.74428871]\n",
      " [ 0.69975743]\n",
      " [ 0.63056583]\n",
      " [ 0.62743991]\n",
      " [ 0.52258298]\n",
      " [ 0.47534017]\n",
      " [ 0.46497163]\n",
      " [ 0.39874395]\n",
      " [ 0.32940585]\n",
      " [ 0.20871258]\n",
      " [ 0.22932958]\n",
      " [ 0.14675736]\n",
      " [ 0.11267522]\n",
      " [-0.03505517]\n",
      " [-0.02597791]\n",
      " [-0.15908394]\n",
      " [-0.17582536]\n",
      " [-0.28630789]\n",
      " [-0.27421617]\n",
      " [-0.33739266]\n",
      " [-0.41886922]\n",
      " [-0.49103534]\n",
      " [-0.5789101 ]\n",
      " [-0.56804237]\n",
      " [-0.64206972]]\n",
      "[-0.66234155]\n"
     ]
    }
   ],
   "source": [
    "print(X_train[0])\n",
    "print(Y_train[0])"
   ]
  },
  {
   "cell_type": "markdown",
   "metadata": {},
   "source": [
    "## Kerasによる実装"
   ]
  },
  {
   "cell_type": "markdown",
   "metadata": {},
   "source": [
    "### モデルの設定\n",
    "\n",
    " - `n_hidden` : 中間層の数\n",
    " - `n_out` : 出力層のユニット数\n",
    " - `n_in` : 入力層のユニット数(=特徴量の数)\n",
    " - `maxlen` : 出力に時刻用いる過去の数"
   ]
  },
  {
   "cell_type": "code",
   "execution_count": 17,
   "metadata": {},
   "outputs": [],
   "source": [
    "from keras.models import Sequential\n",
    "from keras.layers.core import Dense, Activation\n",
    "from keras.layers.recurrent import LSTM\n",
    "from keras.optimizers import Adam\n",
    "from keras.callbacks import EarlyStopping\n",
    "\n",
    "\n",
    "n_in = len(X[0][0])  # 1\n",
    "n_hidden = 30\n",
    "n_out = len(Y[0])  # 1\n",
    "\n",
    "\n",
    "def weight_variable(shape, name=None):\n",
    "    return np.random.normal(scale=.01, size=shape)\n",
    "\n",
    "\n",
    "early_stopping = EarlyStopping(monitor='val_loss', patience=10, verbose=1)\n",
    "\n",
    "model = Sequential()\n",
    "model.add(\n",
    "    LSTM(\n",
    "        n_hidden,\n",
    "        kernel_initializer=weight_variable,\n",
    "        input_shape=(maxlen, n_in)\n",
    "    )\n",
    ")\n",
    "model.add(Dense(n_out, kernel_initializer=weight_variable))\n",
    "model.add(Activation('linear'))\n",
    "\n",
    "optimizer = Adam(lr=0.001, beta_1=0.9, beta_2=0.999)\n",
    "model.compile(loss='mean_squared_error', optimizer=optimizer)"
   ]
  },
  {
   "cell_type": "markdown",
   "metadata": {},
   "source": [
    "### モデル学習"
   ]
  },
  {
   "cell_type": "code",
   "execution_count": 18,
   "metadata": {
    "scrolled": true
   },
   "outputs": [
    {
     "name": "stdout",
     "output_type": "stream",
     "text": [
      "Train on 158 samples, validate on 18 samples\n",
      "Epoch 1/500\n",
      "158/158 [==============================] - 1s 9ms/step - loss: 0.5113 - val_loss: 0.4140\n",
      "Epoch 2/500\n",
      "158/158 [==============================] - 0s 2ms/step - loss: 0.4605 - val_loss: 0.3226\n",
      "Epoch 3/500\n",
      "158/158 [==============================] - 0s 2ms/step - loss: 0.3152 - val_loss: 0.2399\n",
      "Epoch 4/500\n",
      "158/158 [==============================] - 0s 2ms/step - loss: 0.2408 - val_loss: 0.1775\n",
      "Epoch 5/500\n",
      "158/158 [==============================] - 0s 2ms/step - loss: 0.1708 - val_loss: 0.1278\n",
      "Epoch 6/500\n",
      "158/158 [==============================] - 0s 2ms/step - loss: 0.1121 - val_loss: 0.0733\n",
      "Epoch 7/500\n",
      "158/158 [==============================] - 0s 2ms/step - loss: 0.0605 - val_loss: 0.0354\n",
      "Epoch 8/500\n",
      "158/158 [==============================] - 0s 3ms/step - loss: 0.0273 - val_loss: 0.0166\n",
      "Epoch 9/500\n",
      "158/158 [==============================] - 0s 2ms/step - loss: 0.0172 - val_loss: 0.0127\n",
      "Epoch 10/500\n",
      "158/158 [==============================] - 0s 2ms/step - loss: 0.0109 - val_loss: 0.0188\n",
      "Epoch 11/500\n",
      "158/158 [==============================] - 0s 2ms/step - loss: 0.0087 - val_loss: 0.0068\n",
      "Epoch 12/500\n",
      "158/158 [==============================] - 0s 2ms/step - loss: 0.0070 - val_loss: 0.0054\n",
      "Epoch 13/500\n",
      "158/158 [==============================] - 0s 2ms/step - loss: 0.0068 - val_loss: 0.0050\n",
      "Epoch 14/500\n",
      "158/158 [==============================] - 0s 2ms/step - loss: 0.0054 - val_loss: 0.0046\n",
      "Epoch 15/500\n",
      "158/158 [==============================] - 0s 2ms/step - loss: 0.0034 - val_loss: 0.0060\n",
      "Epoch 16/500\n",
      "158/158 [==============================] - 0s 2ms/step - loss: 0.0033 - val_loss: 0.0050\n",
      "Epoch 17/500\n",
      "158/158 [==============================] - 0s 2ms/step - loss: 0.0027 - val_loss: 0.0034\n",
      "Epoch 18/500\n",
      "158/158 [==============================] - 0s 3ms/step - loss: 0.0021 - val_loss: 0.0027\n",
      "Epoch 19/500\n",
      "158/158 [==============================] - 0s 3ms/step - loss: 0.0019 - val_loss: 0.0021\n",
      "Epoch 20/500\n",
      "158/158 [==============================] - 0s 2ms/step - loss: 0.0015 - val_loss: 0.0027\n",
      "Epoch 21/500\n",
      "158/158 [==============================] - 0s 2ms/step - loss: 0.0013 - val_loss: 0.0021\n",
      "Epoch 22/500\n",
      "158/158 [==============================] - 0s 3ms/step - loss: 0.0011 - val_loss: 0.0019\n",
      "Epoch 23/500\n",
      "158/158 [==============================] - 1s 3ms/step - loss: 0.0011 - val_loss: 0.0014\n",
      "Epoch 24/500\n",
      "158/158 [==============================] - 0s 3ms/step - loss: 0.0011 - val_loss: 0.0012\n",
      "Epoch 25/500\n",
      "158/158 [==============================] - 0s 3ms/step - loss: 0.0010 - val_loss: 0.0019\n",
      "Epoch 26/500\n",
      "158/158 [==============================] - 0s 3ms/step - loss: 9.8367e-04 - val_loss: 0.0020\n",
      "Epoch 27/500\n",
      "158/158 [==============================] - 0s 3ms/step - loss: 0.0011 - val_loss: 0.0018\n",
      "Epoch 28/500\n",
      "158/158 [==============================] - 0s 2ms/step - loss: 9.7365e-04 - val_loss: 0.0016\n",
      "Epoch 29/500\n",
      "158/158 [==============================] - 0s 3ms/step - loss: 0.0010 - val_loss: 0.0017\n",
      "Epoch 30/500\n",
      "158/158 [==============================] - 0s 2ms/step - loss: 9.4619e-04 - val_loss: 0.0013\n",
      "Epoch 31/500\n",
      "158/158 [==============================] - 0s 3ms/step - loss: 9.2320e-04 - val_loss: 0.0014\n",
      "Epoch 32/500\n",
      "158/158 [==============================] - 0s 2ms/step - loss: 9.2614e-04 - val_loss: 0.0013\n",
      "Epoch 33/500\n",
      "158/158 [==============================] - 0s 2ms/step - loss: 0.0010 - val_loss: 0.0014\n",
      "Epoch 34/500\n",
      "158/158 [==============================] - 0s 3ms/step - loss: 8.9784e-04 - val_loss: 0.0017\n",
      "Epoch 00034: early stopping\n"
     ]
    },
    {
     "data": {
      "text/plain": [
       "<keras.callbacks.History at 0x1a24dc05c0>"
      ]
     },
     "execution_count": 18,
     "metadata": {},
     "output_type": "execute_result"
    }
   ],
   "source": [
    "epochs = 500\n",
    "batch_size = 10\n",
    "\n",
    "model.fit(X_train, Y_train,\n",
    "          batch_size=batch_size,\n",
    "          epochs=epochs,\n",
    "          validation_data=(X_test, Y_test),\n",
    "          callbacks=[early_stopping])"
   ]
  },
  {
   "cell_type": "markdown",
   "metadata": {},
   "source": [
    "### 出力を用いて予測"
   ]
  },
  {
   "cell_type": "code",
   "execution_count": 19,
   "metadata": {},
   "outputs": [],
   "source": [
    "truncate = maxlen\n",
    "Z = X[:1]  # 元データの最初の一部だけ切り出し\n",
    "\n",
    "original = [f[i] for i in range(maxlen)]\n",
    "predicted = [None for i in range(maxlen)]\n",
    "\n",
    "for i in range(length_of_sequences - maxlen + 1):\n",
    "    z_ = Z[-1:]\n",
    "    y_ = model.predict(z_)\n",
    "    sequence_ = np.concatenate(\n",
    "        (z_.reshape(maxlen, n_in)[1:], y_),\n",
    "        axis=0).reshape(1, maxlen, n_in)\n",
    "    Z = np.append(Z, sequence_, axis=0)\n",
    "    predicted.append(y_.reshape(-1))"
   ]
  },
  {
   "cell_type": "markdown",
   "metadata": {},
   "source": [
    "### グラフで可視化\n"
   ]
  },
  {
   "cell_type": "code",
   "execution_count": 20,
   "metadata": {},
   "outputs": [
    {
     "data": {
      "image/png": "[encoded data removed]",
      "text/plain": [
       "<matplotlib.figure.Figure at 0x1a24d557b8>"
      ]
     },
     "metadata": {},
     "output_type": "display_data"
    }
   ],
   "source": [
    "plt.rc('font', family='serif')\n",
    "plt.figure()\n",
    "plt.ylim([-1.5, 1.5])\n",
    "plt.plot(toy_problem(T, ampl=0), linestyle='dotted', color='#aaaaaa')\n",
    "plt.plot(original, linestyle='dashed', color='black')\n",
    "plt.plot(predicted, color='black')\n",
    "plt.show()"
   ]
  },
  {
   "cell_type": "markdown",
   "metadata": {},
   "source": [
    "---\n",
    "# 長期依存性の学習評価 - Adding Problem"
   ]
  },
  {
   "cell_type": "code",
   "execution_count": null,
   "metadata": {},
   "outputs": [],
   "source": []
  },
  {
   "cell_type": "code",
   "execution_count": null,
   "metadata": {},
   "outputs": [],
   "source": []
  },
  {
   "cell_type": "code",
   "execution_count": null,
   "metadata": {},
   "outputs": [],
   "source": []
  },
  {
   "cell_type": "code",
   "execution_count": null,
   "metadata": {},
   "outputs": [],
   "source": []
  },
  {
   "cell_type": "code",
   "execution_count": null,
   "metadata": {},
   "outputs": [],
   "source": []
  },
  {
   "cell_type": "code",
   "execution_count": null,
   "metadata": {},
   "outputs": [],
   "source": []
  },
  {
   "cell_type": "code",
   "execution_count": null,
   "metadata": {},
   "outputs": [],
   "source": []
  },
  {
   "cell_type": "code",
   "execution_count": null,
   "metadata": {},
   "outputs": [],
   "source": []
  },
  {
   "cell_type": "code",
   "execution_count": null,
   "metadata": {},
   "outputs": [],
   "source": []
  },
  {
   "cell_type": "code",
   "execution_count": null,
   "metadata": {},
   "outputs": [],
   "source": []
  },
  {
   "cell_type": "code",
   "execution_count": null,
   "metadata": {},
   "outputs": [],
   "source": []
  },
  {
   "cell_type": "code",
   "execution_count": null,
   "metadata": {},
   "outputs": [],
   "source": []
  }
 ],
 "metadata": {
  "kernelspec": {
   "display_name": "Python 3",
   "language": "python",
   "name": "python3"
  },
  "language_info": {
   "codemirror_mode": {
    "name": "ipython",
    "version": 3
   },
   "file_extension": ".py",
   "mimetype": "text/x-python",
   "name": "python",
   "nbconvert_exporter": "python",
   "pygments_lexer": "ipython3",
   "version": "3.6.3"
  },
  "toc": {
   "nav_menu": {},
   "number_sections": true,
   "sideBar": true,
   "skip_h1_title": false,
   "toc_cell": false,
   "toc_position": {},
   "toc_section_display": "block",
   "toc_window_display": true
  }
 },
 "nbformat": 4,
 "nbformat_minor": 2
}
