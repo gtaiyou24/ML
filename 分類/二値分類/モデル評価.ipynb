{
 "cells": [
  {
   "cell_type": "markdown",
   "metadata": {},
   "source": [
    "# モデル評価"
   ]
  },
  {
   "cell_type": "markdown",
   "metadata": {},
   "source": [
    "## 分割表(contingency table)"
   ]
  },
  {
   "cell_type": "markdown",
   "metadata": {},
   "source": [
    "<table>\n",
    "    <tr>\n",
    "        <th></th>\n",
    "        <th>Cに属する</th>\n",
    "        <th>Cに属さない</th>\n",
    "    </tr>\n",
    "    <tr>\n",
    "        <td>Cであると予測</td>\n",
    "        <td>a(True Positive: TP)</td>\n",
    "        <td>b(False Positive: FP)</td>\n",
    "    </tr>\n",
    "    <tr>\n",
    "        <td>Cでないと予測</td>\n",
    "        <td>c(False Negative: FN)</td>\n",
    "        <td>d(True Negative: TN)</td>\n",
    "    </tr>\n",
    "</table>"
   ]
  },
  {
   "cell_type": "markdown",
   "metadata": {},
   "source": [
    "## 評価指標\n",
    "\n",
    " - 偽陽性率(false positive rate) : $\\frac {b}{b + d}$\n",
    " - 真陽性率(true positive rate) : $\\frac {a}{a + b}$\n",
    " - 適合率(precision) : $\\frac {a}{a + b}$\n",
    " - 再現率(recall) : $\\frac {a}{a + c}$\n",
    " - F値(F-measure) : $\\frac {2 \\times precision \\times recall}{precision + recall}$\n",
    " - 正確度(accuracy) : $\\frac {a + d}{a + b + c + d}$"
   ]
  },
  {
   "cell_type": "markdown",
   "metadata": {},
   "source": [
    "## ROC曲線"
   ]
  },
  {
   "cell_type": "code",
   "execution_count": null,
   "metadata": {},
   "outputs": [],
   "source": []
  },
  {
   "cell_type": "markdown",
   "metadata": {},
   "source": [
    "## AUC曲線"
   ]
  },
  {
   "cell_type": "code",
   "execution_count": null,
   "metadata": {},
   "outputs": [],
   "source": []
  },
  {
   "cell_type": "markdown",
   "metadata": {},
   "source": [
    "---\n",
    "# 実装"
   ]
  },
  {
   "cell_type": "code",
   "execution_count": 54,
   "metadata": {
    "ExecuteTime": {
     "end_time": "2019-10-06T13:55:32.381593Z",
     "start_time": "2019-10-06T13:55:32.352482Z"
    }
   },
   "outputs": [],
   "source": [
    "import numpy as np\n",
    "import pandas as pd\n",
    "\n",
    "import matplotlib as mpl\n",
    "import matplotlib.pyplot as plt\n",
    "import seaborn as sns\n",
    "\n",
    "# 日本語フォントを設定\n",
    "font = {'family': 'IPAexGothic'}\n",
    "mpl.rc('font', **font)\n",
    "\n",
    "%matplotlib inline"
   ]
  },
  {
   "cell_type": "markdown",
   "metadata": {},
   "source": [
    "## データセットの読み込み\n",
    "**乳がんデータ（Breast cancer wisconsin [diagnostic] dataset）**<br>\n",
    "> 乳がんの診断データがまとめられたデータセットです。各ケースは検査値を含む32の値を持っており、変数の多いデータセットになっています。各ケースには、良性腫瘍か悪性腫瘍の診断結果が付いており、これを目的変数とする分類学習になります。"
   ]
  },
  {
   "cell_type": "code",
   "execution_count": 55,
   "metadata": {
    "ExecuteTime": {
     "end_time": "2019-10-06T13:55:34.424518Z",
     "start_time": "2019-10-06T13:55:34.332345Z"
    },
    "scrolled": true
   },
   "outputs": [
    {
     "data": {
      "text/html": [
       "<div>\n",
       "<style scoped>\n",
       "    .dataframe tbody tr th:only-of-type {\n",
       "        vertical-align: middle;\n",
       "    }\n",
       "\n",
       "    .dataframe tbody tr th {\n",
       "        vertical-align: top;\n",
       "    }\n",
       "\n",
       "    .dataframe thead tr th {\n",
       "        text-align: left;\n",
       "    }\n",
       "</style>\n",
       "<table border=\"1\" class=\"dataframe\">\n",
       "  <thead>\n",
       "    <tr>\n",
       "      <th></th>\n",
       "      <th colspan=\"20\" halign=\"left\">features</th>\n",
       "      <th>teacher</th>\n",
       "    </tr>\n",
       "    <tr>\n",
       "      <th></th>\n",
       "      <th>mean radius</th>\n",
       "      <th>mean texture</th>\n",
       "      <th>mean perimeter</th>\n",
       "      <th>mean area</th>\n",
       "      <th>mean smoothness</th>\n",
       "      <th>mean compactness</th>\n",
       "      <th>mean concavity</th>\n",
       "      <th>mean concave points</th>\n",
       "      <th>mean symmetry</th>\n",
       "      <th>mean fractal dimension</th>\n",
       "      <th>...</th>\n",
       "      <th>worst texture</th>\n",
       "      <th>worst perimeter</th>\n",
       "      <th>worst area</th>\n",
       "      <th>worst smoothness</th>\n",
       "      <th>worst compactness</th>\n",
       "      <th>worst concavity</th>\n",
       "      <th>worst concave points</th>\n",
       "      <th>worst symmetry</th>\n",
       "      <th>worst fractal dimension</th>\n",
       "      <th>is_positive</th>\n",
       "    </tr>\n",
       "  </thead>\n",
       "  <tbody>\n",
       "    <tr>\n",
       "      <th>0</th>\n",
       "      <td>17.99</td>\n",
       "      <td>10.38</td>\n",
       "      <td>122.80</td>\n",
       "      <td>1001.0</td>\n",
       "      <td>0.11840</td>\n",
       "      <td>0.27760</td>\n",
       "      <td>0.3001</td>\n",
       "      <td>0.14710</td>\n",
       "      <td>0.2419</td>\n",
       "      <td>0.07871</td>\n",
       "      <td>...</td>\n",
       "      <td>17.33</td>\n",
       "      <td>184.60</td>\n",
       "      <td>2019.0</td>\n",
       "      <td>0.1622</td>\n",
       "      <td>0.6656</td>\n",
       "      <td>0.7119</td>\n",
       "      <td>0.2654</td>\n",
       "      <td>0.4601</td>\n",
       "      <td>0.11890</td>\n",
       "      <td>0</td>\n",
       "    </tr>\n",
       "    <tr>\n",
       "      <th>1</th>\n",
       "      <td>20.57</td>\n",
       "      <td>17.77</td>\n",
       "      <td>132.90</td>\n",
       "      <td>1326.0</td>\n",
       "      <td>0.08474</td>\n",
       "      <td>0.07864</td>\n",
       "      <td>0.0869</td>\n",
       "      <td>0.07017</td>\n",
       "      <td>0.1812</td>\n",
       "      <td>0.05667</td>\n",
       "      <td>...</td>\n",
       "      <td>23.41</td>\n",
       "      <td>158.80</td>\n",
       "      <td>1956.0</td>\n",
       "      <td>0.1238</td>\n",
       "      <td>0.1866</td>\n",
       "      <td>0.2416</td>\n",
       "      <td>0.1860</td>\n",
       "      <td>0.2750</td>\n",
       "      <td>0.08902</td>\n",
       "      <td>0</td>\n",
       "    </tr>\n",
       "    <tr>\n",
       "      <th>2</th>\n",
       "      <td>19.69</td>\n",
       "      <td>21.25</td>\n",
       "      <td>130.00</td>\n",
       "      <td>1203.0</td>\n",
       "      <td>0.10960</td>\n",
       "      <td>0.15990</td>\n",
       "      <td>0.1974</td>\n",
       "      <td>0.12790</td>\n",
       "      <td>0.2069</td>\n",
       "      <td>0.05999</td>\n",
       "      <td>...</td>\n",
       "      <td>25.53</td>\n",
       "      <td>152.50</td>\n",
       "      <td>1709.0</td>\n",
       "      <td>0.1444</td>\n",
       "      <td>0.4245</td>\n",
       "      <td>0.4504</td>\n",
       "      <td>0.2430</td>\n",
       "      <td>0.3613</td>\n",
       "      <td>0.08758</td>\n",
       "      <td>0</td>\n",
       "    </tr>\n",
       "    <tr>\n",
       "      <th>3</th>\n",
       "      <td>11.42</td>\n",
       "      <td>20.38</td>\n",
       "      <td>77.58</td>\n",
       "      <td>386.1</td>\n",
       "      <td>0.14250</td>\n",
       "      <td>0.28390</td>\n",
       "      <td>0.2414</td>\n",
       "      <td>0.10520</td>\n",
       "      <td>0.2597</td>\n",
       "      <td>0.09744</td>\n",
       "      <td>...</td>\n",
       "      <td>26.50</td>\n",
       "      <td>98.87</td>\n",
       "      <td>567.7</td>\n",
       "      <td>0.2098</td>\n",
       "      <td>0.8663</td>\n",
       "      <td>0.6869</td>\n",
       "      <td>0.2575</td>\n",
       "      <td>0.6638</td>\n",
       "      <td>0.17300</td>\n",
       "      <td>0</td>\n",
       "    </tr>\n",
       "    <tr>\n",
       "      <th>4</th>\n",
       "      <td>20.29</td>\n",
       "      <td>14.34</td>\n",
       "      <td>135.10</td>\n",
       "      <td>1297.0</td>\n",
       "      <td>0.10030</td>\n",
       "      <td>0.13280</td>\n",
       "      <td>0.1980</td>\n",
       "      <td>0.10430</td>\n",
       "      <td>0.1809</td>\n",
       "      <td>0.05883</td>\n",
       "      <td>...</td>\n",
       "      <td>16.67</td>\n",
       "      <td>152.20</td>\n",
       "      <td>1575.0</td>\n",
       "      <td>0.1374</td>\n",
       "      <td>0.2050</td>\n",
       "      <td>0.4000</td>\n",
       "      <td>0.1625</td>\n",
       "      <td>0.2364</td>\n",
       "      <td>0.07678</td>\n",
       "      <td>0</td>\n",
       "    </tr>\n",
       "  </tbody>\n",
       "</table>\n",
       "<p>5 rows × 31 columns</p>\n",
       "</div>"
      ],
      "text/plain": [
       "     features                                                        \\\n",
       "  mean radius mean texture mean perimeter mean area mean smoothness   \n",
       "0       17.99        10.38         122.80    1001.0         0.11840   \n",
       "1       20.57        17.77         132.90    1326.0         0.08474   \n",
       "2       19.69        21.25         130.00    1203.0         0.10960   \n",
       "3       11.42        20.38          77.58     386.1         0.14250   \n",
       "4       20.29        14.34         135.10    1297.0         0.10030   \n",
       "\n",
       "                                                                     \\\n",
       "  mean compactness mean concavity mean concave points mean symmetry   \n",
       "0          0.27760         0.3001             0.14710        0.2419   \n",
       "1          0.07864         0.0869             0.07017        0.1812   \n",
       "2          0.15990         0.1974             0.12790        0.2069   \n",
       "3          0.28390         0.2414             0.10520        0.2597   \n",
       "4          0.13280         0.1980             0.10430        0.1809   \n",
       "\n",
       "                          ...                                           \\\n",
       "  mean fractal dimension  ... worst texture worst perimeter worst area   \n",
       "0                0.07871  ...         17.33          184.60     2019.0   \n",
       "1                0.05667  ...         23.41          158.80     1956.0   \n",
       "2                0.05999  ...         25.53          152.50     1709.0   \n",
       "3                0.09744  ...         26.50           98.87      567.7   \n",
       "4                0.05883  ...         16.67          152.20     1575.0   \n",
       "\n",
       "                                                                           \\\n",
       "  worst smoothness worst compactness worst concavity worst concave points   \n",
       "0           0.1622            0.6656          0.7119               0.2654   \n",
       "1           0.1238            0.1866          0.2416               0.1860   \n",
       "2           0.1444            0.4245          0.4504               0.2430   \n",
       "3           0.2098            0.8663          0.6869               0.2575   \n",
       "4           0.1374            0.2050          0.4000               0.1625   \n",
       "\n",
       "                                             teacher  \n",
       "  worst symmetry worst fractal dimension is_positive  \n",
       "0         0.4601                 0.11890           0  \n",
       "1         0.2750                 0.08902           0  \n",
       "2         0.3613                 0.08758           0  \n",
       "3         0.6638                 0.17300           0  \n",
       "4         0.2364                 0.07678           0  \n",
       "\n",
       "[5 rows x 31 columns]"
      ]
     },
     "execution_count": 55,
     "metadata": {},
     "output_type": "execute_result"
    }
   ],
   "source": [
    "from sklearn.datasets import load_breast_cancer\n",
    "\n",
    "cancer = load_breast_cancer()\n",
    "\n",
    "dataset_df = pd.DataFrame(cancer.data, columns=[['features' for i in cancer.feature_names], cancer.feature_names])\n",
    "dataset_df[('teacher', 'is_positive')] = cancer.target\n",
    "dataset_df.head()"
   ]
  },
  {
   "cell_type": "markdown",
   "metadata": {
    "ExecuteTime": {
     "end_time": "2019-10-06T13:18:13.118097Z",
     "start_time": "2019-10-06T13:18:13.109774Z"
    }
   },
   "source": [
    "## モデリング"
   ]
  },
  {
   "cell_type": "code",
   "execution_count": 56,
   "metadata": {
    "ExecuteTime": {
     "end_time": "2019-10-06T13:55:34.702343Z",
     "start_time": "2019-10-06T13:55:34.657681Z"
    }
   },
   "outputs": [
    {
     "name": "stderr",
     "output_type": "stream",
     "text": [
      "/Users/taiyou/.pyenv/versions/anaconda3-5.3.1/lib/python3.7/site-packages/sklearn/utils/validation.py:724: DataConversionWarning: A column-vector y was passed when a 1d array was expected. Please change the shape of y to (n_samples, ), for example using ravel().\n",
      "  y = column_or_1d(y, warn=True)\n"
     ]
    },
    {
     "data": {
      "text/plain": [
       "LogisticRegression(C=1.0, class_weight='balanced', dual=False,\n",
       "                   fit_intercept=True, intercept_scaling=1, l1_ratio=None,\n",
       "                   max_iter=100, multi_class='warn', n_jobs=None, penalty='l2',\n",
       "                   random_state=0, solver='liblinear', tol=0.0001, verbose=0,\n",
       "                   warm_start=False)"
      ]
     },
     "execution_count": 56,
     "metadata": {},
     "output_type": "execute_result"
    }
   ],
   "source": [
    "from sklearn.linear_model import LogisticRegression\n",
    "from sklearn.model_selection import train_test_split\n",
    "from sklearn.preprocessing import StandardScaler\n",
    "\n",
    "\n",
    "x_train, x_test, y_train, y_test = train_test_split(\n",
    "    StandardScaler().fit_transform(dataset_df.features), \n",
    "    dataset_df.teacher, \n",
    "    test_size=0.3, train_size=0.7, random_state=0\n",
    ")\n",
    "\n",
    "classifier = LogisticRegression(class_weight='balanced', random_state=0, solver='liblinear')\n",
    "classifier.fit(x_train, y_train)"
   ]
  },
  {
   "cell_type": "markdown",
   "metadata": {},
   "source": [
    "## 評価"
   ]
  },
  {
   "cell_type": "code",
   "execution_count": 97,
   "metadata": {
    "ExecuteTime": {
     "end_time": "2019-10-06T14:45:17.151070Z",
     "start_time": "2019-10-06T14:45:17.118473Z"
    }
   },
   "outputs": [],
   "source": [
    "import pandas as pd\n",
    "\n",
    "from sklearn.metrics import accuracy_score, recall_score, precision_score, f1_score, confusion_matrix\n",
    "\n",
    "\n",
    "class ContingencyTable(pd.DataFrame):\n",
    "    \n",
    "    def __init__(self, y_test, y_pred, y_proba):\n",
    "        super().__init__(\n",
    "            confusion_matrix(y_test, y_pred),\n",
    "            index=['正でない', '正である'],\n",
    "            columns=['正でないと予測', '正であると予測']\n",
    "        )\n",
    "        self.y_test = y_test\n",
    "        self.y_pred = y_pred\n",
    "        self.y_proba = y_proba\n",
    "    \n",
    "    def metrics(self):\n",
    "        return pd.Series(\n",
    "            (\n",
    "                int(y_test.shape[0]),\n",
    "                (分割表.loc['Cである'].sum() / y_test.shape[0]).round(3),\n",
    "                (分割表.loc['Cでない'].sum() / y_test.shape[0]).round(3),\n",
    "                (分割表.loc['Cでない', 'Cであると予測'] / 分割表.loc['Cでない'].sum()).round(3),\n",
    "                (分割表.loc['Cである', 'Cであると予測'] / 分割表.loc['Cである'].sum()).round(3),\n",
    "                accuracy_score(y_test, y_pred).round(3),\n",
    "                precision_score(y_test, y_pred).round(3),\n",
    "                recall_score(y_test, y_pred).round(3),\n",
    "                f1_score(y_test, y_pred).round(3)\n",
    "            ), \n",
    "            index=[\n",
    "                '評価データサイズ', '正率', '負率',\n",
    "                '偽陽性率(false positive rate)', \n",
    "                '真陽性率(true positive rate)', \n",
    "                '正確度(accuracy)', \n",
    "                '適合率(precision)', \n",
    "                '再現率(recall)', \n",
    "                'F値(F-measure)'\n",
    "            ], \n",
    "            name='分類モデルの評価'\n",
    "        )\n",
    "\n",
    "    def roc_curve(self):\n",
    "        pass\n",
    "    \n",
    "    def RP_curve(self):\n",
    "        pass"
   ]
  },
  {
   "cell_type": "code",
   "execution_count": 99,
   "metadata": {
    "ExecuteTime": {
     "end_time": "2019-10-06T14:45:38.126661Z",
     "start_time": "2019-10-06T14:45:38.106025Z"
    }
   },
   "outputs": [
    {
     "name": "stderr",
     "output_type": "stream",
     "text": [
      "/Users/taiyou/.pyenv/versions/anaconda3-5.3.1/lib/python3.7/site-packages/ipykernel_launcher.py:14: UserWarning: Pandas doesn't allow columns to be created via a new attribute name - see https://pandas.pydata.org/pandas-docs/stable/indexing.html#attribute-access\n",
      "  \n",
      "/Users/taiyou/.pyenv/versions/anaconda3-5.3.1/lib/python3.7/site-packages/ipykernel_launcher.py:15: UserWarning: Pandas doesn't allow columns to be created via a new attribute name - see https://pandas.pydata.org/pandas-docs/stable/indexing.html#attribute-access\n",
      "  from ipykernel import kernelapp as app\n",
      "/Users/taiyou/.pyenv/versions/anaconda3-5.3.1/lib/python3.7/site-packages/ipykernel_launcher.py:16: UserWarning: Pandas doesn't allow columns to be created via a new attribute name - see https://pandas.pydata.org/pandas-docs/stable/indexing.html#attribute-access\n",
      "  app.launch_new_instance()\n"
     ]
    },
    {
     "data": {
      "text/plain": [
       "評価データサイズ                     171.000\n",
       "正率                             0.632\n",
       "負率                             0.368\n",
       "偽陽性率(false positive rate)      0.048\n",
       "真陽性率(true positive rate)       0.944\n",
       "正確度(accuracy)                  0.947\n",
       "適合率(precision)                 0.971\n",
       "再現率(recall)                    0.944\n",
       "F値(F-measure)                  0.958\n",
       "Name: 分類モデルの評価, dtype: float64"
      ]
     },
     "execution_count": 99,
     "metadata": {},
     "output_type": "execute_result"
    }
   ],
   "source": [
    "ContingencyTable(y_test, y_pred, classifier.predict_proba(x_test)[:, 1]).metrics()"
   ]
  },
  {
   "cell_type": "code",
   "execution_count": 62,
   "metadata": {
    "ExecuteTime": {
     "end_time": "2019-10-06T13:58:20.243363Z",
     "start_time": "2019-10-06T13:58:20.236378Z"
    }
   },
   "outputs": [],
   "source": [
    "y_pred = classifier.predict(x_test)\n",
    "y_proba = classifier.predict_proba(x_test)"
   ]
  },
  {
   "cell_type": "markdown",
   "metadata": {},
   "source": [
    "### 分割表"
   ]
  },
  {
   "cell_type": "code",
   "execution_count": 58,
   "metadata": {
    "ExecuteTime": {
     "end_time": "2019-10-06T13:55:37.958708Z",
     "start_time": "2019-10-06T13:55:37.936222Z"
    }
   },
   "outputs": [
    {
     "data": {
      "text/html": [
       "<div>\n",
       "<style scoped>\n",
       "    .dataframe tbody tr th:only-of-type {\n",
       "        vertical-align: middle;\n",
       "    }\n",
       "\n",
       "    .dataframe tbody tr th {\n",
       "        vertical-align: top;\n",
       "    }\n",
       "\n",
       "    .dataframe thead th {\n",
       "        text-align: right;\n",
       "    }\n",
       "</style>\n",
       "<table border=\"1\" class=\"dataframe\">\n",
       "  <thead>\n",
       "    <tr style=\"text-align: right;\">\n",
       "      <th></th>\n",
       "      <th>Cでないと予測</th>\n",
       "      <th>Cであると予測</th>\n",
       "    </tr>\n",
       "  </thead>\n",
       "  <tbody>\n",
       "    <tr>\n",
       "      <th>Cでない</th>\n",
       "      <td>60</td>\n",
       "      <td>3</td>\n",
       "    </tr>\n",
       "    <tr>\n",
       "      <th>Cである</th>\n",
       "      <td>6</td>\n",
       "      <td>102</td>\n",
       "    </tr>\n",
       "  </tbody>\n",
       "</table>\n",
       "</div>"
      ],
      "text/plain": [
       "      Cでないと予測  Cであると予測\n",
       "Cでない       60        3\n",
       "Cである        6      102"
      ]
     },
     "execution_count": 58,
     "metadata": {},
     "output_type": "execute_result"
    }
   ],
   "source": [
    "from sklearn.metrics import confusion_matrix\n",
    "\n",
    "分割表 = pd.DataFrame(\n",
    "    confusion_matrix(y_test, y_pred), \n",
    "    index=['Cでない', 'Cである'], \n",
    "    columns=['Cでないと予測', 'Cであると予測']\n",
    ")\n",
    "分割表"
   ]
  },
  {
   "cell_type": "markdown",
   "metadata": {},
   "source": [
    "### 評価指標"
   ]
  },
  {
   "cell_type": "code",
   "execution_count": 120,
   "metadata": {
    "ExecuteTime": {
     "end_time": "2019-10-06T14:54:55.690805Z",
     "start_time": "2019-10-06T14:54:55.663268Z"
    }
   },
   "outputs": [
    {
     "data": {
      "text/plain": [
       "評価データサイズ                     171.000\n",
       "正率                             0.632\n",
       "負率                             0.368\n",
       "偽陽性率(false positive rate)      0.048\n",
       "真陽性率(true positive rate)       0.944\n",
       "正確度(accuracy)                  0.947\n",
       "適合率(precision)                 0.971\n",
       "再現率(recall)                    0.944\n",
       "F値(F-measure)                  0.958\n",
       "Name: クラス分類モデルの評価, dtype: float64"
      ]
     },
     "execution_count": 120,
     "metadata": {},
     "output_type": "execute_result"
    }
   ],
   "source": [
    "from sklearn.metrics import accuracy_score, recall_score, precision_score, f1_score, confusion_matrix\n",
    "\n",
    "\n",
    "pd.Series(\n",
    "    (\n",
    "        int(y_test.shape[0]),\n",
    "        (分割表.loc['Cである'].sum() / y_test.shape[0]).round(3),\n",
    "        (分割表.loc['Cでない'].sum() / y_test.shape[0]).round(3),\n",
    "        (分割表.loc['Cでない', 'Cであると予測'] / 分割表.loc['Cでない'].sum()).round(3),\n",
    "        (分割表.loc['Cである', 'Cであると予測'] / 分割表.loc['Cである'].sum()).round(3),\n",
    "        accuracy_score(y_test, y_pred).round(3),\n",
    "        precision_score(y_test, y_pred).round(3),\n",
    "        recall_score(y_test, y_pred).round(3),\n",
    "        f1_score(y_test, y_pred).round(3)\n",
    "    ), \n",
    "    index=[\n",
    "        '評価データサイズ', '正率', '負率',\n",
    "        '偽陽性率(false positive rate)', \n",
    "        '真陽性率(true positive rate)', \n",
    "        '正確度(accuracy)', '適合率(precision)', \n",
    "        '再現率(recall)', 'F値(F-measure)'\n",
    "    ], \n",
    "    name='クラス分類モデルの評価'\n",
    ")"
   ]
  },
  {
   "cell_type": "markdown",
   "metadata": {},
   "source": [
    "### ROC曲線"
   ]
  },
  {
   "cell_type": "code",
   "execution_count": 115,
   "metadata": {
    "ExecuteTime": {
     "end_time": "2019-10-06T14:53:02.656370Z",
     "start_time": "2019-10-06T14:53:02.426480Z"
    }
   },
   "outputs": [
    {
     "data": {
      "image/png": "[encoded data removed]",
      "text/plain": [
       "<Figure size 504x504 with 1 Axes>"
      ]
     },
     "metadata": {
      "needs_background": "light"
     },
     "output_type": "display_data"
    }
   ],
   "source": [
    "from sklearn.metrics import auc, roc_curve\n",
    "\n",
    "偽陽性率, 真陽性率, 閾値 = roc_curve(y_test, y_proba[:, 1])\n",
    "AUC = auc(偽陽性率, 真陽性率)\n",
    "\n",
    "plt.figure(figsize=(7, 7))\n",
    "plt.title('ROC曲線')\n",
    "\n",
    "plt.plot(偽陽性率, 真陽性率, label='ROC曲線 (AUC is %.2f)' % AUC)\n",
    "plt.plot([0, 1], [0, 1], 'k--')\n",
    "\n",
    "plt.xlabel('偽陽性率')\n",
    "plt.ylabel('真陽性率')\n",
    "\n",
    "plt.xticks(np.arange(0.0, 1.1, 0.1))\n",
    "plt.yticks(np.arange(0.0, 1.1, 0.1))\n",
    "\n",
    "plt.xlim((-0.1, 1.1))\n",
    "plt.ylim((-0.1, 1.1))\n",
    "\n",
    "plt.legend()\n",
    "plt.grid(True)\n",
    "plt.show()"
   ]
  },
  {
   "cell_type": "code",
   "execution_count": 121,
   "metadata": {
    "ExecuteTime": {
     "end_time": "2019-10-07T00:03:04.188227Z",
     "start_time": "2019-10-07T00:03:03.515662Z"
    }
   },
   "outputs": [
    {
     "data": {
      "image/png": "[encoded data removed]",
      "text/plain": [
       "<Figure size 504x504 with 1 Axes>"
      ]
     },
     "metadata": {
      "needs_background": "light"
     },
     "output_type": "display_data"
    }
   ],
   "source": [
    "from sklearn.metrics import auc, precision_recall_curve\n",
    "\n",
    "\n",
    "適合率, 再現率, 閾値 = precision_recall_curve(y_test, y_proba[:, 1])\n",
    "AUC = auc(再現率, 適合率)\n",
    "\n",
    "plt.figure(figsize=(7, 7))\n",
    "plt.title('ROC曲線')\n",
    "\n",
    "plt.plot(再現率, 適合率, label='RP曲線 (AUC is %.2f)' % AUC)\n",
    "\n",
    "plt.xlabel('再現率')\n",
    "plt.ylabel('適合率')\n",
    "\n",
    "plt.xticks(np.arange(0.0, 1.1, 0.1))\n",
    "plt.yticks(np.arange(0.0, 1.1, 0.1))\n",
    "\n",
    "plt.xlim((-0.1, 1.1))\n",
    "plt.ylim((-0.1, 1.1))\n",
    "\n",
    "plt.legend()\n",
    "plt.grid(True)\n",
    "plt.show()"
   ]
  },
  {
   "cell_type": "code",
   "execution_count": 146,
   "metadata": {
    "ExecuteTime": {
     "end_time": "2019-10-07T00:13:42.773671Z",
     "start_time": "2019-10-07T00:13:42.536575Z"
    }
   },
   "outputs": [
    {
     "name": "stderr",
     "output_type": "stream",
     "text": [
      " 91%|█████████ | 91/100 [00:00<00:00, 403.78it/s]/Users/taiyou/.pyenv/versions/anaconda3-5.3.1/lib/python3.7/site-packages/sklearn/metrics/classification.py:1437: UndefinedMetricWarning: Precision is ill-defined and being set to 0.0 due to no predicted samples.\n",
      "  'precision', 'predicted', average, warn_for)\n",
      "100%|██████████| 100/100 [00:00<00:00, 446.01it/s]\n"
     ]
    }
   ],
   "source": [
    "from sklearn.metrics import recall_score, precision_score\n",
    "from tqdm import tqdm\n",
    "\n",
    "適合率_list = []\n",
    "再現率_list = []\n",
    "刻み = 0.01\n",
    "for 閾値 in tqdm(np.arange(0.0 + 刻み, 1.0 + 刻み, 刻み)):\n",
    "    確率 = (classifier.predict_proba(x_test)[:, 1] >= 閾値).astype(int)\n",
    "    適合率 = precision_score(y_test, 確率)\n",
    "    再現率 = recall_score(y_test, 確率)\n",
    "    \n",
    "    適合率_list.append(適合率)\n",
    "    再現率_list.append(再現率)"
   ]
  },
  {
   "cell_type": "code",
   "execution_count": 153,
   "metadata": {
    "ExecuteTime": {
     "end_time": "2019-10-07T00:21:31.263024Z",
     "start_time": "2019-10-07T00:21:31.082567Z"
    }
   },
   "outputs": [
    {
     "data": {
      "image/png": "[encoded data removed]",
      "text/plain": [
       "<Figure size 504x504 with 1 Axes>"
      ]
     },
     "metadata": {
      "needs_background": "light"
     },
     "output_type": "display_data"
    }
   ],
   "source": [
    "from sklearn.metrics import auc\n",
    "\n",
    "\n",
    "AUC = auc(再現率_list, 適合率_list)\n",
    "\n",
    "plt.figure(figsize=(7, 7))\n",
    "plt.title('ROC曲線')\n",
    "\n",
    "plt.plot(再現率_list, 適合率_list, label='RP曲線 (AUC is %.2f)' % AUC)\n",
    "plt.xlabel('再現率')\n",
    "plt.ylabel('適合率')\n",
    "\n",
    "plt.xticks(np.arange(0.0, 1.1, 0.1))\n",
    "plt.yticks(np.arange(0.0, 1.1, 0.1))\n",
    "\n",
    "plt.xlim((-0.1, 1.1))\n",
    "plt.ylim((-0.1, 1.1))\n",
    "\n",
    "plt.legend()\n",
    "plt.grid(True)\n",
    "plt.show()"
   ]
  },
  {
   "cell_type": "code",
   "execution_count": null,
   "metadata": {},
   "outputs": [],
   "source": []
  }
 ],
 "metadata": {
  "kernelspec": {
   "display_name": "Python 3",
   "language": "python",
   "name": "python3"
  },
  "language_info": {
   "codemirror_mode": {
    "name": "ipython",
    "version": 3
   },
   "file_extension": ".py",
   "mimetype": "text/x-python",
   "name": "python",
   "nbconvert_exporter": "python",
   "pygments_lexer": "ipython3",
   "version": "3.6.3"
  },
  "toc": {
   "nav_menu": {},
   "number_sections": true,
   "sideBar": true,
   "skip_h1_title": false,
   "toc_cell": false,
   "toc_position": {},
   "toc_section_display": "block",
   "toc_window_display": false
  }
 },
 "nbformat": 4,
 "nbformat_minor": 2
}
