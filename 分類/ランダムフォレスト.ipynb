{
 "cells": [
  {
   "cell_type": "code",
   "execution_count": 27,
   "metadata": {
    "collapsed": true
   },
   "outputs": [],
   "source": [
    "import numpy as np\n",
    "import pandas as pd\n",
    "from pandas import DataFrame, Series\n",
    "\n",
    "import matplotlib.pyplot as plt\n",
    "%matplotlib inline"
   ]
  },
  {
   "cell_type": "markdown",
   "metadata": {},
   "source": [
    "# 0. データセットの読み込み"
   ]
  },
  {
   "cell_type": "code",
   "execution_count": 28,
   "metadata": {},
   "outputs": [
    {
     "data": {
      "text/html": [
       "<div>\n",
       "<table border=\"1\" class=\"dataframe\">\n",
       "  <thead>\n",
       "    <tr style=\"text-align: right;\">\n",
       "      <th></th>\n",
       "      <th>satisfaction_level</th>\n",
       "      <th>last_evaluation</th>\n",
       "      <th>number_project</th>\n",
       "      <th>average_montly_hours</th>\n",
       "      <th>time_spend_company</th>\n",
       "      <th>Work_accident</th>\n",
       "      <th>left</th>\n",
       "      <th>promotion_last_5years</th>\n",
       "      <th>sales</th>\n",
       "      <th>salary</th>\n",
       "    </tr>\n",
       "  </thead>\n",
       "  <tbody>\n",
       "    <tr>\n",
       "      <th>0</th>\n",
       "      <td>0.38</td>\n",
       "      <td>0.53</td>\n",
       "      <td>2</td>\n",
       "      <td>157</td>\n",
       "      <td>3</td>\n",
       "      <td>0</td>\n",
       "      <td>1</td>\n",
       "      <td>0</td>\n",
       "      <td>sales</td>\n",
       "      <td>low</td>\n",
       "    </tr>\n",
       "    <tr>\n",
       "      <th>1</th>\n",
       "      <td>0.80</td>\n",
       "      <td>0.86</td>\n",
       "      <td>5</td>\n",
       "      <td>262</td>\n",
       "      <td>6</td>\n",
       "      <td>0</td>\n",
       "      <td>1</td>\n",
       "      <td>0</td>\n",
       "      <td>sales</td>\n",
       "      <td>medium</td>\n",
       "    </tr>\n",
       "    <tr>\n",
       "      <th>2</th>\n",
       "      <td>0.11</td>\n",
       "      <td>0.88</td>\n",
       "      <td>7</td>\n",
       "      <td>272</td>\n",
       "      <td>4</td>\n",
       "      <td>0</td>\n",
       "      <td>1</td>\n",
       "      <td>0</td>\n",
       "      <td>sales</td>\n",
       "      <td>medium</td>\n",
       "    </tr>\n",
       "    <tr>\n",
       "      <th>3</th>\n",
       "      <td>0.72</td>\n",
       "      <td>0.87</td>\n",
       "      <td>5</td>\n",
       "      <td>223</td>\n",
       "      <td>5</td>\n",
       "      <td>0</td>\n",
       "      <td>1</td>\n",
       "      <td>0</td>\n",
       "      <td>sales</td>\n",
       "      <td>low</td>\n",
       "    </tr>\n",
       "    <tr>\n",
       "      <th>4</th>\n",
       "      <td>0.37</td>\n",
       "      <td>0.52</td>\n",
       "      <td>2</td>\n",
       "      <td>159</td>\n",
       "      <td>3</td>\n",
       "      <td>0</td>\n",
       "      <td>1</td>\n",
       "      <td>0</td>\n",
       "      <td>sales</td>\n",
       "      <td>low</td>\n",
       "    </tr>\n",
       "  </tbody>\n",
       "</table>\n",
       "</div>"
      ],
      "text/plain": [
       "   satisfaction_level  last_evaluation  number_project  average_montly_hours  \\\n",
       "0                0.38             0.53               2                   157   \n",
       "1                0.80             0.86               5                   262   \n",
       "2                0.11             0.88               7                   272   \n",
       "3                0.72             0.87               5                   223   \n",
       "4                0.37             0.52               2                   159   \n",
       "\n",
       "   time_spend_company  Work_accident  left  promotion_last_5years  sales  \\\n",
       "0                   3              0     1                      0  sales   \n",
       "1                   6              0     1                      0  sales   \n",
       "2                   4              0     1                      0  sales   \n",
       "3                   5              0     1                      0  sales   \n",
       "4                   3              0     1                      0  sales   \n",
       "\n",
       "   salary  \n",
       "0     low  \n",
       "1  medium  \n",
       "2  medium  \n",
       "3     low  \n",
       "4     low  "
      ]
     },
     "execution_count": 28,
     "metadata": {},
     "output_type": "execute_result"
    }
   ],
   "source": [
    "HR_DATASET_PATH = '../datasets/HR_comma_sep.csv'\n",
    "hr_df = pd.read_csv(HR_DATASET_PATH)\n",
    "hr_df.head()"
   ]
  },
  {
   "cell_type": "code",
   "execution_count": 29,
   "metadata": {},
   "outputs": [
    {
     "name": "stdout",
     "output_type": "stream",
     "text": [
      "(14999, 10)\n",
      "Index(['satisfaction_level', 'last_evaluation', 'number_project',\n",
      "       'average_montly_hours', 'time_spend_company', 'Work_accident', 'left',\n",
      "       'promotion_last_5years', 'sales', 'salary'],\n",
      "      dtype='object')\n",
      "satisfaction_level       False\n",
      "last_evaluation          False\n",
      "number_project           False\n",
      "average_montly_hours     False\n",
      "time_spend_company       False\n",
      "Work_accident            False\n",
      "left                     False\n",
      "promotion_last_5years    False\n",
      "sales                    False\n",
      "salary                   False\n",
      "dtype: bool\n"
     ]
    }
   ],
   "source": [
    "print(hr_df.shape)\n",
    "print(hr_df.columns)\n",
    "print(hr_df.isnull().any())"
   ]
  },
  {
   "cell_type": "code",
   "execution_count": 30,
   "metadata": {
    "collapsed": true
   },
   "outputs": [],
   "source": [
    "# salary(給与水準)をダミー変数へ置換する\n",
    "hr_df.salary.replace({'low': 1, 'medium': 2, 'high': 3}, inplace=True)\n",
    "# salesをダミー変数へ\n",
    "hr_df = pd.get_dummies(hr_df, columns=['sales'])"
   ]
  },
  {
   "cell_type": "markdown",
   "metadata": {},
   "source": [
    "---\n",
    "# 1. ランダムフォレスト(Random Forests)\n",
    "\n",
    "## 学習アルゴリズム\n",
    "\n"
   ]
  },
  {
   "cell_type": "code",
   "execution_count": 5,
   "metadata": {
    "scrolled": false
   },
   "outputs": [
    {
     "name": "stderr",
     "output_type": "stream",
     "text": [
      "/Users/taiyou/.pyenv/versions/anaconda3-2.3.0/lib/python3.4/site-packages/sklearn/cross_validation.py:44: DeprecationWarning: This module was deprecated in version 0.18 in favor of the model_selection module into which all the refactored classes and functions are moved. Also note that the interface of the new CV iterators are different from that of this module. This module will be removed in 0.20.\n",
      "  \"This module will be removed in 0.20.\", DeprecationWarning)\n"
     ]
    },
    {
     "name": "stdout",
     "output_type": "stream",
     "text": [
      "{'n_estimators': 100}\n",
      "正確度: 0.984178101372\n",
      "適合率: 0.992312072893\n",
      "再現率: 0.975917110053\n",
      "F値: 0.984046308062\n",
      "分割表\n"
     ]
    },
    {
     "data": {
      "text/html": [
       "<div>\n",
       "<table border=\"1\" class=\"dataframe\">\n",
       "  <thead>\n",
       "    <tr style=\"text-align: right;\">\n",
       "      <th></th>\n",
       "      <th>在籍すると予測</th>\n",
       "      <th>離職すると予測</th>\n",
       "    </tr>\n",
       "  </thead>\n",
       "  <tbody>\n",
       "    <tr>\n",
       "      <th>在籍者</th>\n",
       "      <td>3544</td>\n",
       "      <td>27</td>\n",
       "    </tr>\n",
       "    <tr>\n",
       "      <th>離職者</th>\n",
       "      <td>86</td>\n",
       "      <td>3485</td>\n",
       "    </tr>\n",
       "  </tbody>\n",
       "</table>\n",
       "</div>"
      ],
      "text/plain": [
       "     在籍すると予測  離職すると予測\n",
       "在籍者     3544       27\n",
       "離職者       86     3485"
      ]
     },
     "execution_count": 5,
     "metadata": {},
     "output_type": "execute_result"
    }
   ],
   "source": [
    "from sklearn.ensemble import RandomForestClassifier\n",
    "from sklearn.preprocessing import StandardScaler\n",
    "from sklearn.cross_validation import cross_val_predict\n",
    "from sklearn.model_selection import GridSearchCV\n",
    "from sklearn.metrics import accuracy_score, recall_score, precision_score, f1_score, confusion_matrix\n",
    "\n",
    "\n",
    "use_cols = [\n",
    "    'satisfaction_level',\n",
    "    'last_evaluation',\n",
    "    'number_project',\n",
    "    'average_montly_hours',\n",
    "    'time_spend_company',\n",
    "    'Work_accident',\n",
    "    'promotion_last_5years',\n",
    "    'salary',\n",
    "    'sales_IT',\n",
    "    'sales_RandD',\n",
    "    'sales_accounting',\n",
    "    'sales_hr',\n",
    "    'sales_management', \n",
    "    'sales_marketing',\n",
    "    'sales_product_mng',\n",
    "    'sales_sales',\n",
    "    'sales_support', \n",
    "    'sales_technical'\n",
    "]\n",
    "\n",
    "# 離職者数:在籍者数 = 1:1に直す\n",
    "feature_df1 = hr_df[hr_df.left == 1][use_cols]\n",
    "feature_df0 = hr_df[hr_df.left == 0][use_cols].sample(len(feature_df1))\n",
    "feature_df = pd.concat([feature_df1, feature_df0])\n",
    "labels = hr_df.loc[feature_df.index, 'left']\n",
    "\n",
    "# 標準化\n",
    "transformed_cols = [\n",
    "    'satisfaction_level',\n",
    "    'last_evaluation',\n",
    "    'number_project',\n",
    "    'average_montly_hours',\n",
    "    'time_spend_company',\n",
    "]\n",
    "ss = StandardScaler()\n",
    "ss.fit(feature_df[transformed_cols])\n",
    "feature_df[transformed_cols] = ss.transform(feature_df[transformed_cols])\n",
    "\n",
    "# 学習\n",
    "parameters = {\n",
    "        'n_estimators': [5, 10, 20, 30, 50, 100, 300],\n",
    "        'max_features': range(3, feature_df.shape[1], 2),\n",
    "        'random_state': [0],\n",
    "        'n_jobs': [1],\n",
    "        'min_samples_split': [3, 5, 10, 15, 20, 25, 30, 40, 50, 100],\n",
    "        'max_depth': [3, 5, 10, 15, 20, 25, 30, 40, 50, 100]\n",
    "    }\n",
    "CV = 10\n",
    "SCORE = 'f1'\n",
    "\n",
    "clf = GridSearchCV(\n",
    "        RandomForestClassifier(), # 識別器\n",
    "        parameters, # 最適化したいパラメータセット\n",
    "        cv=CV, # 交差検定の回数\n",
    "        scoring='%s_weighted' % SCORE # モデルの評価関数の指定\n",
    "    )\n",
    "clf.fit(feature_df, labels)\n",
    "\n",
    "print(clf.best_params_)\n",
    "print(clf.best_estimator_)\n",
    "\n",
    "label_pred = cross_val_predict(clf, feature_df, labels, cv=CV)\n",
    "\n",
    "print('正確度: %s' % accuracy_score(labels, label_pred))\n",
    "print('適合率: %s' % precision_score(labels, label_pred))\n",
    "print('再現率: %s' % recall_score(labels, label_pred))\n",
    "print('F値: %s' % f1_score(labels, label_pred))\n",
    "print('分割表')\n",
    "confusion_df = pd.DataFrame(confusion_matrix(labels, label_pred), index=['在籍者', '離職者'], columns=['在籍すると予測', '離職すると予測'])\n",
    "confusion_df"
   ]
  },
  {
   "cell_type": "markdown",
   "metadata": {
    "collapsed": true
   },
   "source": [
    "## ランダムフォレストによるデータ解析"
   ]
  },
  {
   "cell_type": "markdown",
   "metadata": {},
   "source": [
    "### 特徴量の重要度"
   ]
  },
  {
   "cell_type": "code",
   "execution_count": null,
   "metadata": {
    "collapsed": true
   },
   "outputs": [],
   "source": [
    "# 特徴量の重要度\n",
    "fti = clf.best_estimator_.feature_importances_\n",
    "\n",
    "features = ['{0}'.format(col) for col in feature_df.columns]\n",
    "feature_importance_df = DataFrame(fti, index=features, columns=['重要度'])\n",
    "feature_importance_df"
   ]
  },
  {
   "cell_type": "markdown",
   "metadata": {},
   "source": [
    "`satisfaction_level`が最も重要な特徴量であると結論付けられる"
   ]
  },
  {
   "cell_type": "code",
   "execution_count": 17,
   "metadata": {},
   "outputs": [
    {
     "data": {
      "text/plain": [
       "['Work_accident',\n",
       " 'promotion_last_5years',\n",
       " 'salary',\n",
       " 'sales_IT',\n",
       " 'sales_RandD',\n",
       " 'sales_accounting',\n",
       " 'sales_hr',\n",
       " 'sales_management',\n",
       " 'sales_marketing',\n",
       " 'sales_product_mng',\n",
       " 'sales_sales',\n",
       " 'sales_support',\n",
       " 'sales_technical']"
      ]
     },
     "execution_count": 17,
     "metadata": {},
     "output_type": "execute_result"
    }
   ],
   "source": [
    "# 重要度の低い変数を削除\n",
    "drop_features = []\n",
    "threshold = 0.03\n",
    "\n",
    "for i, feat in enumerate(use_cols):\n",
    "    if fti[i] < threshold:\n",
    "        drop_features.append(feat)\n",
    "\n",
    "drop_col"
   ]
  },
  {
   "cell_type": "markdown",
   "metadata": {},
   "source": [
    "### 森のサイズによる評価値(accuracy, f value, ...)の変化"
   ]
  },
  {
   "cell_type": "code",
   "execution_count": null,
   "metadata": {
    "collapsed": true
   },
   "outputs": [],
   "source": [
    "from sklearn.model_selection import LeaveOneOut\n",
    "\n",
    "# 調べる深さ\n",
    "MAX_DEPTH = max(parameters['max_depth'])\n",
    "depths = range(1, MAX_DEPTH)\n",
    "\n",
    "# 決定木の最大深度ごとに正解率を計算する\n",
    "accuracy_scores = []\n",
    "for depth in depths:\n",
    "\n",
    "    predicted_labels = []\n",
    "    # LOO 法で汎化性能を調べる\n",
    "    loo = LeaveOneOut()\n",
    "    for train, test in loo.split(feature_df):\n",
    "        train_data = feature_df.iloc[train]\n",
    "        target_data = labels.iloc[train]\n",
    "\n",
    "        rfc = RandomForestClassifier(\n",
    "            n_estimators=clf.best_params_['n_estimators'],\n",
    "            max_features=clf.best_params_['max_features'],\n",
    "            random_state=clf.best_params_['random_state'],\n",
    "            n_jobs=clf.best_params_['n_jobs'],\n",
    "            min_samples_split=clf.best_params_['min_samples_split'],\n",
    "            max_depth=depth\n",
    "        )\n",
    "        rfc.fit(train_data, target_data)\n",
    "\n",
    "        predicted_label = rfc.predict(feature_df.iloc[test])\n",
    "        predicted_labels.append(predicted_label)\n",
    "\n",
    "    # 各深度での汎化性能を出力する\n",
    "    score = accuracy_score(labels, predicted_labels)\n",
    "    print('max depth={0}: {1}'.format(depth, score))\n",
    "\n",
    "    accuracy_scores.append(score)\n",
    "\n",
    "# 最大深度ごとの正解率を折れ線グラフで可視化する\n",
    "X = list(depths)\n",
    "plt.plot(X, accuracy_scores)\n",
    "\n",
    "plt.xlabel('max depth')\n",
    "plt.ylabel('accuracy rate')\n",
    "plt.show()"
   ]
  },
  {
   "cell_type": "markdown",
   "metadata": {},
   "source": [
    "## 参考文献\n",
    " - [ランダムフォレスト - Wikipedia](https://ja.wikipedia.org/wiki/%E3%83%A9%E3%83%B3%E3%83%80%E3%83%A0%E3%83%95%E3%82%A9%E3%83%AC%E3%82%B9%E3%83%88)\n",
    " - [3.2.4.3.1. sklearn.ensemble.RandomForestClassifier — scikit-learn 0.19.0 documentation](http://scikit-learn.org/stable/modules/generated/sklearn.ensemble.RandomForestClassifier.html)"
   ]
  }
 ],
 "metadata": {
  "kernelspec": {
   "display_name": "Python 3",
   "language": "python",
   "name": "python3"
  },
  "language_info": {
   "codemirror_mode": {
    "name": "ipython",
    "version": 3
   },
   "file_extension": ".py",
   "mimetype": "text/x-python",
   "name": "python",
   "nbconvert_exporter": "python",
   "pygments_lexer": "ipython3",
   "version": "3.7.0"
  },
  "toc": {
   "nav_menu": {},
   "number_sections": true,
   "sideBar": true,
   "skip_h1_title": false,
   "toc_cell": false,
   "toc_position": {},
   "toc_section_display": "block",
   "toc_window_display": false
  }
 },
 "nbformat": 4,
 "nbformat_minor": 2
}
