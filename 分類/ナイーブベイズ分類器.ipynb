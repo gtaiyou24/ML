{
 "cells": [
  {
   "cell_type": "code",
   "execution_count": 1,
   "metadata": {
    "collapsed": true
   },
   "outputs": [],
   "source": [
    "import numpy as np\n",
    "import pandas as pd\n",
    "from pandas import DataFrame, Series\n",
    "\n",
    "import matplotlib.pyplot as plt\n",
    "\n",
    "%matplotlib inline "
   ]
  },
  {
   "cell_type": "markdown",
   "metadata": {},
   "source": [
    "# 0. データセットの読み込み"
   ]
  },
  {
   "cell_type": "code",
   "execution_count": 2,
   "metadata": {},
   "outputs": [
    {
     "data": {
      "text/html": [
       "<div>\n",
       "<table border=\"1\" class=\"dataframe\">\n",
       "  <thead>\n",
       "    <tr style=\"text-align: right;\">\n",
       "      <th></th>\n",
       "      <th>satisfaction_level</th>\n",
       "      <th>last_evaluation</th>\n",
       "      <th>number_project</th>\n",
       "      <th>average_montly_hours</th>\n",
       "      <th>time_spend_company</th>\n",
       "      <th>Work_accident</th>\n",
       "      <th>left</th>\n",
       "      <th>promotion_last_5years</th>\n",
       "      <th>sales</th>\n",
       "      <th>salary</th>\n",
       "    </tr>\n",
       "  </thead>\n",
       "  <tbody>\n",
       "    <tr>\n",
       "      <th>0</th>\n",
       "      <td>0.38</td>\n",
       "      <td>0.53</td>\n",
       "      <td>2</td>\n",
       "      <td>157</td>\n",
       "      <td>3</td>\n",
       "      <td>0</td>\n",
       "      <td>1</td>\n",
       "      <td>0</td>\n",
       "      <td>sales</td>\n",
       "      <td>low</td>\n",
       "    </tr>\n",
       "    <tr>\n",
       "      <th>1</th>\n",
       "      <td>0.80</td>\n",
       "      <td>0.86</td>\n",
       "      <td>5</td>\n",
       "      <td>262</td>\n",
       "      <td>6</td>\n",
       "      <td>0</td>\n",
       "      <td>1</td>\n",
       "      <td>0</td>\n",
       "      <td>sales</td>\n",
       "      <td>medium</td>\n",
       "    </tr>\n",
       "    <tr>\n",
       "      <th>2</th>\n",
       "      <td>0.11</td>\n",
       "      <td>0.88</td>\n",
       "      <td>7</td>\n",
       "      <td>272</td>\n",
       "      <td>4</td>\n",
       "      <td>0</td>\n",
       "      <td>1</td>\n",
       "      <td>0</td>\n",
       "      <td>sales</td>\n",
       "      <td>medium</td>\n",
       "    </tr>\n",
       "    <tr>\n",
       "      <th>3</th>\n",
       "      <td>0.72</td>\n",
       "      <td>0.87</td>\n",
       "      <td>5</td>\n",
       "      <td>223</td>\n",
       "      <td>5</td>\n",
       "      <td>0</td>\n",
       "      <td>1</td>\n",
       "      <td>0</td>\n",
       "      <td>sales</td>\n",
       "      <td>low</td>\n",
       "    </tr>\n",
       "    <tr>\n",
       "      <th>4</th>\n",
       "      <td>0.37</td>\n",
       "      <td>0.52</td>\n",
       "      <td>2</td>\n",
       "      <td>159</td>\n",
       "      <td>3</td>\n",
       "      <td>0</td>\n",
       "      <td>1</td>\n",
       "      <td>0</td>\n",
       "      <td>sales</td>\n",
       "      <td>low</td>\n",
       "    </tr>\n",
       "  </tbody>\n",
       "</table>\n",
       "</div>"
      ],
      "text/plain": [
       "   satisfaction_level  last_evaluation  number_project  average_montly_hours  \\\n",
       "0                0.38             0.53               2                   157   \n",
       "1                0.80             0.86               5                   262   \n",
       "2                0.11             0.88               7                   272   \n",
       "3                0.72             0.87               5                   223   \n",
       "4                0.37             0.52               2                   159   \n",
       "\n",
       "   time_spend_company  Work_accident  left  promotion_last_5years  sales  \\\n",
       "0                   3              0     1                      0  sales   \n",
       "1                   6              0     1                      0  sales   \n",
       "2                   4              0     1                      0  sales   \n",
       "3                   5              0     1                      0  sales   \n",
       "4                   3              0     1                      0  sales   \n",
       "\n",
       "   salary  \n",
       "0     low  \n",
       "1  medium  \n",
       "2  medium  \n",
       "3     low  \n",
       "4     low  "
      ]
     },
     "execution_count": 2,
     "metadata": {},
     "output_type": "execute_result"
    }
   ],
   "source": [
    "HR_DATASET_PATH = '../datasets/HR_comma_sep.csv'\n",
    "hr_df = pd.read_csv(HR_DATASET_PATH)\n",
    "hr_df.head()"
   ]
  },
  {
   "cell_type": "code",
   "execution_count": 3,
   "metadata": {},
   "outputs": [
    {
     "name": "stdout",
     "output_type": "stream",
     "text": [
      "(14999, 10)\n",
      "Index(['satisfaction_level', 'last_evaluation', 'number_project',\n",
      "       'average_montly_hours', 'time_spend_company', 'Work_accident', 'left',\n",
      "       'promotion_last_5years', 'sales', 'salary'],\n",
      "      dtype='object')\n",
      "satisfaction_level       False\n",
      "last_evaluation          False\n",
      "number_project           False\n",
      "average_montly_hours     False\n",
      "time_spend_company       False\n",
      "Work_accident            False\n",
      "left                     False\n",
      "promotion_last_5years    False\n",
      "sales                    False\n",
      "salary                   False\n",
      "dtype: bool\n"
     ]
    }
   ],
   "source": [
    "print(hr_df.shape)\n",
    "print(hr_df.columns)\n",
    "print(hr_df.isnull().any())"
   ]
  },
  {
   "cell_type": "code",
   "execution_count": 4,
   "metadata": {
    "collapsed": true
   },
   "outputs": [],
   "source": [
    "# salary(給与水準)をダミー変数へ置換する\n",
    "hr_df.salary.replace({'low': 1, 'medium': 2, 'high': 3}, inplace=True)\n",
    "# salesをダミー変数へ\n",
    "hr_df = pd.get_dummies(hr_df, columns=['sales'])"
   ]
  },
  {
   "cell_type": "markdown",
   "metadata": {},
   "source": [
    "---\n",
    "# ナイーブベイズ分類器(naive bayes classifier)\n",
    "\n",
    " - $x = \\left( x_{1}, \\cdots, x_{n} \\right)$: 特徴ベクトル\n",
    " - $c$: クラス\n",
    "\n",
    "ナイーブベイズ分類器は確率に基づいた分類器であり、特徴ベクトル$x$に対して、$P\\left({c}|{d}\\right)$が最大となるクラス$c \\in C$を出力する。この確率$P\\left({c}|{x}\\right)$はベイズの定理を用いる。\n",
    "$$\n",
    "P\\left({c}|{x}\\right) = \\frac {P\\left(c\\right)P\\left({x}|{c}\\right)}{P\\left(x\\right)}\\\\\n",
    "\\qquad = \\frac {P\\left(c\\right)P\\left({x}|{c}\\right)}{\\sum _{c \\in C}{P\\left(c_{i}x\\right)}} = \\frac {P\\left(c\\right)P\\left({x}|{c}\\right)}{\\sum _{c \\in C}{P\\left(c_{i}\\right)P\\left({x}|{c_{i}}\\right)}}\n",
    "$$\n",
    "この右辺が最大となるクラス$c$を出力することになるが、分母の周辺尤度$\\sum _{c \\in C}{P\\left(c_{i}\\right)P\\left({x}|{c_{i}}\\right)}$はクラスに依存しないので、最大となるクラスを決定する際には、不要である。つまり、分子の$P\\left(c\\right)P\\left({x}|{c}\\right)$を最大にするクラス$c_{max}$を出力する。\n",
    "$$\n",
    "c_{ max }=arg\\max _{ c }{ \\frac { P\\left( c \\right) P\\left( { x }|{ c } \\right)  }{ \\sum _{ c\\in C }{ P\\left( c_{ i } \\right) P\\left( { x }|{ c_{ i } } \\right)  }  }  } \\\\ \\qquad =arg\\max _{ c }{ P\\left( c \\right) \\prod _{ i=1 }^{ n }{ P\\left( { x }_{ i }|{ c } \\right)  }  } \n",
    "$$\n",
    "この右辺を求められればよいのだが、尤度$P\\left({x}|{c}\\right)$を計算することは容易ではない。特徴ベクトル$x$の次元数が膨大だとあらゆる$x$についてそれぞれがデータ中で何回起こるかを調べ、$P\\left({x}|{c}\\right)$を最尤推定で求めることは非現実的である。そこで、ナイーブベイズ分類器では、$x$に対して簡単化したモデルを仮定して$P\\left({x}|{c}\\right)$の値を求める。\n",
    "\n",
    "**参考文献**\n",
    "\n",
    " - [1.9. Naive Bayes — scikit-learn 0.19.0 documentation](http://scikit-learn.org/stable/modules/naive_bayes.html#naive-bayes)\n",
    " - [単純ベイズ分類器 - Wikipedia](https://ja.wikipedia.org/wiki/%E5%8D%98%E7%B4%94%E3%83%99%E3%82%A4%E3%82%BA%E5%88%86%E9%A1%9E%E5%99%A8)"
   ]
  },
  {
   "cell_type": "markdown",
   "metadata": {},
   "source": [
    "## 多変数ベルヌーイモデル: $P\\left( { x_{i} }|{ c } \\right) = { { p }_{ w,c } }^{ \\delta w,x_{i} }{ (1-{ p }_{ w,c }) }^{ 1-\\delta w,x_{i} }$\n"
   ]
  },
  {
   "cell_type": "markdown",
   "metadata": {},
   "source": [
    "---\n",
    "## 多項モデル(multinomial model): "
   ]
  },
  {
   "cell_type": "markdown",
   "metadata": {},
   "source": [
    "---\n",
    "## 正規分布モデル(gaussian model): $P\\left( { { x }_{ i } }|{ c } \\right) =\\frac { 1 }{ \\sqrt { 2\\pi { \\sigma _{ c } }^{ 2 } }  } exp{ \\left( -\\cfrac { { ({ x }_{ i }-{ \\mu  }_{ c }) }^{ 2 } }{ 2{ \\sigma _{ c } }^{ 2 } }  \\right)  }$"
   ]
  },
  {
   "cell_type": "code",
   "execution_count": null,
   "metadata": {
    "collapsed": true
   },
   "outputs": [],
   "source": []
  }
 ],
 "metadata": {
  "kernelspec": {
   "display_name": "Python 3",
   "language": "python",
   "name": "python3"
  },
  "language_info": {
   "codemirror_mode": {
    "name": "ipython",
    "version": 3
   },
   "file_extension": ".py",
   "mimetype": "text/x-python",
   "name": "python",
   "nbconvert_exporter": "python",
   "pygments_lexer": "ipython3",
   "version": "3.7.0"
  },
  "toc": {
   "nav_menu": {},
   "number_sections": true,
   "sideBar": true,
   "skip_h1_title": false,
   "toc_cell": false,
   "toc_position": {},
   "toc_section_display": "block",
   "toc_window_display": false
  }
 },
 "nbformat": 4,
 "nbformat_minor": 2
}
