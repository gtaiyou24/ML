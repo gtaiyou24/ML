{
 "cells": [
  {
   "cell_type": "markdown",
   "metadata": {},
   "source": [
    "# 因子分析"
   ]
  },
  {
   "cell_type": "markdown",
   "metadata": {},
   "source": [
    "## 概要"
   ]
  },
  {
   "cell_type": "markdown",
   "metadata": {},
   "source": [
    "因子分析は、多くの変数の相関関係を少数の**潜在因子**によって説明するための方法です。"
   ]
  },
  {
   "cell_type": "markdown",
   "metadata": {},
   "source": [
    "## 因子分析のモデル"
   ]
  },
  {
   "cell_type": "markdown",
   "metadata": {},
   "source": [
    "$u_{i1}$, $u_{i2}$, $u_{i3}$, $u_{i4}$は標準化されているとする。"
   ]
  },
  {
   "cell_type": "markdown",
   "metadata": {},
   "source": [
    "$$\n",
    "\\begin{matrix}\n",
    "u_{i1} & = & b_{11} f_{i1} + b_{12} f_{i2} + \\epsilon_{i1} \\\\\n",
    "u_{i2} & = & b_{21} f_{i1} + b_{22} f_{i2} + \\epsilon_{i2} \\\\\n",
    "u_{i3} & = & b_{31} f_{i1} + b_{32} f_{i2} + \\epsilon_{i3} \\\\\n",
    "u_{i4} & = & b_{41} f_{i1} + b_{42} f_{i2} + \\epsilon_{i4}\n",
    "\\end{matrix}\n",
    "\\quad  (i = 1, 2, \\dots, n)\n",
    "$$"
   ]
  },
  {
   "cell_type": "markdown",
   "metadata": {},
   "source": [
    " - $f_{i1}, f_{i2} \\quad (i = 1, 2, \\dots, n)$ : 潜在因子の個人ごとの値であり、**因子得点**と呼ぶ。また、これらの潜在因子を**共通因子**と呼ぶ。\n",
    " - $f_{i1}$は「文系的能力」、$f_{i2}$は「理系的能力」とイメージすると良い。(実際は、データ解析の結果から解釈する)\n",
    " - 係数$b$ : データ(生徒)が異なっても同じ値である。これらの係数を**因子負荷量**と呼ぶ。\n",
    " - $\\epsilon_{i1}, \\epsilon_{i2}, \\epsilon_{i3}, \\epsilon_{i4} \\quad (i = 1, 2, \\dots, n)$ : 共通因子では説明できない量で、**独自因子**と呼ぶ。独自因子のあたいもデータ(生徒)によって異なる"
   ]
  },
  {
   "cell_type": "markdown",
   "metadata": {},
   "source": [
    "### 仮定"
   ]
  },
  {
   "cell_type": "markdown",
   "metadata": {},
   "source": [
    " - 因子負荷量だけが定数であり、他の量は確率変数である。"
   ]
  },
  {
   "cell_type": "markdown",
   "metadata": {},
   "source": [
    "**共通因子についての仮定**<br>\n",
    "共通因子$f_{1}$と$f_{2}$はそれぞれ標準化されていると仮定する。(期待値が0、分散が1)\n",
    "$$\n",
    "E\\left( f_{1} \\right) = 0, V\\left( f_{1} \\right) = 1 \\\\\n",
    "E\\left( f_{2} \\right) = 0, V\\left( f_{2} \\right) = 1\n",
    "$$"
   ]
  },
  {
   "cell_type": "markdown",
   "metadata": {},
   "source": [
    "**独自因子についての仮定**<br>\n",
    "独自因子$\\epsilon_{j} \\quad (j = 1, 2, 3, 4)$のそれぞれの期待値は0、それぞれの分散は$d_{1}^{2}, d_{2}^{2}, d_{3}^{2}, d_{4}^{2}$と仮定する。\n",
    "$$\n",
    "E\\left( \\epsilon_{1} \\right) = 0, V\\left( \\epsilon_{1} \\right) = d_{1}^{2}\\\\\n",
    "E\\left( \\epsilon_{2} \\right) = 0, V\\left( \\epsilon_{2} \\right) = d_{2}^{2}\\\\\n",
    "E\\left( \\epsilon_{3} \\right) = 0, V\\left( \\epsilon_{3} \\right) = d_{3}^{2}\\\\\n",
    "E\\left( \\epsilon_{4} \\right) = 0, V\\left( \\epsilon_{4} \\right) = d_{4}^{2}\n",
    "$$"
   ]
  },
  {
   "cell_type": "markdown",
   "metadata": {},
   "source": [
    "**共通因子と独自因子との関係についての仮定**<br>\n",
    "共通因子間、独自因子間は無相関、共通因子と独自因子間も無相間と仮定する。\n",
    "$$\n",
    "\\begin{matrix}\n",
    "\\rho_{f_{1}, f_{2}} & = & 0\\\\\n",
    "\\rho_{{\\epsilon}_{j}, {\\epsilon}_{k}} & = & 0 \\\\\n",
    "\\rho_{f_{1, 2} {\\epsilon}_{1,2,3,4}} & = & 0 \\\\\n",
    "\\end{matrix}\n",
    "$$"
   ]
  },
  {
   "cell_type": "markdown",
   "metadata": {},
   "source": [
    "### 共分散行列"
   ]
  },
  {
   "cell_type": "markdown",
   "metadata": {},
   "source": [
    "上記の仮定とモデル式のもとで各$u$の分散、共分散は次のようになる。"
   ]
  },
  {
   "cell_type": "markdown",
   "metadata": {},
   "source": [
    "分散: \n",
    "$$\n",
    "\\begin{align*}\n",
    "V\\left( u_{j} \\right) & = V\\left( b_{j1} f_{1} + b_{j2} f_{2} + {\\epsilon}_{j} \\right) \\\\\n",
    "& = V\\left( b_{j1} f_{1} \\right) + V\\left( b_{j2} f_{2} \\right) + V\\left( {\\epsilon}_{j} \\right) \\\\\n",
    "& = b_{j1}^{2} V\\left( f_{1} \\right) + b_{j2}^{2} V\\left( f_{2} \\right) + V\\left( {\\epsilon}_{j} \\right) \\\\\n",
    "& = b_{j1}^{2} + b_{j2}^{2} + d_{1}^{2}\n",
    "\\end{align*}\\\\\n",
    "\\quad (j = 1,2, 3, 4)\n",
    "$$"
   ]
  },
  {
   "cell_type": "markdown",
   "metadata": {},
   "source": [
    "共分散: \n",
    "$$\n",
    "\\begin{align*}\n",
    "\\mathrm {Cov}\\left( u_{j}, u_{k} \\right) & =  E\\left\\{ \\left[ u_{j} - E\\left( u_{j} \\right) \\right] \\cdot \\left[ u_{k} - E\\left( u_{k} \\right) \\right] \\right\\} \\quad (共分散の定義より) \\\\\n",
    "& =  E\\left[ u_{j} \\cdot u_{k} \\right] \\quad \\left( u_{j}は標準化されているので E\\left( u_{j} \\right) = 0 \\right) \\\\\n",
    "& =  E\\left[ \\left( b_{j1} f_{1} + b_{j2} f_{2} + {\\epsilon}_{j} \\right) \\cdot \\left( b_{k1} f_{1} + b_{k2} f_{2} + {\\epsilon}_{k} \\right) \\right] \\\\\n",
    "& =  b_{j1} b_{k1} E\\left( f_{1}^{2} \\right) + b_{j2} b_{k2} E\\left( f_{2}^{2} \\right) \\\\\n",
    "& =  b_{j1} b_{k1} V\\left( f_{1} \\right) + b_{j2} b_{k2} V\\left( f_{2} \\right)  \\quad (V\\left( f_{1} \\right) = E\\left( f_{1}^{2} \\right) - \\left[ E\\left( f_{2} \\right) \\right]^{2} = E\\left( f_{1}^{2} \\right) - 0^{2} = E\\left( f_{1}^{2} \\right) より)\\\\\n",
    "& =  b_{j1} b_{k1} + b_{j2} b_{k2}\n",
    "\\end{align*}\n",
    "\\\\\n",
    "\\quad (j,k = 1,2, 3, 4)\n",
    "$$"
   ]
  },
  {
   "cell_type": "markdown",
   "metadata": {},
   "source": [
    "相関係数: \n",
    "$$\n",
    "\\begin{align*}\n",
    "{\\rho}_{j,k} & = \\frac { \\mathrm {Cov}\\left( u_{j}, u_{k} \\right) }{ \\sqrt {V\\left( u_{j} \\right)} \\sqrt {V\\left( u_{k} \\right)} } \\\\\n",
    "& = \\mathrm {Cov}\\left( u_{j}, u_{k} \\right)   \\quad (u_{j}, u_{k}は標準化されているので、V\\left( u_{j} \\right) = V\\left( u_{k} \\right) = 1)\n",
    "\\end{align*}\n",
    "$$"
   ]
  },
  {
   "cell_type": "markdown",
   "metadata": {},
   "source": [
    "共分散行列(母相関係数行列):\n",
    "$$\n",
    "\\Pi \n",
    "= \\begin{bmatrix}\n",
    "1 & \\rho_{12} & \\rho_{13} & \\rho_{14} \\\\\n",
    "\\rho_{21} & 1 & \\rho_{23} & \\rho_{24} \\\\\n",
    "\\rho_{31} & \\rho_{32} & 1 & \\rho_{34} \\\\\n",
    "\\rho_{41} & \\rho_{42} & \\rho_{43} & 1 \n",
    "\\end{bmatrix} \\\\\n",
    "= \\begin{bmatrix}\n",
    "b_{11}^{2} + b_{12}^{2}        & b_{11}b_{21} + b_{12}b_{22} & b_{11}b_{31} + b_{12}b_{32} & b_{11}b_{41} + b_{12}b_{42} \\\\\n",
    "b_{21}b_{11} + b_{22}b_{12} & b_{21}^{2} + b_{22}^{2}        & b_{21}b_{31} + b_{22}b_{32} & b_{21}b_{41} + b_{22}b_{42} \\\\\n",
    "b_{31}b_{11} + b_{32}b_{12} & b_{31}b_{21} + b_{32}b_{22} & b_{31}b_{31} + b_{32}b_{32} & b_{31}b_{41} + b_{32}b_{42} \\\\\n",
    "b_{41}b_{11} + b_{42}b_{12} & b_{41}b_{21} + b_{42}b_{22} & b_{41}b_{31} + b_{42}b_{32} & b_{41}^{2} + b_{42}^{2}\n",
    "\\end{bmatrix} \n",
    "+ \n",
    "\\begin{bmatrix}\n",
    "d_{1}^{2} & 0 & 0 & 0 \\\\\n",
    "0 & d_{2}^{2} & 0 & 0 \\\\\n",
    "0 & 0 & d_{3}^{2} & 0 \\\\\n",
    "0 & 0 & 0 & d_{4}^{2}\n",
    "\\end{bmatrix} \n",
    "$$"
   ]
  },
  {
   "cell_type": "markdown",
   "metadata": {},
   "source": [
    "ここで、\n",
    "$\\mathrm {B} = \\begin{bmatrix}\n",
    "b_{11} & b_{12} \\\\\n",
    "b_{21} & b_{22} \\\\\n",
    "b_{31} & b_{32} \\\\\n",
    "b_{41} & b_{42}\n",
    "\\end{bmatrix}$, $\\mathrm {D} = \\begin{bmatrix}\n",
    "d_{1}^{2} & 0 & 0 & 0 \\\\\n",
    "0 & d_{2}^{2} & 0 & 0 \\\\\n",
    "0 & 0 & d_{3}^{2} & 0 \\\\\n",
    "0 & 0 & 0 & d_{4}^{2}\n",
    "\\end{bmatrix}$\n",
    "とおくと、共分散行列は、\n",
    "$$\n",
    "\\Pi = \\mathrm {B} \\mathrm {B}^{\\prime} + \\mathrm {D}\n",
    "$$\n",
    "と表現することができる。"
   ]
  },
  {
   "cell_type": "markdown",
   "metadata": {},
   "source": [
    "### 共通性と独自性\n",
    "共分散行列(母相関係数行列)$\\Pi$の対角要素に注目する。$\\left( j,j \\right)$要素については、\n",
    "$$\n",
    "b_{j1}^{2} + b_{j2}^{2} = 1 - d_{j}^{2} \\quad (h_{j}^{2}とおく) \\quad (j = 1, 2, 3, 4)\n",
    "$$\n",
    "となる。\n",
    "\n",
    " - この量$h_{j}^{2}$は、変数$u_{j}$の変動のうち共通因子によって説明できる部分を表すので、「$u_{j}$の**共通性**」と呼ぶ。\n",
    " - $d_{j}^{2}$は共通因子では説明できないばらつきの大きさなので、「$u_{j}$の**独自性**」と呼ぶ。"
   ]
  },
  {
   "cell_type": "markdown",
   "metadata": {},
   "source": [
    "## 解析の流れ"
   ]
  },
  {
   "cell_type": "markdown",
   "metadata": {},
   "source": [
    "### 共通因子の個数を設定する"
   ]
  },
  {
   "cell_type": "markdown",
   "metadata": {},
   "source": [
    "共通因子の個数の設定は、標本相関係数行列$R$($ = \\hat {\\Pi}$)の1より大きな固有値の個数とするのが1つの目安である。"
   ]
  },
  {
   "cell_type": "markdown",
   "metadata": {},
   "source": [
    "### 因子負荷量を推定する"
   ]
  },
  {
   "cell_type": "markdown",
   "metadata": {},
   "source": [
    "因子負荷量の推定方法はいろいろと提案されているが、ここでは**主因子法**を説明する。共分散行列(相関係数行列)より、\n",
    "$$\n",
    "\\Pi - \\mathrm {D} = \\begin{bmatrix}\n",
    "1 - d_{1}^{2} & \\rho_{12}      & \\rho_{13}     & \\rho_{14} \\\\\n",
    "\\rho_{21}     & 1 - d_{2}^{2}  & \\rho_{23}     & \\rho_{24} \\\\\n",
    "\\rho_{31}     & \\rho_{32}      & 1 - d_{3}^{2} & \\rho_{34} \\\\\n",
    "\\rho_{41}     & \\rho_{42}      & \\rho_{43}     & 1 - d_{4}^{2} \\\\\n",
    "\\end{bmatrix}\n",
    "$$\n",
    "となる。"
   ]
  },
  {
   "cell_type": "markdown",
   "metadata": {},
   "source": [
    "<table>\n",
    "    <tr>\n",
    "        <td><img src=\"./img/3.解析の流れ/因子負荷量の推定①.png\" style=\"width:100%\"></td>\n",
    "        <td><img src=\"./img/3.解析の流れ/因子負荷量の推定②.png\" style=\"width:100%\"></td>\n",
    "    </tr>\n",
    "    <tr>\n",
    "        <td><img src=\"./img/3.解析の流れ/因子負荷量の推定③.png\" style=\"width:100%\"></td>\n",
    "        <td><img src=\"./img/3.解析の流れ/因子負荷量の推定④.png\" style=\"width:100%\"></td>\n",
    "    </tr>\n",
    "</table>"
   ]
  },
  {
   "cell_type": "markdown",
   "metadata": {},
   "source": [
    "### 因子の解釈をする"
   ]
  },
  {
   "cell_type": "code",
   "execution_count": null,
   "metadata": {},
   "outputs": [],
   "source": []
  },
  {
   "cell_type": "markdown",
   "metadata": {},
   "source": [
    "### 因子の寄与率を求める"
   ]
  },
  {
   "cell_type": "code",
   "execution_count": null,
   "metadata": {},
   "outputs": [],
   "source": []
  },
  {
   "cell_type": "markdown",
   "metadata": {},
   "source": [
    "### 因子得点を推定する"
   ]
  },
  {
   "cell_type": "code",
   "execution_count": null,
   "metadata": {},
   "outputs": [],
   "source": []
  },
  {
   "cell_type": "markdown",
   "metadata": {},
   "source": [
    "---"
   ]
  },
  {
   "cell_type": "code",
   "execution_count": 1,
   "metadata": {
    "ExecuteTime": {
     "end_time": "2020-12-12T15:23:13.301453Z",
     "start_time": "2020-12-12T15:23:11.650933Z"
    }
   },
   "outputs": [],
   "source": [
    "import numpy as np\n",
    "import pandas as pd\n",
    "\n",
    "import matplotlib\n",
    "import matplotlib.pyplot as plt\n",
    "\n",
    "%matplotlib inline"
   ]
  }
 ],
 "metadata": {
  "kernelspec": {
   "display_name": "Python 3",
   "language": "python",
   "name": "python3"
  },
  "language_info": {
   "codemirror_mode": {
    "name": "ipython",
    "version": 3
   },
   "file_extension": ".py",
   "mimetype": "text/x-python",
   "name": "python",
   "nbconvert_exporter": "python",
   "pygments_lexer": "ipython3",
   "version": "3.7.2"
  },
  "toc": {
   "nav_menu": {},
   "number_sections": true,
   "sideBar": true,
   "skip_h1_title": false,
   "toc_cell": false,
   "toc_position": {},
   "toc_section_display": "block",
   "toc_window_display": false
  }
 },
 "nbformat": 4,
 "nbformat_minor": 2
}
