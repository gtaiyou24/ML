{
 "cells": [
  {
   "cell_type": "markdown",
   "metadata": {},
   "source": [
    "# パス解析\n",
    "\n",
    "なんらかの先験的情報から**パスダイアグラム**と呼ばれる因果関係ないしは時間的先行性を表すグラフをあらかじめ作成しておいて、そのつながりの強さを表す**パス係数**をデータから推定する方法"
   ]
  },
  {
   "cell_type": "markdown",
   "metadata": {
    "collapsed": true
   },
   "source": [
    "## パスダイアグラムの作成\n",
    "\n",
    "自分の経験則や仮説に基づいて、各変数についての目的変数と説明変数の関係（因果関係）を考え、パスダイアグラムを作ります。\n",
    "<div style=\"text-align:center\">\n",
    "    4変数のパスダイアグラム\n",
    "    <img src=\"./imgs/パス解析/パスダイアグラム.png\" width=60%>\n",
    "</div>\n",
    "$x_{1}$から$x_{2},x_{3},x_{4}$に矢線が出ている。これは、「$x_{1}$が$x_{2}, x_{3}, x_{4}$の原因である」または「「$x_{1}$が$x_{2}, x_{3}, x_{4}$よりも時間的に先行する」ことを意味している。他の矢線についても同様に考える。\n",
    "\n",
    "<div style=\"text-align:center\">\n",
    "    説明変数 → 目的変数\n",
    "</div>"
   ]
  },
  {
   "cell_type": "markdown",
   "metadata": {},
   "source": [
    "## 線形構造方程式の構築\n",
    "与えられたパスダイアグラムに基づいて\n",
    "\n",
    " - 矢線を受けている変数 -> 目的変数\n",
    " - 矢線を出している変数 -> 説明変数\n",
    " \n",
    "として線形重回帰モデルを想定する。ただし、各変数は標準化したものであるとする。"
   ]
  },
  {
   "cell_type": "markdown",
   "metadata": {},
   "source": [
    "上図のパスダイアグラムに基づくと、次の3つの回帰モデルを想定することができる。\n",
    "$$\n",
    "\\begin{matrix} { u }_{ 1 }=\\cfrac { { x }_{ 1 }-{ \\mu  }_{ 1 } }{ { \\sigma  }_{ 1 } }  & { u }_{ 2 }=\\cfrac { { x }_{ 2 }-{ \\mu  }_{ 2 } }{ { \\sigma  }_{ 2 } }  & { u }_{ 3 }=\\cfrac { { x }_{ 3 }-{ \\mu  }_{ 3 } }{ { \\sigma  }_{ 3 } }  & { u }_{ 4 }=\\cfrac { { x }_{ 4 }-{ \\mu  }_{ 4 } }{ { \\sigma  }_{ 4 } }  \\end{matrix}\n",
    "$$\n",
    "**線形構造方程式** : \n",
    "$$\n",
    "\\begin{eqnarray} { u }_{ 2 } & = & { \\alpha  }_{ 21 }{ u }_{ 1 }+{ \\varepsilon  }_{ 2 } \\\\ { u }_{ 3 } & = & { \\alpha  }_{ 31 }{ u }_{ 1 }+{ \\alpha  }_{ 32 }{ u }_{ 2 }+{ \\varepsilon  }_{ 3 } \\\\ { u }_{ 4 } & = & { \\alpha  }_{ 41 }{ u }_{ 1 }+{ \\alpha  }_{ 42 }{ u }_{ 2 }+{ \\alpha  }_{ 43 }{ u }_{ 3 }+{ \\varepsilon  }_{ 4 } \\end{eqnarray}\n",
    "$$"
   ]
  },
  {
   "cell_type": "markdown",
   "metadata": {
    "collapsed": true
   },
   "source": [
    " - $\\alpha_{ij}$ : パス係数。添字は$j$から$i$に矢線が向かっていることを意味している。\n",
    " - $\\varepsilon$ : 誤差項。同じ式の右辺にある説明変数とは互いに独立であると仮定する。"
   ]
  },
  {
   "cell_type": "markdown",
   "metadata": {
    "collapsed": true
   },
   "source": [
    "**各変数を標準化した下で、それぞれの回帰モデルごとに最小二乗法を適用すれば、偏回帰係数がパス係数の推定量となる**。"
   ]
  },
  {
   "cell_type": "markdown",
   "metadata": {},
   "source": [
    "## 相関の分解"
   ]
  },
  {
   "cell_type": "markdown",
   "metadata": {},
   "source": [
    "引き続き、パスダイアグラムの図に基づいて説明する。線形構造方程式の(3)式の両辺に$x_{2}$をかけると、\n",
    "$$\n",
    "{ u }_{ 2 }{ u }_{ 4 }={ \\alpha  }_{ 41 }{ u }_{ 1 }{ u }_{ 2 }+{ \\alpha  }_{ 42 }{ { u }_{ 2 } }^{ 2 }+{ \\alpha  }_{ 43 }{ u }_{ 3 }{ u }_{ 2 }+{ u }_{ 2 }{ \\varepsilon  }_{ 4 } \\quad (4)\n",
    "$$\n",
    "となる。各変数が標準化されていることにより、\n",
    "$$\n",
    "E\\left( { u_{ i } }^{ 2 } \\right) =E\\left[ \\cfrac { { \\left( { x }_{ i }-{ \\mu  }_{ i } \\right)  }^{ 2 } }{ { { \\sigma  }_{ i } }^{ 2 } }  \\right] =\\cfrac { E\\left[ { \\left( { x }_{ i }-{ \\mu  }_{ i } \\right)  }^{ 2 } \\right]  }{ { { \\sigma  }_{ i } }^{ 2 } } \\\\ \\qquad \\quad \\quad =\\cfrac { { { \\sigma  }_{ i } }^{ 2 } }{ { { \\sigma  }_{ i } }^{ 2 } } \\\\ \\quad \\quad \\quad \\quad \\quad =1\n",
    "$$\n",
    "$$\n",
    "E\\left( { u_{ i } }{ u_{ j } } \\right) =E\\left[ \\cfrac { { \\left( { x }_{ i }-{ \\mu  }_{ i } \\right)  } }{ { { \\sigma  }_{ i } } } \\cdot \\cfrac { { \\left( { x }_{ j }-{ \\mu  }_{ j } \\right)  } }{ { { \\sigma  }_{ j } } }  \\right] =\\cfrac { E\\left[ { \\left( { x }_{ i }-{ \\mu  }_{ i } \\right) \\left( { x }_{ j }-{ \\mu  }_{ j } \\right)  } \\right]  }{ { \\sigma  }_{ i }{ \\sigma  }_{ j } } \\\\ \\qquad \\quad \\quad \\quad =\\cfrac { Cov\\left( { u_{ i } },{ u_{ j } } \\right)  }{ { \\sigma  }_{ i }{ \\sigma  }_{ j } } \\\\ \\quad \\quad \\quad \\quad \\quad \\quad ={ \\rho  }_{ ij }\n",
    "$$\n",
    "(${ \\rho  }_{ ij }$は、$u_{i}$と$u_{j}$の母相関係数)となり、誤差と右辺の他の変数との独立性($E\\left( u_{i}{ \\varepsilon }_{j} \\right) = E\\left( u_{i} \\right)E\\left( {\\varepsilon}_{i} \\right) = 0$)を考慮して、(4)式に期待値をとると\n",
    "$$\n",
    "{ \\rho }_{24} = { \\alpha }_{41}{\\rho}_{12} + {\\alpha}_{42} + {\\alpha}_{43}{\\rho}_{23} \\quad (5)\n",
    "$$\n",
    "を得る。この式の右辺にある母相関係数を線形構造方程式から次々に求める。"
   ]
  },
  {
   "cell_type": "markdown",
   "metadata": {
    "collapsed": true
   },
   "source": [
    " - (1)式に$u_{1}$をかけて期待値をとる\n",
    "$$\n",
    "{\\rho}_{12} = {\\alpha}_{21} \\quad (6)\n",
    "$$\n",
    " \n",
    " - (2)式に$u_{2}$をかけて期待値をとる\n",
    " $$\n",
    " { \\rho  }_{ 23 }={ \\alpha  }_{ 31 }{ \\rho  }_{ 12 }+{ \\alpha  }_{ 32 }={ \\alpha  }_{ 31 }{ \\alpha  }_{ 21 }+{ \\alpha  }_{ 32 } \\quad (7)\n",
    " $$\n",
    " \n",
    "これらを(5)式に代入すれば、\n",
    "$$\n",
    "{ \\rho  }_{ 24 }={ \\alpha  }_{ 42 }+{ \\alpha  }_{ 43 }{ \\alpha  }_{ 32 }+{ \\alpha  }_{ 21 }{ \\alpha  }_{ 41 }+{ \\alpha  }_{ 21 }{ \\alpha  }_{ 43 }{ \\alpha  }_{ 31 }\n",
    "$$\n",
    "となる。**すなわち、$u_{2}$と$u_{4}$の母相関係数${\\rho}_{24}$はパス係数の積和に分解される。**"
   ]
  },
  {
   "cell_type": "markdown",
   "metadata": {},
   "source": [
    "<div style=\"text-align:center\">\n",
    "    一般に、相関の分析は<br>\n",
    "    **(相関係数)** = (**直接効果**) + (**間接効果**) + (**疑似相関**) <br>\n",
    "    と表現できる。\n",
    "    <img src=\"./imgs/パス解析/相関の分解.png\" width=80%>\n",
    "</div>\n",
    "ただし、直接効果・間接効果・疑似相関すべての項目が存在するとは限らない。"
   ]
  },
  {
   "cell_type": "markdown",
   "metadata": {},
   "source": [
    "## 参考文献・関連文献\n",
    " - [統計における標準化の意味と目的 - 具体例で学ぶ数学](https://mathwords.net/hyouzyunka)\n",
    " - [15-6. 2変数の期待値と分散 | 統計学の時間 | 統計WEB](https://bellcurve.jp/statistics/course/18592.html) : 母相関係数を導出する際に参考にしました"
   ]
  },
  {
   "cell_type": "code",
   "execution_count": null,
   "metadata": {
    "collapsed": true
   },
   "outputs": [],
   "source": []
  }
 ],
 "metadata": {
  "kernelspec": {
   "display_name": "Python 3",
   "language": "python",
   "name": "python3"
  },
  "language_info": {
   "codemirror_mode": {
    "name": "ipython",
    "version": 3
   },
   "file_extension": ".py",
   "mimetype": "text/x-python",
   "name": "python",
   "nbconvert_exporter": "python",
   "pygments_lexer": "ipython3",
   "version": "3.7.0"
  },
  "toc": {
   "nav_menu": {},
   "number_sections": true,
   "sideBar": true,
   "skip_h1_title": false,
   "toc_cell": false,
   "toc_position": {},
   "toc_section_display": "block",
   "toc_window_display": false
  }
 },
 "nbformat": 4,
 "nbformat_minor": 2
}
