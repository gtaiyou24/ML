{
 "cells": [
  {
   "cell_type": "code",
   "execution_count": 1,
   "metadata": {
    "ExecuteTime": {
     "end_time": "2019-10-12T13:41:57.222315Z",
     "start_time": "2019-10-12T13:41:54.256565Z"
    }
   },
   "outputs": [],
   "source": [
    "import numpy as np\n",
    "import pandas as pd\n",
    "\n",
    "import matplotlib as mpl\n",
    "import matplotlib.pyplot as plt\n",
    "import seaborn as sns\n",
    "\n",
    "# 日本語フォントを設定\n",
    "font = {'family': 'IPAexGothic'}\n",
    "mpl.rc('font', **font)\n",
    "\n",
    "%matplotlib inline"
   ]
  },
  {
   "cell_type": "markdown",
   "metadata": {},
   "source": [
    "# ARMAモデル"
   ]
  },
  {
   "cell_type": "markdown",
   "metadata": {},
   "source": [
    "## 自己回帰移動平均モデル(AutoRegressive Moving Average model, ARMAモデル)"
   ]
  },
  {
   "cell_type": "markdown",
   "metadata": {},
   "source": [
    "時系列$y_{n}$を過去の観測値$y_{n - i}$と白色雑音の現在および過去の値の線形和で表現したモデル\n",
    "\n",
    "$$\n",
    "y_{n} = \\sum _{i=1}^{m}{ a_{i} y_{n - i} } + {\\upsilon}_{n} - \\sum _{i=1}^{\\ell}{ b_{i} {\\upsilon}_{n - i} }\n",
    "$$\n",
    "\n",
    " - $m$ : 自己回帰の次数(order)\n",
    " - $a_{i}$ : 自己回帰係数(AR coefficient)\n",
    " - $\\ell$ : 移動平均の次数\n",
    " - $b_{i}$ : 移動平均係数(MA coefficient)\n",
    "\n",
    "ARMAモデルに従う時系列$y_{n}$はARMA過程と呼ばれる。"
   ]
  },
  {
   "cell_type": "markdown",
   "metadata": {},
   "source": [
    "## 白色雑音"
   ]
  },
  {
   "cell_type": "markdown",
   "metadata": {},
   "source": [
    "${\\upsilon}_{n}$は平均0、分散${\\sigma}^{2}$の正規分布に従う<strong>白色雑音</strong>で、時系列の過去$y_{n - i}$と独立と仮定する。\n",
    "\n",
    "$$\n",
    "\\begin{eqnarray}\n",
    "\\mathrm {E}\\left( {\\upsilon}_{n} \\right) & = & 0 \\\\\n",
    "\\mathrm {Var}\\left( {\\upsilon}_{n} \\right) & = & {\\sigma}^{2} \\\\\n",
    "\\mathrm {E}\\left( {\\upsilon}_{n} {\\upsilon}_{m} \\right) & = & 0 \\quad n \\neq m \\\\\n",
    "\\mathrm {E}\\left( {\\upsilon}_{n} y_{m} \\right) & = & 0 \\quad n > m\n",
    "\\end{eqnarray}\n",
    "$$"
   ]
  },
  {
   "cell_type": "markdown",
   "metadata": {},
   "source": [
    "## ARモデルとMAモデル"
   ]
  },
  {
   "cell_type": "markdown",
   "metadata": {},
   "source": [
    "### 自己回帰モデル(AutoRegressive model, ARモデル)\n",
    "実用上は$\\ell = 0$と仮定し、時系列をその過去の値と白色雑音$\\upsilon_{n}$だけで表現したモデルが最も重要である。\n",
    "\n",
    "$$\n",
    "y_{n} = \\sum _{i = 1}^{m}{ a_{i} y_{n - i} } + {\\upsilon}_{n}\n",
    "$$\n",
    "\n",
    "定常時系列解析のかなりの部分がARモデルだけを用いて実現できることに注意する必要がある。"
   ]
  },
  {
   "cell_type": "markdown",
   "metadata": {},
   "source": [
    "### 移動平均モデル(Moving Average model, MAモデル)\n",
    "$m = 0$とおくと$\\ell$次の移動平均モデルが得られる。\n",
    "\n",
    "$$\n",
    "y_{n} = {\\upsilon}_{n} - \\sum _{i=1}^{\\ell}{ b_{i} {\\upsilon}_{n - i} }\n",
    "$$"
   ]
  },
  {
   "cell_type": "markdown",
   "metadata": {},
   "source": [
    "---"
   ]
  },
  {
   "cell_type": "markdown",
   "metadata": {},
   "source": [
    "# インパルス応答関数"
   ]
  },
  {
   "cell_type": "markdown",
   "metadata": {},
   "source": [
    "$By_{n} \\equiv y_{n - 1}$によって定義される<strong>時間シフトオペレータ</strong>(lag operator)$B$を用いると、ARMAモデルを以下のように表せる。\n",
    "\n",
    "時間シフトオペレータの定義より、$y_{n - i} \\equiv By_{n - i + 1} = B(By_{n - i + 2}) = B^{2}(By_{n - i + 3}) = \\cdots = B^{i - 1}(By_{n - i + i}) = B^{i}y_{n}$と表せられる。よって、\n",
    "\n",
    "$$\n",
    "\\begin{eqnarray}\n",
    "y_{n} & = & \\sum _{i=1}^{m}{ a_{i} y_{n - i} } + {\\upsilon}_{n} - \\sum _{i=1}^{\\ell}{ b_{i} {\\upsilon}_{n - i} } \\\\\n",
    "& = & \\sum _{i=1}^{m}{ a_{i} B^{i} y_{n} } + {\\upsilon}_{n} - \\sum _{i=1}^{\\ell}{ b_{i} B^{i} {\\upsilon}_{n} } \\\\\n",
    "& = & y_{n} \\sum _{i=1}^{m}{ a_{i} B^{i} } + {\\upsilon}_{n} - {\\upsilon}_{n} \\sum _{i=1}^{\\ell}{ b_{i} B^{i} } \\\\\n",
    "y_{n} - y_{n} \\sum _{i=1}^{m}{ a_{i} B^{i} } & = & {\\upsilon}_{n} - {\\upsilon}_{n} \\sum _{i=1}^{\\ell}{ b_{i} B^{i} } \\\\\n",
    "\\left(1 - \\sum _{i=1}^{m}{ a_{i} B^{i} }\\right)y_{n} & = & \\left(1 - \\sum _{i=1}^{\\ell}{ b_{i} B^{i} } \\right){\\upsilon}_{n}\n",
    "\\end{eqnarray}\n",
    "$$\n",
    "が導出できる。ここで、さらにARオペレータとMAオペレータをそれぞれ\n",
    "\n",
    "$$\n",
    "a\\left(B\\right) \\equiv \\left(1 - \\sum _{i=1}^{m}{ a_{i} B^{i} }\\right), \\quad b\\left(B\\right) \\equiv \\left(1 - \\sum _{i=1}^{\\ell}{ b_{i} B^{i} } \\right)\n",
    "$$\n",
    "\n",
    "によって定義すると、ARMAモデルは\n",
    "\n",
    "$$\n",
    "a\\left(B\\right)y_{n} = b\\left(B\\right){\\upsilon}_{n}\n",
    "$$\n",
    "\n",
    "と簡潔に表すことができる。"
   ]
  },
  {
   "cell_type": "markdown",
   "metadata": {},
   "source": [
    "上式の両辺を$a\\left(B\\right)$で割ると、ARMAモデルは$y_{n} = {a\\left( B \\right)}^{-1} b\\left( B \\right) {\\upsilon}_{n}$と表現できる。したがって、形式的に得られる無限級数\n",
    "\n",
    "$$\n",
    "\\mathrm {TODO : 証明}\\\\\n",
    "g\\left(B\\right) \\equiv {a\\left(B\\right)}^{-1} b\\left(B\\right) = \\sum _{i=0}^{\\infty}{ g_{i} {B}^{i} }\n",
    "$$\n",
    "\n",
    "によって、$g\\left(B\\right)$を定義すると、ARMAモデルに従う時系列$y_{n}$は、現在までに加わった白色雑音${\\upsilon}_{n}$だけを用いて\n",
    "\n",
    "$$\n",
    "y_{n} = g\\left(B\\right) {\\upsilon}_{n} = \\sum _{i=0}^{\\infty}{ g_{i} {\\upsilon}_{n - i} }\n",
    "$$\n",
    "\n",
    "と無限次の移動平均モデルで表現できる。"
   ]
  },
  {
   "cell_type": "markdown",
   "metadata": {},
   "source": [
    "$\\left\\{ g_{i} ; i = 0,1,\\cdots \\right\\}$は時刻$n = 0$に加わったノイズが$i$期後に時系列に及ぼす影響の大きさを表しており、ARMAモデルの<strong style=\"color:blue;\">インパルス応答関数</strong>(impulse response function)と呼ばれる。\n",
    "\n",
    "$g_{i}$は\n",
    "\n",
    "$$\n",
    "\\begin{eqnarray}\n",
    "g_{0} & = & 1 \\\\\n",
    "g_{i} & = & \\sum _{j=1}^{i}{ a_{j} g_{i - j} - b_{i} } \\quad (i = 1,2,\\dots)\n",
    "\\end{eqnarray}\n",
    "$$\n",
    "\n",
    "によって計算できる。ただし、$j > m$のとき$a_{j} = 0, j > \\ell$のとき$b_{j} = 0$とおくものとする。"
   ]
  },
  {
   "cell_type": "markdown",
   "metadata": {},
   "source": [
    "---"
   ]
  },
  {
   "cell_type": "markdown",
   "metadata": {},
   "source": [
    "# 自己共分散関数"
   ]
  },
  {
   "cell_type": "markdown",
   "metadata": {},
   "source": []
  }
 ],
 "metadata": {
  "kernelspec": {
   "display_name": "Python 3",
   "language": "python",
   "name": "python3"
  },
  "language_info": {
   "codemirror_mode": {
    "name": "ipython",
    "version": 3
   },
   "file_extension": ".py",
   "mimetype": "text/x-python",
   "name": "python",
   "nbconvert_exporter": "python",
   "pygments_lexer": "ipython3",
   "version": "3.7.0"
  },
  "toc": {
   "nav_menu": {},
   "number_sections": true,
   "sideBar": true,
   "skip_h1_title": false,
   "toc_cell": false,
   "toc_position": {},
   "toc_section_display": "block",
   "toc_window_display": false
  }
 },
 "nbformat": 4,
 "nbformat_minor": 2
}
