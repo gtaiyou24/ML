{
 "cells": [
  {
   "cell_type": "markdown",
   "metadata": {
    "collapsed": true
   },
   "source": [
    " - [データ分析と統計処理の基本的な手順の整理 (4) - Qiita](http://qiita.com/ynakayama/items/09b8a09f79ebaff24ea8)\n",
    " - [Pythonで正規分布の平均値の信頼区間を計算する方法](http://www.sat.t.u-tokyo.ac.jp/~oku/20160217/memo.html)\n",
    " - [scipy.stats - scipyの統計関数群のAPI - keisukeのブログ](http://kaisk.hatenadiary.com/entry/2015/02/17/192955)"
   ]
  },
  {
   "cell_type": "markdown",
   "metadata": {},
   "source": [
    "# 区間推定 - 比率"
   ]
  },
  {
   "cell_type": "markdown",
   "metadata": {},
   "source": [
    "### 2) 無作為に選んだ250人の大学生について運転免許をもっているかどうか調査したところ、90人がもっていた。信頼係数95%で、運転免許をもっている大学生の割合の信頼区間を求めよ。"
   ]
  },
  {
   "cell_type": "code",
   "execution_count": 67,
   "metadata": {},
   "outputs": [
    {
     "data": {
      "text/plain": [
       "array([ 0.30049968,  0.41950032])"
      ]
     },
     "execution_count": 67,
     "metadata": {},
     "output_type": "execute_result"
    }
   ],
   "source": [
    "import numpy as np\n",
    "import math\n",
    "from scipy.stats import norm, t, chi2 # 正規分布, t分布, カイ二乗分布\n",
    "from scipy import stats\n",
    "\n",
    "n = 250 # 標本の大きさ\n",
    "x = 90 # 運転免許をもっている大学生の数\n",
    "alpha = 0.95 # 信頼区間\n",
    "\n",
    "p = x/n #標本比率\n",
    "\n",
    "a, b = norm.interval(alpha=alpha, loc=0, scale=1)\n",
    "#=> (-1.95996398,  1.95996398)\n",
    "\n",
    "p + np.array([a, b]) * np.sqrt(p*(1-p)/n)"
   ]
  },
  {
   "cell_type": "markdown",
   "metadata": {},
   "source": [
    "### 3) あるテレビ番組を見た400人について調査したところ、そのうちの100人がその番組がおもしろかったと答えた。信頼係数99%で、その番組がおもしろかったと思っている人の割合の信頼区間を求めよ。"
   ]
  },
  {
   "cell_type": "code",
   "execution_count": 68,
   "metadata": {
    "scrolled": true
   },
   "outputs": [
    {
     "data": {
      "text/plain": [
       "array([ 0.19423166,  0.30576834])"
      ]
     },
     "execution_count": 68,
     "metadata": {},
     "output_type": "execute_result"
    }
   ],
   "source": [
    "n = 400 # 標本の大きさ\n",
    "x = 100 # おもしろかったと答えた人の数\n",
    "alpha = 0.99 # 信頼区間\n",
    "\n",
    "p = x/n # 標本比率\n",
    "\n",
    "a, b = norm.interval(alpha=alpha, loc=0, scale=1)\n",
    "\n",
    "p + np.array([a, b]) * np.sqrt(p*(1-p)/n)"
   ]
  },
  {
   "cell_type": "markdown",
   "metadata": {},
   "source": [
    "## 比率の標本の大きさ"
   ]
  },
  {
   "cell_type": "markdown",
   "metadata": {},
   "source": [
    "### 8) 世論調査で、ある政策に対して反対の意見をもっている人の割合を誤差3%以内、信頼係数99%で調査するためには、標本の大きさをいくらにすればよいか。"
   ]
  },
  {
   "cell_type": "code",
   "execution_count": 69,
   "metadata": {},
   "outputs": [
    {
     "data": {
      "text/plain": [
       "1843.0268336170041"
      ]
     },
     "execution_count": 69,
     "metadata": {},
     "output_type": "execute_result"
    }
   ],
   "source": [
    "E = 0.03\n",
    "alpha = 0.99\n",
    "P = 0.5\n",
    "\n",
    "a,b = norm.interval(alpha=alpha, loc=0, scale=1)\n",
    "arr = np.abs([a,b])\n",
    "\n",
    "((arr[0]/E) ** 2) * P * (1-P)"
   ]
  },
  {
   "cell_type": "markdown",
   "metadata": {},
   "source": [
    "---"
   ]
  },
  {
   "cell_type": "markdown",
   "metadata": {},
   "source": [
    "# 区間推定 - 平均値"
   ]
  },
  {
   "cell_type": "markdown",
   "metadata": {},
   "source": [
    "### 11) 分散${ \\sigma  }^{ 2 }=25$の母集団からn=200の標本を取り出したところ、その平均が$\\bar { x } =20$であった。このとき、母集団平均を信頼係数95%で区間推定せよ。"
   ]
  },
  {
   "cell_type": "code",
   "execution_count": 70,
   "metadata": {},
   "outputs": [
    {
     "data": {
      "text/plain": [
       "array([ 19.30704809,  20.69295191])"
      ]
     },
     "execution_count": 70,
     "metadata": {},
     "output_type": "execute_result"
    }
   ],
   "source": [
    "population_var = 25 # 母分散\n",
    "n = 200 #  標本数\n",
    "sample_mean = 20 # 標本平均値\n",
    "alpha = 0.95 # 信頼係数\n",
    "\n",
    "# 母分散が既知で大標本なので正規分布で区間推定\n",
    "a, b = norm.interval(alpha=alpha, loc=0, scale=1)\n",
    "\n",
    "sample_mean + np.array([a, b]) * np.sqrt(population_var/n)"
   ]
  },
  {
   "cell_type": "markdown",
   "metadata": {},
   "source": [
    "### 12) ある機械装置を組み立てるテストを6回やったところ、それぞれ12, 13, 17, 13, 15, 14分かかった。この装置を組み立てるのに必要な平均時間を信頼係数99%で区間推定せよ。"
   ]
  },
  {
   "cell_type": "code",
   "execution_count": 71,
   "metadata": {},
   "outputs": [
    {
     "data": {
      "text/plain": [
       "(11.055339110425807, 16.944660889574195)"
      ]
     },
     "execution_count": 71,
     "metadata": {},
     "output_type": "execute_result"
    }
   ],
   "source": [
    "data = np.array([12,13,17,13,15,14])\n",
    "\n",
    "alpha = 0.99 # 信頼係数\n",
    "n = data.size # 標本数\n",
    "\n",
    "# 標本平均\n",
    "sample_mean = data.mean()\n",
    "# 標本標準偏差(n-1で割った)を標本数のルートで割った値\n",
    "e = stats.sem(data)\n",
    "# 自由度\n",
    "df = n - 1\n",
    "\n",
    "# 母分散が未知で小標本なのでt分布で区間推定。ただし、母集団は正規分布とする。\n",
    "t.interval(alpha, df, loc=sample_mean, scale=e)"
   ]
  },
  {
   "cell_type": "markdown",
   "metadata": {},
   "source": [
    "### 13) ある実験を試みたところ、25%の過負荷電流で１０本のヒューズが飛んでしまうまでの平均時間は9.2分で、標準偏差$\\widehat { \\sigma  } =\\sqrt { \\cfrac { 1 }{ n-1 } \\sum { { \\left( { x }_{ i }-\\bar { x }  \\right)  }^{ 2 } }  } $は2.5分であった。25%の過負荷で、この種類のヒューズが飛ぶまでの平均時間を、信頼係数99%で区間推定せよ。"
   ]
  },
  {
   "cell_type": "code",
   "execution_count": 72,
   "metadata": {},
   "outputs": [
    {
     "data": {
      "text/plain": [
       "(6.6307794149847608, 11.769220585015237)"
      ]
     },
     "execution_count": 72,
     "metadata": {},
     "output_type": "execute_result"
    }
   ],
   "source": [
    "n = 10 #標本数\n",
    "sample_mean = 9.2 # 標本平均\n",
    "sample_std = 2.5 # 標本標準偏差\n",
    "\n",
    "alpha = 0.99 # 信頼係数\n",
    "df = n -1 # 自由度\n",
    "e = sample_std/math.sqrt(n)\n",
    "\n",
    "# 母分散が未知で、小標本なのでt分布で区間推定する。ただし、母集団は正規分布とする。\n",
    "t.interval(alpha, df, loc=sample_mean, scale=e)"
   ]
  },
  {
   "cell_type": "markdown",
   "metadata": {},
   "source": [
    "### 19) ある地区で、10世帯について１ヶ月の電気料金を調査したところ、次の結果を得た。この地区の１世帯あたりの平均電気料金を信頼係数90%で区間推定せよ。\n",
    "\n",
    "5900, 4300, 4200, 3800, 5200, 4500, 5100, 6200, 4700, 4100"
   ]
  },
  {
   "cell_type": "code",
   "execution_count": 73,
   "metadata": {},
   "outputs": [
    {
     "data": {
      "text/plain": [
       "(4341.9254913335062, 5258.0745086664938)"
      ]
     },
     "execution_count": 73,
     "metadata": {},
     "output_type": "execute_result"
    }
   ],
   "source": [
    "data_arr = np.array([5900, 4300, 4200, 3800, 5200, 4500, 5100, 6200, 4700, 4100])\n",
    "\n",
    "n = data_arr.size #標本数\n",
    "alpha = 0.9 # 信頼係数\n",
    "\n",
    "# 標本平均\n",
    "sample_mean = data_arr.mean()\n",
    "# (n-1で割った)標本標準偏差を標本数のルートで割った値\n",
    "e = stats.sem(data_arr)\n",
    "# 自由度\n",
    "df = n - 1\n",
    "\n",
    "# 母分散が未知で小標本なのでt分布で区間推定。ただし、母集団は正規分布とする。\n",
    "t.interval(alpha, df, loc=sample_mean, scale=e)"
   ]
  },
  {
   "cell_type": "markdown",
   "metadata": {},
   "source": [
    "---"
   ]
  },
  {
   "cell_type": "markdown",
   "metadata": {},
   "source": [
    "# 区間推定 - 分散"
   ]
  },
  {
   "cell_type": "markdown",
   "metadata": {},
   "source": [
    "### 25) 19)のデータから、分散の区間推定をせよ。ただし信頼係数を95%とする。"
   ]
  },
  {
   "cell_type": "code",
   "execution_count": 112,
   "metadata": {},
   "outputs": [
    {
     "data": {
      "text/plain": [
       "array([ 2081181.25183085,   295435.45184846])"
      ]
     },
     "execution_count": 112,
     "metadata": {},
     "output_type": "execute_result"
    }
   ],
   "source": [
    "electricity_charges = np.array([5900, 4300, 4200, 3800, 5200, 4500, 5100, 6200, 4700, 4100])\n",
    "\n",
    "n = electricity_charges.size # 標本数\n",
    "df = n - 1 # 自由度\n",
    "alpha = 0.95 # 信頼係数\n",
    "# 標本分散(不偏分散)\n",
    "sample_var = electricity_charges.var(ddof=1)\n",
    "\n",
    "a, b = chi2.interval(alpha, df)\n",
    "\n",
    "np.array([(df * sample_var)/a,(df * sample_var)/b])"
   ]
  },
  {
   "cell_type": "code",
   "execution_count": null,
   "metadata": {
    "collapsed": true
   },
   "outputs": [],
   "source": []
  },
  {
   "cell_type": "code",
   "execution_count": null,
   "metadata": {},
   "outputs": [],
   "source": []
  },
  {
   "cell_type": "markdown",
   "metadata": {},
   "source": [
    "---\n",
    "# 適合度"
   ]
  },
  {
   "cell_type": "code",
   "execution_count": null,
   "metadata": {},
   "outputs": [],
   "source": []
  }
 ],
 "metadata": {
  "kernelspec": {
   "display_name": "Python 3",
   "language": "python",
   "name": "python3"
  },
  "language_info": {
   "codemirror_mode": {
    "name": "ipython",
    "version": 3
   },
   "file_extension": ".py",
   "mimetype": "text/x-python",
   "name": "python",
   "nbconvert_exporter": "python",
   "pygments_lexer": "ipython3",
   "version": "3.6.3"
  },
  "toc": {
   "nav_menu": {},
   "number_sections": true,
   "sideBar": true,
   "skip_h1_title": false,
   "toc_cell": false,
   "toc_position": {},
   "toc_section_display": "block",
   "toc_window_display": true
  }
 },
 "nbformat": 4,
 "nbformat_minor": 1
}
