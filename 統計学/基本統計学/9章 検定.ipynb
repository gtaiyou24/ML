{
 "cells": [
  {
   "cell_type": "markdown",
   "metadata": {
    "collapsed": true
   },
   "source": [
    "# 比率の検定"
   ]
  },
  {
   "cell_type": "markdown",
   "metadata": {},
   "source": [
    "### 1) あるサイコロを500回投げて95回3の目が出た。このサイコロは正確に作られているかどうかを有意水準5%で検定せよ。"
   ]
  },
  {
   "cell_type": "markdown",
   "metadata": {},
   "source": [
    "(1)**仮説**を設ける。\n",
    "\n",
    "帰無仮説(${ H }_{ 0 }$)：このサイコロの各目は1/6の比率で出るという仮説を設ける。\n",
    "$$\n",
    "{ H }_{ 0 } : p = \\frac {1}{6}\n",
    "$$\n",
    "$$\n",
    "{ H }_{ 1 }: p \\neq \\frac {1}{6}\n",
    "$$\n",
    "\n",
    "(2)仮説を検定するために適当な**検定統計量**を選ぶ\n",
    "$$\n",
    "{ z }_{ 0 } = \\frac { \\frac {x}{n} - \\frac { 1 }{ 6 } }{ \\sqrt{ \\frac { x }{ n } \\left( 1 - \\frac { x }{ n } \\right) / n} }\n",
    "$$\n",
    "\n",
    "(3)その検定統計量の値について**有意水準$\\alpha$**を定める\n",
    "$$\n",
    "\\alpha = 0.05\n",
    "$$\n",
    "\n",
    "(4)標本観察の数値による検定統計量の値が棄却域に落ちるかどうかを確かめる\n",
    "\n",
    "今回は両側検定を行うため棄却域は以下の通り。\n",
    "$$\n",
    "z<-z\\left(\\frac {\\alpha}{2} \\right), z\\left(\\frac {\\alpha}{2} \\right)<z\n",
    "$$"
   ]
  },
  {
   "cell_type": "code",
   "execution_count": 34,
   "metadata": {},
   "outputs": [
    {
     "name": "stdout",
     "output_type": "stream",
     "text": [
      "z値:1.32997193789\n",
      "帰無仮説は棄却されない\n",
      "サイコロは正確に作られている。\n"
     ]
    }
   ],
   "source": [
    "import numpy as np\n",
    "from scipy.stats import norm #正規分布\n",
    "\n",
    "n = 500\n",
    "x = 95\n",
    "p = 1/6\n",
    "alpha = 0.05\n",
    "\n",
    "# 検定統計量\n",
    "sample_rate = 95/500\n",
    "z = (sample_rate - p) * np.sqrt(n / (sample_rate * (1 - sample_rate)))\n",
    "\n",
    "# 棄却域（両側検定）\n",
    "a, b = norm.interval(1-alpha)\n",
    "\n",
    "print('z値:'+str(z))\n",
    "if (z < a) or (b < z):\n",
    "    print('帰無仮説は棄却される')\n",
    "    print('サイコロは正確に作られていない。')\n",
    "else:\n",
    "    print('帰無仮説は棄却されない')\n",
    "    print('サイコロは正確に作られている。')"
   ]
  },
  {
   "cell_type": "markdown",
   "metadata": {},
   "source": [
    "# 比率の差の検定"
   ]
  },
  {
   "cell_type": "markdown",
   "metadata": {},
   "source": [
    "### 9) ある学校で英語の試験を行ったところ、50点以上をとった者は男子学生２４０人中１４４人、女子学生１８０人中９２人であった。男女間で５０点以上をとれる力のある者の割合に差があるかどうかを有意水準５％で検定せよ。"
   ]
  },
  {
   "cell_type": "markdown",
   "metadata": {},
   "source": [
    "(1)**仮説**を設ける。\n",
    "\n",
    "帰無仮説(${ H }_{ 0 }$)：このサイコロの各目は1/6の比率で出るという仮説を設ける。\n",
    "\n",
    "${p}_{1}:$ 男子学生の割合\n",
    "\n",
    "${p}_{2}:$ 女子学生の割合\n",
    "\n",
    "$$\n",
    "{ H }_{ 0 } : {p}_{1} = {p}_{2} (=p)\n",
    "$$\n",
    "$$\n",
    "{ H }_{ 1 }: {p}_{1} \\neq {p}_{2}\n",
    "$$\n",
    "\n",
    "(2)仮説を検定するために適当な**検定統計量**を選ぶ\n",
    "$$\n",
    "\\widehat { p } = \\frac { {x}_{1} + {x}_{2} }{ {n}_{1} + {n}_{2} }\n",
    "$$\n",
    "\n",
    "$$\n",
    "{ z }_{ 0 } = \\frac { \\frac {{x}_{1}}{{n}_{1}} - \\frac { {x}_{2} }{ {n}_{2} } }{ \\sqrt{ \\widehat { p } \\left(1-\\widehat { p } \\right) \\left( \\frac {1}{ {n}_{1} } + \\frac {1}{ {n}_{2} } \\right) } }\n",
    "$$\n",
    "\n",
    "(3)その検定統計量の値について**有意水準$\\alpha$**を定める\n",
    "$$\n",
    "\\alpha = 0.05\n",
    "$$\n",
    "\n",
    "(4)標本観察の数値による検定統計量の値が棄却域に落ちるかどうかを確かめる\n",
    "\n",
    "今回は両側検定を行うため棄却域は以下の通り。\n",
    "$$\n",
    "z<-z\\left(\\frac {\\alpha}{2} \\right), z\\left(\\frac {\\alpha}{2} \\right)<z\n",
    "$$"
   ]
  },
  {
   "cell_type": "code",
   "execution_count": 35,
   "metadata": {},
   "outputs": [
    {
     "name": "stdout",
     "output_type": "stream",
     "text": [
      "z値:1.81697554947\n",
      "帰無仮説は棄却されない\n",
      "男女間で５０点以上をとれる力のある者の割合に差はない。\n"
     ]
    }
   ],
   "source": [
    "n_men = 240\n",
    "x_men = 144\n",
    "men_rate = x_men/n_men\n",
    "\n",
    "n_women = 180\n",
    "x_women = 92\n",
    "women_rate = x_women/n_women\n",
    "\n",
    "e_p = (x_men + x_women)/(n_men + n_women)\n",
    "\n",
    "# 有意水準\n",
    "alpha = 0.05\n",
    "\n",
    "# 検定統計量\n",
    "z = (men_rate - women_rate)/np.sqrt(e_p*(1 - e_p)*(1/n_men + 1/n_women))\n",
    "\n",
    "a, b = norm.interval(1-alpha)\n",
    "\n",
    "print('z値:'+str(z))\n",
    "if (z < a) or (b < z):\n",
    "    print('帰無仮説は棄却される')\n",
    "    print('男女間で５０点以上をとれる力のある者の割合に差がある。')\n",
    "else:\n",
    "    print('帰無仮説は棄却されない')\n",
    "    print('男女間で５０点以上をとれる力のある者の割合に差はない。')"
   ]
  },
  {
   "cell_type": "code",
   "execution_count": null,
   "metadata": {
    "collapsed": true
   },
   "outputs": [],
   "source": []
  },
  {
   "cell_type": "markdown",
   "metadata": {},
   "source": [
    "# 適合度の検定"
   ]
  },
  {
   "cell_type": "markdown",
   "metadata": {},
   "source": [
    "### 25) ５枚の貨幣を320回投げて表の出た枚数を調べたところ次の結果を得た。二項分布から期待される度数との適合度を検定せよ（有意水準5%）\n",
    "\n",
    "| 表の枚数(カテゴリ) | 0 | 1 | 2 | 3 | 4 | 5 |\n",
    "|:--------:|:--:|:--:|:--:|:--:|:--:|:--:|\n",
    "| 観測度数(観察回数) | 6 | 56 | 87 | 109 | 49 | 6 |\n",
    "| 理論度数(二項分布) | 10 | 50 | 100 | 100 | 50 | 10 |"
   ]
  },
  {
   "cell_type": "code",
   "execution_count": 9,
   "metadata": {},
   "outputs": [
    {
     "data": {
      "text/html": [
       "<div>\n",
       "<style scoped>\n",
       "    .dataframe tbody tr th:only-of-type {\n",
       "        vertical-align: middle;\n",
       "    }\n",
       "\n",
       "    .dataframe tbody tr th {\n",
       "        vertical-align: top;\n",
       "    }\n",
       "\n",
       "    .dataframe thead th {\n",
       "        text-align: right;\n",
       "    }\n",
       "</style>\n",
       "<table border=\"1\" class=\"dataframe\">\n",
       "  <thead>\n",
       "    <tr style=\"text-align: right;\">\n",
       "      <th></th>\n",
       "      <th>0</th>\n",
       "      <th>1</th>\n",
       "      <th>2</th>\n",
       "      <th>3</th>\n",
       "      <th>4</th>\n",
       "      <th>5</th>\n",
       "    </tr>\n",
       "  </thead>\n",
       "  <tbody>\n",
       "    <tr>\n",
       "      <th>観測度数</th>\n",
       "      <td>6</td>\n",
       "      <td>56</td>\n",
       "      <td>87</td>\n",
       "      <td>109</td>\n",
       "      <td>49</td>\n",
       "      <td>6</td>\n",
       "    </tr>\n",
       "    <tr>\n",
       "      <th>理論度数</th>\n",
       "      <td>10</td>\n",
       "      <td>50</td>\n",
       "      <td>100</td>\n",
       "      <td>100</td>\n",
       "      <td>50</td>\n",
       "      <td>10</td>\n",
       "    </tr>\n",
       "  </tbody>\n",
       "</table>\n",
       "</div>"
      ],
      "text/plain": [
       "       0   1    2    3   4   5\n",
       "観測度数   6  56   87  109  49   6\n",
       "理論度数  10  50  100  100  50  10"
      ]
     },
     "execution_count": 9,
     "metadata": {},
     "output_type": "execute_result"
    }
   ],
   "source": [
    "import pandas as pd\n",
    "import numpy as np\n",
    "\n",
    "sample_df = pd.DataFrame([\n",
    "        [6, 56, 87, 109, 49, 6],\n",
    "        [10, 50, 100, 100, 50, 10]\n",
    "    ], \n",
    "    index=['観測度数', '理論度数'],\n",
    "    columns=[0, 1, 2, 3, 4, 5]\n",
    ")\n",
    "sample_df.head()"
   ]
  },
  {
   "cell_type": "code",
   "execution_count": 17,
   "metadata": {
    "scrolled": true
   },
   "outputs": [],
   "source": [
    "chi_square_score = np.sum( (sample_df.loc['観測度数'] - sample_df.loc['理論度数'])**2 / sample_df.loc['理論度数'] )"
   ]
  },
  {
   "cell_type": "code",
   "execution_count": 35,
   "metadata": {},
   "outputs": [
    {
     "name": "stdout",
     "output_type": "stream",
     "text": [
      "カイ二乗統計量 = 6.44\n",
      "自由度 = 5\n",
      "帰無仮説は棄却されない\n",
      "表の出方は二項分布に従う\n"
     ]
    }
   ],
   "source": [
    "from scipy.stats import chi2\n",
    "\n",
    "p = 0.05  # 有意水準\n",
    "k = sample_df.shape[1]\n",
    "df = k - 1 # 自由度\n",
    "\n",
    "# 右側検定\n",
    "b = chi2.isf(p, df)\n",
    "\n",
    "print('カイ二乗統計量 = {:0.2f}'.format(chi_square_score))\n",
    "print('自由度 = {}'.format(df))\n",
    "\n",
    "if ( b <= chi_square_score ):\n",
    "    print('帰無仮説は棄却される')\n",
    "    print('表の出方は二項分布に従わない')\n",
    "else:\n",
    "    print('帰無仮説は棄却されない')\n",
    "    print('表の出方は二項分布に従う')"
   ]
  },
  {
   "cell_type": "code",
   "execution_count": 20,
   "metadata": {},
   "outputs": [],
   "source": [
    "observed = sample_df.loc['観測度数']\n",
    "expected = sample_df.loc['理論度数']"
   ]
  },
  {
   "cell_type": "code",
   "execution_count": 21,
   "metadata": {},
   "outputs": [
    {
     "name": "stdout",
     "output_type": "stream",
     "text": [
      "カイ二乗統計量= 6.44\n",
      "P値 = 0.27\n"
     ]
    }
   ],
   "source": [
    "from scipy import stats\n",
    "\n",
    "chisq,p = stats.chisquare(observed,expected)\n",
    "\n",
    "print('カイ二乗統計量= {:0.2f}'.format(chisq))\n",
    "print('P値 = {:0.2f}'.format(p))"
   ]
  },
  {
   "cell_type": "code",
   "execution_count": null,
   "metadata": {},
   "outputs": [],
   "source": []
  }
 ],
 "metadata": {
  "kernelspec": {
   "display_name": "Python 3",
   "language": "python",
   "name": "python3"
  },
  "language_info": {
   "codemirror_mode": {
    "name": "ipython",
    "version": 3
   },
   "file_extension": ".py",
   "mimetype": "text/x-python",
   "name": "python",
   "nbconvert_exporter": "python",
   "pygments_lexer": "ipython3",
   "version": "3.6.3"
  },
  "toc": {
   "nav_menu": {},
   "number_sections": true,
   "sideBar": true,
   "skip_h1_title": false,
   "toc_cell": false,
   "toc_position": {},
   "toc_section_display": "block",
   "toc_window_display": true
  }
 },
 "nbformat": 4,
 "nbformat_minor": 1
}
