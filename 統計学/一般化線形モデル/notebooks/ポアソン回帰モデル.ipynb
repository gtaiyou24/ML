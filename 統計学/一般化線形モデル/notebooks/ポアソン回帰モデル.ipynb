{
 "cells": [
  {
   "cell_type": "code",
   "execution_count": 1,
   "metadata": {
    "ExecuteTime": {
     "end_time": "2019-11-05T22:42:03.421830Z",
     "start_time": "2019-11-05T22:41:59.894591Z"
    }
   },
   "outputs": [],
   "source": [
    "import numpy as np\n",
    "import pandas as pd\n",
    "\n",
    "import matplotlib.pyplot as plt\n",
    "import seaborn as sns\n",
    "\n",
    "%matplotlib inline"
   ]
  },
  {
   "cell_type": "markdown",
   "metadata": {},
   "source": [
    "# ポアソン回帰モデル\n",
    "$$\n",
    "f\\left( {y};{\\mu} \\right) = \\frac { {\\mu}^{y} e^{-\\mu} }{ y ! } , \\quad y = 0,1,2,\\dots\n",
    "$$\n",
    "期待値、分散はそれぞれ$E\\left( Y \\right) = \\mathrm {Var}\\left( Y \\right) = \\mu$"
   ]
  },
  {
   "cell_type": "markdown",
   "metadata": {
    "heading_collapsed": true
   },
   "source": [
    "## データセット"
   ]
  },
  {
   "cell_type": "markdown",
   "metadata": {
    "hidden": true
   },
   "source": [
    "| No. | 教師データ(イベントの発生数) | 観測回数(特徴量) | 特徴量$1$ | 特徴量$2$ | $\\dots$ | 特徴量$p$ |\n",
    "|:----:|:----------------------------------:|:----------:|:-------:|:-----:|:------:|:-------:|\n",
    "| 1 | $Y_{1}$ | $n_{1}$ | $x_{11}$ | $x_{12}$ | $\\dots$ | $x_{1p}$ |\n",
    "| 2 | $Y_{2}$ | $n_{2}$ | $x_{21}$ | $x_{22}$ | $\\dots$ | $x_{2p}$ |\n",
    "| $\\vdots$ | $\\vdots$ | $\\vdots$ | $\\vdots$ | $\\vdots$ | $\\ddots$ | $\\vdots$ |\n",
    "| 2 | $Y_{N}$ | $n_{N}$ | $x_{N1}$ | $x_{N2}$ | $\\dots$ | $x_{Np}$ |"
   ]
  },
  {
   "cell_type": "markdown",
   "metadata": {
    "heading_collapsed": true
   },
   "source": [
    "## 連結関数"
   ]
  },
  {
   "cell_type": "markdown",
   "metadata": {
    "hidden": true
   },
   "source": [
    "| 用語 | 数式 |\n",
    "|:-----:|:-----:|\n",
    "| $\\boldsymbol {\\mathrm {x}}_{i}$ | 第$i$共変量データ |\n",
    "| $n_{i}$ | 第$i$の観察回数 |\n",
    "| $Y_{i}$ | イベントの発生が観測された数 |\n",
    "\n",
    "$Y_{1}, Y_{2}, \\dots, Y_{N}$は互いに独立な確率へ数とし、$Y_{i}$の期待値は、\n",
    "$$\n",
    "E\\left( Y_{i} \\right) = \\mu = n_{i} \\theta_{i}\n",
    "$$\n",
    "で表されるものとする。\n",
    "\n",
    "**モデルの例**\n",
    "$$\n",
    "\\begin{eqnarray}\n",
    "E\\left( Y_{i} \\right) = \\mu & = & n_{i}\\mathrm {exp}\\left( \\boldsymbol {\\mathrm { x }}^{T} \\boldsymbol {\\beta} \\right)\\\\\n",
    "E\\left( Y_{i} \\right) = \\mu & = & \\mathrm {exp}\\left( \\boldsymbol {\\mathrm { x }}^{T} \\boldsymbol {\\beta} \\right)\\\\\n",
    "E\\left( Y_{i} \\right) = \\mu & = & \\mathrm {exp}\\left( - \\boldsymbol {\\mathrm { x }}^{T} \\boldsymbol {\\beta} \\right)\n",
    "\\end{eqnarray}\n",
    "$$"
   ]
  },
  {
   "cell_type": "markdown",
   "metadata": {
    "heading_collapsed": true
   },
   "source": [
    "## 過分散"
   ]
  },
  {
   "cell_type": "markdown",
   "metadata": {
    "hidden": true
   },
   "source": [
    "WIP"
   ]
  },
  {
   "cell_type": "markdown",
   "metadata": {
    "heading_collapsed": true
   },
   "source": [
    "## 率比(RR; Rate Ratio)"
   ]
  },
  {
   "cell_type": "markdown",
   "metadata": {
    "hidden": true
   },
   "source": [
    "**2値の説明変数**)<br>\n",
    "> 2値の説明変数$x_{j}$を、ある要因が存在するか否やを表す**指示変数**としよう。すなわち、\n",
    "> \n",
    ">  - 要因が存在しないときは$x_{j} = 0$\n",
    ">  - 要因が存在するときは$x_{j} = 1$\n",
    "> \n",
    "> という値をとるものとする。\n",
    "\n",
    "\n",
    "要因あり対なしの**率比(rate ratio)**(ただし、他の説明変数の値は同じとする)\n",
    "$$\n",
    "RR = \\frac {E\\left( { Y_{i} }|{ x_{j} = 1 } \\right)}{E\\left( { Y_{i} }|{ x_{j} = 0 } \\right)} = e^{\\beta_{j}}\n",
    "$$\n",
    "\n",
    "**連続説明変数**)<br>\n",
    "連続説明変数$x_{k}$の$\\Delta$単位の増加に伴う率比\n",
    "$$\n",
    "RR = \\frac {E\\left( { Y_{i} }|{ x_{k} = m + \\Delta } \\right)}{E\\left( { Y_{i} }|{ x_{k} = m } \\right)} = e^{\\beta_{k} \\Delta}\n",
    "$$"
   ]
  },
  {
   "cell_type": "markdown",
   "metadata": {
    "heading_collapsed": true
   },
   "source": [
    "## 推定"
   ]
  },
  {
   "cell_type": "markdown",
   "metadata": {
    "hidden": true
   },
   "source": [
    "### 区間推定\n",
    "パラメータ$\\beta_{j}$が近似的に\n",
    "$$\n",
    "\\frac { b_{j} - \\beta_{j} }{ \\mathrm {s.e.}\\left( b_{j} \\right) } \\sim N\\left( 0, 1 \\right)\n",
    "$$\n",
    "となることを利用して、区間推定を行える。\n",
    "\n",
    "$$\n",
    "\\begin{eqnarray}\n",
    "P\\left\\{ - z\\left( \\frac {\\alpha}{2} \\right) \\le \\frac {b_{j} - \\beta_{j}}{ \\mathrm {s.e.\\left( b_{j} \\right)} } \\le z\\left( \\frac {\\alpha}{2} \\right) \\right\\} & = & 1 - \\alpha\\\\\n",
    "P\\left\\{ b_{j} - z\\left( \\frac {\\alpha}{2} \\right) \\mathrm {s.e.}\\left( b_{j} \\right) \\le \\beta_{j} \\le b_{j} + z\\left( \\frac {\\alpha}{2} \\right) \\mathrm {s.e.}\\left( b_{j} \\right) \\right\\} & = & 1 - \\alpha\n",
    "\\end{eqnarray}\n",
    "$$\n",
    "\n",
    "信頼係数0.95\n",
    "$$\n",
    "P\\left\\{ b_{j} - 1.96 \\cdot \\mathrm {s.e.}\\left( b_{j} \\right) \\le \\beta_{j} \\le b_{j} + 1.96 \\cdot \\mathrm {s.e.}\\left( b_{j} \\right) \\right\\} = 0.95\n",
    "$$"
   ]
  },
  {
   "cell_type": "markdown",
   "metadata": {},
   "source": [
    "## 検定\n",
    "### ワルド検定\n",
    "\n",
    "#### $\\beta_{2} = \\cdots = \\beta_{p} = 0$の帰無仮説"
   ]
  },
  {
   "cell_type": "markdown",
   "metadata": {},
   "source": [
    "---"
   ]
  },
  {
   "cell_type": "markdown",
   "metadata": {
    "heading_collapsed": true
   },
   "source": [
    "# 数値例)架空の植物100個体の種子数データ"
   ]
  },
  {
   "cell_type": "code",
   "execution_count": 102,
   "metadata": {
    "hidden": true
   },
   "outputs": [
    {
     "data": {
      "text/html": [
       "<div>\n",
       "<style scoped>\n",
       "    .dataframe tbody tr th:only-of-type {\n",
       "        vertical-align: middle;\n",
       "    }\n",
       "\n",
       "    .dataframe tbody tr th {\n",
       "        vertical-align: top;\n",
       "    }\n",
       "\n",
       "    .dataframe thead th {\n",
       "        text-align: right;\n",
       "    }\n",
       "</style>\n",
       "<table border=\"1\" class=\"dataframe\">\n",
       "  <thead>\n",
       "    <tr style=\"text-align: right;\">\n",
       "      <th></th>\n",
       "      <th>y</th>\n",
       "      <th>x</th>\n",
       "      <th>f</th>\n",
       "    </tr>\n",
       "  </thead>\n",
       "  <tbody>\n",
       "    <tr>\n",
       "      <th>0</th>\n",
       "      <td>6</td>\n",
       "      <td>8.31</td>\n",
       "      <td>C</td>\n",
       "    </tr>\n",
       "    <tr>\n",
       "      <th>1</th>\n",
       "      <td>6</td>\n",
       "      <td>9.44</td>\n",
       "      <td>C</td>\n",
       "    </tr>\n",
       "    <tr>\n",
       "      <th>2</th>\n",
       "      <td>6</td>\n",
       "      <td>9.50</td>\n",
       "      <td>C</td>\n",
       "    </tr>\n",
       "    <tr>\n",
       "      <th>3</th>\n",
       "      <td>12</td>\n",
       "      <td>9.07</td>\n",
       "      <td>C</td>\n",
       "    </tr>\n",
       "    <tr>\n",
       "      <th>4</th>\n",
       "      <td>10</td>\n",
       "      <td>10.16</td>\n",
       "      <td>C</td>\n",
       "    </tr>\n",
       "  </tbody>\n",
       "</table>\n",
       "</div>"
      ],
      "text/plain": [
       "    y      x  f\n",
       "0   6   8.31  C\n",
       "1   6   9.44  C\n",
       "2   6   9.50  C\n",
       "3  12   9.07  C\n",
       "4  10  10.16  C"
      ]
     },
     "execution_count": 102,
     "metadata": {},
     "output_type": "execute_result"
    }
   ],
   "source": [
    "# 架空の植物100個体の種子数データ\n",
    "dataset_df = pd.read_csv(\"http://hosho.ees.hokudai.ac.jp/~kubo/stat/iwanamibook/fig/poisson/data3a.csv\")\n",
    "dataset_df.head()"
   ]
  },
  {
   "cell_type": "markdown",
   "metadata": {
    "hidden": true
   },
   "source": [
    "> - $y$ : 種子数\n",
    "> - $x$ : 個体の体サイズ\n",
    "> - $f$ : 施肥処理の値"
   ]
  },
  {
   "cell_type": "markdown",
   "metadata": {
    "heading_collapsed": true,
    "hidden": true
   },
   "source": [
    "## 可視化"
   ]
  },
  {
   "cell_type": "code",
   "execution_count": 103,
   "metadata": {
    "hidden": true
   },
   "outputs": [
    {
     "data": {
      "image/png": "[encoded data removed]",
      "text/plain": [
       "<matplotlib.figure.Figure at 0x1c225d67f0>"
      ]
     },
     "metadata": {},
     "output_type": "display_data"
    }
   ],
   "source": [
    "fig = plt.figure(figsize=(10, 20))\n",
    "\n",
    "# ヒストグラム\n",
    "ax1 = fig.add_subplot(3,1,1)\n",
    "ax1.hist(dataset_df['y'], bins=50)\n",
    "\n",
    "# 散布図\n",
    "ax2 = fig.add_subplot(3,1,2)\n",
    "ax2.scatter(x=dataset_df['x'], y=dataset_df['y'])\n",
    "ax2.set_yticks(np.arange(0, 16, 1))\n",
    "\n",
    "ax3 = fig.add_subplot(3,1,3)\n",
    "ax3.scatter(\n",
    "    x=dataset_df[dataset_df['f'] == 'C']['x'], \n",
    "    y=dataset_df[dataset_df['f'] == 'C']['y'], \n",
    "    color='red',\n",
    "    label='C'\n",
    ")\n",
    "ax3.scatter(\n",
    "    x=dataset_df[dataset_df['f'] == 'T']['x'], \n",
    "    y=dataset_df[dataset_df['f'] == 'T']['y'], \n",
    "    color='blue',\n",
    "    label='T'\n",
    ")\n",
    "ax3.set_yticks(np.arange(0, 16, 1))\n",
    "\n",
    "plt.legend()\n",
    "plt.show()"
   ]
  },
  {
   "cell_type": "code",
   "execution_count": 104,
   "metadata": {
    "hidden": true
   },
   "outputs": [
    {
     "name": "stdout",
     "output_type": "stream",
     "text": [
      "平均値 = 7.830\n",
      "分散    = 6.890\n"
     ]
    }
   ],
   "source": [
    "print('平均値 = %0.3f' % dataset_df['y'].mean())\n",
    "print('分散    = %0.3f' % dataset_df['y'].var())"
   ]
  },
  {
   "cell_type": "markdown",
   "metadata": {
    "hidden": true
   },
   "source": [
    "平均値と分散の値からポアソン分布の仮定$E\\left( Y \\right) = Var\\left( Y \\right) = \\mu$を満たしていることがわかる。そのため、ポアソン分布によるモデリングを行う。"
   ]
  },
  {
   "cell_type": "markdown",
   "metadata": {
    "hidden": true
   },
   "source": [
    "## モデリング\n",
    " - [statsmodels.genmod.generalized_linear_model.GLM](https://www.statsmodels.org/dev/generated/statsmodels.genmod.generalized_linear_model.GLM.html)\n",
    " - [statsmodels.genmod.generalized_linear_model.GLM.fit](https://www.statsmodels.org/dev/generated/statsmodels.genmod.generalized_linear_model.GLM.fit.html#statsmodels.genmod.generalized_linear_model.GLM.fit)"
   ]
  },
  {
   "cell_type": "markdown",
   "metadata": {
    "heading_collapsed": true,
    "hidden": true
   },
   "source": [
    "### モデル1)$E\\left( Y_{i} \\right) = \\mu_{i} = \\mathrm {exp}\\left( \\beta_{0} + \\beta_{1}x_{i} \\right)$"
   ]
  },
  {
   "cell_type": "code",
   "execution_count": 105,
   "metadata": {
    "hidden": true
   },
   "outputs": [],
   "source": [
    "import statsmodels.api as sm\n",
    "\n",
    "\n",
    "y_ser = dataset_df['y']\n",
    "feature_df = sm.add_constant(dataset_df['x'])  # 変数xに定数項を追加したデータフレームを作成.\n",
    "\n",
    "# 分布はポアソン分布、リンク関数は対数リンク関数の一般化線形モデルを作成\n",
    "model = sm.GLM(\n",
    "    y_ser, \n",
    "    feature_df, \n",
    "    family=sm.families.Poisson()  # ポアソン分布の場合はデフォルトで対数リンク関数が指定される\n",
    ")\n",
    "result = model.fit()"
   ]
  },
  {
   "cell_type": "code",
   "execution_count": 106,
   "metadata": {
    "hidden": true
   },
   "outputs": [
    {
     "data": {
      "text/html": [
       "<table class=\"simpletable\">\n",
       "<caption>Generalized Linear Model Regression Results</caption>\n",
       "<tr>\n",
       "  <th>Dep. Variable:</th>          <td>y</td>        <th>  No. Observations:  </th>  <td>   100</td> \n",
       "</tr>\n",
       "<tr>\n",
       "  <th>Model:</th>                 <td>GLM</td>       <th>  Df Residuals:      </th>  <td>    98</td> \n",
       "</tr>\n",
       "<tr>\n",
       "  <th>Model Family:</th>        <td>Poisson</td>     <th>  Df Model:          </th>  <td>     1</td> \n",
       "</tr>\n",
       "<tr>\n",
       "  <th>Link Function:</th>         <td>log</td>       <th>  Scale:             </th>    <td>1.0</td>  \n",
       "</tr>\n",
       "<tr>\n",
       "  <th>Method:</th>               <td>IRLS</td>       <th>  Log-Likelihood:    </th> <td> -235.39</td>\n",
       "</tr>\n",
       "<tr>\n",
       "  <th>Date:</th>           <td>Sun, 06 Jan 2019</td> <th>  Deviance:          </th> <td>  84.993</td>\n",
       "</tr>\n",
       "<tr>\n",
       "  <th>Time:</th>               <td>17:51:32</td>     <th>  Pearson chi2:      </th>  <td>  83.8</td> \n",
       "</tr>\n",
       "<tr>\n",
       "  <th>No. Iterations:</th>         <td>4</td>        <th>                     </th>     <td> </td>   \n",
       "</tr>\n",
       "</table>\n",
       "<table class=\"simpletable\">\n",
       "<tr>\n",
       "    <td></td>       <th>coef</th>     <th>std err</th>      <th>z</th>      <th>P>|z|</th>  <th>[0.025</th>    <th>0.975]</th>  \n",
       "</tr>\n",
       "<tr>\n",
       "  <th>const</th> <td>    1.2917</td> <td>    0.364</td> <td>    3.552</td> <td> 0.000</td> <td>    0.579</td> <td>    2.005</td>\n",
       "</tr>\n",
       "<tr>\n",
       "  <th>x</th>     <td>    0.0757</td> <td>    0.036</td> <td>    2.125</td> <td> 0.034</td> <td>    0.006</td> <td>    0.145</td>\n",
       "</tr>\n",
       "</table>"
      ],
      "text/plain": [
       "<class 'statsmodels.iolib.summary.Summary'>\n",
       "\"\"\"\n",
       "                 Generalized Linear Model Regression Results                  \n",
       "==============================================================================\n",
       "Dep. Variable:                      y   No. Observations:                  100\n",
       "Model:                            GLM   Df Residuals:                       98\n",
       "Model Family:                 Poisson   Df Model:                            1\n",
       "Link Function:                    log   Scale:                             1.0\n",
       "Method:                          IRLS   Log-Likelihood:                -235.39\n",
       "Date:                Sun, 06 Jan 2019   Deviance:                       84.993\n",
       "Time:                        17:51:32   Pearson chi2:                     83.8\n",
       "No. Iterations:                     4                                         \n",
       "==============================================================================\n",
       "                 coef    std err          z      P>|z|      [0.025      0.975]\n",
       "------------------------------------------------------------------------------\n",
       "const          1.2917      0.364      3.552      0.000       0.579       2.005\n",
       "x              0.0757      0.036      2.125      0.034       0.006       0.145\n",
       "==============================================================================\n",
       "\"\"\""
      ]
     },
     "execution_count": 106,
     "metadata": {},
     "output_type": "execute_result"
    }
   ],
   "source": [
    "# 結果\n",
    "result.summary()"
   ]
  },
  {
   "cell_type": "code",
   "execution_count": 107,
   "metadata": {
    "hidden": true
   },
   "outputs": [
    {
     "data": {
      "text/html": [
       "<table class=\"simpletable\">\n",
       "<caption>Generalized Linear Model Regression Results</caption>\n",
       "<tr>\n",
       "  <th>Dep. Variable:</th>          <td>y</td>        <th>  No. Observations:  </th>  <td>   100</td> \n",
       "</tr>\n",
       "<tr>\n",
       "  <th>Model:</th>                 <td>GLM</td>       <th>  Df Residuals:      </th>  <td>    98</td> \n",
       "</tr>\n",
       "<tr>\n",
       "  <th>Model Family:</th>        <td>Poisson</td>     <th>  Df Model:          </th>  <td>     1</td> \n",
       "</tr>\n",
       "<tr>\n",
       "  <th>Link Function:</th>         <td>log</td>       <th>  Scale:             </th>    <td>1.0</td>  \n",
       "</tr>\n",
       "<tr>\n",
       "  <th>Method:</th>               <td>IRLS</td>       <th>  Log-Likelihood:    </th> <td> -235.39</td>\n",
       "</tr>\n",
       "<tr>\n",
       "  <th>Date:</th>           <td>Sun, 06 Jan 2019</td> <th>  Deviance:          </th> <td>  84.993</td>\n",
       "</tr>\n",
       "<tr>\n",
       "  <th>Time:</th>               <td>17:51:34</td>     <th>  Pearson chi2:      </th>  <td>  83.8</td> \n",
       "</tr>\n",
       "<tr>\n",
       "  <th>No. Iterations:</th>         <td>4</td>        <th>                     </th>     <td> </td>   \n",
       "</tr>\n",
       "</table>\n",
       "<table class=\"simpletable\">\n",
       "<tr>\n",
       "      <td></td>         <th>coef</th>     <th>std err</th>      <th>z</th>      <th>P>|z|</th>  <th>[0.025</th>    <th>0.975]</th>  \n",
       "</tr>\n",
       "<tr>\n",
       "  <th>Intercept</th> <td>    1.2917</td> <td>    0.364</td> <td>    3.552</td> <td> 0.000</td> <td>    0.579</td> <td>    2.005</td>\n",
       "</tr>\n",
       "<tr>\n",
       "  <th>x</th>         <td>    0.0757</td> <td>    0.036</td> <td>    2.125</td> <td> 0.034</td> <td>    0.006</td> <td>    0.145</td>\n",
       "</tr>\n",
       "</table>"
      ],
      "text/plain": [
       "<class 'statsmodels.iolib.summary.Summary'>\n",
       "\"\"\"\n",
       "                 Generalized Linear Model Regression Results                  \n",
       "==============================================================================\n",
       "Dep. Variable:                      y   No. Observations:                  100\n",
       "Model:                            GLM   Df Residuals:                       98\n",
       "Model Family:                 Poisson   Df Model:                            1\n",
       "Link Function:                    log   Scale:                             1.0\n",
       "Method:                          IRLS   Log-Likelihood:                -235.39\n",
       "Date:                Sun, 06 Jan 2019   Deviance:                       84.993\n",
       "Time:                        17:51:34   Pearson chi2:                     83.8\n",
       "No. Iterations:                     4                                         \n",
       "==============================================================================\n",
       "                 coef    std err          z      P>|z|      [0.025      0.975]\n",
       "------------------------------------------------------------------------------\n",
       "Intercept      1.2917      0.364      3.552      0.000       0.579       2.005\n",
       "x              0.0757      0.036      2.125      0.034       0.006       0.145\n",
       "==============================================================================\n",
       "\"\"\""
      ]
     },
     "execution_count": 107,
     "metadata": {},
     "output_type": "execute_result"
    }
   ],
   "source": [
    "# 別の関数でモデリングすることも可能です。\n",
    "import statsmodels.api as sm\n",
    "import statsmodels.formula.api as smf\n",
    "\n",
    "from statsmodels.genmod.families.links import log\n",
    "\n",
    "\n",
    "model1 = smf.glm(\n",
    "    formula='y ~ x',    # モデル式\n",
    "    data=dataset_df, # データフレームの指定\n",
    "    family=sm.families.Poisson(link=log)  # 確率分布の指定. (省略化 : リンク関数の指定.)\n",
    ")\n",
    "result1 = model1.fit()\n",
    "# 結果\n",
    "result1.summary()"
   ]
  },
  {
   "cell_type": "code",
   "execution_count": 108,
   "metadata": {
    "hidden": true
   },
   "outputs": [
    {
     "data": {
      "text/html": [
       "<table class=\"simpletable\">\n",
       "<tr>\n",
       "        <td>Model:</td>               <td>GLM</td>            <td>AIC:</td>       <td>474.7725</td> \n",
       "</tr>\n",
       "<tr>\n",
       "    <td>Link Function:</td>           <td>log</td>            <td>BIC:</td>       <td>-366.3137</td>\n",
       "</tr>\n",
       "<tr>\n",
       "  <td>Dependent Variable:</td>         <td>y</td>        <td>Log-Likelihood:</td>  <td>-235.39</td> \n",
       "</tr>\n",
       "<tr>\n",
       "         <td>Date:</td>        <td>2019-01-06 17:51</td>    <td>LL-Null:</td>      <td>-237.64</td> \n",
       "</tr>\n",
       "<tr>\n",
       "   <td>No. Observations:</td>         <td>100</td>          <td>Deviance:</td>     <td>84.993</td>  \n",
       "</tr>\n",
       "<tr>\n",
       "       <td>Df Model:</td>              <td>1</td>         <td>Pearson chi2:</td>    <td>83.8</td>   \n",
       "</tr>\n",
       "<tr>\n",
       "     <td>Df Residuals:</td>           <td>98</td>            <td>Scale:</td>       <td>1.0000</td>  \n",
       "</tr>\n",
       "<tr>\n",
       "        <td>Method:</td>             <td>IRLS</td>              <td></td>             <td></td>     \n",
       "</tr>\n",
       "</table>\n",
       "<table class=\"simpletable\">\n",
       "<tr>\n",
       "      <td></td>       <th>Coef.</th> <th>Std.Err.</th>    <th>z</th>    <th>P>|z|</th> <th>[0.025</th> <th>0.975]</th>\n",
       "</tr>\n",
       "<tr>\n",
       "  <th>Intercept</th> <td>1.2917</td>  <td>0.3637</td>  <td>3.5517</td> <td>0.0004</td> <td>0.5789</td> <td>2.0045</td>\n",
       "</tr>\n",
       "<tr>\n",
       "  <th>x</th>         <td>0.0757</td>  <td>0.0356</td>  <td>2.1251</td> <td>0.0336</td> <td>0.0059</td> <td>0.1454</td>\n",
       "</tr>\n",
       "</table>"
      ],
      "text/plain": [
       "<class 'statsmodels.iolib.summary2.Summary'>\n",
       "\"\"\"\n",
       "              Results: Generalized linear model\n",
       "==============================================================\n",
       "Model:              GLM              AIC:            474.7725 \n",
       "Link Function:      log              BIC:            -366.3137\n",
       "Dependent Variable: y                Log-Likelihood: -235.39  \n",
       "Date:               2019-01-06 17:51 LL-Null:        -237.64  \n",
       "No. Observations:   100              Deviance:       84.993   \n",
       "Df Model:           1                Pearson chi2:   83.8     \n",
       "Df Residuals:       98               Scale:          1.0000   \n",
       "Method:             IRLS                                      \n",
       "---------------------------------------------------------------\n",
       "               Coef.   Std.Err.    z     P>|z|   [0.025  0.975]\n",
       "---------------------------------------------------------------\n",
       "Intercept      1.2917    0.3637  3.5517  0.0004  0.5789  2.0045\n",
       "x              0.0757    0.0356  2.1251  0.0336  0.0059  0.1454\n",
       "==============================================================\n",
       "\n",
       "\"\"\""
      ]
     },
     "execution_count": 108,
     "metadata": {},
     "output_type": "execute_result"
    }
   ],
   "source": [
    "# 結果2\n",
    "result1.summary2()"
   ]
  },
  {
   "cell_type": "markdown",
   "metadata": {
    "hidden": true
   },
   "source": [
    "`z`は$\\beta = 0$とおいたときのWald統計量(Wald statistics)です。\n",
    "$$\n",
    "z = \\frac { \\mathrm {coef} }{ \\mathrm {s.e.}\\left( \\mathrm {coef} \\right) }\\\\\n",
    "z \\sim N\\left( 0, 1 \\right)\n",
    "$$"
   ]
  },
  {
   "cell_type": "code",
   "execution_count": 109,
   "metadata": {
    "hidden": true
   },
   "outputs": [
    {
     "data": {
      "text/plain": [
       "Intercept    3.551742\n",
       "x            2.125084\n",
       "dtype: float64"
      ]
     },
     "execution_count": 109,
     "metadata": {},
     "output_type": "execute_result"
    }
   ],
   "source": [
    "result1.params / result1.bse"
   ]
  },
  {
   "cell_type": "markdown",
   "metadata": {
    "heading_collapsed": true,
    "hidden": true
   },
   "source": [
    "### モデル2)$E\\left( Y_{i} \\right) = \\mu_{i} = \\mathrm {exp}\\left( \\beta_{0} + \\beta_{1}x_{i} + \\beta_{2} f_{i} \\right)$"
   ]
  },
  {
   "cell_type": "code",
   "execution_count": 110,
   "metadata": {
    "hidden": true
   },
   "outputs": [
    {
     "data": {
      "text/html": [
       "<div>\n",
       "<style scoped>\n",
       "    .dataframe tbody tr th:only-of-type {\n",
       "        vertical-align: middle;\n",
       "    }\n",
       "\n",
       "    .dataframe tbody tr th {\n",
       "        vertical-align: top;\n",
       "    }\n",
       "\n",
       "    .dataframe thead th {\n",
       "        text-align: right;\n",
       "    }\n",
       "</style>\n",
       "<table border=\"1\" class=\"dataframe\">\n",
       "  <thead>\n",
       "    <tr style=\"text-align: right;\">\n",
       "      <th></th>\n",
       "      <th>y</th>\n",
       "      <th>x</th>\n",
       "      <th>f</th>\n",
       "    </tr>\n",
       "  </thead>\n",
       "  <tbody>\n",
       "    <tr>\n",
       "      <th>0</th>\n",
       "      <td>6</td>\n",
       "      <td>8.31</td>\n",
       "      <td>C</td>\n",
       "    </tr>\n",
       "    <tr>\n",
       "      <th>1</th>\n",
       "      <td>6</td>\n",
       "      <td>9.44</td>\n",
       "      <td>C</td>\n",
       "    </tr>\n",
       "    <tr>\n",
       "      <th>2</th>\n",
       "      <td>6</td>\n",
       "      <td>9.50</td>\n",
       "      <td>C</td>\n",
       "    </tr>\n",
       "    <tr>\n",
       "      <th>3</th>\n",
       "      <td>12</td>\n",
       "      <td>9.07</td>\n",
       "      <td>C</td>\n",
       "    </tr>\n",
       "    <tr>\n",
       "      <th>4</th>\n",
       "      <td>10</td>\n",
       "      <td>10.16</td>\n",
       "      <td>C</td>\n",
       "    </tr>\n",
       "  </tbody>\n",
       "</table>\n",
       "</div>"
      ],
      "text/plain": [
       "    y      x  f\n",
       "0   6   8.31  C\n",
       "1   6   9.44  C\n",
       "2   6   9.50  C\n",
       "3  12   9.07  C\n",
       "4  10  10.16  C"
      ]
     },
     "execution_count": 110,
     "metadata": {},
     "output_type": "execute_result"
    }
   ],
   "source": [
    "dataset_df.head()"
   ]
  },
  {
   "cell_type": "code",
   "execution_count": 111,
   "metadata": {
    "hidden": true,
    "scrolled": true
   },
   "outputs": [],
   "source": [
    "dataset_df['f'].replace({'C': 0, 'T': 1}, inplace=True)"
   ]
  },
  {
   "cell_type": "code",
   "execution_count": 112,
   "metadata": {
    "hidden": true
   },
   "outputs": [
    {
     "data": {
      "text/html": [
       "<table class=\"simpletable\">\n",
       "<caption>Generalized Linear Model Regression Results</caption>\n",
       "<tr>\n",
       "  <th>Dep. Variable:</th>          <td>y</td>        <th>  No. Observations:  </th>  <td>   100</td> \n",
       "</tr>\n",
       "<tr>\n",
       "  <th>Model:</th>                 <td>GLM</td>       <th>  Df Residuals:      </th>  <td>    97</td> \n",
       "</tr>\n",
       "<tr>\n",
       "  <th>Model Family:</th>        <td>Poisson</td>     <th>  Df Model:          </th>  <td>     2</td> \n",
       "</tr>\n",
       "<tr>\n",
       "  <th>Link Function:</th>         <td>log</td>       <th>  Scale:             </th>    <td>1.0</td>  \n",
       "</tr>\n",
       "<tr>\n",
       "  <th>Method:</th>               <td>IRLS</td>       <th>  Log-Likelihood:    </th> <td> -235.29</td>\n",
       "</tr>\n",
       "<tr>\n",
       "  <th>Date:</th>           <td>Sun, 06 Jan 2019</td> <th>  Deviance:          </th> <td>  84.808</td>\n",
       "</tr>\n",
       "<tr>\n",
       "  <th>Time:</th>               <td>17:51:43</td>     <th>  Pearson chi2:      </th>  <td>  83.8</td> \n",
       "</tr>\n",
       "<tr>\n",
       "  <th>No. Iterations:</th>         <td>4</td>        <th>                     </th>     <td> </td>   \n",
       "</tr>\n",
       "</table>\n",
       "<table class=\"simpletable\">\n",
       "<tr>\n",
       "      <td></td>         <th>coef</th>     <th>std err</th>      <th>z</th>      <th>P>|z|</th>  <th>[0.025</th>    <th>0.975]</th>  \n",
       "</tr>\n",
       "<tr>\n",
       "  <th>Intercept</th> <td>    1.2631</td> <td>    0.370</td> <td>    3.417</td> <td> 0.001</td> <td>    0.539</td> <td>    1.988</td>\n",
       "</tr>\n",
       "<tr>\n",
       "  <th>x</th>         <td>    0.0801</td> <td>    0.037</td> <td>    2.162</td> <td> 0.031</td> <td>    0.007</td> <td>    0.153</td>\n",
       "</tr>\n",
       "<tr>\n",
       "  <th>f</th>         <td>   -0.0320</td> <td>    0.074</td> <td>   -0.430</td> <td> 0.667</td> <td>   -0.178</td> <td>    0.114</td>\n",
       "</tr>\n",
       "</table>"
      ],
      "text/plain": [
       "<class 'statsmodels.iolib.summary.Summary'>\n",
       "\"\"\"\n",
       "                 Generalized Linear Model Regression Results                  \n",
       "==============================================================================\n",
       "Dep. Variable:                      y   No. Observations:                  100\n",
       "Model:                            GLM   Df Residuals:                       97\n",
       "Model Family:                 Poisson   Df Model:                            2\n",
       "Link Function:                    log   Scale:                             1.0\n",
       "Method:                          IRLS   Log-Likelihood:                -235.29\n",
       "Date:                Sun, 06 Jan 2019   Deviance:                       84.808\n",
       "Time:                        17:51:43   Pearson chi2:                     83.8\n",
       "No. Iterations:                     4                                         \n",
       "==============================================================================\n",
       "                 coef    std err          z      P>|z|      [0.025      0.975]\n",
       "------------------------------------------------------------------------------\n",
       "Intercept      1.2631      0.370      3.417      0.001       0.539       1.988\n",
       "x              0.0801      0.037      2.162      0.031       0.007       0.153\n",
       "f             -0.0320      0.074     -0.430      0.667      -0.178       0.114\n",
       "==============================================================================\n",
       "\"\"\""
      ]
     },
     "execution_count": 112,
     "metadata": {},
     "output_type": "execute_result"
    }
   ],
   "source": [
    "import statsmodels.api as sm\n",
    "import statsmodels.formula.api as smf\n",
    "\n",
    "from statsmodels.genmod.families.links import log\n",
    "\n",
    "\n",
    "model2 = smf.glm(\n",
    "    formula='y ~ x + f',    # モデル式\n",
    "    data=dataset_df, # データフレームの指定\n",
    "    family=sm.families.Poisson(link=log)  # 確率分布の指定. (省略化 : リンク関数の指定.)\n",
    ")\n",
    "result2 = model2.fit()\n",
    "# 結果\n",
    "result2.summary()"
   ]
  },
  {
   "cell_type": "markdown",
   "metadata": {
    "hidden": true
   },
   "source": [
    "## モデル選択\n",
    "\n",
    " - 逸脱度\n",
    " - AIC"
   ]
  },
  {
   "cell_type": "markdown",
   "metadata": {
    "heading_collapsed": true,
    "hidden": true
   },
   "source": [
    "### 逸脱度(対数尤度比統計量)\n",
    "$$\n",
    "D = 2 \\left[ \\log {L\\left( \\boldsymbol {\\mathrm {b_{max}}} \\right)} - \\log {L\\left( \\boldsymbol {\\mathrm {b}} \\right)} \\right]\n",
    "$$"
   ]
  },
  {
   "cell_type": "code",
   "execution_count": 148,
   "metadata": {
    "hidden": true
   },
   "outputs": [
    {
     "data": {
      "text/html": [
       "<table class=\"simpletable\">\n",
       "<tr>\n",
       "        <td>Model:</td>               <td>GLM</td>            <td>AIC:</td>       <td>393.9380</td> \n",
       "</tr>\n",
       "<tr>\n",
       "    <td>Link Function:</td>           <td>log</td>            <td>BIC:</td>       <td>-447.1482</td>\n",
       "</tr>\n",
       "<tr>\n",
       "  <td>Dependent Variable:</td>         <td>y</td>        <td>Log-Likelihood:</td>  <td>-194.97</td> \n",
       "</tr>\n",
       "<tr>\n",
       "         <td>Date:</td>        <td>2019-01-07 20:03</td>    <td>LL-Null:</td>      <td>-237.64</td> \n",
       "</tr>\n",
       "<tr>\n",
       "   <td>No. Observations:</td>         <td>100</td>          <td>Deviance:</td>     <td>4.1585</td>  \n",
       "</tr>\n",
       "<tr>\n",
       "       <td>Df Model:</td>              <td>1</td>         <td>Pearson chi2:</td>    <td>3.88</td>   \n",
       "</tr>\n",
       "<tr>\n",
       "     <td>Df Residuals:</td>           <td>98</td>            <td>Scale:</td>       <td>1.0000</td>  \n",
       "</tr>\n",
       "<tr>\n",
       "        <td>Method:</td>             <td>IRLS</td>              <td></td>             <td></td>     \n",
       "</tr>\n",
       "</table>\n",
       "<table class=\"simpletable\">\n",
       "<tr>\n",
       "      <td></td>       <th>Coef.</th> <th>Std.Err.</th>    <th>z</th>    <th>P>|z|</th> <th>[0.025</th> <th>0.975]</th>\n",
       "</tr>\n",
       "<tr>\n",
       "  <th>Intercept</th> <td>1.0328</td>  <td>0.1215</td>  <td>8.5037</td> <td>0.0000</td> <td>0.7948</td> <td>1.2709</td>\n",
       "</tr>\n",
       "<tr>\n",
       "  <th>y</th>         <td>0.1241</td>  <td>0.0133</td>  <td>9.3004</td> <td>0.0000</td> <td>0.0979</td> <td>0.1502</td>\n",
       "</tr>\n",
       "</table>"
      ],
      "text/plain": [
       "<class 'statsmodels.iolib.summary2.Summary'>\n",
       "\"\"\"\n",
       "              Results: Generalized linear model\n",
       "==============================================================\n",
       "Model:              GLM              AIC:            393.9380 \n",
       "Link Function:      log              BIC:            -447.1482\n",
       "Dependent Variable: y                Log-Likelihood: -194.97  \n",
       "Date:               2019-01-07 20:03 LL-Null:        -237.64  \n",
       "No. Observations:   100              Deviance:       4.1585   \n",
       "Df Model:           1                Pearson chi2:   3.88     \n",
       "Df Residuals:       98               Scale:          1.0000   \n",
       "Method:             IRLS                                      \n",
       "---------------------------------------------------------------\n",
       "               Coef.   Std.Err.    z     P>|z|   [0.025  0.975]\n",
       "---------------------------------------------------------------\n",
       "Intercept      1.0328    0.1215  8.5037  0.0000  0.7948  1.2709\n",
       "y              0.1241    0.0133  9.3004  0.0000  0.0979  0.1502\n",
       "==============================================================\n",
       "\n",
       "\"\"\""
      ]
     },
     "execution_count": 148,
     "metadata": {},
     "output_type": "execute_result"
    }
   ],
   "source": [
    "# 飽和モデル(フルモデル)\n",
    "import statsmodels.api as sm\n",
    "import statsmodels.formula.api as smf\n",
    "\n",
    "\n",
    "# この場合のフルモデルとは、\n",
    "# データ数が100個なのでパラメータ100個を使って\n",
    "# 当てはめたモデルになる.\n",
    "full_model = smf.glm(\n",
    "    formula='y ~ y',\n",
    "    data=dataset_df,\n",
    "    family=sm.families.Poisson()\n",
    ")\n",
    "result_of_full_model = full_model.fit()\n",
    "# 結果\n",
    "result_of_full_model.summary2()"
   ]
  },
  {
   "cell_type": "code",
   "execution_count": 149,
   "metadata": {
    "hidden": true
   },
   "outputs": [
    {
     "data": {
      "text/plain": [
       "-194.96897933244512"
      ]
     },
     "execution_count": 149,
     "metadata": {},
     "output_type": "execute_result"
    }
   ],
   "source": [
    "# 飽和モデルの対数尤度\n",
    "full_loglike = full_model.loglike(result_of_full_model.params)\n",
    "full_loglike"
   ]
  },
  {
   "cell_type": "code",
   "execution_count": 151,
   "metadata": {
    "hidden": true
   },
   "outputs": [
    {
     "data": {
      "text/html": [
       "<table class=\"simpletable\">\n",
       "<tr>\n",
       "        <td>Model:</td>               <td>GLM</td>            <td>AIC:</td>       <td>477.2864</td> \n",
       "</tr>\n",
       "<tr>\n",
       "    <td>Link Function:</td>           <td>log</td>            <td>BIC:</td>       <td>-366.4049</td>\n",
       "</tr>\n",
       "<tr>\n",
       "  <td>Dependent Variable:</td>         <td>y</td>        <td>Log-Likelihood:</td>  <td>-237.64</td> \n",
       "</tr>\n",
       "<tr>\n",
       "         <td>Date:</td>        <td>2019-01-07 20:03</td>    <td>LL-Null:</td>      <td>-237.64</td> \n",
       "</tr>\n",
       "<tr>\n",
       "   <td>No. Observations:</td>         <td>100</td>          <td>Deviance:</td>     <td>89.507</td>  \n",
       "</tr>\n",
       "<tr>\n",
       "       <td>Df Model:</td>              <td>0</td>         <td>Pearson chi2:</td>    <td>87.1</td>   \n",
       "</tr>\n",
       "<tr>\n",
       "     <td>Df Residuals:</td>           <td>99</td>            <td>Scale:</td>       <td>1.0000</td>  \n",
       "</tr>\n",
       "<tr>\n",
       "        <td>Method:</td>             <td>IRLS</td>              <td></td>             <td></td>     \n",
       "</tr>\n",
       "</table>\n",
       "<table class=\"simpletable\">\n",
       "<tr>\n",
       "      <td></td>       <th>Coef.</th> <th>Std.Err.</th>    <th>z</th>     <th>P>|z|</th> <th>[0.025</th> <th>0.975]</th>\n",
       "</tr>\n",
       "<tr>\n",
       "  <th>Intercept</th> <td>2.0580</td>  <td>0.0357</td>  <td>57.5862</td> <td>0.0000</td> <td>1.9879</td> <td>2.1280</td>\n",
       "</tr>\n",
       "</table>"
      ],
      "text/plain": [
       "<class 'statsmodels.iolib.summary2.Summary'>\n",
       "\"\"\"\n",
       "              Results: Generalized linear model\n",
       "==============================================================\n",
       "Model:              GLM              AIC:            477.2864 \n",
       "Link Function:      log              BIC:            -366.4049\n",
       "Dependent Variable: y                Log-Likelihood: -237.64  \n",
       "Date:               2019-01-07 20:03 LL-Null:        -237.64  \n",
       "No. Observations:   100              Deviance:       89.507   \n",
       "Df Model:           0                Pearson chi2:   87.1     \n",
       "Df Residuals:       99               Scale:          1.0000   \n",
       "Method:             IRLS                                      \n",
       "---------------------------------------------------------------\n",
       "              Coef.   Std.Err.     z     P>|z|   [0.025  0.975]\n",
       "---------------------------------------------------------------\n",
       "Intercept     2.0580    0.0357  57.5862  0.0000  1.9879  2.1280\n",
       "==============================================================\n",
       "\n",
       "\"\"\""
      ]
     },
     "execution_count": 151,
     "metadata": {},
     "output_type": "execute_result"
    }
   ],
   "source": [
    "# Nullモデル\n",
    "null_model = smf.glm(\n",
    "    formula='y ~ 1',\n",
    "    data=dataset_df,\n",
    "    family=sm.families.Poisson()\n",
    ")\n",
    "result_of_null_model = null_model.fit()\n",
    "# 結果\n",
    "result_of_null_model.summary2()"
   ]
  },
  {
   "cell_type": "code",
   "execution_count": 152,
   "metadata": {
    "hidden": true
   },
   "outputs": [
    {
     "data": {
      "text/plain": [
       "-237.6432213092867"
      ]
     },
     "execution_count": 152,
     "metadata": {},
     "output_type": "execute_result"
    }
   ],
   "source": [
    "null_loglike = null_model.loglike(result_of_null_model.params)\n",
    "null_loglike"
   ]
  },
  {
   "cell_type": "markdown",
   "metadata": {
    "hidden": true
   },
   "source": [
    "---\n",
    "# 参考文献\n",
    "\n",
    "**書籍**\n",
    "\n",
    " - 久保拓弥[2016] 『データ解析のための統計モデリング入門 - 一般化線形モデル・階層ベイズモデル・MCMC』 株式会社岩波書店\n",
    "\n",
    "**Webサイト**\n",
    "\n",
    " - [Generalized Linear Models — statsmodels v0.10.0.dev0+905.ge1fa49185 documentation](https://www.statsmodels.org/dev/glm.html)\n",
    " - [「An introduction to generalized linear models third edition」の解答](https://www.crcpress.com/downloads/C9500/C9500_Solutions.pdf)\n",
    " - [一般化線形 (混合) モデル (1) - 確率分布，最尤推定，ポアソン回帰](http://hosho.ees.hokudai.ac.jp/~kubo/stat/2013/ou1/kubostat2013ou1.pdf)\n",
    " - [ディスプレイ広告のクリック数改善のためのデザイン最適化に、ポアソン分布 / 負の二項分布によるGLMを使ってみる - 六本木で働くデータサイエンティストのブログ](https://tjo.hatenablog.com/entry/2013/09/10/234318)\n",
    " - [「使い分け」ではなく「妥当かどうか」が大事：重回帰分析＆一般化線形モデル選択まわりの再まとめ - 六本木で働くデータサイエンティストのブログ](https://tjo.hatenablog.com/entry/2013/09/23/232814)"
   ]
  },
  {
   "cell_type": "code",
   "execution_count": null,
   "metadata": {
    "hidden": true
   },
   "outputs": [],
   "source": []
  }
 ],
 "metadata": {
  "kernelspec": {
   "display_name": "Python 3",
   "language": "python",
   "name": "python3"
  },
  "language_info": {
   "codemirror_mode": {
    "name": "ipython",
    "version": 3
   },
   "file_extension": ".py",
   "mimetype": "text/x-python",
   "name": "python",
   "nbconvert_exporter": "python",
   "pygments_lexer": "ipython3",
   "version": "3.7.0"
  },
  "toc": {
   "nav_menu": {},
   "number_sections": true,
   "sideBar": true,
   "skip_h1_title": false,
   "toc_cell": false,
   "toc_position": {
    "height": "829px",
    "left": "0px",
    "right": "1256px",
    "top": "110px",
    "width": "221px"
   },
   "toc_section_display": "block",
   "toc_window_display": true
  }
 },
 "nbformat": 4,
 "nbformat_minor": 2
}
