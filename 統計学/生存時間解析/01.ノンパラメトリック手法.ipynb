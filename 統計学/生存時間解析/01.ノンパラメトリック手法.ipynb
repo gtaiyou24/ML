{
 "cells": [
  {
   "cell_type": "code",
   "execution_count": 1,
   "metadata": {},
   "outputs": [],
   "source": [
    "import numpy as np\n",
    "import pandas as pd\n",
    "\n",
    "import matplotlib as mpl\n",
    "import matplotlib.pyplot as plt\n",
    "import seaborn as sns\n",
    "\n",
    "# 日本語フォントを設定\n",
    "font = {'family': 'IPAexGothic'}\n",
    "mpl.rc('font', **font)\n",
    "\n",
    "%matplotlib inline"
   ]
  },
  {
   "cell_type": "code",
   "execution_count": 75,
   "metadata": {},
   "outputs": [
    {
     "name": "stdout",
     "output_type": "stream",
     "text": [
      "The autoreload extension is already loaded. To reload it, use:\n",
      "  %reload_ext autoreload\n"
     ]
    }
   ],
   "source": [
    "%load_ext autoreload"
   ]
  },
  {
   "cell_type": "code",
   "execution_count": 76,
   "metadata": {},
   "outputs": [],
   "source": [
    "%autoreload 2"
   ]
  },
  {
   "cell_type": "code",
   "execution_count": 46,
   "metadata": {},
   "outputs": [
    {
     "data": {
      "text/html": [
       "<div>\n",
       "<style scoped>\n",
       "    .dataframe tbody tr th:only-of-type {\n",
       "        vertical-align: middle;\n",
       "    }\n",
       "\n",
       "    .dataframe tbody tr th {\n",
       "        vertical-align: top;\n",
       "    }\n",
       "\n",
       "    .dataframe thead th {\n",
       "        text-align: right;\n",
       "    }\n",
       "</style>\n",
       "<table border=\"1\" class=\"dataframe\">\n",
       "  <thead>\n",
       "    <tr style=\"text-align: right;\">\n",
       "      <th></th>\n",
       "      <th>登録日(観察開始日)</th>\n",
       "      <th>追跡日(観察終了日)</th>\n",
       "      <th>入院期間</th>\n",
       "      <th>追跡日数(観察日数)</th>\n",
       "      <th>生存状態</th>\n",
       "      <th>登録時年齢</th>\n",
       "      <th>性別</th>\n",
       "      <th>BMI</th>\n",
       "    </tr>\n",
       "  </thead>\n",
       "  <tbody>\n",
       "    <tr>\n",
       "      <th>1</th>\n",
       "      <td>03/13/1995</td>\n",
       "      <td>03/19/1995</td>\n",
       "      <td>4</td>\n",
       "      <td>6</td>\n",
       "      <td>1</td>\n",
       "      <td>65</td>\n",
       "      <td>0</td>\n",
       "      <td>31.38134</td>\n",
       "    </tr>\n",
       "    <tr>\n",
       "      <th>2</th>\n",
       "      <td>01/14/1995</td>\n",
       "      <td>01/23/1996</td>\n",
       "      <td>5</td>\n",
       "      <td>374</td>\n",
       "      <td>1</td>\n",
       "      <td>88</td>\n",
       "      <td>1</td>\n",
       "      <td>22.65790</td>\n",
       "    </tr>\n",
       "    <tr>\n",
       "      <th>3</th>\n",
       "      <td>02/17/1995</td>\n",
       "      <td>10/04/2001</td>\n",
       "      <td>5</td>\n",
       "      <td>2421</td>\n",
       "      <td>1</td>\n",
       "      <td>77</td>\n",
       "      <td>0</td>\n",
       "      <td>27.87892</td>\n",
       "    </tr>\n",
       "    <tr>\n",
       "      <th>4</th>\n",
       "      <td>04/07/1995</td>\n",
       "      <td>07/14/1995</td>\n",
       "      <td>9</td>\n",
       "      <td>98</td>\n",
       "      <td>1</td>\n",
       "      <td>81</td>\n",
       "      <td>1</td>\n",
       "      <td>21.47878</td>\n",
       "    </tr>\n",
       "    <tr>\n",
       "      <th>5</th>\n",
       "      <td>02/09/1995</td>\n",
       "      <td>05/29/1998</td>\n",
       "      <td>4</td>\n",
       "      <td>1205</td>\n",
       "      <td>1</td>\n",
       "      <td>78</td>\n",
       "      <td>0</td>\n",
       "      <td>30.70601</td>\n",
       "    </tr>\n",
       "  </tbody>\n",
       "</table>\n",
       "</div>"
      ],
      "text/plain": [
       "   登録日(観察開始日)  追跡日(観察終了日)  入院期間  追跡日数(観察日数)  生存状態  登録時年齢  性別       BMI\n",
       "1  03/13/1995  03/19/1995     4           6     1     65   0  31.38134\n",
       "2  01/14/1995  01/23/1996     5         374     1     88   1  22.65790\n",
       "3  02/17/1995  10/04/2001     5        2421     1     77   0  27.87892\n",
       "4  04/07/1995  07/14/1995     9          98     1     81   1  21.47878\n",
       "5  02/09/1995  05/29/1998     4        1205     1     78   0  30.70601"
      ]
     },
     "execution_count": 46,
     "metadata": {},
     "output_type": "execute_result"
    }
   ],
   "source": [
    "from dataset.read_dataset import read_whas100_df\n",
    "\n",
    "\n",
    "whas100_df = read_whas100_df()\n",
    "whas100_df.head()"
   ]
  },
  {
   "cell_type": "markdown",
   "metadata": {},
   "source": [
    "上のデータセットは、急性心筋梗塞にともなう入院後の生存時間データである。このデータを用いて、急性心筋梗塞にともなう入院からの生存時間に対して、性別、年齢、入院時のBMIが与える影響を調べる。"
   ]
  },
  {
   "cell_type": "code",
   "execution_count": 47,
   "metadata": {},
   "outputs": [
    {
     "name": "stdout",
     "output_type": "stream",
     "text": [
      "死亡者数 = 51\n",
      "打切り者数 = 49\n"
     ]
    }
   ],
   "source": [
    "d = (whas100_df['生存状態'] == 1).sum()\n",
    "c = (whas100_df['生存状態'] != 1).sum()\n",
    "print('死亡者数 = %d' % d)\n",
    "print('打切り者数 = %d' % c)"
   ]
  },
  {
   "cell_type": "code",
   "execution_count": 48,
   "metadata": {},
   "outputs": [
    {
     "data": {
      "image/png": "[encoded data removed]",
      "text/plain": [
       "<matplotlib.figure.Figure at 0x1a11e5e588>"
      ]
     },
     "metadata": {},
     "output_type": "display_data"
    }
   ],
   "source": [
    "# plt.hist(y['Survival_in_days'], bins=100)\n",
    "plt.hist(whas100_df[whas100_df['生存状態'] == 1]['追跡日数(観察日数)'].values, bins=25)\n",
    "plt.show()"
   ]
  },
  {
   "cell_type": "code",
   "execution_count": 49,
   "metadata": {},
   "outputs": [],
   "source": [
    "dataset_df = whas100_df.copy()"
   ]
  },
  {
   "cell_type": "markdown",
   "metadata": {},
   "source": [
    "---\n",
    "# 生存関数の推定\n",
    "## Kaplan-Meier推定量\n",
    "> 生存時間データから**生存関数**を推定するために使用されるノンパラメトリック統計量.\n",
    ">\n",
    "> - $d_{j}$: 時刻$t_{(j)}$でのイベント発生者数\n",
    "> - $n_{j}$: 時刻$t_{(j)}$でイベント発生のリスク集合にいる人数\n",
    ">     - 打切りデータは、打切りが記録された時間でのリスク集合にいる人数に含めるが、その時点よりすぐ後のリスク集合にいる人数には含めない\n",
    "> - イベントが観測された時刻を小さい順に$t_{(1)} \\le t_{(2)} \\le \\cdots \\le t_{(k)}$とする\n",
    "\n",
    "$$\n",
    "\\widehat {S}\\left(t\\right) = \\prod _{ j=1 }^{ k }{ \\left( \\frac {n_{j} - d_{j}}{n_{j}} \\right) }\n",
    "$$"
   ]
  },
  {
   "cell_type": "code",
   "execution_count": 50,
   "metadata": {},
   "outputs": [
    {
     "data": {
      "text/plain": [
       "<matplotlib.figure.Figure at 0x1a11ff58d0>"
      ]
     },
     "metadata": {},
     "output_type": "display_data"
    },
    {
     "data": {
      "image/png": "[encoded data removed]",
      "text/plain": [
       "<matplotlib.figure.Figure at 0x1a1337d390>"
      ]
     },
     "metadata": {},
     "output_type": "display_data"
    }
   ],
   "source": [
    "from lifelines import KaplanMeierFitter\n",
    "\n",
    "\n",
    "survival_time_col = '追跡日数(観察日数)'\n",
    "event_col              = '生存状態'\n",
    "survival_times      = dataset_df[survival_time_col]\n",
    "events                    = dataset_df[event_col]\n",
    "\n",
    "# fitting\n",
    "kmf = KaplanMeierFitter()\n",
    "kmf.fit(survival_times, event_observed=events, label='KM estimate')\n",
    "\n",
    "# plot\n",
    "plt.figure(figsize=(15, 8))\n",
    "kmf.plot(ci_show=True)\n",
    "plt.show()"
   ]
  },
  {
   "cell_type": "code",
   "execution_count": 52,
   "metadata": {},
   "outputs": [],
   "source": [
    "whas100_df['生存状態'].replace({1: True, 0: False}, inplace=True)"
   ]
  },
  {
   "cell_type": "code",
   "execution_count": 83,
   "metadata": {},
   "outputs": [
    {
     "data": {
      "image/png": "[encoded data removed]",
      "text/plain": [
       "<matplotlib.figure.Figure at 0x1a137fd5f8>"
      ]
     },
     "metadata": {},
     "output_type": "display_data"
    }
   ],
   "source": [
    "from sksurv.nonparametric import kaplan_meier_estimator\n",
    "\n",
    "\n",
    "survival_bools = whas100_df['生存状態'].values\n",
    "survival_times = whas100_df['追跡日数(観察日数)'].values\n",
    "\n",
    "time, survival_prob = kaplan_meier_estimator(survival_bools, survival_times)\n",
    "\n",
    "plt.figure(figsize=(15, 8))\n",
    "plt.title('生存状況のプロット')\n",
    "plt.step(time, survival_prob, where=\"post\")\n",
    "plt.ylabel(\"生存関数 $\\hat{S}(t)$\")\n",
    "plt.xlabel(\"生存時間 $t$(日数)\")\n",
    "plt.show()"
   ]
  },
  {
   "cell_type": "code",
   "execution_count": 80,
   "metadata": {},
   "outputs": [],
   "source": [
    "from src.nonparametric import _calc_kaplan_meier_variance\n",
    "\n",
    "time, var = _calc_kaplan_meier_variance(survival_bools, survival_times)"
   ]
  },
  {
   "cell_type": "code",
   "execution_count": 84,
   "metadata": {},
   "outputs": [
    {
     "name": "stdout",
     "output_type": "stream",
     "text": [
      "(95,)\n",
      "(95,)\n"
     ]
    }
   ],
   "source": [
    "print(time.shape)\n",
    "print(var.shape)"
   ]
  },
  {
   "cell_type": "markdown",
   "metadata": {
    "collapsed": true
   },
   "source": [
    "# 累積ハザード関数の推定\n",
    "\n",
    "## Nelson-Aalen推定量\n",
    "> 不完全なデータや打切りデータの場合の**累積ハザード関数**を推定するための使用されるノンパラメトリック推定量。\n",
    ">\n",
    "> - $d_{i}$: 時刻$t_{i}$でのイベント発生者数\n",
    "> - $n_{i}$: 時刻$T_{i}$の直前で生存している被験者数\n",
    ">\n",
    "> $$\n",
    "\\widehat {H}\\left(t\\right) = \\sum _{t_{i} \\le t}{ \\frac {d_{i}}{n_{i}} }\n",
    "$$"
   ]
  },
  {
   "cell_type": "code",
   "execution_count": null,
   "metadata": {},
   "outputs": [],
   "source": []
  },
  {
   "cell_type": "code",
   "execution_count": null,
   "metadata": {},
   "outputs": [],
   "source": []
  },
  {
   "cell_type": "code",
   "execution_count": null,
   "metadata": {},
   "outputs": [],
   "source": []
  },
  {
   "cell_type": "markdown",
   "metadata": {},
   "source": [
    "# ハザード関数の推定"
   ]
  },
  {
   "cell_type": "code",
   "execution_count": null,
   "metadata": {},
   "outputs": [],
   "source": []
  },
  {
   "cell_type": "code",
   "execution_count": null,
   "metadata": {},
   "outputs": [],
   "source": []
  }
 ],
 "metadata": {
  "kernelspec": {
   "display_name": "Python 3",
   "language": "python",
   "name": "python3"
  },
  "language_info": {
   "codemirror_mode": {
    "name": "ipython",
    "version": 3
   },
   "file_extension": ".py",
   "mimetype": "text/x-python",
   "name": "python",
   "nbconvert_exporter": "python",
   "pygments_lexer": "ipython3",
   "version": "3.7.0"
  },
  "toc": {
   "nav_menu": {},
   "number_sections": true,
   "sideBar": true,
   "skip_h1_title": false,
   "toc_cell": false,
   "toc_position": {
    "height": "829px",
    "left": "0px",
    "right": "1407px",
    "top": "110px",
    "width": "273px"
   },
   "toc_section_display": "block",
   "toc_window_display": true
  }
 },
 "nbformat": 4,
 "nbformat_minor": 2
}
