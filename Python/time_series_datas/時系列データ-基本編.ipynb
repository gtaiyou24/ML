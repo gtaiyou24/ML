{
 "cells": [
  {
   "cell_type": "code",
   "execution_count": 55,
   "metadata": {
    "collapsed": true
   },
   "outputs": [],
   "source": [
    "import pandas as pd\n",
    "import numpy as np\n",
    "\n",
    "from pandas import DataFrame, Series"
   ]
  },
  {
   "cell_type": "markdown",
   "metadata": {},
   "source": [
    "# 時系列データ\n",
    "「Pythonによるデータ分析入門 - Numpy,pandasを使ったデータ処理」の10章の時系列データをもとにまとめました。\n",
    "\n",
    "ある時点において観測されたデータは、どのようなものでも時系列を構成している。多くの時系列は**一定頻度**である。しかし、扱う時系列は固定の単位時間やオフセットがないような**不規則**なものであっても構わない。"
   ]
  },
  {
   "cell_type": "markdown",
   "metadata": {},
   "source": [
    "# 目次\n",
    "\n",
    " - [10.1 日付、時間のデータ型とツール](#10.1-日付、時間のデータ型とツール)\n",
    "     - [10.1.1 文字列とdatetimeの変換](#10.1.1-文字列とdatetimeの変換)\n",
    " - [10.2 時系列の基本](#10.2-時系列の基本)\n",
    "     - [10.2.1 インデックス参照、データの選択、サブセットの抽出](#10.2.1-インデックス参照、データの選択、サブセットの抽出)\n",
    "     - [10.2.2 重複したインデックスをもつ時系列](#10.2.2-重複したインデックスをもつ時系列)\n",
    " - [10.3 日付範囲、頻度、シフト](#10.3-日付範囲、頻度、シフト)\n",
    "     - [10.3.1 日付範囲の生成](#10.3.1-日付範囲の生成:-pandas.date_range(start,-end,-periods,-freq))\n",
    "     - [10.3.2 頻度と日付オフセット](#10.3.2-頻度と日付オフセット)\n",
    "     - [10.3.3 データの前方と後方へのシフト](#10.3.3-データの前方と後方へのシフト:-時系列データ.shift(periods,-freq,-axis))\n",
    " - (省略)10.4 タイムゾーンを扱う\n",
    "     - 10.4.1 ローカライゼーションと変換\n",
    "     - 10.4.2 タイムゾーンを意識したタイムスタンプオブジェクト\n",
    "     - 10.4.3 別のタイムゾーンとの演算"
   ]
  },
  {
   "cell_type": "markdown",
   "metadata": {},
   "source": [
    "---\n",
    "# 10.1 日付、時間のデータ型とツール\n",
    "\n",
    "**datetimeモジュールに含まれるデータ型**\n",
    "\n",
    "| データ型 | 説明 |\n",
    "|:----------:|:-----:|\n",
    "| `date` | グレゴリオ暦の日付(年、月、日)の情報を持つ。 |\n",
    "| `time` | 1日の時間の情報(時、分、秒、マイクロ秒)を持つ。 |\n",
    "| `datetime` | 日付と時間の両方の情報を持つ。 |\n",
    "| `timedelta` | ２つの`datetime`型の値の差を、日、秒、マイクロ秒で表す。 |"
   ]
  },
  {
   "cell_type": "code",
   "execution_count": 3,
   "metadata": {
    "collapsed": false,
    "scrolled": true
   },
   "outputs": [
    {
     "data": {
      "text/plain": [
       "datetime.datetime(2017, 7, 15, 19, 35, 12, 34124)"
      ]
     },
     "execution_count": 3,
     "metadata": {},
     "output_type": "execute_result"
    }
   ],
   "source": [
    "from datetime import datetime\n",
    "\n",
    "now = datetime.now()\n",
    "now"
   ]
  },
  {
   "cell_type": "markdown",
   "metadata": {},
   "source": [
    "`datetime.datetime(年, 月, 日, 時, 分, 秒, マイクロ秒)`"
   ]
  },
  {
   "cell_type": "code",
   "execution_count": 4,
   "metadata": {
    "collapsed": false
   },
   "outputs": [
    {
     "data": {
      "text/plain": [
       "(2017, 7, 15)"
      ]
     },
     "execution_count": 4,
     "metadata": {},
     "output_type": "execute_result"
    }
   ],
   "source": [
    "now.year, now.month, now.day"
   ]
  },
  {
   "cell_type": "markdown",
   "metadata": {},
   "source": [
    "### datetimeオブジェクト間の差の計算\n",
    "`datetime.timedelta`は、`datetime`オブジェクト間の差を表します。"
   ]
  },
  {
   "cell_type": "code",
   "execution_count": 10,
   "metadata": {
    "collapsed": false,
    "scrolled": true
   },
   "outputs": [
    {
     "data": {
      "text/plain": [
       "datetime.timedelta(8059, 15900)"
      ]
     },
     "execution_count": 10,
     "metadata": {},
     "output_type": "execute_result"
    }
   ],
   "source": [
    "delta = datetime(2017, 7, 15) - datetime(1995, 6, 21, 19, 35)\n",
    "delta"
   ]
  },
  {
   "cell_type": "markdown",
   "metadata": {},
   "source": [
    "`datetime.timedelta(何日, 何秒)`"
   ]
  },
  {
   "cell_type": "code",
   "execution_count": 12,
   "metadata": {
    "collapsed": false
   },
   "outputs": [
    {
     "data": {
      "text/plain": [
       "(8059, 15900)"
      ]
     },
     "execution_count": 12,
     "metadata": {},
     "output_type": "execute_result"
    }
   ],
   "source": [
    "delta.days, delta.seconds"
   ]
  },
  {
   "cell_type": "markdown",
   "metadata": {},
   "source": [
    "### timedeltaの計算"
   ]
  },
  {
   "cell_type": "code",
   "execution_count": 14,
   "metadata": {
    "collapsed": false
   },
   "outputs": [
    {
     "data": {
      "text/plain": [
       "datetime.datetime(2011, 1, 19, 0, 0)"
      ]
     },
     "execution_count": 14,
     "metadata": {},
     "output_type": "execute_result"
    }
   ],
   "source": [
    "from datetime import timedelta\n",
    "\n",
    "start = datetime(2011, 1, 7)\n",
    "start + timedelta(12)"
   ]
  },
  {
   "cell_type": "code",
   "execution_count": 16,
   "metadata": {
    "collapsed": false
   },
   "outputs": [
    {
     "data": {
      "text/plain": [
       "datetime.datetime(2010, 12, 14, 0, 0)"
      ]
     },
     "execution_count": 16,
     "metadata": {},
     "output_type": "execute_result"
    }
   ],
   "source": [
    "start - 2 * timedelta(12)"
   ]
  },
  {
   "cell_type": "markdown",
   "metadata": {},
   "source": [
    "## 10.1.1 文字列とdatetimeの変換"
   ]
  },
  {
   "cell_type": "markdown",
   "metadata": {},
   "source": [
    "<div style=\"text-align:center\">\n",
    "### `datetime`オブジェクト/pandasのタイムスタンプ→文字列\n",
    "</div>\n",
    "`datetime`オブジェクトとpandasのタイムスタンプ(`Timesstamp`)オブジェクトは、`str`や`strftime`メソッドを使って書式を指定することで、文字列で表現することができる。\n",
    "### `datetimeオブジェクト.strftime(書式)`"
   ]
  },
  {
   "cell_type": "code",
   "execution_count": 17,
   "metadata": {
    "collapsed": true
   },
   "outputs": [],
   "source": [
    "stamp = datetime(2011, 1, 3)"
   ]
  },
  {
   "cell_type": "code",
   "execution_count": 18,
   "metadata": {
    "collapsed": false
   },
   "outputs": [
    {
     "data": {
      "text/plain": [
       "'2011-01-03 00:00:00'"
      ]
     },
     "execution_count": 18,
     "metadata": {},
     "output_type": "execute_result"
    }
   ],
   "source": [
    "str(stamp)"
   ]
  },
  {
   "cell_type": "code",
   "execution_count": 22,
   "metadata": {
    "collapsed": false
   },
   "outputs": [
    {
     "data": {
      "text/plain": [
       "'2011-01-03'"
      ]
     },
     "execution_count": 22,
     "metadata": {},
     "output_type": "execute_result"
    }
   ],
   "source": [
    "stamp.strftime('%Y-%m-%d')"
   ]
  },
  {
   "cell_type": "markdown",
   "metadata": {},
   "source": [
    "<div style=\"text-align:center\">\n",
    "### 文字列→`datetime`オブジェクト/pandasのタイムスタンプ\n",
    "</div>\n",
    "### `datetime.strptime（文字列, 書式)`"
   ]
  },
  {
   "cell_type": "code",
   "execution_count": 20,
   "metadata": {
    "collapsed": true
   },
   "outputs": [],
   "source": [
    "value = \"2011-01-03\""
   ]
  },
  {
   "cell_type": "code",
   "execution_count": 21,
   "metadata": {
    "collapsed": false
   },
   "outputs": [
    {
     "data": {
      "text/plain": [
       "datetime.datetime(2011, 1, 3, 0, 0)"
      ]
     },
     "execution_count": 21,
     "metadata": {},
     "output_type": "execute_result"
    }
   ],
   "source": [
    "datetime.strptime(value, '%Y-%m-%d')"
   ]
  },
  {
   "cell_type": "code",
   "execution_count": 23,
   "metadata": {
    "collapsed": true
   },
   "outputs": [],
   "source": [
    "datestrs = ['7/6/2011', '8/6/2011']"
   ]
  },
  {
   "cell_type": "code",
   "execution_count": 24,
   "metadata": {
    "collapsed": false
   },
   "outputs": [
    {
     "data": {
      "text/plain": [
       "[datetime.datetime(2011, 7, 6, 0, 0), datetime.datetime(2011, 8, 6, 0, 0)]"
      ]
     },
     "execution_count": 24,
     "metadata": {},
     "output_type": "execute_result"
    }
   ],
   "source": [
    "[datetime.strptime(x, '%m/%d/%Y') for x in datestrs]"
   ]
  },
  {
   "cell_type": "markdown",
   "metadata": {},
   "source": [
    "### parse(文字列)\n",
    "`datetime.strptime`は、特定の書式で日付をパースするのに最も適した方法である。しかし、一般的な書式を使う場合は、毎回各時間の書式を指定するのは面倒。"
   ]
  },
  {
   "cell_type": "code",
   "execution_count": 25,
   "metadata": {
    "collapsed": false
   },
   "outputs": [
    {
     "data": {
      "text/plain": [
       "datetime.datetime(2011, 1, 3, 0, 0)"
      ]
     },
     "execution_count": 25,
     "metadata": {},
     "output_type": "execute_result"
    }
   ],
   "source": [
    "from dateutil.parser import parse\n",
    "\n",
    "parse('2011-01-03')"
   ]
  },
  {
   "cell_type": "code",
   "execution_count": 26,
   "metadata": {
    "collapsed": false
   },
   "outputs": [
    {
     "data": {
      "text/plain": [
       "datetime.datetime(1997, 1, 31, 22, 45)"
      ]
     },
     "execution_count": 26,
     "metadata": {},
     "output_type": "execute_result"
    }
   ],
   "source": [
    "parse('Jan 31, 1997 10:45 PM')"
   ]
  },
  {
   "cell_type": "code",
   "execution_count": 27,
   "metadata": {
    "collapsed": false
   },
   "outputs": [
    {
     "data": {
      "text/plain": [
       "datetime.datetime(2011, 6, 21, 0, 0)"
      ]
     },
     "execution_count": 27,
     "metadata": {},
     "output_type": "execute_result"
    }
   ],
   "source": [
    "# 月よりも日が前に現れたときのパースは、dayfirst=Trueを指定\n",
    "parse('6/21/2011', dayfirst=True)"
   ]
  },
  {
   "cell_type": "markdown",
   "metadata": {},
   "source": [
    "### pd.to_datetime(文字列orリストorタップルor1-Nの配列orシリーズ)\n",
    " - arg: integer or float or string or datetime or リスト or Tuple or 1-Nの配列 or Series\n",
    "\n",
    "pandasのデータフレームのインデックスや列にある日付の配列を扱えるように作れた。\n",
    "[pd.to_datetimeの詳細](https://pandas.pydata.org/pandas-docs/stable/generated/pandas.to_datetime.html)"
   ]
  },
  {
   "cell_type": "code",
   "execution_count": 28,
   "metadata": {
    "collapsed": true
   },
   "outputs": [],
   "source": [
    "datestrs = ['7/6/2011', '8/6/2011']"
   ]
  },
  {
   "cell_type": "code",
   "execution_count": 29,
   "metadata": {
    "collapsed": false
   },
   "outputs": [
    {
     "data": {
      "text/plain": [
       "DatetimeIndex(['2011-07-06', '2011-08-06'], dtype='datetime64[ns]', freq=None)"
      ]
     },
     "execution_count": 29,
     "metadata": {},
     "output_type": "execute_result"
    }
   ],
   "source": [
    "pd.to_datetime(datestrs)"
   ]
  },
  {
   "cell_type": "code",
   "execution_count": 31,
   "metadata": {
    "collapsed": false
   },
   "outputs": [
    {
     "data": {
      "text/plain": [
       "DatetimeIndex(['2011-07-06', '2011-08-06', 'NaT'], dtype='datetime64[ns]', freq=None)"
      ]
     },
     "execution_count": 31,
     "metadata": {},
     "output_type": "execute_result"
    }
   ],
   "source": [
    "# 欠損値(Noneや空文字など)を扱う\n",
    "idx = pd.to_datetime(datestrs + [None])\n",
    "idx"
   ]
  },
  {
   "cell_type": "code",
   "execution_count": 33,
   "metadata": {
    "collapsed": false
   },
   "outputs": [
    {
     "data": {
      "text/plain": [
       "array([False, False,  True], dtype=bool)"
      ]
     },
     "execution_count": 33,
     "metadata": {},
     "output_type": "execute_result"
    }
   ],
   "source": [
    "pd.isnull(idx)"
   ]
  },
  {
   "cell_type": "markdown",
   "metadata": {},
   "source": [
    "日付と時間の書式\n",
    "\n",
    "| 書式 | 説明 |\n",
    "|:-----:|:-----:|\n",
    "| `%Y` | 4桁の年 |\n",
    "| `%y` | ２桁の年 |\n",
    "| `%m` | ２桁の月[01, 12] |\n",
    "| `%d` | ２桁の日[01,31] |\n",
    "| `%H` | 時間(24時間)[00, 23] |\n",
    "| `%I` | 時間(12時間)[01, 12] |\n",
    "| `%M` | ２桁の分[00, 59] |\n",
    "| `%S` | 秒[00, 61] (60と61はうるう秒を考慮したもの) |\n",
    "| `%w` | 曜日を表す整数[0(日曜), 6(土曜)] |"
   ]
  },
  {
   "cell_type": "markdown",
   "metadata": {},
   "source": [
    "---\n",
    "# 10.2 時系列の基本\n",
    "pandasにおける最も基本的な時系列オブジェクトは、タイムスタンプによってインデックス付けされたシリーズである。このタイムスタンプはPythonの文字列やdatetimeオブジェクトを使う。"
   ]
  },
  {
   "cell_type": "code",
   "execution_count": 37,
   "metadata": {
    "collapsed": false
   },
   "outputs": [
    {
     "data": {
      "text/plain": [
       "2011-01-02   -0.878902\n",
       "2011-01-05   -0.078415\n",
       "2011-01-07   -0.427183\n",
       "2011-01-08    1.100024\n",
       "2011-01-10    1.809965\n",
       "2011-01-12    0.277677\n",
       "dtype: float64"
      ]
     },
     "execution_count": 37,
     "metadata": {},
     "output_type": "execute_result"
    }
   ],
   "source": [
    "from datetime import datetime\n",
    "\n",
    "dates = [\n",
    "    datetime(2011, 1, 2), datetime(2011, 1, 5), datetime(2011, 1, 7), \n",
    "    datetime(2011, 1, 8), datetime(2011, 1, 10), datetime(2011, 1, 12)\n",
    "]\n",
    "ts = Series(np.random.randn(6), index=dates)\n",
    "ts"
   ]
  },
  {
   "cell_type": "markdown",
   "metadata": {},
   "source": [
    "内部では、`datetime`オブジェクトが`DatetimeIndex`クラスに渡され、変数`ts`はこの時点で時系列(`TimeSeries`)型になる。"
   ]
  },
  {
   "cell_type": "code",
   "execution_count": 38,
   "metadata": {
    "collapsed": false
   },
   "outputs": [
    {
     "data": {
      "text/plain": [
       "pandas.core.series.Series"
      ]
     },
     "execution_count": 38,
     "metadata": {},
     "output_type": "execute_result"
    }
   ],
   "source": [
    "type(ts)"
   ]
  },
  {
   "cell_type": "code",
   "execution_count": 39,
   "metadata": {
    "collapsed": false
   },
   "outputs": [
    {
     "data": {
      "text/plain": [
       "DatetimeIndex(['2011-01-02', '2011-01-05', '2011-01-07', '2011-01-08',\n",
       "               '2011-01-10', '2011-01-12'],\n",
       "              dtype='datetime64[ns]', freq=None)"
      ]
     },
     "execution_count": 39,
     "metadata": {},
     "output_type": "execute_result"
    }
   ],
   "source": [
    "ts.index"
   ]
  },
  {
   "cell_type": "code",
   "execution_count": 48,
   "metadata": {
    "collapsed": false
   },
   "outputs": [
    {
     "data": {
      "text/plain": [
       "Timestamp('2011-01-02 00:00:00')"
      ]
     },
     "execution_count": 48,
     "metadata": {},
     "output_type": "execute_result"
    }
   ],
   "source": [
    "stamp = ts.index[0]\n",
    "stamp"
   ]
  },
  {
   "cell_type": "markdown",
   "metadata": {},
   "source": [
    "## 10.2.1 インデックス参照、データの選択、サブセットの抽出\n",
    "時系列は、シリーズのサブクラスなので、インデックス参照・データの選択などはシリーズと同様な振る舞いをする。"
   ]
  },
  {
   "cell_type": "markdown",
   "metadata": {},
   "source": [
    "### データの選択"
   ]
  },
  {
   "cell_type": "code",
   "execution_count": 49,
   "metadata": {
    "collapsed": false
   },
   "outputs": [
    {
     "data": {
      "text/plain": [
       "-0.42718306181225002"
      ]
     },
     "execution_count": 49,
     "metadata": {},
     "output_type": "execute_result"
    }
   ],
   "source": [
    "stamp = ts.index[2]\n",
    "ts[stamp]"
   ]
  },
  {
   "cell_type": "code",
   "execution_count": 50,
   "metadata": {
    "collapsed": false
   },
   "outputs": [
    {
     "data": {
      "text/plain": [
       "1.8099645005818084"
      ]
     },
     "execution_count": 50,
     "metadata": {},
     "output_type": "execute_result"
    }
   ],
   "source": [
    "ts['1/10/2011']"
   ]
  },
  {
   "cell_type": "code",
   "execution_count": 51,
   "metadata": {
    "collapsed": false
   },
   "outputs": [
    {
     "data": {
      "text/plain": [
       "1.8099645005818084"
      ]
     },
     "execution_count": 51,
     "metadata": {},
     "output_type": "execute_result"
    }
   ],
   "source": [
    "ts['20110110']"
   ]
  },
  {
   "cell_type": "markdown",
   "metadata": {},
   "source": [
    "### サブセットの抽出\n",
    "長い時系列の場合、ある年やある年月を指定して、データの一部分を選択できる"
   ]
  },
  {
   "cell_type": "code",
   "execution_count": 52,
   "metadata": {
    "collapsed": true
   },
   "outputs": [
    {
     "data": {
      "text/plain": [
       "2000-01-01   -0.933219\n",
       "2000-01-02   -0.456159\n",
       "2000-01-03    1.213587\n",
       "2000-01-04   -2.249837\n",
       "2000-01-05   -0.121399\n",
       "2000-01-06    0.120252\n",
       "2000-01-07    1.667014\n",
       "2000-01-08   -0.452382\n",
       "2000-01-09    0.123710\n",
       "2000-01-10   -0.581417\n",
       "2000-01-11   -0.398408\n",
       "2000-01-12    1.923971\n",
       "2000-01-13   -1.429598\n",
       "2000-01-14    0.043977\n",
       "2000-01-15    0.968895\n",
       "2000-01-16   -0.218424\n",
       "2000-01-17    1.914892\n",
       "2000-01-18   -1.008917\n",
       "2000-01-19   -0.670680\n",
       "2000-01-20    0.564774\n",
       "2000-01-21   -0.663499\n",
       "2000-01-22   -1.543444\n",
       "2000-01-23    0.456847\n",
       "2000-01-24    1.258326\n",
       "2000-01-25    0.020148\n",
       "2000-01-26    0.828681\n",
       "2000-01-27   -0.698024\n",
       "2000-01-28    0.182161\n",
       "2000-01-29   -0.470119\n",
       "2000-01-30    0.300146\n",
       "                ...   \n",
       "2002-08-28    1.644348\n",
       "2002-08-29    0.736103\n",
       "2002-08-30   -0.215498\n",
       "2002-08-31    0.084696\n",
       "2002-09-01   -0.238179\n",
       "2002-09-02   -0.117243\n",
       "2002-09-03    0.767720\n",
       "2002-09-04    1.351074\n",
       "2002-09-05    2.215219\n",
       "2002-09-06    0.152384\n",
       "2002-09-07    1.056759\n",
       "2002-09-08   -0.640112\n",
       "2002-09-09   -1.085854\n",
       "2002-09-10   -0.052144\n",
       "2002-09-11   -0.430274\n",
       "2002-09-12   -0.666223\n",
       "2002-09-13    1.306779\n",
       "2002-09-14    0.576218\n",
       "2002-09-15    0.077805\n",
       "2002-09-16   -0.047140\n",
       "2002-09-17    0.080027\n",
       "2002-09-18   -0.285798\n",
       "2002-09-19   -0.258826\n",
       "2002-09-20    1.256616\n",
       "2002-09-21   -1.278874\n",
       "2002-09-22    1.202385\n",
       "2002-09-23    0.088892\n",
       "2002-09-24    0.904501\n",
       "2002-09-25   -0.025303\n",
       "2002-09-26    0.876565\n",
       "Freq: D, dtype: float64"
      ]
     },
     "execution_count": 52,
     "metadata": {},
     "output_type": "execute_result"
    }
   ],
   "source": [
    "longer_ts = Series(np.random.randn(1000), index=pd.date_range('1/1/2000', periods=1000))\n",
    "longer_ts"
   ]
  },
  {
   "cell_type": "code",
   "execution_count": 53,
   "metadata": {
    "collapsed": false,
    "scrolled": true
   },
   "outputs": [
    {
     "data": {
      "text/plain": [
       "2001-01-01    0.394088\n",
       "2001-01-02    0.594825\n",
       "2001-01-03   -1.683998\n",
       "2001-01-04   -0.754066\n",
       "2001-01-05    0.150672\n",
       "2001-01-06    0.326947\n",
       "2001-01-07    0.304799\n",
       "2001-01-08   -0.072869\n",
       "2001-01-09    0.461722\n",
       "2001-01-10    1.120106\n",
       "2001-01-11   -1.177085\n",
       "2001-01-12   -1.304187\n",
       "2001-01-13   -0.146277\n",
       "2001-01-14   -1.346021\n",
       "2001-01-15   -0.212737\n",
       "2001-01-16    1.466339\n",
       "2001-01-17   -0.727520\n",
       "2001-01-18   -1.448845\n",
       "2001-01-19   -1.729323\n",
       "2001-01-20    0.008132\n",
       "2001-01-21   -0.227207\n",
       "2001-01-22   -0.614349\n",
       "2001-01-23    0.125862\n",
       "2001-01-24    1.191822\n",
       "2001-01-25   -2.463811\n",
       "2001-01-26   -0.584736\n",
       "2001-01-27    0.649463\n",
       "2001-01-28    0.844499\n",
       "2001-01-29   -0.308816\n",
       "2001-01-30    0.250401\n",
       "                ...   \n",
       "2001-12-02    1.128321\n",
       "2001-12-03    0.254759\n",
       "2001-12-04   -0.874159\n",
       "2001-12-05   -0.840031\n",
       "2001-12-06    0.087336\n",
       "2001-12-07   -0.251760\n",
       "2001-12-08   -0.932517\n",
       "2001-12-09   -0.980080\n",
       "2001-12-10    0.091575\n",
       "2001-12-11   -0.718474\n",
       "2001-12-12   -1.071208\n",
       "2001-12-13    1.102614\n",
       "2001-12-14   -2.165046\n",
       "2001-12-15    2.041670\n",
       "2001-12-16    0.431391\n",
       "2001-12-17    0.089343\n",
       "2001-12-18    0.258480\n",
       "2001-12-19    2.110377\n",
       "2001-12-20    0.324839\n",
       "2001-12-21    0.777100\n",
       "2001-12-22   -0.187651\n",
       "2001-12-23    0.271805\n",
       "2001-12-24   -1.696243\n",
       "2001-12-25   -0.265547\n",
       "2001-12-26    0.434154\n",
       "2001-12-27    0.559244\n",
       "2001-12-28    0.260176\n",
       "2001-12-29   -0.074425\n",
       "2001-12-30   -0.631850\n",
       "2001-12-31    0.267728\n",
       "Freq: D, dtype: float64"
      ]
     },
     "execution_count": 53,
     "metadata": {},
     "output_type": "execute_result"
    }
   ],
   "source": [
    "# 2001年のデータ\n",
    "longer_ts['2001']"
   ]
  },
  {
   "cell_type": "code",
   "execution_count": 54,
   "metadata": {
    "collapsed": false,
    "scrolled": true
   },
   "outputs": [
    {
     "data": {
      "text/plain": [
       "2001-05-01    0.445308\n",
       "2001-05-02   -0.814985\n",
       "2001-05-03    1.858886\n",
       "2001-05-04   -1.975515\n",
       "2001-05-05   -1.858425\n",
       "2001-05-06    0.061223\n",
       "2001-05-07    1.041752\n",
       "2001-05-08    0.628756\n",
       "2001-05-09    0.447677\n",
       "2001-05-10    0.604242\n",
       "2001-05-11    1.129539\n",
       "2001-05-12    0.174651\n",
       "2001-05-13    0.795280\n",
       "2001-05-14    0.171184\n",
       "2001-05-15   -0.617713\n",
       "2001-05-16   -2.440714\n",
       "2001-05-17   -0.721279\n",
       "2001-05-18    1.759132\n",
       "2001-05-19    1.110302\n",
       "2001-05-20   -1.589561\n",
       "2001-05-21    1.077661\n",
       "2001-05-22   -0.412318\n",
       "2001-05-23   -0.135070\n",
       "2001-05-24   -1.169620\n",
       "2001-05-25   -0.336480\n",
       "2001-05-26   -1.456525\n",
       "2001-05-27    0.184122\n",
       "2001-05-28   -0.809803\n",
       "2001-05-29   -0.519860\n",
       "2001-05-30    0.885821\n",
       "2001-05-31   -0.564621\n",
       "Freq: D, dtype: float64"
      ]
     },
     "execution_count": 54,
     "metadata": {},
     "output_type": "execute_result"
    }
   ],
   "source": [
    "# 2001年５月のデータ\n",
    "longer_ts['2001-05']"
   ]
  },
  {
   "cell_type": "markdown",
   "metadata": {},
   "source": [
    "### DataFrame版"
   ]
  },
  {
   "cell_type": "code",
   "execution_count": 56,
   "metadata": {
    "collapsed": true
   },
   "outputs": [],
   "source": [
    "dates = pd.date_range('1/1/2000', periods=100, freq='W-WED')\n",
    "long_df = DataFrame(np.random.randn(100, 4), index=dates, columns=['Colorado', 'Texas', 'New York', 'Ohio'])"
   ]
  },
  {
   "cell_type": "code",
   "execution_count": 57,
   "metadata": {
    "collapsed": false
   },
   "outputs": [
    {
     "data": {
      "text/html": [
       "<div>\n",
       "<table border=\"1\" class=\"dataframe\">\n",
       "  <thead>\n",
       "    <tr style=\"text-align: right;\">\n",
       "      <th></th>\n",
       "      <th>Colorado</th>\n",
       "      <th>Texas</th>\n",
       "      <th>New York</th>\n",
       "      <th>Ohio</th>\n",
       "    </tr>\n",
       "  </thead>\n",
       "  <tbody>\n",
       "    <tr>\n",
       "      <th>2001-05-02</th>\n",
       "      <td>-0.668551</td>\n",
       "      <td>0.420849</td>\n",
       "      <td>-0.190000</td>\n",
       "      <td>-1.777934</td>\n",
       "    </tr>\n",
       "    <tr>\n",
       "      <th>2001-05-09</th>\n",
       "      <td>-1.521044</td>\n",
       "      <td>1.216055</td>\n",
       "      <td>-1.408504</td>\n",
       "      <td>-0.372913</td>\n",
       "    </tr>\n",
       "    <tr>\n",
       "      <th>2001-05-16</th>\n",
       "      <td>1.239138</td>\n",
       "      <td>0.606125</td>\n",
       "      <td>-1.140517</td>\n",
       "      <td>0.460187</td>\n",
       "    </tr>\n",
       "    <tr>\n",
       "      <th>2001-05-23</th>\n",
       "      <td>-0.247856</td>\n",
       "      <td>0.908995</td>\n",
       "      <td>0.450816</td>\n",
       "      <td>-0.440556</td>\n",
       "    </tr>\n",
       "    <tr>\n",
       "      <th>2001-05-30</th>\n",
       "      <td>-2.234902</td>\n",
       "      <td>-0.027185</td>\n",
       "      <td>-0.425483</td>\n",
       "      <td>0.988520</td>\n",
       "    </tr>\n",
       "  </tbody>\n",
       "</table>\n",
       "</div>"
      ],
      "text/plain": [
       "            Colorado     Texas  New York      Ohio\n",
       "2001-05-02 -0.668551  0.420849 -0.190000 -1.777934\n",
       "2001-05-09 -1.521044  1.216055 -1.408504 -0.372913\n",
       "2001-05-16  1.239138  0.606125 -1.140517  0.460187\n",
       "2001-05-23 -0.247856  0.908995  0.450816 -0.440556\n",
       "2001-05-30 -2.234902 -0.027185 -0.425483  0.988520"
      ]
     },
     "execution_count": 57,
     "metadata": {},
     "output_type": "execute_result"
    }
   ],
   "source": [
    "long_df.ix['5-2001']"
   ]
  },
  {
   "cell_type": "markdown",
   "metadata": {},
   "source": [
    "## 10.2.2 重複したインデックスを持つ時系列"
   ]
  },
  {
   "cell_type": "code",
   "execution_count": 61,
   "metadata": {
    "collapsed": false
   },
   "outputs": [
    {
     "data": {
      "text/plain": [
       "2000-01-01    0\n",
       "2000-01-02    1\n",
       "2000-01-02    2\n",
       "2000-01-02    3\n",
       "2000-01-03    4\n",
       "dtype: int64"
      ]
     },
     "execution_count": 61,
     "metadata": {},
     "output_type": "execute_result"
    }
   ],
   "source": [
    "dates = pd.DatetimeIndex(['1/1/2000', '1/2/2000', '1/2/2000', '1/2/2000', '1/3/2000'])\n",
    "dup_ts = Series(np.arange(5), index=dates)\n",
    "dup_ts"
   ]
  },
  {
   "cell_type": "code",
   "execution_count": 64,
   "metadata": {
    "collapsed": false
   },
   "outputs": [
    {
     "data": {
      "text/plain": [
       "False"
      ]
     },
     "execution_count": 64,
     "metadata": {},
     "output_type": "execute_result"
    }
   ],
   "source": [
    "# インデックスが一意でないことを確認\n",
    "dup_ts.index.is_unique"
   ]
  },
  {
   "cell_type": "code",
   "execution_count": 68,
   "metadata": {
    "collapsed": false
   },
   "outputs": [
    {
     "data": {
      "text/plain": [
       "4"
      ]
     },
     "execution_count": 68,
     "metadata": {},
     "output_type": "execute_result"
    }
   ],
   "source": [
    "# タイムスタンプが重複していない場合→スカラー値\n",
    "dup_ts['1/3/2000']"
   ]
  },
  {
   "cell_type": "code",
   "execution_count": 67,
   "metadata": {
    "collapsed": false
   },
   "outputs": [
    {
     "data": {
      "text/plain": [
       "2000-01-02    1\n",
       "2000-01-02    2\n",
       "2000-01-02    3\n",
       "dtype: int64"
      ]
     },
     "execution_count": 67,
     "metadata": {},
     "output_type": "execute_result"
    }
   ],
   "source": [
    "# タイムスタンプが重複している場合→データの集合\n",
    "dup_ts['1/2/2000']"
   ]
  },
  {
   "cell_type": "markdown",
   "metadata": {},
   "source": [
    "### 一意でないタイムスタンプを持つデータを集約"
   ]
  },
  {
   "cell_type": "code",
   "execution_count": 70,
   "metadata": {
    "collapsed": true
   },
   "outputs": [],
   "source": [
    "# level=0 (インデックス参照している階層を指定している。この場合はインデックス)\n",
    "grouped = dup_ts.groupby(level=0)"
   ]
  },
  {
   "cell_type": "code",
   "execution_count": 71,
   "metadata": {
    "collapsed": false
   },
   "outputs": [
    {
     "data": {
      "text/plain": [
       "2000-01-01    0\n",
       "2000-01-02    2\n",
       "2000-01-03    4\n",
       "dtype: int64"
      ]
     },
     "execution_count": 71,
     "metadata": {},
     "output_type": "execute_result"
    }
   ],
   "source": [
    "grouped.mean()"
   ]
  },
  {
   "cell_type": "code",
   "execution_count": 72,
   "metadata": {
    "collapsed": false
   },
   "outputs": [
    {
     "data": {
      "text/plain": [
       "2000-01-01    1\n",
       "2000-01-02    3\n",
       "2000-01-03    1\n",
       "dtype: int64"
      ]
     },
     "execution_count": 72,
     "metadata": {},
     "output_type": "execute_result"
    }
   ],
   "source": [
    "grouped.count()"
   ]
  },
  {
   "cell_type": "markdown",
   "metadata": {},
   "source": [
    "---\n",
    "# 10.3 日付範囲、頻度、シフト\n",
    "pandasの時系列では基本的に不規則なデータを想定している。つまり、一定頻度であることを想定していない。しかし、たとえ時系列に欠損値を追加することになったとしても、日次、月次、15分おきなどの一定頻度のデータを扱える方が望ましい場合がある。幸いpandasは、標準的な時系列の頻度を扱う昨日や、再サンプリングなどのツールを一式持っている。"
   ]
  },
  {
   "cell_type": "code",
   "execution_count": 79,
   "metadata": {
    "collapsed": false
   },
   "outputs": [
    {
     "data": {
      "text/plain": [
       "2011-01-02   -0.878902\n",
       "2011-01-05   -0.078415\n",
       "2011-01-07   -0.427183\n",
       "2011-01-08    1.100024\n",
       "2011-01-10    1.809965\n",
       "2011-01-12    0.277677\n",
       "dtype: float64"
      ]
     },
     "execution_count": 79,
     "metadata": {},
     "output_type": "execute_result"
    }
   ],
   "source": [
    "ts"
   ]
  },
  {
   "cell_type": "code",
   "execution_count": 80,
   "metadata": {
    "collapsed": false
   },
   "outputs": [
    {
     "data": {
      "text/plain": [
       "DatetimeIndexResampler [freq=<Day>, axis=0, closed=left, label=left, convention=start, base=0]"
      ]
     },
     "execution_count": 80,
     "metadata": {},
     "output_type": "execute_result"
    }
   ],
   "source": [
    "# resampleメソッドを呼ぶことで一定頻度の時系列データに変換することができる\n",
    "# ※再サンプリングは後ほど独立した節で説明する\n",
    "ts.resample('D')"
   ]
  },
  {
   "cell_type": "markdown",
   "metadata": {},
   "source": [
    "## 10.3.1 日付範囲の生成: `pandas.date_range(start, end, periods, freq)`\n",
    "`pandas.date_range(start, end, periods, freq)`は一定の頻度に従う指定した長さの`DatetimeIndex`を生成する\n",
    "\n",
    " - `start`: 開始日\n",
    " - `end`: 終了日\n",
    " - `periods`: 生成する日数\n",
    " - `freq`: 頻度"
   ]
  },
  {
   "cell_type": "code",
   "execution_count": 82,
   "metadata": {
    "collapsed": false
   },
   "outputs": [
    {
     "data": {
      "text/plain": [
       "DatetimeIndex(['2012-04-01', '2012-04-02', '2012-04-03', '2012-04-04',\n",
       "               '2012-04-05', '2012-04-06', '2012-04-07', '2012-04-08',\n",
       "               '2012-04-09', '2012-04-10', '2012-04-11', '2012-04-12',\n",
       "               '2012-04-13', '2012-04-14', '2012-04-15', '2012-04-16',\n",
       "               '2012-04-17', '2012-04-18', '2012-04-19', '2012-04-20',\n",
       "               '2012-04-21', '2012-04-22', '2012-04-23', '2012-04-24',\n",
       "               '2012-04-25', '2012-04-26', '2012-04-27', '2012-04-28',\n",
       "               '2012-04-29', '2012-04-30', '2012-05-01', '2012-05-02',\n",
       "               '2012-05-03', '2012-05-04', '2012-05-05', '2012-05-06',\n",
       "               '2012-05-07', '2012-05-08', '2012-05-09', '2012-05-10',\n",
       "               '2012-05-11', '2012-05-12', '2012-05-13', '2012-05-14',\n",
       "               '2012-05-15', '2012-05-16', '2012-05-17', '2012-05-18',\n",
       "               '2012-05-19', '2012-05-20', '2012-05-21', '2012-05-22',\n",
       "               '2012-05-23', '2012-05-24', '2012-05-25', '2012-05-26',\n",
       "               '2012-05-27', '2012-05-28', '2012-05-29', '2012-05-30',\n",
       "               '2012-05-31', '2012-06-01'],\n",
       "              dtype='datetime64[ns]', freq='D')"
      ]
     },
     "execution_count": 82,
     "metadata": {},
     "output_type": "execute_result"
    }
   ],
   "source": [
    "index = pd.date_range('4/1/2012', '6/1/2012')\n",
    "index"
   ]
  },
  {
   "cell_type": "code",
   "execution_count": 83,
   "metadata": {
    "collapsed": false
   },
   "outputs": [
    {
     "data": {
      "text/plain": [
       "DatetimeIndex(['2012-04-01', '2012-04-02', '2012-04-03', '2012-04-04',\n",
       "               '2012-04-05', '2012-04-06', '2012-04-07', '2012-04-08',\n",
       "               '2012-04-09', '2012-04-10', '2012-04-11', '2012-04-12',\n",
       "               '2012-04-13', '2012-04-14', '2012-04-15', '2012-04-16',\n",
       "               '2012-04-17', '2012-04-18', '2012-04-19', '2012-04-20'],\n",
       "              dtype='datetime64[ns]', freq='D')"
      ]
     },
     "execution_count": 83,
     "metadata": {},
     "output_type": "execute_result"
    }
   ],
   "source": [
    "pd.date_range(start='4/1/2012', periods=20)"
   ]
  },
  {
   "cell_type": "markdown",
   "metadata": {},
   "source": [
    "開始日と終了日は、生成された日付のインデックスにおいて厳密な境界になる。たとえば、各月の最終営業日をインデックスに含ませたい場合は、'BM'(business end of month)を頻度として指定するが、このときは、指定した開始日と終了日に一致するか、範囲の内側に含まれる日付だけが結果に含まれる。"
   ]
  },
  {
   "cell_type": "code",
   "execution_count": 84,
   "metadata": {
    "collapsed": false
   },
   "outputs": [
    {
     "data": {
      "text/plain": [
       "DatetimeIndex(['2000-01-31', '2000-02-29', '2000-03-31', '2000-04-28',\n",
       "               '2000-05-31', '2000-06-30', '2000-07-31', '2000-08-31',\n",
       "               '2000-09-29', '2000-10-31', '2000-11-30'],\n",
       "              dtype='datetime64[ns]', freq='BM')"
      ]
     },
     "execution_count": 84,
     "metadata": {},
     "output_type": "execute_result"
    }
   ],
   "source": [
    "pd.date_range('1/1/2000', '12/1/2000', freq='BM')"
   ]
  },
  {
   "cell_type": "code",
   "execution_count": 85,
   "metadata": {
    "collapsed": false
   },
   "outputs": [
    {
     "data": {
      "text/plain": [
       "DatetimeIndex(['2012-05-02 12:56:32', '2012-05-03 12:56:32',\n",
       "               '2012-05-04 12:56:32', '2012-05-05 12:56:32',\n",
       "               '2012-05-06 12:56:32'],\n",
       "              dtype='datetime64[ns]', freq='D')"
      ]
     },
     "execution_count": 85,
     "metadata": {},
     "output_type": "execute_result"
    }
   ],
   "source": [
    "# pd.date_range()は、デフォルトでは開始と終了のタイムスタンプを(もしあれば)保存する\n",
    "pd.date_range('5/2/2012 12:56:32', periods=5)"
   ]
  },
  {
   "cell_type": "code",
   "execution_count": 86,
   "metadata": {
    "collapsed": false
   },
   "outputs": [
    {
     "data": {
      "text/plain": [
       "DatetimeIndex(['2012-05-02', '2012-05-03', '2012-05-04', '2012-05-05',\n",
       "               '2012-05-06'],\n",
       "              dtype='datetime64[ns]', freq='D')"
      ]
     },
     "execution_count": 86,
     "metadata": {},
     "output_type": "execute_result"
    }
   ],
   "source": [
    "# タイムスタンプを午前零時に標準化したい場合は、normalize=True\n",
    "pd.date_range('5/2/2012 12:56:32', periods=5, normalize=True)"
   ]
  },
  {
   "cell_type": "markdown",
   "metadata": {},
   "source": [
    "## 10.3.2 頻度と日付オフセット\n",
    "pandasにおいて、頻度は**基準頻度**と乗数の組み合わせで構成されている。普通は、毎月の場合を'M'、毎時の場合を'H'のように文字列で基準頻度を参照する。基準頻度には、**日付オフセット**と一般的に呼ばれるオブジェクトが定義されている。"
   ]
  },
  {
   "cell_type": "code",
   "execution_count": 87,
   "metadata": {
    "collapsed": false
   },
   "outputs": [
    {
     "data": {
      "text/plain": [
       "<Hour>"
      ]
     },
     "execution_count": 87,
     "metadata": {},
     "output_type": "execute_result"
    }
   ],
   "source": [
    "from pandas.tseries.offsets import Hour, Minute\n",
    "\n",
    "# 毎時の頻度\n",
    "hour = Hour()\n",
    "hour"
   ]
  },
  {
   "cell_type": "code",
   "execution_count": 88,
   "metadata": {
    "collapsed": false
   },
   "outputs": [
    {
     "data": {
      "text/plain": [
       "<4 * Hours>"
      ]
     },
     "execution_count": 88,
     "metadata": {},
     "output_type": "execute_result"
    }
   ],
   "source": [
    "# 整数を指定することで日付オフセットの倍数を定義\n",
    "four_hours = Hour(4)\n",
    "four_hours"
   ]
  },
  {
   "cell_type": "code",
   "execution_count": 89,
   "metadata": {
    "collapsed": false
   },
   "outputs": [
    {
     "data": {
      "text/plain": [
       "DatetimeIndex(['2000-01-01 00:00:00', '2000-01-01 04:00:00',\n",
       "               '2000-01-01 08:00:00', '2000-01-01 12:00:00',\n",
       "               '2000-01-01 16:00:00', '2000-01-01 20:00:00',\n",
       "               '2000-01-02 00:00:00', '2000-01-02 04:00:00',\n",
       "               '2000-01-02 08:00:00', '2000-01-02 12:00:00',\n",
       "               '2000-01-02 16:00:00', '2000-01-02 20:00:00',\n",
       "               '2000-01-03 00:00:00', '2000-01-03 04:00:00',\n",
       "               '2000-01-03 08:00:00', '2000-01-03 12:00:00',\n",
       "               '2000-01-03 16:00:00', '2000-01-03 20:00:00'],\n",
       "              dtype='datetime64[ns]', freq='4H')"
      ]
     },
     "execution_count": 89,
     "metadata": {},
     "output_type": "execute_result"
    }
   ],
   "source": [
    "pd.date_range('1/1/2000', '1/3/2000 23:59', freq='4h')"
   ]
  },
  {
   "cell_type": "code",
   "execution_count": 90,
   "metadata": {
    "collapsed": false
   },
   "outputs": [
    {
     "data": {
      "text/plain": [
       "<150 * Minutes>"
      ]
     },
     "execution_count": 90,
     "metadata": {},
     "output_type": "execute_result"
    }
   ],
   "source": [
    "Hour(2) + Minute(30)"
   ]
  },
  {
   "cell_type": "code",
   "execution_count": 95,
   "metadata": {
    "collapsed": false
   },
   "outputs": [
    {
     "name": "stdout",
     "output_type": "stream",
     "text": [
      "DatetimeIndex(['2000-01-01 00:00:00', '2000-01-01 01:30:00',\n",
      "               '2000-01-01 03:00:00', '2000-01-01 04:30:00',\n",
      "               '2000-01-01 06:00:00', '2000-01-01 07:30:00',\n",
      "               '2000-01-01 09:00:00', '2000-01-01 10:30:00',\n",
      "               '2000-01-01 12:00:00', '2000-01-01 13:30:00'],\n",
      "              dtype='datetime64[ns]', freq='90T')\n",
      "DatetimeIndex(['2000-01-01 00:00:00', '2000-01-01 01:30:00',\n",
      "               '2000-01-01 03:00:00', '2000-01-01 04:30:00',\n",
      "               '2000-01-01 06:00:00', '2000-01-01 07:30:00',\n",
      "               '2000-01-01 09:00:00', '2000-01-01 10:30:00',\n",
      "               '2000-01-01 12:00:00', '2000-01-01 13:30:00'],\n",
      "              dtype='datetime64[ns]', freq='90T')\n"
     ]
    }
   ],
   "source": [
    "print(pd.date_range('1/1/2000', periods=10, freq='1h30min'))\n",
    "print(pd.date_range('1/1/2000', periods=10, freq=Hour(1) + Minute(30)))"
   ]
  },
  {
   "cell_type": "markdown",
   "metadata": {},
   "source": [
    "時系列の基準頻度\n",
    "\n",
    "| 文字 | オフセットクラス | 説明 |\n",
    "|:-----:|:------------------|:-------|\n",
    "| D | `Day` | 暦通りの日次 |\n",
    "| B | `BusinessDay` | 毎営業日 |\n",
    "| H | `Hour` | 毎時 |\n",
    "| Tまたはmin | `Minute` | 毎分 |\n",
    "| S | `Second` | 毎秒 |\n",
    "| Lまたはms | `Milli` | 毎ミリ秒(1秒の1/1000) |\n",
    "| U | Micro | 毎マイクロ秒(１秒の1/1000000) |\n",
    "| M | `MonthEnd` | 暦通りの月末 |\n",
    "| BM | `BusinessMonthEnd` | 月の最終営業日 |\n",
    "| MS | `MonthBegin` | 暦通りの月初ごと |\n",
    "| BMS | `BusinessMonthBegin` | 月の営業開始日ごと |\n",
    "| W-MON, W-TUE, ... | `Week` | 毎週指定した曜日ごと: MON(月)、TUE(火)、...　 |\n",
    "| WOM-1MON, WOM-2MON, ... | `WeekOfMonth` | 月の第１〜４週日の指定した曜日ごと。例えば、WOM-3FRIの場合は、毎月第3金曜日。 |\n",
    "| Q-JAN, Q-FEB, ... | `QuarterEnd` | 指定した月に年度が終わる前提で、四半期の暦通りの月末ごと: JAN(1月)、FEB(２月)、MAR(３月)、APR(４月)、... |\n",
    "| BQ-JAN, BQ-FEB, ... | `BusinessQuarterEnd` | 指定した月に年度が終わる前提で、四半期の最終営業日ごと |\n",
    "| QS-JAN, QS-FEB, ... | `QuarterBegin` | 指定した月に年度が終わる前提で、四半期の暦通りの月初ごと |\n",
    "| BQS-JAN, BQS-FEB, ... | `BusinessQuarterEnd` | 指定した月に年度が終わる前提で、四半期の最終営業日ごと |"
   ]
  },
  {
   "cell_type": "markdown",
   "metadata": {},
   "source": [
    "## 10.3.3 データの前方と後方へのシフト: `時系列データ.shift(periods, freq, axis)`\n",
    "[pandas.DataFrame.shift](https://pandas.pydata.org/pandas-docs/stable/generated/pandas.DataFrame.shift.html)  \n",
    "ここでいう「シフト」は、データを時間的に前方や後方へ移動させることを指す。シリーズでもデータフレームも`shift`メソッドを持っていて、単純な前方、後方へのシフトを行う。このときインデックスは変わらない。"
   ]
  },
  {
   "cell_type": "code",
   "execution_count": 108,
   "metadata": {
    "collapsed": false,
    "scrolled": true
   },
   "outputs": [
    {
     "data": {
      "text/plain": [
       "2000-01-31   -0.643082\n",
       "2000-02-29   -0.457722\n",
       "2000-03-31   -0.657434\n",
       "2000-04-30   -0.440094\n",
       "Freq: M, dtype: float64"
      ]
     },
     "execution_count": 108,
     "metadata": {},
     "output_type": "execute_result"
    }
   ],
   "source": [
    "ts = Series(np.random.randn(4), index=pd.date_range('1/1/2000', periods=4, freq='M'))\n",
    "ts"
   ]
  },
  {
   "cell_type": "code",
   "execution_count": 100,
   "metadata": {
    "collapsed": false
   },
   "outputs": [
    {
     "data": {
      "text/plain": [
       "2000-01-31         NaN\n",
       "2000-02-29    0.470174\n",
       "2000-03-31    0.663022\n",
       "2000-04-30   -0.598547\n",
       "Freq: M, dtype: float64"
      ]
     },
     "execution_count": 100,
     "metadata": {},
     "output_type": "execute_result"
    }
   ],
   "source": [
    "ts.shift(1)"
   ]
  },
  {
   "cell_type": "markdown",
   "metadata": {},
   "source": [
    "### 時系列のパーセント変化を計算\n",
    "$$\n",
    "変化率 = \\frac {Y_{t+1} - Y_{t}}{Y_{t}}\n",
    "$$"
   ]
  },
  {
   "cell_type": "code",
   "execution_count": 104,
   "metadata": {
    "collapsed": false
   },
   "outputs": [
    {
     "data": {
      "text/plain": [
       "2000-01-31         NaN\n",
       "2000-02-29   -0.290862\n",
       "2000-03-31   -2.107719\n",
       "2000-04-30   -1.419115\n",
       "Freq: M, dtype: float64"
      ]
     },
     "execution_count": 104,
     "metadata": {},
     "output_type": "execute_result"
    }
   ],
   "source": [
    "# ΔY/Y\n",
    "ts/ts.shift(1) -1"
   ]
  },
  {
   "cell_type": "markdown",
   "metadata": {},
   "source": [
    "### タイムスタンプ(インデックス)もシフトさせる: 時系列データ.shift(periods, freq)"
   ]
  },
  {
   "cell_type": "code",
   "execution_count": 106,
   "metadata": {
    "collapsed": false
   },
   "outputs": [
    {
     "data": {
      "text/plain": [
       "2000-04-30    0.470174\n",
       "2000-05-31    0.663022\n",
       "2000-06-30   -0.598547\n",
       "2000-07-31    1.428122\n",
       "Freq: M, dtype: float64"
      ]
     },
     "execution_count": 106,
     "metadata": {},
     "output_type": "execute_result"
    }
   ],
   "source": [
    "# 三ヶ月シフトする\n",
    "ts.shift(3, freq='M')"
   ]
  },
  {
   "cell_type": "code",
   "execution_count": 112,
   "metadata": {
    "collapsed": false
   },
   "outputs": [
    {
     "data": {
      "text/plain": [
       "2000-02-03   -0.643082\n",
       "2000-03-03   -0.457722\n",
       "2000-04-03   -0.657434\n",
       "2000-05-03   -0.440094\n",
       "dtype: float64"
      ]
     },
     "execution_count": 112,
     "metadata": {},
     "output_type": "execute_result"
    }
   ],
   "source": [
    "# ３日シフト\n",
    "ts.shift(3, freq='D')"
   ]
  },
  {
   "cell_type": "markdown",
   "metadata": {},
   "source": [
    "### 10.3.3.1 オフセットを使用して日付をシフトする\n",
    "pandasの日付オフセットは`datetime`やタイムスタンプオブジェクトに対しても使うことができる。"
   ]
  },
  {
   "cell_type": "code",
   "execution_count": 110,
   "metadata": {
    "collapsed": true
   },
   "outputs": [],
   "source": [
    "from pandas.tseries.offsets import Day, MonthEnd\n",
    "\n",
    "now = datetime(2011, 11, 17)"
   ]
  },
  {
   "cell_type": "code",
   "execution_count": 115,
   "metadata": {
    "collapsed": false
   },
   "outputs": [
    {
     "data": {
      "text/plain": [
       "Timestamp('2011-11-20 00:00:00')"
      ]
     },
     "execution_count": 115,
     "metadata": {},
     "output_type": "execute_result"
    }
   ],
   "source": [
    "now + 3 * Day()"
   ]
  },
  {
   "cell_type": "code",
   "execution_count": 116,
   "metadata": {
    "collapsed": false
   },
   "outputs": [
    {
     "data": {
      "text/plain": [
       "Timestamp('2011-11-30 00:00:00')"
      ]
     },
     "execution_count": 116,
     "metadata": {},
     "output_type": "execute_result"
    }
   ],
   "source": [
    "now + MonthEnd()"
   ]
  },
  {
   "cell_type": "code",
   "execution_count": 117,
   "metadata": {
    "collapsed": false
   },
   "outputs": [
    {
     "data": {
      "text/plain": [
       "Timestamp('2011-12-31 00:00:00')"
      ]
     },
     "execution_count": 117,
     "metadata": {},
     "output_type": "execute_result"
    }
   ],
   "source": [
    "now + MonthEnd(2)"
   ]
  },
  {
   "cell_type": "markdown",
   "metadata": {},
   "source": [
    "#### `オフセットオブジェクト.rollforward()`と`オフセットオブジェクト.rollback()`"
   ]
  },
  {
   "cell_type": "code",
   "execution_count": 120,
   "metadata": {
    "collapsed": false
   },
   "outputs": [
    {
     "data": {
      "text/plain": [
       "Timestamp('2011-11-30 00:00:00')"
      ]
     },
     "execution_count": 120,
     "metadata": {},
     "output_type": "execute_result"
    }
   ],
   "source": [
    "offset = MonthEnd()\n",
    "offset.rollforward(now)"
   ]
  },
  {
   "cell_type": "code",
   "execution_count": 121,
   "metadata": {
    "collapsed": false
   },
   "outputs": [
    {
     "data": {
      "text/plain": [
       "Timestamp('2011-10-31 00:00:00')"
      ]
     },
     "execution_count": 121,
     "metadata": {},
     "output_type": "execute_result"
    }
   ],
   "source": [
    "offset.rollback(now)"
   ]
  },
  {
   "cell_type": "code",
   "execution_count": 122,
   "metadata": {
    "collapsed": false,
    "scrolled": false
   },
   "outputs": [
    {
     "data": {
      "text/plain": [
       "2000-01-15   -0.329445\n",
       "2000-01-19   -1.172113\n",
       "2000-01-23    0.549152\n",
       "2000-01-27    0.380388\n",
       "2000-01-31   -1.355119\n",
       "2000-02-04   -1.195955\n",
       "2000-02-08   -0.424088\n",
       "2000-02-12   -0.576696\n",
       "2000-02-16    1.001201\n",
       "2000-02-20    0.035975\n",
       "2000-02-24   -0.010602\n",
       "2000-02-28    1.180081\n",
       "2000-03-03    1.525230\n",
       "2000-03-07   -1.307874\n",
       "2000-03-11   -0.859251\n",
       "2000-03-15   -0.186853\n",
       "2000-03-19    0.420273\n",
       "2000-03-23   -1.332621\n",
       "2000-03-27    0.319369\n",
       "2000-03-31    1.268241\n",
       "Freq: 4D, dtype: float64"
      ]
     },
     "execution_count": 122,
     "metadata": {},
     "output_type": "execute_result"
    }
   ],
   "source": [
    "# groupbyメソッドと一緒に使う\n",
    "ts = Series(np.random.randn(20), index=pd.date_range('1/15/2000', periods=20, freq='4d'))\n",
    "ts"
   ]
  },
  {
   "cell_type": "code",
   "execution_count": 126,
   "metadata": {
    "collapsed": false
   },
   "outputs": [
    {
     "data": {
      "text/plain": [
       "2000-01-31   -0.385427\n",
       "2000-02-29    0.001416\n",
       "2000-03-31   -0.019186\n",
       "dtype: float64"
      ]
     },
     "execution_count": 126,
     "metadata": {},
     "output_type": "execute_result"
    }
   ],
   "source": [
    "# 以下の処理は、resampleメソッドを使うと簡単で早く同じことができる。\n",
    "ts.groupby(offset.rollforward).mean()"
   ]
  }
 ],
 "metadata": {
  "kernelspec": {
   "display_name": "Python 3",
   "language": "python",
   "name": "python3"
  },
  "language_info": {
   "codemirror_mode": {
    "name": "ipython",
    "version": 3
   },
   "file_extension": ".py",
   "mimetype": "text/x-python",
   "name": "python",
   "nbconvert_exporter": "python",
   "pygments_lexer": "ipython3",
   "version": "3.4.5"
  }
 },
 "nbformat": 4,
 "nbformat_minor": 0
}
