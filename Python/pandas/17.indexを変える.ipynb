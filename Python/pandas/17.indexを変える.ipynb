{
 "cells": [
  {
   "cell_type": "code",
   "execution_count": 2,
   "metadata": {
    "collapsed": true
   },
   "outputs": [],
   "source": [
    "import numpy as np\n",
    "import pandas as pd\n",
    "from pandas import Series, DataFrame\n",
    "from numpy.random import randn"
   ]
  },
  {
   "cell_type": "code",
   "execution_count": 3,
   "metadata": {
    "collapsed": true
   },
   "outputs": [],
   "source": [
    "ser1 = Series([1,2,3,4], index=['A', 'B', 'C', 'D'])"
   ]
  },
  {
   "cell_type": "code",
   "execution_count": 4,
   "metadata": {
    "collapsed": false
   },
   "outputs": [
    {
     "data": {
      "text/plain": [
       "A    1\n",
       "B    2\n",
       "C    3\n",
       "D    4\n",
       "dtype: int64"
      ]
     },
     "execution_count": 4,
     "metadata": {},
     "output_type": "execute_result"
    }
   ],
   "source": [
    "ser1"
   ]
  },
  {
   "cell_type": "code",
   "execution_count": 5,
   "metadata": {
    "collapsed": true
   },
   "outputs": [],
   "source": [
    "ser2 = ser1.reindex(['A', 'B', 'C', 'D', 'E', 'F'])"
   ]
  },
  {
   "cell_type": "code",
   "execution_count": 6,
   "metadata": {
    "collapsed": false
   },
   "outputs": [
    {
     "data": {
      "text/plain": [
       "A     1\n",
       "B     2\n",
       "C     3\n",
       "D     4\n",
       "E   NaN\n",
       "F   NaN\n",
       "dtype: float64"
      ]
     },
     "execution_count": 6,
     "metadata": {},
     "output_type": "execute_result"
    }
   ],
   "source": [
    "ser2"
   ]
  },
  {
   "cell_type": "code",
   "execution_count": 7,
   "metadata": {
    "collapsed": false
   },
   "outputs": [
    {
     "data": {
      "text/plain": [
       "A     1\n",
       "B     2\n",
       "C     3\n",
       "D     4\n",
       "E   NaN\n",
       "F   NaN\n",
       "G     0\n",
       "dtype: float64"
      ]
     },
     "execution_count": 7,
     "metadata": {},
     "output_type": "execute_result"
    }
   ],
   "source": [
    "ser2.reindex(['A', 'B', 'C', 'D', 'E', 'F', 'G'], fill_value=0)"
   ]
  },
  {
   "cell_type": "code",
   "execution_count": 8,
   "metadata": {
    "collapsed": true
   },
   "outputs": [],
   "source": [
    "ser3 = Series(['USA', 'Mexico', 'Canada'], index=[0, 5, 10])"
   ]
  },
  {
   "cell_type": "code",
   "execution_count": 9,
   "metadata": {
    "collapsed": false
   },
   "outputs": [
    {
     "data": {
      "text/plain": [
       "0        USA\n",
       "5     Mexico\n",
       "10    Canada\n",
       "dtype: object"
      ]
     },
     "execution_count": 9,
     "metadata": {},
     "output_type": "execute_result"
    }
   ],
   "source": [
    "ser3"
   ]
  },
  {
   "cell_type": "code",
   "execution_count": 10,
   "metadata": {
    "collapsed": false
   },
   "outputs": [
    {
     "data": {
      "text/plain": [
       "0        USA\n",
       "1        USA\n",
       "2        USA\n",
       "3        USA\n",
       "4        USA\n",
       "5     Mexico\n",
       "6     Mexico\n",
       "7     Mexico\n",
       "8     Mexico\n",
       "9     Mexico\n",
       "10    Canada\n",
       "11    Canada\n",
       "12    Canada\n",
       "13    Canada\n",
       "14    Canada\n",
       "dtype: object"
      ]
     },
     "execution_count": 10,
     "metadata": {},
     "output_type": "execute_result"
    }
   ],
   "source": [
    "ser3.reindex(range(15), method='ffill')"
   ]
  },
  {
   "cell_type": "code",
   "execution_count": 11,
   "metadata": {
    "collapsed": true
   },
   "outputs": [],
   "source": [
    "dframe = DataFrame(randn(25).reshape(5,5), index=['A', 'B', 'D', 'E', 'F'], columns=['col1', 'col2', 'col3', 'col4', 'col5'])"
   ]
  },
  {
   "cell_type": "code",
   "execution_count": 12,
   "metadata": {
    "collapsed": false
   },
   "outputs": [
    {
     "data": {
      "text/html": [
       "<div>\n",
       "<table border=\"1\" class=\"dataframe\">\n",
       "  <thead>\n",
       "    <tr style=\"text-align: right;\">\n",
       "      <th></th>\n",
       "      <th>col1</th>\n",
       "      <th>col2</th>\n",
       "      <th>col3</th>\n",
       "      <th>col4</th>\n",
       "      <th>col5</th>\n",
       "    </tr>\n",
       "  </thead>\n",
       "  <tbody>\n",
       "    <tr>\n",
       "      <th>A</th>\n",
       "      <td>0.356701</td>\n",
       "      <td>1.320247</td>\n",
       "      <td>-1.760869</td>\n",
       "      <td>0.139709</td>\n",
       "      <td>-1.510389</td>\n",
       "    </tr>\n",
       "    <tr>\n",
       "      <th>B</th>\n",
       "      <td>0.902505</td>\n",
       "      <td>-1.628079</td>\n",
       "      <td>0.074746</td>\n",
       "      <td>1.069206</td>\n",
       "      <td>-0.217382</td>\n",
       "    </tr>\n",
       "    <tr>\n",
       "      <th>D</th>\n",
       "      <td>0.602696</td>\n",
       "      <td>0.188683</td>\n",
       "      <td>-0.179634</td>\n",
       "      <td>-0.453286</td>\n",
       "      <td>0.696886</td>\n",
       "    </tr>\n",
       "    <tr>\n",
       "      <th>E</th>\n",
       "      <td>1.422724</td>\n",
       "      <td>-0.613655</td>\n",
       "      <td>-0.994664</td>\n",
       "      <td>-1.066428</td>\n",
       "      <td>-1.461633</td>\n",
       "    </tr>\n",
       "    <tr>\n",
       "      <th>F</th>\n",
       "      <td>0.401310</td>\n",
       "      <td>-0.135541</td>\n",
       "      <td>0.715308</td>\n",
       "      <td>-0.281968</td>\n",
       "      <td>1.247003</td>\n",
       "    </tr>\n",
       "  </tbody>\n",
       "</table>\n",
       "</div>"
      ],
      "text/plain": [
       "       col1      col2      col3      col4      col5\n",
       "A  0.356701  1.320247 -1.760869  0.139709 -1.510389\n",
       "B  0.902505 -1.628079  0.074746  1.069206 -0.217382\n",
       "D  0.602696  0.188683 -0.179634 -0.453286  0.696886\n",
       "E  1.422724 -0.613655 -0.994664 -1.066428 -1.461633\n",
       "F  0.401310 -0.135541  0.715308 -0.281968  1.247003"
      ]
     },
     "execution_count": 12,
     "metadata": {},
     "output_type": "execute_result"
    }
   ],
   "source": [
    "dframe"
   ]
  },
  {
   "cell_type": "code",
   "execution_count": 13,
   "metadata": {
    "collapsed": true
   },
   "outputs": [],
   "source": [
    "new_index =['A', 'B', 'C', 'D', 'E', 'F']\n",
    "dframe2 = dframe.reindex(new_index)"
   ]
  },
  {
   "cell_type": "code",
   "execution_count": 14,
   "metadata": {
    "collapsed": false
   },
   "outputs": [
    {
     "data": {
      "text/html": [
       "<div>\n",
       "<table border=\"1\" class=\"dataframe\">\n",
       "  <thead>\n",
       "    <tr style=\"text-align: right;\">\n",
       "      <th></th>\n",
       "      <th>col1</th>\n",
       "      <th>col2</th>\n",
       "      <th>col3</th>\n",
       "      <th>col4</th>\n",
       "      <th>col5</th>\n",
       "    </tr>\n",
       "  </thead>\n",
       "  <tbody>\n",
       "    <tr>\n",
       "      <th>A</th>\n",
       "      <td>0.356701</td>\n",
       "      <td>1.320247</td>\n",
       "      <td>-1.760869</td>\n",
       "      <td>0.139709</td>\n",
       "      <td>-1.510389</td>\n",
       "    </tr>\n",
       "    <tr>\n",
       "      <th>B</th>\n",
       "      <td>0.902505</td>\n",
       "      <td>-1.628079</td>\n",
       "      <td>0.074746</td>\n",
       "      <td>1.069206</td>\n",
       "      <td>-0.217382</td>\n",
       "    </tr>\n",
       "    <tr>\n",
       "      <th>C</th>\n",
       "      <td>NaN</td>\n",
       "      <td>NaN</td>\n",
       "      <td>NaN</td>\n",
       "      <td>NaN</td>\n",
       "      <td>NaN</td>\n",
       "    </tr>\n",
       "    <tr>\n",
       "      <th>D</th>\n",
       "      <td>0.602696</td>\n",
       "      <td>0.188683</td>\n",
       "      <td>-0.179634</td>\n",
       "      <td>-0.453286</td>\n",
       "      <td>0.696886</td>\n",
       "    </tr>\n",
       "    <tr>\n",
       "      <th>E</th>\n",
       "      <td>1.422724</td>\n",
       "      <td>-0.613655</td>\n",
       "      <td>-0.994664</td>\n",
       "      <td>-1.066428</td>\n",
       "      <td>-1.461633</td>\n",
       "    </tr>\n",
       "    <tr>\n",
       "      <th>F</th>\n",
       "      <td>0.401310</td>\n",
       "      <td>-0.135541</td>\n",
       "      <td>0.715308</td>\n",
       "      <td>-0.281968</td>\n",
       "      <td>1.247003</td>\n",
       "    </tr>\n",
       "  </tbody>\n",
       "</table>\n",
       "</div>"
      ],
      "text/plain": [
       "       col1      col2      col3      col4      col5\n",
       "A  0.356701  1.320247 -1.760869  0.139709 -1.510389\n",
       "B  0.902505 -1.628079  0.074746  1.069206 -0.217382\n",
       "C       NaN       NaN       NaN       NaN       NaN\n",
       "D  0.602696  0.188683 -0.179634 -0.453286  0.696886\n",
       "E  1.422724 -0.613655 -0.994664 -1.066428 -1.461633\n",
       "F  0.401310 -0.135541  0.715308 -0.281968  1.247003"
      ]
     },
     "execution_count": 14,
     "metadata": {},
     "output_type": "execute_result"
    }
   ],
   "source": [
    "dframe2"
   ]
  },
  {
   "cell_type": "code",
   "execution_count": 15,
   "metadata": {
    "collapsed": false
   },
   "outputs": [
    {
     "data": {
      "text/html": [
       "<div>\n",
       "<table border=\"1\" class=\"dataframe\">\n",
       "  <thead>\n",
       "    <tr style=\"text-align: right;\">\n",
       "      <th></th>\n",
       "      <th>col1</th>\n",
       "      <th>col2</th>\n",
       "      <th>col3</th>\n",
       "      <th>col4</th>\n",
       "      <th>col5</th>\n",
       "      <th>col6</th>\n",
       "    </tr>\n",
       "  </thead>\n",
       "  <tbody>\n",
       "    <tr>\n",
       "      <th>A</th>\n",
       "      <td>0.356701</td>\n",
       "      <td>1.320247</td>\n",
       "      <td>-1.760869</td>\n",
       "      <td>0.139709</td>\n",
       "      <td>-1.510389</td>\n",
       "      <td>NaN</td>\n",
       "    </tr>\n",
       "    <tr>\n",
       "      <th>B</th>\n",
       "      <td>0.902505</td>\n",
       "      <td>-1.628079</td>\n",
       "      <td>0.074746</td>\n",
       "      <td>1.069206</td>\n",
       "      <td>-0.217382</td>\n",
       "      <td>NaN</td>\n",
       "    </tr>\n",
       "    <tr>\n",
       "      <th>C</th>\n",
       "      <td>NaN</td>\n",
       "      <td>NaN</td>\n",
       "      <td>NaN</td>\n",
       "      <td>NaN</td>\n",
       "      <td>NaN</td>\n",
       "      <td>NaN</td>\n",
       "    </tr>\n",
       "    <tr>\n",
       "      <th>D</th>\n",
       "      <td>0.602696</td>\n",
       "      <td>0.188683</td>\n",
       "      <td>-0.179634</td>\n",
       "      <td>-0.453286</td>\n",
       "      <td>0.696886</td>\n",
       "      <td>NaN</td>\n",
       "    </tr>\n",
       "    <tr>\n",
       "      <th>E</th>\n",
       "      <td>1.422724</td>\n",
       "      <td>-0.613655</td>\n",
       "      <td>-0.994664</td>\n",
       "      <td>-1.066428</td>\n",
       "      <td>-1.461633</td>\n",
       "      <td>NaN</td>\n",
       "    </tr>\n",
       "    <tr>\n",
       "      <th>F</th>\n",
       "      <td>0.401310</td>\n",
       "      <td>-0.135541</td>\n",
       "      <td>0.715308</td>\n",
       "      <td>-0.281968</td>\n",
       "      <td>1.247003</td>\n",
       "      <td>NaN</td>\n",
       "    </tr>\n",
       "  </tbody>\n",
       "</table>\n",
       "</div>"
      ],
      "text/plain": [
       "       col1      col2      col3      col4      col5  col6\n",
       "A  0.356701  1.320247 -1.760869  0.139709 -1.510389   NaN\n",
       "B  0.902505 -1.628079  0.074746  1.069206 -0.217382   NaN\n",
       "C       NaN       NaN       NaN       NaN       NaN   NaN\n",
       "D  0.602696  0.188683 -0.179634 -0.453286  0.696886   NaN\n",
       "E  1.422724 -0.613655 -0.994664 -1.066428 -1.461633   NaN\n",
       "F  0.401310 -0.135541  0.715308 -0.281968  1.247003   NaN"
      ]
     },
     "execution_count": 15,
     "metadata": {},
     "output_type": "execute_result"
    }
   ],
   "source": [
    "new_columns = ['col1', 'col2', 'col3', 'col4', 'col5', 'col6']\n",
    "dframe2.reindex(columns=new_columns)"
   ]
  },
  {
   "cell_type": "code",
   "execution_count": 16,
   "metadata": {
    "collapsed": false
   },
   "outputs": [
    {
     "data": {
      "text/html": [
       "<div>\n",
       "<table border=\"1\" class=\"dataframe\">\n",
       "  <thead>\n",
       "    <tr style=\"text-align: right;\">\n",
       "      <th></th>\n",
       "      <th>col1</th>\n",
       "      <th>col2</th>\n",
       "      <th>col3</th>\n",
       "      <th>col4</th>\n",
       "      <th>col5</th>\n",
       "    </tr>\n",
       "  </thead>\n",
       "  <tbody>\n",
       "    <tr>\n",
       "      <th>A</th>\n",
       "      <td>0.356701</td>\n",
       "      <td>1.320247</td>\n",
       "      <td>-1.760869</td>\n",
       "      <td>0.139709</td>\n",
       "      <td>-1.510389</td>\n",
       "    </tr>\n",
       "    <tr>\n",
       "      <th>B</th>\n",
       "      <td>0.902505</td>\n",
       "      <td>-1.628079</td>\n",
       "      <td>0.074746</td>\n",
       "      <td>1.069206</td>\n",
       "      <td>-0.217382</td>\n",
       "    </tr>\n",
       "    <tr>\n",
       "      <th>D</th>\n",
       "      <td>0.602696</td>\n",
       "      <td>0.188683</td>\n",
       "      <td>-0.179634</td>\n",
       "      <td>-0.453286</td>\n",
       "      <td>0.696886</td>\n",
       "    </tr>\n",
       "    <tr>\n",
       "      <th>E</th>\n",
       "      <td>1.422724</td>\n",
       "      <td>-0.613655</td>\n",
       "      <td>-0.994664</td>\n",
       "      <td>-1.066428</td>\n",
       "      <td>-1.461633</td>\n",
       "    </tr>\n",
       "    <tr>\n",
       "      <th>F</th>\n",
       "      <td>0.401310</td>\n",
       "      <td>-0.135541</td>\n",
       "      <td>0.715308</td>\n",
       "      <td>-0.281968</td>\n",
       "      <td>1.247003</td>\n",
       "    </tr>\n",
       "  </tbody>\n",
       "</table>\n",
       "</div>"
      ],
      "text/plain": [
       "       col1      col2      col3      col4      col5\n",
       "A  0.356701  1.320247 -1.760869  0.139709 -1.510389\n",
       "B  0.902505 -1.628079  0.074746  1.069206 -0.217382\n",
       "D  0.602696  0.188683 -0.179634 -0.453286  0.696886\n",
       "E  1.422724 -0.613655 -0.994664 -1.066428 -1.461633\n",
       "F  0.401310 -0.135541  0.715308 -0.281968  1.247003"
      ]
     },
     "execution_count": 16,
     "metadata": {},
     "output_type": "execute_result"
    }
   ],
   "source": [
    "dframe"
   ]
  },
  {
   "cell_type": "code",
   "execution_count": 17,
   "metadata": {
    "collapsed": false
   },
   "outputs": [
    {
     "data": {
      "text/html": [
       "<div>\n",
       "<table border=\"1\" class=\"dataframe\">\n",
       "  <thead>\n",
       "    <tr style=\"text-align: right;\">\n",
       "      <th></th>\n",
       "      <th>col1</th>\n",
       "      <th>col2</th>\n",
       "      <th>col3</th>\n",
       "      <th>col4</th>\n",
       "      <th>col5</th>\n",
       "      <th>col6</th>\n",
       "    </tr>\n",
       "  </thead>\n",
       "  <tbody>\n",
       "    <tr>\n",
       "      <th>A</th>\n",
       "      <td>0.356701</td>\n",
       "      <td>1.320247</td>\n",
       "      <td>-1.760869</td>\n",
       "      <td>0.139709</td>\n",
       "      <td>-1.510389</td>\n",
       "      <td>NaN</td>\n",
       "    </tr>\n",
       "    <tr>\n",
       "      <th>B</th>\n",
       "      <td>0.902505</td>\n",
       "      <td>-1.628079</td>\n",
       "      <td>0.074746</td>\n",
       "      <td>1.069206</td>\n",
       "      <td>-0.217382</td>\n",
       "      <td>NaN</td>\n",
       "    </tr>\n",
       "    <tr>\n",
       "      <th>C</th>\n",
       "      <td>NaN</td>\n",
       "      <td>NaN</td>\n",
       "      <td>NaN</td>\n",
       "      <td>NaN</td>\n",
       "      <td>NaN</td>\n",
       "      <td>NaN</td>\n",
       "    </tr>\n",
       "    <tr>\n",
       "      <th>D</th>\n",
       "      <td>0.602696</td>\n",
       "      <td>0.188683</td>\n",
       "      <td>-0.179634</td>\n",
       "      <td>-0.453286</td>\n",
       "      <td>0.696886</td>\n",
       "      <td>NaN</td>\n",
       "    </tr>\n",
       "    <tr>\n",
       "      <th>E</th>\n",
       "      <td>1.422724</td>\n",
       "      <td>-0.613655</td>\n",
       "      <td>-0.994664</td>\n",
       "      <td>-1.066428</td>\n",
       "      <td>-1.461633</td>\n",
       "      <td>NaN</td>\n",
       "    </tr>\n",
       "    <tr>\n",
       "      <th>F</th>\n",
       "      <td>0.401310</td>\n",
       "      <td>-0.135541</td>\n",
       "      <td>0.715308</td>\n",
       "      <td>-0.281968</td>\n",
       "      <td>1.247003</td>\n",
       "      <td>NaN</td>\n",
       "    </tr>\n",
       "  </tbody>\n",
       "</table>\n",
       "</div>"
      ],
      "text/plain": [
       "       col1      col2      col3      col4      col5  col6\n",
       "A  0.356701  1.320247 -1.760869  0.139709 -1.510389   NaN\n",
       "B  0.902505 -1.628079  0.074746  1.069206 -0.217382   NaN\n",
       "C       NaN       NaN       NaN       NaN       NaN   NaN\n",
       "D  0.602696  0.188683 -0.179634 -0.453286  0.696886   NaN\n",
       "E  1.422724 -0.613655 -0.994664 -1.066428 -1.461633   NaN\n",
       "F  0.401310 -0.135541  0.715308 -0.281968  1.247003   NaN"
      ]
     },
     "execution_count": 17,
     "metadata": {},
     "output_type": "execute_result"
    }
   ],
   "source": [
    "dframe.ix[new_index, new_columns]"
   ]
  },
  {
   "cell_type": "code",
   "execution_count": null,
   "metadata": {
    "collapsed": true
   },
   "outputs": [],
   "source": []
  }
 ],
 "metadata": {
  "kernelspec": {
   "display_name": "Python 3",
   "language": "python",
   "name": "python3"
  },
  "language_info": {
   "codemirror_mode": {
    "name": "ipython",
    "version": 3
   },
   "file_extension": ".py",
   "mimetype": "text/x-python",
   "name": "python",
   "nbconvert_exporter": "python",
   "pygments_lexer": "ipython3",
   "version": "3.4.5"
  }
 },
 "nbformat": 4,
 "nbformat_minor": 0
}
