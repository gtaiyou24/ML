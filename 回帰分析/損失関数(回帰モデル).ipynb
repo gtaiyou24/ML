{
 "cells": [
  {
   "cell_type": "markdown",
   "metadata": {},
   "source": [
    "# 損失関数(回帰モデル)"
   ]
  },
  {
   "cell_type": "markdown",
   "metadata": {},
   "source": [
    "**参考文献**\n",
    "\n",
    " - https://www.hellocybernetics.tech/entry/2017/06/19/084210"
   ]
  },
  {
   "cell_type": "code",
   "execution_count": 1,
   "metadata": {
    "ExecuteTime": {
     "end_time": "2020-02-01T14:25:15.590654Z",
     "start_time": "2020-02-01T14:25:11.669929Z"
    }
   },
   "outputs": [],
   "source": [
    "import numpy as np\n",
    "import pandas as pd\n",
    "\n",
    "import matplotlib.pyplot as plt\n",
    "import seaborn as sns\n",
    "\n",
    "%matplotlib inline"
   ]
  },
  {
   "cell_type": "code",
   "execution_count": 2,
   "metadata": {
    "ExecuteTime": {
     "end_time": "2020-02-01T14:25:15.600406Z",
     "start_time": "2020-02-01T14:25:15.594333Z"
    }
   },
   "outputs": [],
   "source": [
    "plt.rcParams['font.family'] = 'AppleGothic'\n",
    "plt.rcParams[\"font.size\"] = 18"
   ]
  },
  {
   "cell_type": "markdown",
   "metadata": {},
   "source": [
    "## 二乗損失"
   ]
  },
  {
   "cell_type": "markdown",
   "metadata": {},
   "source": [
    "$$\n",
    "\\vec {w} = \\mathrm {arg} \\min { \\sum _{i \\in I}{ \\left[ y_{i} - f\\left( \\vec {w};{x_{i}} \\right) \\right]^{2} } }\n",
    "$$"
   ]
  },
  {
   "cell_type": "code",
   "execution_count": null,
   "metadata": {},
   "outputs": [],
   "source": []
  },
  {
   "cell_type": "markdown",
   "metadata": {},
   "source": [
    "## $\\tau$−分位損失"
   ]
  },
  {
   "cell_type": "markdown",
   "metadata": {},
   "source": [
    "$$\n",
    "\\vec {w} = \\mathrm {arg} \\min { \\sum _{i \\in I}{\\left\\{\n",
    "\\left( 1 - \\tau \\right) \\max {\\left[f\\left( \\vec {w};{x_{i}} \\right) - y_{i}, 0 \\right]}\n",
    "+ \\tau \\cdot \\max {\\left[ y_{i} - f\\left( \\vec {w};{x_{i}} \\right), 0 \\right]}\n",
    "\\right\\} } } \n",
    "$$"
   ]
  },
  {
   "cell_type": "code",
   "execution_count": null,
   "metadata": {},
   "outputs": [],
   "source": []
  },
  {
   "cell_type": "markdown",
   "metadata": {},
   "source": [
    "## Huber損失"
   ]
  },
  {
   "cell_type": "markdown",
   "metadata": {},
   "source": [
    "$$\n",
    "\\vec {w} = \\mathrm {arg} \\min { \\sum _{i \\in I}{ \\left[ y_{i} - f\\left( \\vec {w};x_{i} \\right) \\right]^{2} } } \\quad if \\quad f \\in \\left[ y_{i} - \\delta, y_{i} + \\delta \\right] \\quad else \\quad 2 \\delta \\left( \\left| y_{i} - f \\right| - \\frac {\\delta}{2} \\right)\n",
    "$$"
   ]
  },
  {
   "cell_type": "code",
   "execution_count": null,
   "metadata": {},
   "outputs": [],
   "source": []
  },
  {
   "cell_type": "markdown",
   "metadata": {},
   "source": [
    "## $\\epsilon$-感度損失($\\epsilon$-許容損失)"
   ]
  },
  {
   "cell_type": "markdown",
   "metadata": {},
   "source": [
    "$$\n",
    "\\vec {w} = \\mathrm {arg} \\min { \\sum _{i \\in I}{\\left\\{ \\max {\\left[ \\left| y_{i} - f\\left( \\vec {w};x_{i} \\right) \\right| - \\epsilon, 0 \\right]} \\right\\}} }\n",
    "$$"
   ]
  },
  {
   "cell_type": "code",
   "execution_count": null,
   "metadata": {},
   "outputs": [],
   "source": []
  }
 ],
 "metadata": {
  "kernelspec": {
   "display_name": "Python 3",
   "language": "python",
   "name": "python3"
  },
  "language_info": {
   "codemirror_mode": {
    "name": "ipython",
    "version": 3
   },
   "file_extension": ".py",
   "mimetype": "text/x-python",
   "name": "python",
   "nbconvert_exporter": "python",
   "pygments_lexer": "ipython3",
   "version": "3.7.0"
  },
  "toc": {
   "nav_menu": {},
   "number_sections": true,
   "sideBar": true,
   "skip_h1_title": false,
   "toc_cell": false,
   "toc_position": {},
   "toc_section_display": "block",
   "toc_window_display": false
  }
 },
 "nbformat": 4,
 "nbformat_minor": 2
}
