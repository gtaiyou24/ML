{
 "cells": [
  {
   "cell_type": "markdown",
   "metadata": {
    "collapsed": true
   },
   "source": [
    "# テキスト分類\n",
    "## 前処理\n",
    "\n",
    " 1. テキストのクリーニング\n",
    "     - URLの除去\n",
    "     - メンションの除去\n",
    "     - いくつかの記号の除去\n",
    " 2. 単語の分割(形態素解析)\n",
    " 3. 単語の正規化\n",
    "     - 文字種の統一\n",
    "     - 数字の置き換え\n",
    "     - 見出し語化\n",
    " 4. ストップワードの除去\n",
    " 5. 文書のベクトル表現"
   ]
  },
  {
   "cell_type": "code",
   "execution_count": null,
   "metadata": {},
   "outputs": [],
   "source": []
  }
 ],
 "metadata": {
  "kernelspec": {
   "display_name": "Python 3",
   "language": "python",
   "name": "python3"
  },
  "language_info": {
   "codemirror_mode": {
    "name": "ipython",
    "version": 3
   },
   "file_extension": ".py",
   "mimetype": "text/x-python",
   "name": "python",
   "nbconvert_exporter": "python",
   "pygments_lexer": "ipython3",
   "version": "3.6.3"
  },
  "toc": {
   "nav_menu": {},
   "number_sections": true,
   "sideBar": true,
   "skip_h1_title": false,
   "toc_cell": false,
   "toc_position": {},
   "toc_section_display": "block",
   "toc_window_display": false
  }
 },
 "nbformat": 4,
 "nbformat_minor": 2
}
