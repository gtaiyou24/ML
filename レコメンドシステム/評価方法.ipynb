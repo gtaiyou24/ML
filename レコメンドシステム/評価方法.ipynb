{
 "cells": [
  {
   "cell_type": "markdown",
   "metadata": {},
   "source": [
    "# 評価方法\n",
    "\n",
    "参考文献\n",
    "\n",
    " - [レコメンドつれづれ　～第3回 レコメンド精度の評価方法を学ぶ～ - Platinum Data Blog by BrainPad](http://blog.brainpad.co.jp/entry/2017/08/25/140000)"
   ]
  },
  {
   "cell_type": "code",
   "execution_count": 2,
   "metadata": {
    "ExecuteTime": {
     "end_time": "2019-04-22T00:09:12.709679Z",
     "start_time": "2019-04-22T00:09:12.704704Z"
    }
   },
   "outputs": [],
   "source": [
    "import numpy as np\n",
    "import pandas as pd\n",
    "\n",
    "import matplotlib.pyplot as plt\n",
    "import seaborn as sns\n",
    "\n",
    "%matplotlib inline"
   ]
  },
  {
   "cell_type": "markdown",
   "metadata": {},
   "source": [
    "## 予測の評価指標\n",
    "レビューや口コミのようにユーザの嗜好が数段回（1から5など）の**レーティング,数値**で表されるケースでの評価指標を紹介します。ユーザのレーティングをレコメンドシステムがいかに正確に予測できるかを評価します。"
   ]
  },
  {
   "cell_type": "code",
   "execution_count": null,
   "metadata": {},
   "outputs": [],
   "source": []
  },
  {
   "cell_type": "markdown",
   "metadata": {},
   "source": [
    "## 分類の評価指標\n",
    "次にECサイトのように、得られるユーザの利用履歴が購入・カート投入の有無といった**2値**で表される場合の評価指標を紹介します。評価の大まかなコンセプトはユーザが好む（購買する）と予測したアイテムと、実際にユーザが好んだ（購買した）アイテムを比較することです。レコメンドでは予測した全アイテムに対する精度を評価するのではなく、TopNに対する評価が使われます。"
   ]
  },
  {
   "cell_type": "markdown",
   "metadata": {},
   "source": [
    "### Precision(適合率)\n",
    "> レコメンドリストにあるアイテムのうちユーザが嗜好したアイテム（適合アイテム）の割合。ここでの「レコメンドリストにあるアイテム数」は、TopNのNに該当します。つまりTopNアイテムのうち、何割がユーザにクリック・購入されたかということです。レコメンドの評価ではTopNに対するPrecisionということで、明示的にPrecision@Nと呼ばれることがあります。\n",
    "\n",
    "$$\n",
    "Precision@N = \\frac {\\left| a \\cap p_{N} \\right|}{N}\n",
    "$$\n",
    "\n",
    " - $N$ : 考慮する上位ランキングの数\n",
    " - $a$ : ユーザーが嗜好したアイテム集合\n",
    " - $N$ : TopNのレコメンドリスト\n",
    "\n",
    "混同行列を用いて表すと\n",
    "\n",
    "$$\n",
    "Precision = \\frac {TP}{TP + FP}\n",
    "$$\n",
    "\n",
    " - $TP(True Positive)$ : ユーザが好きなものをTopNでレコメンドできた数\n",
    " - $FP(False Positive)$ : ユーザが好きでないものを間違ってレコメンドした数"
   ]
  },
  {
   "cell_type": "code",
   "execution_count": null,
   "metadata": {},
   "outputs": [],
   "source": []
  },
  {
   "cell_type": "markdown",
   "metadata": {},
   "source": [
    "### Recall(再現率)\n",
    "> Recallは、ユーザが実際に嗜好したアイテムのうち、レコメンドリストでカバーできたかの割合です。 Precisionと並んで最もよく利用される指標の一つとなります。 \n",
    "\n",
    "$$\n",
    "Recall@N = \\frac {\\left| a \\cap p_{N} \\right|}{\\left| a \\right|}\n",
    "$$\n",
    "\n",
    " - $N$ : 考慮する上位ランキングの数\n",
    " - $a$ : ユーザが嗜好したアイテム集合\n",
    " - $p_{N}$ : TopNのレコメンドリスト\n",
    " \n",
    "混同行列を用いて表すと\n",
    "\n",
    "$$\n",
    "Recall = \\frac {TP}{TP + FN}\n",
    "$$\n",
    "\n",
    " - $TP(True Positive)$ : ユーザが好きなものをTopNでレコメンドできた数\n",
    " - $FN(False Negative)$ : ユーザが好きなものを間違ってレコメンドしなかった数"
   ]
  },
  {
   "cell_type": "code",
   "execution_count": null,
   "metadata": {},
   "outputs": [],
   "source": []
  },
  {
   "cell_type": "markdown",
   "metadata": {},
   "source": [
    "### F値\n",
    "$$\n",
    "F1 = \\frac {2 Recall \\times Precision}{Recall + Precision}\n",
    "$$"
   ]
  },
  {
   "cell_type": "code",
   "execution_count": null,
   "metadata": {},
   "outputs": [],
   "source": []
  },
  {
   "cell_type": "markdown",
   "metadata": {},
   "source": [
    "## ランキングの評価指標"
   ]
  },
  {
   "cell_type": "code",
   "execution_count": null,
   "metadata": {},
   "outputs": [],
   "source": []
  },
  {
   "cell_type": "markdown",
   "metadata": {},
   "source": [
    "## カバレッジの評価指標"
   ]
  },
  {
   "cell_type": "code",
   "execution_count": null,
   "metadata": {},
   "outputs": [],
   "source": []
  }
 ],
 "metadata": {
  "kernelspec": {
   "display_name": "Python 3",
   "language": "python",
   "name": "python3"
  },
  "language_info": {
   "codemirror_mode": {
    "name": "ipython",
    "version": 3
   },
   "file_extension": ".py",
   "mimetype": "text/x-python",
   "name": "python",
   "nbconvert_exporter": "python",
   "pygments_lexer": "ipython3",
   "version": "3.6.3"
  },
  "toc": {
   "nav_menu": {},
   "number_sections": true,
   "sideBar": true,
   "skip_h1_title": false,
   "toc_cell": false,
   "toc_position": {},
   "toc_section_display": true,
   "toc_window_display": false
  }
 },
 "nbformat": 4,
 "nbformat_minor": 2
}
