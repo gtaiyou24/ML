{
 "cells": [
  {
   "cell_type": "code",
   "execution_count": 3,
   "metadata": {},
   "outputs": [],
   "source": [
    "import numpy as np\n",
    "import pandas as pd\n",
    "\n",
    "import matplotlib.pyplot as plt\n",
    "import seaborn as sns\n",
    "\n",
    "plt.rcParams['font.family'] = 'IPAPGothic' #全体のフォントを設定\n",
    "\n",
    "%matplotlib inline"
   ]
  },
  {
   "cell_type": "markdown",
   "metadata": {},
   "source": [
    "# 例)どんぶり専門店『丼兵衛』"
   ]
  },
  {
   "cell_type": "markdown",
   "metadata": {},
   "source": [
    "## 評価値行列\n",
    "\n",
    " - $\\boldsymbol {\\chi} = \\left\\{ 1,\\dots, 4 \\right\\}$\n",
    " - $\\boldsymbol {y} = \\left\\{ 1,\\dots,4 \\right\\}$\n",
    " - 3段階の採点法 : $$"
   ]
  },
  {
   "cell_type": "code",
   "execution_count": 11,
   "metadata": {},
   "outputs": [
    {
     "data": {
      "text/html": [
       "<div>\n",
       "<style scoped>\n",
       "    .dataframe tbody tr th:only-of-type {\n",
       "        vertical-align: middle;\n",
       "    }\n",
       "\n",
       "    .dataframe tbody tr th {\n",
       "        vertical-align: top;\n",
       "    }\n",
       "\n",
       "    .dataframe thead th {\n",
       "        text-align: right;\n",
       "    }\n",
       "</style>\n",
       "<table border=\"1\" class=\"dataframe\">\n",
       "  <thead>\n",
       "    <tr style=\"text-align: right;\">\n",
       "      <th></th>\n",
       "      <th>親子丼</th>\n",
       "      <th>牛丼</th>\n",
       "      <th>海鮮丼</th>\n",
       "      <th>カツ丼</th>\n",
       "    </tr>\n",
       "  </thead>\n",
       "  <tbody>\n",
       "    <tr>\n",
       "      <th>山田</th>\n",
       "      <td>1.0</td>\n",
       "      <td>3.0</td>\n",
       "      <td>NaN</td>\n",
       "      <td>3.0</td>\n",
       "    </tr>\n",
       "    <tr>\n",
       "      <th>田中</th>\n",
       "      <td>NaN</td>\n",
       "      <td>1.0</td>\n",
       "      <td>3.0</td>\n",
       "      <td>NaN</td>\n",
       "    </tr>\n",
       "    <tr>\n",
       "      <th>佐藤</th>\n",
       "      <td>2.0</td>\n",
       "      <td>1.0</td>\n",
       "      <td>3.0</td>\n",
       "      <td>1.0</td>\n",
       "    </tr>\n",
       "    <tr>\n",
       "      <th>鈴木</th>\n",
       "      <td>1.0</td>\n",
       "      <td>3.0</td>\n",
       "      <td>2.0</td>\n",
       "      <td>NaN</td>\n",
       "    </tr>\n",
       "  </tbody>\n",
       "</table>\n",
       "</div>"
      ],
      "text/plain": [
       "    親子丼   牛丼  海鮮丼  カツ丼\n",
       "山田  1.0  3.0  NaN  3.0\n",
       "田中  NaN  1.0  3.0  NaN\n",
       "佐藤  2.0  1.0  3.0  1.0\n",
       "鈴木  1.0  3.0  2.0  NaN"
      ]
     },
     "execution_count": 11,
     "metadata": {},
     "output_type": "execute_result"
    }
   ],
   "source": [
    "R_arr = np.array([\n",
    "    [1, 3, np.nan,  3],\n",
    "    [np.nan, 1, 3, np.nan],\n",
    "    [2, 1, 3, 1],\n",
    "    [1, 3, 2, np.nan]\n",
    "])\n",
    "\n",
    "R_df = pd.DataFrame(\n",
    "    R_arr, \n",
    "    columns=['親子丼', '牛丼', '海鮮丼', 'カツ丼'], \n",
    "    index=['山田', '田中', '佐藤', '鈴木']\n",
    ")\n",
    "R_df.head()"
   ]
  },
  {
   "cell_type": "markdown",
   "metadata": {},
   "source": [
    "上記の評価値行列から、「**田中$x=2$**」の「**親子丼$y = 1$**」への推定評価値$\\hat {r}_{2,1}$を求める"
   ]
  },
  {
   "cell_type": "markdown",
   "metadata": {},
   "source": [
    "## 類似度の計算\n",
    "ユーザー間の類似度をピアソン相関で計算する"
   ]
  },
  {
   "cell_type": "code",
   "execution_count": 25,
   "metadata": {},
   "outputs": [
    {
     "data": {
      "text/html": [
       "<div>\n",
       "<style scoped>\n",
       "    .dataframe tbody tr th:only-of-type {\n",
       "        vertical-align: middle;\n",
       "    }\n",
       "\n",
       "    .dataframe tbody tr th {\n",
       "        vertical-align: top;\n",
       "    }\n",
       "\n",
       "    .dataframe thead th {\n",
       "        text-align: right;\n",
       "    }\n",
       "</style>\n",
       "<table border=\"1\" class=\"dataframe\">\n",
       "  <thead>\n",
       "    <tr style=\"text-align: right;\">\n",
       "      <th></th>\n",
       "      <th>山田</th>\n",
       "      <th>田中</th>\n",
       "      <th>佐藤</th>\n",
       "      <th>鈴木</th>\n",
       "    </tr>\n",
       "  </thead>\n",
       "  <tbody>\n",
       "    <tr>\n",
       "      <th>山田</th>\n",
       "      <td>1.0</td>\n",
       "      <td>NaN</td>\n",
       "      <td>-1.0</td>\n",
       "      <td>1.0</td>\n",
       "    </tr>\n",
       "    <tr>\n",
       "      <th>田中</th>\n",
       "      <td>NaN</td>\n",
       "      <td>1.0</td>\n",
       "      <td>1.0</td>\n",
       "      <td>-1.0</td>\n",
       "    </tr>\n",
       "    <tr>\n",
       "      <th>佐藤</th>\n",
       "      <td>-1.0</td>\n",
       "      <td>1.0</td>\n",
       "      <td>1.0</td>\n",
       "      <td>-0.5</td>\n",
       "    </tr>\n",
       "    <tr>\n",
       "      <th>鈴木</th>\n",
       "      <td>1.0</td>\n",
       "      <td>-1.0</td>\n",
       "      <td>-0.5</td>\n",
       "      <td>1.0</td>\n",
       "    </tr>\n",
       "  </tbody>\n",
       "</table>\n",
       "</div>"
      ],
      "text/plain": [
       "     山田   田中   佐藤   鈴木\n",
       "山田  1.0  NaN -1.0  1.0\n",
       "田中  NaN  1.0  1.0 -1.0\n",
       "佐藤 -1.0  1.0  1.0 -0.5\n",
       "鈴木  1.0 -1.0 -0.5  1.0"
      ]
     },
     "execution_count": 25,
     "metadata": {},
     "output_type": "execute_result"
    }
   ],
   "source": [
    "Rho_df = R_df.T.corr()\n",
    "Rho_df.head()"
   ]
  },
  {
   "cell_type": "markdown",
   "metadata": {},
   "source": [
    "## 嗜好の予測"
   ]
  },
  {
   "cell_type": "markdown",
   "metadata": {},
   "source": [
    "### 全評価済みアイテム嬢の平均評価値を計算"
   ]
  },
  {
   "cell_type": "code",
   "execution_count": 18,
   "metadata": {},
   "outputs": [
    {
     "data": {
      "text/plain": [
       "山田    2.333333\n",
       "田中    2.000000\n",
       "佐藤    1.750000\n",
       "鈴木    2.000000\n",
       "dtype: float64"
      ]
     },
     "execution_count": 18,
     "metadata": {},
     "output_type": "execute_result"
    }
   ],
   "source": [
    "mean_r_ser = R_df.mean(axis=1)\n",
    "mean_r_ser.head()"
   ]
  },
  {
   "cell_type": "markdown",
   "metadata": {},
   "source": [
    "### 嗜好の予測値を計算"
   ]
  },
  {
   "cell_type": "code",
   "execution_count": 20,
   "metadata": {},
   "outputs": [],
   "source": [
    "def predict(corr_arr, R_df):\n",
    "    \"\"\"\n",
    "    ユーザのアイテムへの嗜好を計算する関数.\n",
    "    \n",
    "    Parameters:\n",
    "    ---------------\n",
    "     - corr_arr : ピアソン相関行列.\n",
    "         shape = (n, )\n",
    "     - R_df : 評価値行列.\n",
    "         shape = (n, m)\n",
    "    \"\"\"\n",
    "    pass"
   ]
  },
  {
   "cell_type": "code",
   "execution_count": 125,
   "metadata": {},
   "outputs": [
    {
     "name": "stdout",
     "output_type": "stream",
     "text": [
      "2.75\n"
     ]
    }
   ],
   "source": [
    "# 式(9.1)\n",
    "\n",
    "a = 1\n",
    "y = 0\n",
    "x = [0,2,3]\n",
    "\n",
    "r_x_ser = pd.Series([])\n",
    "for i in x:\n",
    "    # ユーザiが評価したアイテムの集合\n",
    "    y_i = R_df.iloc[i][~R_df.iloc[i].isnull()].index\n",
    "    # ユーザaが評価したアイテムの集合\n",
    "    y_a = R_df.iloc[a][~R_df.iloc[a].isnull()].index\n",
    "    y_a_x = np.intersect1d(y_a, y_i)\n",
    "    r_x = np.sum(R_df.iloc[i][y_a_x]) / len(y_a_x)\n",
    "    r_x_ser[R_df.index[i]] = r_x\n",
    "\n",
    "pread_R = mean_r_ser[a] + np.nansum(Rho_df.iloc[a,x] * (R_df.iloc[x,y] - r_x_ser)) / np.nansum(np.abs(Rho_df.iloc[a,x]))\n",
    "print(pread_R)"
   ]
  },
  {
   "cell_type": "markdown",
   "metadata": {},
   "source": [
    "この値は、最大値3にかなり近く、「田中」は「親子丼」が好きであると予測される"
   ]
  },
  {
   "cell_type": "code",
   "execution_count": 126,
   "metadata": {},
   "outputs": [
    {
     "name": "stdout",
     "output_type": "stream",
     "text": [
      "2.625\n"
     ]
    }
   ],
   "source": [
    "# 式(9.2)\n",
    "pread_R = mean_r_ser[a] + np.nansum(Rho_df.iloc[a,x] * (R_df.iloc[x,y] - mean_r_ser[x])) / np.nansum(np.abs(Rho_df.iloc[a,x]))\n",
    "print(pread_R)"
   ]
  },
  {
   "cell_type": "code",
   "execution_count": null,
   "metadata": {},
   "outputs": [],
   "source": []
  }
 ],
 "metadata": {
  "kernelspec": {
   "display_name": "Python 3",
   "language": "python",
   "name": "python3"
  },
  "language_info": {
   "codemirror_mode": {
    "name": "ipython",
    "version": 3
   },
   "file_extension": ".py",
   "mimetype": "text/x-python",
   "name": "python",
   "nbconvert_exporter": "python",
   "pygments_lexer": "ipython3",
   "version": "3.6.3"
  },
  "toc": {
   "nav_menu": {},
   "number_sections": true,
   "sideBar": true,
   "skip_h1_title": false,
   "toc_cell": false,
   "toc_position": {},
   "toc_section_display": "block",
   "toc_window_display": false
  }
 },
 "nbformat": 4,
 "nbformat_minor": 2
}
